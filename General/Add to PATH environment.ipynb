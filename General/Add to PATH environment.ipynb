{
 "cells": [
  {
   "attachments": {},
   "cell_type": "markdown",
   "metadata": {},
   "source": [
    "# Adding to PATH environment variable\n",
    "\n",
    "## Why and when to add to PATH environment variable\n",
    "\n",
    "Adding a directory to the PATH environment variable allows the operating system to locate and execute programs or scripts in that directory without needing to specify the full path. This is useful when frequently using command-line tools or software that needs to be easily accessible from any directory. For example, adding Python or Git to PATH ensures you can run their commands globally from the terminal.\n",
    "\n",
    "## How to add to PATH environment variable\n",
    "\n",
    "* Use command line `rundll32 sysdm.cpl,EditEnvironmentVariables`\n",
    "  * OR Open the Start Menu and search for \"environment variables\". (or right-click and select Run)\n",
    "  * OR Go to `Control Panel` \\> `System and Security` \\> `System` \\> `Advanced system settings` \\> `Environment Variables`\n",
    "\n",
    "![](../_images/2024-11-29-17-52-58.png)\n",
    "\n",
    "* Click on \"Edit the system (or User) environment variables\".\n",
    "* Edit 'Path' variable and add the path to the directory you want to add.\n",
    "\n",
    "Probably need to restart IDE or terminal to see the changes."
   ]
  }
 ],
 "metadata": {
  "kernelspec": {
   "display_name": "Python 3",
   "language": "python",
   "name": "python3"
  },
  "language_info": {
   "name": "python",
   "version": "3.11.0"
  },
  "orig_nbformat": 4,
  "vscode": {
   "interpreter": {
    "hash": "3a85823825384e2f260493b9b35c69d8eaac198ff59bb0d6c0e72fffbde301e2"
   }
  }
 },
 "nbformat": 4,
 "nbformat_minor": 2
}
