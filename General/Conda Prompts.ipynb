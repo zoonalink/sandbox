{
 "cells": [
  {
   "attachments": {},
   "cell_type": "markdown",
   "metadata": {},
   "source": [
    "# Conda\n",
    "\n",
    "The following are basic Conda commands. \n",
    "\n",
    "Use them to create, maintain, update Conda Python environments which can be accessed as kernels in VS Code for specific iPython files.  \n",
    "\n",
    "Example environments:\n",
    "\n",
    "* base -> base Anaconda environment \n",
    "* mglearn -> Python 3.9 with older libraries (scikit-learn, numpy, etc.)\n",
    "* ml_env -> for machine learning (although never got jax installed)\n",
    "\n"
   ]
  },
  {
   "attachments": {},
   "cell_type": "markdown",
   "metadata": {},
   "source": [
    "# Basic use of Conda\n",
    "\n",
    "1. Open Anaconda Navigator, Anaconda Prompt or Command line with PATH access\n",
    "2. Create / Activate environment"
   ]
  },
  {
   "attachments": {},
   "cell_type": "markdown",
   "metadata": {},
   "source": [
    "# Commands"
   ]
  },
  {
   "attachments": {},
   "cell_type": "markdown",
   "metadata": {},
   "source": [
    "## Environment\n",
    "\n",
    "* `conda update conda` - updates conda\n",
    "* `conda info --envs` - list environments\n",
    "* * `conda create -n <environment_name> python=<version>` - create new environment\n",
    "  * conda create -n myenv python=3.9\n",
    "* `conda activate <environment_name>` - activate/enter environment\n",
    "  * conda activate base\n",
    "  * conda activate ml_env\n",
    "* `conda deactivate` - deactivate environment (leave)\n",
    "* `conda remove -n <environment_name> --all` - remove an environment\n",
    "  * conda remove -n myenv --all "
   ]
  },
  {
   "attachments": {},
   "cell_type": "markdown",
   "metadata": {},
   "source": [
    "## Manage \n",
    "\n",
    "* `conda update python` - update python version\n",
    "* `conda list` - list all packages in environment\n",
    "* `conda update --all` - update all packages in environment\n",
    "\n",
    "## Install\n",
    "\n",
    "* `conda install <package>` - install named package via conda\n",
    "  * conda install numpy\n",
    "* `pip install <package>` - install via pip install\n",
    "* `pip install git+https://github.com/probml/probml-utils.git` - install via git\n",
    "* `conda install -c conda-forge <package>` - install package via conda but look for packages in the conda-forge channel as well as default channels\n",
    "\n",
    "## Upgrade, downgrade, version\n",
    "* `conda install <package==version>` - install specific version via conda\n",
    "  * conda install numpy==1.2.0\n",
    "* `pip install <package==version>` - install specific version via pip\n",
    "  * pip install numpy==1.2.0\n",
    "* `pip install <package(s)> --upgrade` - install/upgrade via pip\n",
    "  * pip install seaborn matplotlib joblib scipy threadpoolctl mglearn opt-einsum pillow imageio pandas --upgrade\n",
    "* `pip install <package==version> --force-reinstall` - force reinstall of specific version, i.e. downgrade\n",
    "  * pip install numpy==1.19.5 --force-reinstall\n",
    "  * pip install scikit-learn==1.1.3 --force-reinstall\n",
    "\n"
   ]
  },
  {
   "cell_type": "markdown",
   "metadata": {},
   "source": [
    "## WSL - Ubuntu\n"
   ]
  },
  {
   "cell_type": "code",
   "execution_count": null,
   "metadata": {
    "vscode": {
     "languageId": "plaintext"
    }
   },
   "outputs": [],
   "source": [
    "sudo apt update\n",
    "sudo apt upgrade\n"
   ]
  },
  {
   "cell_type": "code",
   "execution_count": null,
   "metadata": {
    "vscode": {
     "languageId": "plaintext"
    }
   },
   "outputs": [],
   "source": [
    "python3 --version\n"
   ]
  },
  {
   "cell_type": "code",
   "execution_count": null,
   "metadata": {
    "vscode": {
     "languageId": "plaintext"
    }
   },
   "outputs": [],
   "source": [
    "pip3 install tensorflow[and-cuda]\n"
   ]
  },
  {
   "cell_type": "markdown",
   "metadata": {},
   "source": [
    "### to open vs code in wsl ubuntu"
   ]
  },
  {
   "cell_type": "code",
   "execution_count": null,
   "metadata": {
    "vscode": {
     "languageId": "plaintext"
    }
   },
   "outputs": [],
   "source": [
    "code .  (to open vs code wsl ubuntu)"
   ]
  }
 ],
 "metadata": {
  "kernelspec": {
   "display_name": "ml_env",
   "language": "python",
   "name": "python3"
  },
  "language_info": {
   "name": "python",
   "version": "3.9.16"
  },
  "orig_nbformat": 4,
  "vscode": {
   "interpreter": {
    "hash": "933b52ddf0f656e9bd4e569cdd9e85a4e064db79a3637abb6599ddc9eb1542c4"
   }
  }
 },
 "nbformat": 4,
 "nbformat_minor": 2
}
