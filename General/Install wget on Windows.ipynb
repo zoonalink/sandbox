{
 "cells": [
  {
   "attachments": {},
   "cell_type": "markdown",
   "metadata": {},
   "source": [
    "# Installing `wget` on Windows"
   ]
  },
  {
   "attachments": {},
   "cell_type": "markdown",
   "metadata": {},
   "source": [
    "## Install Chocolatey\n",
    "\n",
    "Chocolatey and wget are tools used for managing software installation and downloading files, respectively, in a more automated and efficient way on Windows systems.\n",
    "\n",
    "Chocolatey is a package manager for Windows, similar to apt on Linux. It simplifies the process of installing, updating, and managing software on Windows by using a command-line interface. Instead of manually downloading and running installers, Chocolatey allows you to install software with a single command, streamlining the setup of your environment.\n",
    "\n",
    "Wget, on the other hand, is a command-line utility that allows you to download files from the web. It supports downloading files via HTTP, HTTPS, and FTP protocols, and can be used to fetch files or even entire websites. Using wget in scripts or automation tools, like Jupyter notebooks, helps to integrate file downloads smoothly without requiring a graphical interface.\n",
    "\n",
    "1. Open PowerShell as Administrator\n",
    "2. Install Chocolatey by running the following command:\n",
    "\n",
    "    ```powershell\n",
    "    Set-ExecutionPolicy Bypass -Scope Process -Force; [System.Net.ServicePointManager]::SecurityProtocol = [System.Net.ServicePointManager]::SecurityProtocol -bor 3072; iex ((New-Object System.Net.WebClient).DownloadString('https://chocolatey.org/install.ps1'))\n",
    "    ```\n",
    "3. Close PowerShell and open a new PowerShell as Administrator\n",
    "4. Install `wget` by running the following command:\n",
    "\n",
    "    ```powershell\n",
    "    choco install wget\n",
    "    ```\n",
    "\n",
    "* PATH variable is automatically updated by Chocolatey\n",
    "\n",
    "Now wget can be used, including in Jupyter notebooks.\n",
    "Prefix with exclamation mark to run in PowerShell:\n",
    "\n",
    "```python\n",
    "!wget https://example.com/file.txt\n",
    "\n",
    "```"
   ]
  },
  {
   "cell_type": "code",
   "execution_count": null,
   "metadata": {
    "vscode": {
     "languageId": "powershell"
    }
   },
   "outputs": [],
   "source": [
    "Set-ExecutionPolicy Bypass -Scope Process -Force; [System.Net.ServicePointManager]::SecurityProtocol = [System.Net.ServicePointManager]::SecurityProtocol -bor 3072; iex ((New-Object System.Net.WebClient).DownloadString('https://chocolatey.org/install.ps1'))\n"
   ]
  },
  {
   "cell_type": "code",
   "execution_count": null,
   "metadata": {
    "vscode": {
     "languageId": "powershell"
    }
   },
   "outputs": [],
   "source": [
    "choco install wget\n"
   ]
  }
 ],
 "metadata": {
  "language_info": {
   "name": "python"
  },
  "orig_nbformat": 4
 },
 "nbformat": 4,
 "nbformat_minor": 2
}
