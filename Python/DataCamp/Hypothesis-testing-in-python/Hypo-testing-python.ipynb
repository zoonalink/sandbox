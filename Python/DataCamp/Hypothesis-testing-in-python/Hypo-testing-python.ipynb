{
 "cells": [
  {
   "cell_type": "markdown",
   "metadata": {},
   "source": [
    "# Hypothesis testing in python\n",
    "\n",
    "https://app.datacamp.com/learn/courses/hypothesis-testing-in-python\n",
    "\n"
   ]
  },
  {
   "cell_type": "markdown",
   "metadata": {},
   "source": [
    "## Intro to hypothesis testing\n",
    "\n",
    "https://campus.datacamp.com/courses/hypothesis-testing-in-python/introduction-to-hypothesis-testing-efc8374a-68af-4cda-9b43-3e28fa6c65c0?ex=1\n",
    "\n",
    "* stack overflow example \n",
    "\n",
    "* hypothesis - mean annual compensation of the population of data scientists is 110,000\n",
    "* `mean_comp_samp = stack_overflow['converted_comp'].mean()` = 119575\n",
    "* Is the difference between point sample and pop mean meaningfully different?\n",
    "* To answer - need to generate a bootstrap distribution of sample means: \n",
    "\n",
    "```python\n",
    "import numpy as np\n",
    "\n",
    "# step 3 - repeat steps 1 adn 2 many times, appending to a list\n",
    "so_boot_distn = []\n",
    "for i in range(5000):\n",
    "    so_boot_distn.append(\n",
    "        # step 2 calculate point estimate\n",
    "        np.mean(\n",
    "            # step 1 resample\n",
    "            stack_overflow.sample(frac=1, replace = True)['converted_comp']\n",
    "        )\n",
    "    )\n",
    "\n",
    "```\n",
    "\n",
    "* `std_error = np.std(so_boot_distn, ddof=1)` = 5607\n",
    "* z-scores \n",
    "  * standardised value = (value - mean)/standard deviation\n",
    "  * $z = (sample stat - hypoth param value)/standard error$\n",
    "\n",
    "* `mean_comp_hyp = 110000`\n",
    "* `std_error = 5607.9976`\n",
    "* `z-score = 1.7073`\n",
    "\n",
    "* is this big or small? \n",
    "* hypothesis testing - to determine if sample statistic is close or far from expected statistic\n",
    "* z-distribution - standard normal distribution with mean = 0 and standard deviation = 1"
   ]
  },
  {
   "cell_type": "code",
   "execution_count": 1,
   "metadata": {},
   "outputs": [],
   "source": [
    "import pandas as pd\n",
    "import numpy as np\n",
    "import matplotlib.pyplot as plt\n",
    "import seaborn as sns\n",
    "\n",
    "# Read in the data\n",
    "late_shipments = pd.read_feather('late_shipments.feather')"
   ]
  },
  {
   "cell_type": "code",
   "execution_count": 3,
   "metadata": {},
   "outputs": [
    {
     "name": "stdout",
     "output_type": "stream",
     "text": [
      "          id       country managed_by  fulfill_via vendor_inco_term  \\\n",
      "0    36203.0       Nigeria   PMO - US  Direct Drop              EXW   \n",
      "1    30998.0      Botswana   PMO - US  Direct Drop              EXW   \n",
      "2    69871.0       Vietnam   PMO - US  Direct Drop              EXW   \n",
      "3    17648.0  South Africa   PMO - US  Direct Drop              DDP   \n",
      "4     5647.0        Uganda   PMO - US  Direct Drop              EXW   \n",
      "..       ...           ...        ...          ...              ...   \n",
      "995  13608.0        Uganda   PMO - US  Direct Drop              DDP   \n",
      "996  80394.0    Congo, DRC   PMO - US  Direct Drop              EXW   \n",
      "997  61675.0        Zambia   PMO - US  Direct Drop              EXW   \n",
      "998  39182.0  South Africa   PMO - US  Direct Drop              DDP   \n",
      "999   5645.0      Botswana   PMO - US  Direct Drop              EXW   \n",
      "\n",
      "    shipment_mode  late_delivery late product_group    sub_classification  \\\n",
      "0             Air            1.0  Yes          HRDT              HIV test   \n",
      "1             Air            0.0   No          HRDT              HIV test   \n",
      "2             Air            0.0   No           ARV                 Adult   \n",
      "3           Ocean            0.0   No           ARV                 Adult   \n",
      "4             Air            0.0   No          HRDT  HIV test - Ancillary   \n",
      "..            ...            ...  ...           ...                   ...   \n",
      "995           Air            0.0   No           ARV                 Adult   \n",
      "996           Air            0.0   No          HRDT              HIV test   \n",
      "997           Air            1.0  Yes          HRDT              HIV test   \n",
      "998         Ocean            0.0   No           ARV                 Adult   \n",
      "999           Air            0.0   No          HRDT              HIV test   \n",
      "\n",
      "     ... line_item_quantity line_item_value pack_price unit_price  \\\n",
      "0    ...             2996.0       266644.00      89.00       0.89   \n",
      "1    ...               25.0          800.00      32.00       1.60   \n",
      "2    ...            22925.0       110040.00       4.80       0.08   \n",
      "3    ...           152535.0       361507.95       2.37       0.04   \n",
      "4    ...              850.0            8.50       0.01       0.00   \n",
      "..   ...                ...             ...        ...        ...   \n",
      "995  ...              121.0         9075.00      75.00       0.62   \n",
      "996  ...              292.0         9344.00      32.00       1.60   \n",
      "997  ...             2127.0       170160.00      80.00       0.80   \n",
      "998  ...           191011.0       861459.61       4.51       0.15   \n",
      "999  ...              200.0        14398.00      71.99       0.72   \n",
      "\n",
      "               manufacturing_site first_line_designation  weight_kilograms  \\\n",
      "0         Alere Medical Co., Ltd.                    Yes            1426.0   \n",
      "1            Trinity Biotech, Plc                    Yes              10.0   \n",
      "2    Hetero Unit III Hyderabad IN                    Yes            3723.0   \n",
      "3       Aurobindo Unit III, India                    Yes            7698.0   \n",
      "4                 Inverness Japan                    Yes              56.0   \n",
      "..                            ...                    ...               ...   \n",
      "995     Janssen-Cilag, Latina, IT                    Yes              43.0   \n",
      "996          Trinity Biotech, Plc                    Yes              99.0   \n",
      "997       Alere Medical Co., Ltd.                    Yes             881.0   \n",
      "998     Aurobindo Unit III, India                    Yes           16234.0   \n",
      "999               Inverness Japan                    Yes              46.0   \n",
      "\n",
      "     freight_cost_usd  freight_cost_groups  line_item_insurance_usd  \n",
      "0            33279.83            expensive                   373.83  \n",
      "1              559.89           reasonable                     1.72  \n",
      "2            19056.13            expensive                   181.57  \n",
      "3            11372.23            expensive                   779.41  \n",
      "4              360.00           reasonable                     0.01  \n",
      "..                ...                  ...                      ...  \n",
      "995            199.00           reasonable                    12.72  \n",
      "996           2162.55           reasonable                    13.10  \n",
      "997          14019.38            expensive                   210.49  \n",
      "998          14439.17            expensive                  1421.41  \n",
      "999           1028.18           reasonable                    23.04  \n",
      "\n",
      "[1000 rows x 27 columns]\n",
      "0.061\n"
     ]
    }
   ],
   "source": [
    "# Print the late_shipments dataset\n",
    "print(late_shipments)\n",
    "\n",
    "# Calculate the proportion of late shipments\n",
    "late_prop_samp = (late_shipments['late']=='Yes').mean()\n",
    "\n",
    "# Print the results\n",
    "print(late_prop_samp)"
   ]
  },
  {
   "cell_type": "code",
   "execution_count": 5,
   "metadata": {},
   "outputs": [
    {
     "data": {
      "image/png": "[encoded data removed]",
      "text/plain": [
       "<Figure size 500x500 with 1 Axes>"
      ]
     },
     "metadata": {},
     "output_type": "display_data"
    }
   ],
   "source": [
    "# bootstrap distribution\n",
    "late_shipments_boot_distn = []\n",
    "for i in range(5000):\n",
    "    late_shipments_boot_distn.append(\n",
    "        (late_shipments.sample(frac=1, replace=True)['late']=='Yes').mean()\n",
    "    )\n",
    "\n",
    "# Plot the bootstrap distribution\n",
    "sns.displot(late_shipments_boot_distn, kde=False)\n",
    "plt.title('Late shipments bootstrap distribution')\n",
    "plt.xlabel('Proportion of late shipments')\n",
    "plt.ylabel('Frequency')\n",
    "plt.show()\n",
    "\n"
   ]
  },
  {
   "cell_type": "code",
   "execution_count": 6,
   "metadata": {},
   "outputs": [
    {
     "name": "stdout",
     "output_type": "stream",
     "text": [
      "0.13329515405762127\n"
     ]
    }
   ],
   "source": [
    "# Hypothesize that the proportion is 6%\n",
    "late_prop_hyp = 0.06\n",
    "\n",
    "# Calculate the standard error\n",
    "std_error = np.std(late_shipments_boot_distn, ddof=1)\n",
    "\n",
    "# Find z-score of late_prop_samp\n",
    "z_score = (late_prop_samp - late_prop_hyp)/std_error\n",
    "\n",
    "# Print z_score\n",
    "print(z_score)"
   ]
  },
  {
   "cell_type": "markdown",
   "metadata": {},
   "source": [
    "# p=value hypothesis\n",
    "\n",
    "* hypothesis - statement about an unknown population parameter\n",
    "* hypothesis test:\n",
    "  * null hypothesis = H0 - existing idea\n",
    "  * alternative hypothesis = H1 - new challenger idea\n",
    "\n",
    "* Assume null hypothesis is true\n",
    "* Only change mind if there is enough evidence to reject the null hypothesis\n",
    "* hypothesis tests - check if sample statistics lie in the tails of the null distribution:\n",
    "  * alternative *different from* null -> two-tailed\n",
    "  * alternative *greater than* null -> right-tailed\n",
    "  * alternative *less than* null -> left-tailed\n",
    "\n",
    "* **p-valuves** - probability of obtaining a result, assuming the null hypothesis is true\n",
    "* Large p-value, large support for H0\n",
    "  * Statistic likely **not in** the tail of the *null distribution*\n",
    "* Small p-value, strong evidence against H0\n",
    "  * Statistic likely **in** the tail of the *null distribution*\n",
    "* p in p-value -> probability\n",
    "  * 'small' means close to zero\n",
    "\n",
    "**calculating z-score**\n",
    "\n",
    "prop_child_samp = (stack_overflow['age_first_code_cut] == 'child').mean()\n",
    "prop_child_hyp = 0.35\n",
    "std_error = np.std(first_code_boot_distn, ddof=1)\n",
    "z_score = (prop_child_samp - prop_child_hyp) / std_error\n",
    "`norm.cdf()` from scipy.stats\n",
    "* left-tailed test = `norm.cdf()`\n",
    "* right-tailed test = `1-norm.cdf()`\n",
    "\n",
    "`1-norm.cdf(z_score, loc=0, scale=1)`\n",
    "\n"
   ]
  },
  {
   "cell_type": "code",
   "execution_count": 8,
   "metadata": {},
   "outputs": [
    {
     "name": "stdout",
     "output_type": "stream",
     "text": [
      "0.4469799799525004\n"
     ]
    }
   ],
   "source": [
    "from scipy.stats import norm\n",
    "\n",
    "# Calculate the z-score of late_prop_samp\n",
    "z_score = (late_prop_samp-late_prop_hyp)/std_error\n",
    "\n",
    "# Calculate the p-value\n",
    "p_value = 1-norm.cdf(z_score, loc=0, scale =1)\n",
    "                 \n",
    "# Print the p-value\n",
    "print(p_value) "
   ]
  },
  {
   "cell_type": "markdown",
   "metadata": {},
   "source": [
    "**significance level** - hypothesis test threshold beyond a reasonable doubt\n",
    "* set p-value first\n",
    "\n",
    "* alpha = 0.05\n",
    "* prop_child_samp = (stack_overflow['age_first_code_cut'] == 'child').mean()\n",
    "* prop_child_hyp = 0.35\n",
    "* std_error = np.std(first_code_boot_distn, ddof=1)\n",
    "* z_score = (prop_child_samp - prop_child_hyp)/std_error\n",
    "* p_value = 1- norm.cdf(z_score, loc=0, scale = 1)\n",
    "* p_value <= alpha\n",
    "  * True = reject H0 in favour of HA (H1)\n",
    "  * False = fail to reject H0\n",
    "\n",
    "**confidence intervals**\n",
    "* alpha = 0.05 -> 95% confidence interval\n",
    "\n",
    "```py\n",
    "import numpy as np\n",
    "lower = np.quantile(first_code_boot_distn, 0.025)\n",
    "upper = np.quantile(first_code_boot_distn, 0.975)\n",
    "print((lower, upper))\n",
    "```\n",
    "\n",
    "**possible errors**\n",
    "\n",
    "* **Type I** false positive - rejected null hypothesis and shouldn't have\n",
    "* **Type II** false negative - failed to reject null hypothesis when we should have"
   ]
  },
  {
   "cell_type": "code",
   "execution_count": 9,
   "metadata": {},
   "outputs": [
    {
     "name": "stdout",
     "output_type": "stream",
     "text": [
      "(0.046, 0.076)\n"
     ]
    }
   ],
   "source": [
    "# Calculate 95% confidence interval using quantile method\n",
    "lower = np.quantile(late_shipments_boot_distn, 0.025)\n",
    "upper = np.quantile(late_shipments_boot_distn, 0.975)\n",
    "\n",
    "# Print the confidence interval\n",
    "print((lower, upper))"
   ]
  },
  {
   "cell_type": "markdown",
   "metadata": {},
   "source": [
    "## Two-sample and ANOVA tests\n"
   ]
  },
  {
   "cell_type": "markdown",
   "metadata": {},
   "source": [
    "### Two-sample tests\n",
    "\n",
    "* compare sample statistics across groups of a variable\n",
    "* H0: mu(x) = mu(y)\n",
    "* H0: mu(x) - mu(y) = 0\n",
    "* HA: mean x > mean y\n",
    "* HA: mu(x) > mu(y)\n",
    "* HA: mu(x) - mu(y) > 0\n",
    "\n",
    "**calculate groupwise summary stats**\n",
    "\n",
    "* df.groupby('col-groups')['col-stat'].mean()\n",
    "\n",
    "**test statistics**\n",
    "\n",
    "* sample mean estimates the population mean\n",
    "* x-bar - a sample mean\n",
    "* x-bar(group1) - x-bar(group2) -> *test statistic*\n",
    "* z-score is a standardised test statistic\n",
    "* z = (sample stat - pop parameter) / standard error\n",
    "* t = (difference in sample stats - difference in population parameters) / standard error\n",
    "* t = (xbar(g1) - xbar(g2)) - (mu(g1) - mu(g2)) / SE(xbar(g1) - xbar(g2))\n",
    "* SE - bootstrapping or\n",
    "  * sqrt of ((sd(g1)^2/n(g1) + (sd(g2)^2/n(g2))))\n",
    "\n",
    "```python\n",
    "import numpy as np\n",
    "numerator = xbar_child - xbar_adult\n",
    "denominator = np.sqrt(s_child **2 / n_child + s_adult **2 / n_adult)\n",
    "t_stat = numerator / denominator\n",
    "\n",
    "```\n",
    "\n"
   ]
  },
  {
   "cell_type": "code",
   "execution_count": 12,
   "metadata": {},
   "outputs": [
    {
     "name": "stdout",
     "output_type": "stream",
     "text": [
      "-2.3936661778766433\n"
     ]
    }
   ],
   "source": [
    "# create variables to calculate two sample mean test statistic\n",
    "\n",
    "# yes and no late shipments\n",
    "yes = late_shipments[late_shipments['late'] == 'Yes']\n",
    "no = late_shipments[late_shipments['late'] == 'No']\n",
    "\n",
    "# number of yes and no late shipments\n",
    "n_yes = len(yes)\n",
    "n_no = len(no)\n",
    "\n",
    "# standard deviation of yes and no late shipments\n",
    "s_yes = np.std(yes['weight_kilograms'], ddof=1)\n",
    "s_no = np.std(no['weight_kilograms'], ddof=1)\n",
    "\n",
    "# mean of yes and no late shipments\n",
    "xbar_yes = yes['weight_kilograms'].mean()\n",
    "xbar_no = no['weight_kilograms'].mean()\n",
    "\n",
    "\n",
    "# Calculate the numerator of the test statistic\n",
    "numerator = xbar_no - xbar_yes\n",
    "\n",
    "# Calculate the denominator of the test statistic\n",
    "denominator = np.sqrt((s_no ** 2 / n_no) + (s_yes ** 2/ n_yes))\n",
    "\n",
    "# Calculate the test statistic\n",
    "t_stat = numerator / denominator\n",
    "\n",
    "# Print the test statistic\n",
    "print(t_stat)"
   ]
  },
  {
   "cell_type": "markdown",
   "metadata": {},
   "source": [
    "### t-distributions\n",
    "\n",
    "* t statistic follows a t-distribution\n",
    "* have a parameter named *degrees of freedom*\n",
    "* look like normal distributions, with fatter tails\n",
    "* larger degrees of freedom -> t-distribution gets closer to the normal distribution\n",
    "* normal distribution is a t-distribution with infinite df\n",
    "* **degrees of freedom** maximum number of logically independent values in the data sample\n",
    "  * there are degrees of freedom n-1 where -1 for each known sample statistic, eg mean of a group\n",
    "\n",
    "### calculating p-values: one proportion v a value\n",
    "\n",
    "* **z-statistic**: needed when using one sample statistic to estimate a population parameter\n",
    "* **t-statistic**: needed when using multiple sample statistics to estimate a population parameter (e.g. standard deviation and mean)\n",
    "\n",
    "### calculating p-values: two means from different groups\n",
    "\n",
    "* use t-distribution CDF not normal CDF\n",
    "\n",
    "```python\n",
    "from scipy.stats import t\n",
    "1 - t.cdf(t_stat, df=degreees_of_freedom)\n",
    "```\n",
    "if this p-value is less than alpha (e.g. 0.01, 0.05), then reject the null hypothesis in favour of the alternative\n"
   ]
  },
  {
   "cell_type": "code",
   "execution_count": 14,
   "metadata": {},
   "outputs": [
    {
     "name": "stdout",
     "output_type": "stream",
     "text": [
      "0.008432382146249523\n"
     ]
    }
   ],
   "source": [
    "from scipy.stats import t\n",
    "\n",
    "# degrees of freedom\n",
    "df = n_no + n_yes - 2\n",
    "\n",
    "# calculate the p-value\n",
    "p_value = t.cdf(t_stat, df=df)\n",
    "\n",
    "# print the p-value\n",
    "print(p_value)"
   ]
  },
  {
   "cell_type": "markdown",
   "metadata": {},
   "source": [
    "### paired t-tests\n",
    "\n",
    "* for paired analyses, rather than considering the two variables separately, we consider a single variable of the difference\n",
    "* x-bar is calculated from this (mean of difference)\n",
    "* df = n_diff-1\n",
    "\n",
    "```python\n",
    "import pingouin\n",
    "\n",
    "pingouin.ttest(x=df['diff'],\n",
    "                y=0,\n",
    "                alternative = 'less')\n",
    "```\n",
    "```python\n",
    "\n",
    "pingouin.ttest(x=sample_data['col1'], y=sample_data['col2'], paired = True, alternative = 'less')\n",
    "```\n",
    "\n",
    "* unpaired t-tests on paired data increases the chances of false negative errors\n",
    "* "
   ]
  },
  {
   "cell_type": "code",
   "execution_count": 21,
   "metadata": {},
   "outputs": [
    {
     "name": "stdout",
     "output_type": "stream",
     "text": [
      "6.829312660106834\n",
      "5.040139140132317\n"
     ]
    },
    {
     "data": {
      "image/png": "[encoded data removed]",
      "text/plain": [
       "<Figure size 640x480 with 1 Axes>"
      ]
     },
     "metadata": {},
     "output_type": "display_data"
    }
   ],
   "source": [
    "import matplotlib.pyplot as plt\n",
    "\n",
    "# impot dem votes\n",
    "dem_votes_potus_12_16 = pd.read_feather('dem_votes_potus_12_16.feather')\n",
    "\n",
    "# new column - difference between 2012 and 2016\n",
    "dem_votes_potus_12_16['diff'] = dem_votes_potus_12_16['dem_percent_12'] - dem_votes_potus_12_16['dem_percent_16']\n",
    "\n",
    "sample_dem_data = dem_votes_potus_12_16.copy()\n",
    "\n",
    "# Find the mean of the diff column\n",
    "xbar_diff = sample_dem_data['diff'].mean()\n",
    "\n",
    "# Print xbar_diff\n",
    "print(xbar_diff)\n",
    "\n",
    "# Find the standard deviation of the diff column\n",
    "s_diff = sample_dem_data['diff'].std()\n",
    "\n",
    "# Print s_diff\n",
    "print(s_diff)\n",
    "\n",
    "# Plot a histogram of diff with 20 bins\n",
    "sample_dem_data['diff'].hist(bins=20)\n",
    "plt.show()"
   ]
  },
  {
   "cell_type": "code",
   "execution_count": 26,
   "metadata": {},
   "outputs": [
    {
     "name": "stdout",
     "output_type": "stream",
     "text": [
      "                T  dof alternative          p-val         CI95%   cohen-d  \\\n",
      "T-test  30.298384  499   two-sided  3.600634e-115  [6.39, 7.27]  1.354985   \n",
      "\n",
      "              BF10  power  \n",
      "T-test  2.246e+111    1.0  \n"
     ]
    }
   ],
   "source": [
    "#!pip install pingouin\n",
    "\n",
    "import pingouin as pg\n",
    "\n",
    "# Conduct a t-test on diff\n",
    "test_results = pg.ttest(x=sample_dem_data['diff'], y=0, alternative = \"two-sided\")\n",
    "\n",
    "\n",
    "                              \n",
    "# Print the test results\n",
    "print(test_results)"
   ]
  },
  {
   "cell_type": "code",
   "execution_count": 30,
   "metadata": {},
   "outputs": [
    {
     "name": "stdout",
     "output_type": "stream",
     "text": [
      "                T  dof alternative          p-val         CI95%   cohen-d  \\\n",
      "T-test  30.298384  499   two-sided  3.600634e-115  [6.39, 7.27]  1.354985   \n",
      "\n",
      "              BF10  power  \n",
      "T-test  2.246e+111    1.0  \n",
      "                T  dof alternative          p-val         CI95%   cohen-d  \\\n",
      "T-test  30.298384  499   two-sided  3.600634e-115  [6.39, 7.27]  0.454202   \n",
      "\n",
      "              BF10  power  \n",
      "T-test  2.246e+111    1.0  \n"
     ]
    }
   ],
   "source": [
    "# Conduct a t-test on diff\n",
    "test_results = pg.ttest(x=sample_dem_data['diff'], \n",
    "                              y=0, \n",
    "                              alternative=\"two-sided\")\n",
    "print(test_results)\n",
    "\n",
    "# Conduct a paired t-test on dem_percent_12 and dem_percent_16\n",
    "paired_test_results = pg.ttest(x=sample_dem_data['dem_percent_12'], y = sample_dem_data['dem_percent_16'], paired = True, alternative = 'two-sided')\n",
    "\n",
    "\n",
    "\n",
    "                              \n",
    "# Print the paired test results\n",
    "print(paired_test_results)"
   ]
  },
  {
   "cell_type": "markdown",
   "metadata": {},
   "source": [
    "### ANOVA\n",
    "\n",
    "* multiple distributions\n",
    "* visualise sns.boxplot\n",
    "* hypothesis test to see whether significant difference between groups\n",
    "\n",
    "* `pingouin.anova(data=df, dv='col', between='groupcol')`\n",
    "* pairwise tests\n",
    "* `pingouin.pairwise_tests(data=df, dv='col', between='groupcol', padjust='none')`\n",
    "\n",
    "* the more groups, the more tests\n",
    "* the more tests, the more chance of false positive result\n",
    "* `padjust correction`\n",
    "  * `padjust='bonf'` bonferroni\n",
    "  * `none` none (default)\n",
    "  * `sidak` one-step Sidak\n",
    "  * `holm` step-down method using Bonferroni adjustments\n",
    "  * `fdr_bh` Benjamini/Hochberg FDR correction\n",
    "  * `fdr_by` Benjamini/Yekutieli FDR correction\n"
   ]
  },
  {
   "cell_type": "code",
   "execution_count": 31,
   "metadata": {},
   "outputs": [],
   "source": [
    "# load late shipments\n",
    "late_shipments = pd.read_feather('late_shipments.feather')"
   ]
  },
  {
   "cell_type": "code",
   "execution_count": 32,
   "metadata": {},
   "outputs": [
    {
     "name": "stdout",
     "output_type": "stream",
     "text": [
      "shipment_mode\n",
      "Air            39.712395\n",
      "Air Charter     4.226667\n",
      "Ocean           6.432273\n",
      "Name: pack_price, dtype: float64\n",
      "shipment_mode\n",
      "Air            48.932861\n",
      "Air Charter     0.992969\n",
      "Ocean           5.303047\n",
      "Name: pack_price, dtype: float64\n"
     ]
    },
    {
     "data": {
      "image/png": "[encoded data removed]",
      "text/plain": [
       "<Figure size 640x480 with 1 Axes>"
      ]
     },
     "metadata": {},
     "output_type": "display_data"
    }
   ],
   "source": [
    "import seaborn as sns\n",
    "\n",
    "# Calculate the mean pack_price for each shipment_mode\n",
    "xbar_pack_by_mode = late_shipments.groupby('shipment_mode')['pack_price'].mean()\n",
    "\n",
    "# Print the grouped means\n",
    "print(xbar_pack_by_mode)\n",
    "\n",
    "# Calculate the standard deviation of the pack_price for each shipment_mode\n",
    "s_pack_by_mode = late_shipments.groupby('shipment_mode')['pack_price'].std()\n",
    "\n",
    "# Print the grouped standard deviations\n",
    "print(s_pack_by_mode)\n",
    "\n",
    "# Boxplot of shipment_mode vs. pack_price\n",
    "sns.boxplot(data=late_shipments, x='pack_price', y='shipment_mode')\n",
    "plt.show()"
   ]
  },
  {
   "cell_type": "code",
   "execution_count": 33,
   "metadata": {},
   "outputs": [
    {
     "name": "stdout",
     "output_type": "stream",
     "text": [
      "          Source  ddof1  ddof2        F         p-unc       np2\n",
      "0  shipment_mode      2    997  21.8646  5.089479e-10  0.042018\n"
     ]
    }
   ],
   "source": [
    "# Run an ANOVA for pack_price across shipment_mode\n",
    "anova_results = pg.anova(data=late_shipments, dv='pack_price', between='shipment_mode')\n",
    "\n",
    "\n",
    "\n",
    "# Print anova_results\n",
    "print(anova_results)"
   ]
  },
  {
   "cell_type": "code",
   "execution_count": 34,
   "metadata": {},
   "outputs": [
    {
     "name": "stdout",
     "output_type": "stream",
     "text": [
      "        Contrast            A            B  Paired  Parametric          T  \\\n",
      "0  shipment_mode          Air  Air Charter   False        True  21.179625   \n",
      "1  shipment_mode          Air        Ocean   False        True  19.335760   \n",
      "2  shipment_mode  Air Charter        Ocean   False        True  -3.170654   \n",
      "\n",
      "          dof alternative         p-unc       BF10    hedges  \n",
      "0  600.685682   two-sided  8.748346e-75  5.809e+76  0.726592  \n",
      "1  986.979785   two-sided  6.934555e-71  1.129e+67  0.711119  \n",
      "2   35.615026   two-sided  3.123012e-03     15.277 -0.423775  \n"
     ]
    }
   ],
   "source": [
    "# Perform a pairwise t-test on pack price, grouped by shipment mode\n",
    "pairwise_results = pg.pairwise_tests(data=late_shipments, dv='pack_price', between='shipment_mode') \n",
    "\n",
    "# Print pairwise_results\n",
    "print(pairwise_results)"
   ]
  },
  {
   "cell_type": "code",
   "execution_count": 36,
   "metadata": {},
   "outputs": [
    {
     "name": "stdout",
     "output_type": "stream",
     "text": [
      "        Contrast            A            B  Paired  Parametric          T  \\\n",
      "0  shipment_mode          Air  Air Charter   False        True  21.179625   \n",
      "1  shipment_mode          Air        Ocean   False        True  19.335760   \n",
      "2  shipment_mode  Air Charter        Ocean   False        True  -3.170654   \n",
      "\n",
      "          dof alternative         p-unc        p-corr p-adjust       BF10  \\\n",
      "0  600.685682   two-sided  8.748346e-75  2.624504e-74     bonf  5.809e+76   \n",
      "1  986.979785   two-sided  6.934555e-71  2.080367e-70     bonf  1.129e+67   \n",
      "2   35.615026   two-sided  3.123012e-03  9.369037e-03     bonf     15.277   \n",
      "\n",
      "     hedges  \n",
      "0  0.726592  \n",
      "1  0.711119  \n",
      "2 -0.423775  \n"
     ]
    }
   ],
   "source": [
    "# Modify the pairwise t-tests to use Bonferroni p-value adjustment\n",
    "pairwise_results = pg.pairwise_tests(data=late_shipments, \n",
    "                                           dv=\"pack_price\",\n",
    "                                           between=\"shipment_mode\",\n",
    "                                           padjust=\"bonf\")\n",
    "\n",
    "# Print pairwise_results\n",
    "print(pairwise_results)"
   ]
  },
  {
   "cell_type": "markdown",
   "metadata": {},
   "source": [
    "## Proportion Tests"
   ]
  },
  {
   "cell_type": "code",
   "execution_count": 1,
   "metadata": {},
   "outputs": [],
   "source": [
    "import pandas as pd\n",
    "import numpy as np\n",
    "from scipy.stats import norm\n",
    "import matplotlib.pyplot as plt\n",
    "import seaborn as sns\n",
    "\n",
    "late_shipments = pd.read_feather('late_shipments.feather')\n"
   ]
  },
  {
   "cell_type": "code",
   "execution_count": 3,
   "metadata": {},
   "outputs": [
    {
     "name": "stdout",
     "output_type": "stream",
     "text": [
      "0.061 1000\n",
      "0.13315591032282698\n",
      "0.44703503936503364\n"
     ]
    }
   ],
   "source": [
    "# Hypothesize that the proportion of late shipments is 6%\n",
    "p_0 = 0.06\n",
    "\n",
    "# Calculate the sample proportion of late shipments\n",
    "p_hat = (late_shipments['late']=='Yes').mean()\n",
    "\n",
    "# Calculate the sample size\n",
    "n = len(late_shipments)\n",
    "\n",
    "# Print p_hat and n\n",
    "print(p_hat, n)\n",
    "\n",
    "# Calculate the numerator and denominator of the test statistic\n",
    "numerator = p_hat - p_0\n",
    "denominator = np.sqrt(p_0 * (1-p_0)/n)\n",
    "\n",
    "# Calculate the test statistic\n",
    "z_score = numerator/denominator\n",
    "\n",
    "# Print the result\n",
    "print(z_score)\n",
    "\n",
    "# Calculate the p-value from the z-score\n",
    "p_value = 1-norm.cdf(z_score, loc=0, scale=1)\n",
    "\n",
    "# Print the p-value\n",
    "print(p_value)"
   ]
  },
  {
   "cell_type": "markdown",
   "metadata": {},
   "source": [
    "### two-sample prop tests\n",
    "\n",
    "stack overflow example - hobbyist = yes/no\n",
    "\n",
    "H0: Proportion of hobbyist users is the same for those under 30 as those at least 30\n",
    "H0: p>=30 - p<30 = 0\n",
    "\n",
    "HA: Proportion of hobbyist users is different for those under 30 to those at least 30\n",
    "HA: p>=30 - p<30 != 0\n",
    "\n",
    "`alpha = 0.05`\n",
    "\n",
    "z-score for proportion test: \n",
    "\n",
    "$z = (p_hat >=30 - p_hat < 30) - 0 / SE(p_hat>=30 - p_hat<30)$\n",
    "Standard Error: \n",
    "\n",
    "SE(p_hat>=30 - p_hat<30) = sqrt(((p_hat x (1-p_hat))/n>=30 + (p_hat x (1-p_hat)/n<30)))\n",
    "* p_hat is a weighted mean of p_hat>30 and p_hat<30\n",
    "* p_hat = (n>= 30 * p_hat>=30 + n<30 * p_hat <30) / n>=30  n<30\n",
    "* only require to calculate z-score: \n",
    "  * p_hat>= 30\n",
    "  * p_hat<30\n",
    "  * n>= 30\n",
    "  * n<30\n",
    "\n",
    "```python\n",
    "\n",
    "p_hats = stack_overflow.groupby(\"age_cate\")['hobbyist'].value_counts(normalize=True)\n",
    "n = stack_overflow.groupby('age_cate')['hobbyist'].count()\n",
    "\n",
    "p_hat_at_least_30 = p_hats[(\"At least 30\", \"Yes\")]\n",
    "p_hat_under_30 = p_hats[(\"Under 30\", \"Yes\")]\n",
    "\n",
    "n_at_least_30 = n[\"At least 30\"]\n",
    "n_under_30 = n[\"Under 30\"]\n",
    "\n",
    "p_hat = (n_at_least_30 * p_hat_at_least_30 + n_under_30 * p_hat_under_30) / (n_at_least_30 + n_under_30)\n",
    "\n",
    "std_error = np.sqrt(p_hat * (1-p_hat) / n_at_least_30 + p_hat * (1-p_at) / n_under_30)\n",
    "\n",
    "z_score = (p_hat_at_least_30 - p_hat_under_30) / std_error\n",
    "```\n",
    "\n",
    "```python\n",
    "\n",
    "stack_overflow.groupby('age_cat')['hobbyist'].value_counts()\n",
    "\n",
    "n_hobbyists = np.array([812, 1021]) # from above print group\n",
    "\n",
    "n_rows = np.array([812 +238, 1021 + 190])\n",
    "\n",
    "from statsmodels.stats.proportion import proportions_ztest\n",
    "z_score, p_value = proportions_ztest(count=n_hobbyists, nobs = n_rows, alternative = \"two-sided\")\n",
    "```"
   ]
  },
  {
   "cell_type": "code",
   "execution_count": 28,
   "metadata": {},
   "outputs": [
    {
     "name": "stdout",
     "output_type": "stream",
     "text": [
      "freight_cost_groups\n",
      "expensive     0.079096\n",
      "reasonable    0.035165\n",
      "Name: late, dtype: float64\n",
      "freight_cost_groups\n",
      "expensive     531\n",
      "reasonable    455\n",
      "Name: count, dtype: int64\n"
     ]
    }
   ],
   "source": [
    "# p_hats\n",
    "p_hats = late_shipments.groupby('freight_cost_groups')['late'].apply(lambda x: (x == 'Yes').mean())\n",
    "print(p_hats)\n",
    "\n",
    "ns = late_shipments.groupby('freight_cost_groups')['freight_cost_groups'].value_counts()\n",
    "print(ns)\n",
    "\n",
    "#missing_values = late_shipments['freight_cost_groups'].isna().sum()\n",
    "#print(missing_values)"
   ]
  },
  {
   "cell_type": "code",
   "execution_count": 33,
   "metadata": {},
   "outputs": [
    {
     "name": "stdout",
     "output_type": "stream",
     "text": [
      "0.058823529411764705\n",
      "0.015031300895066685\n",
      "2.922648567784529\n",
      "0.0017353400023595311\n"
     ]
    }
   ],
   "source": [
    "# Calculate the pooled estimate of the population proportion\n",
    "p_hat = (ns['expensive'] * p_hats[\"expensive\"] + ns['reasonable'] * p_hats[\"reasonable\"]) / (ns['expensive'] + ns['reasonable'])\n",
    "\n",
    "# Print the result\n",
    "print(p_hat)\n",
    "\n",
    "# Calculate p_hat one minus p_hat\n",
    "p_hat_times_not_p_hat = p_hat * (1-p_hat)\n",
    "\n",
    "# Divide this by each of the sample sizes and then sum\n",
    "p_hat_times_not_p_hat_over_ns = p_hat_times_not_p_hat/ ns['expensive'] + p_hat_times_not_p_hat / ns['reasonable']\n",
    "\n",
    "# Calculate the standard error\n",
    "std_error = np.sqrt(p_hat_times_not_p_hat_over_ns)\n",
    "\n",
    "# Print the result\n",
    "print(std_error)\n",
    "\n",
    "# Calculate the z-score\n",
    "z_score = (p_hats[\"expensive\"] - p_hats['reasonable']) / std_error\n",
    "\n",
    "# Print z_score\n",
    "print(z_score)\n",
    "\n",
    "# Calculate the p-value\n",
    "p_value = 1-norm.cdf(z_score, loc=0, scale=1)\n",
    "\n",
    "# Print the p-value\n",
    "print(p_value)"
   ]
  },
  {
   "cell_type": "code",
   "execution_count": 35,
   "metadata": {},
   "outputs": [
    {
     "name": "stdout",
     "output_type": "stream",
     "text": [
      "freight_cost_groups  late\n",
      "expensive            No      489\n",
      "                     Yes      42\n",
      "reasonable           No      439\n",
      "                     Yes      16\n",
      "Name: count, dtype: int64\n"
     ]
    }
   ],
   "source": [
    "from statsmodels.stats.proportion import proportions_ztest\n",
    "\n",
    "# Count the late column values for each freight_cost_group\n",
    "late_by_freight_cost_group = late_shipments.groupby('freight_cost_groups')['late'].value_counts()\n",
    "\n",
    "# Print the counts\n",
    "print(late_by_freight_cost_group)"
   ]
  },
  {
   "cell_type": "code",
   "execution_count": 37,
   "metadata": {},
   "outputs": [
    {
     "name": "stdout",
     "output_type": "stream",
     "text": [
      "2.922648567784529 0.001735340002359578\n"
     ]
    }
   ],
   "source": [
    "# Count the late column values for each freight_cost_group\n",
    "late_by_freight_cost_group = late_shipments.groupby(\"freight_cost_groups\")['late'].value_counts()\n",
    "\n",
    "# Create an array of the \"Yes\" counts for each freight_cost_group\n",
    "success_counts = np.array([42, 16])\n",
    "\n",
    "# Create an array of the total number of rows in each freight_cost_group\n",
    "n = np.array([489+42, 439+16])\n",
    "\n",
    "# Run a z-test on the two proportions\n",
    "stat, p_value = proportions_ztest(count = success_counts, nobs = n, alternative = 'larger')\n",
    "\n",
    "\n",
    "# Print the results\n",
    "print(stat, p_value)"
   ]
  },
  {
   "cell_type": "markdown",
   "metadata": {},
   "source": [
    "### chi-square test of independence\n",
    "\n",
    "* ANOVA extends t-tests to more than two groups\n",
    "* chi-square extends the proportion test of independence to more than two groups\n",
    "\n",
    "**Statistical independence** - proportion of successes in the response variable is the same across all categories of the explanatory variable\n",
    "\n",
    "**Test for independence of variables**\n",
    "\n",
    "```python\n",
    "import pingouin\n",
    "# correction is Yates continuity correction\n",
    "expected, observed, stats = pingouin.chi2_independence(data=stack_overflow, x='hobbyist' y='age_cat', correction = False)\n",
    "\n",
    "print(stats)\n",
    "\n",
    "```\n",
    "\n",
    "Example: \n",
    "\n",
    "H0: Age categories are independent of job satisfaction levels\n",
    "H1: Age categories are not independent of job satisfaction levels\n",
    "\n",
    "`alpha = 0.1`\n",
    "\n",
    "* test statistic denoted chi^2\n",
    "* assuming independence, how far away are the observed results from the expected values? \n",
    "\n",
    "**EDA with proportional stacked bar plot**\n",
    "\n",
    "```python\n",
    "props = stack_overflow.groupby('job_sat')['age_cat'].value_counts(normalize=True)\n",
    "wide_props = props.unstack()\n",
    "wide_props.plot(kind='bar', stacked = True)\n",
    "\n",
    "# is observed difference statistally significant?  are they independent?\n",
    "\n",
    "import pingouin\n",
    "expected, observed, stats = pingouin.chi2_independence(data=stack_overflow, x='job_sat', y='age_cat')\n",
    "print(stats)\n",
    "\n",
    "#pvlaue is above 0.1 so we conclude that age categories are independent - fail to reject null hypo\n",
    "\n",
    "\n",
    "```\n",
    "\n",
    "If we swap variables (explanatory, response) we get the same chi-square results so the relationship question is phrased: \n",
    "\n",
    "* Are the variables X and Y independent?  (not is one independent from the other)\n",
    "* chi-square are almost always right-tailed tests"
   ]
  },
  {
   "cell_type": "code",
   "execution_count": 2,
   "metadata": {},
   "outputs": [],
   "source": [
    "import pandas as pd\n",
    "import numpy as np\n",
    "from scipy.stats import norm\n",
    "import matplotlib.pyplot as plt\n",
    "import seaborn as sns\n",
    "\n",
    "late_shipments = pd.read_feather('late_shipments.feather')"
   ]
  },
  {
   "cell_type": "markdown",
   "metadata": {},
   "source": [
    "The late_shipments dataset includes a vendor_inco_term that describes the incoterms that applied to a given shipment. The choices are:\n",
    "\n",
    "EXW: \"Ex works\". The buyer pays for transportation of the goods.\n",
    "CIP: \"Carriage and insurance paid to\". The seller pays for freight and insurance until the goods board a ship.\n",
    "DDP: \"Delivered duty paid\". The seller pays for transportation of the goods until they reach a destination port.\n",
    "FCA: \"Free carrier\". The seller pays for transportation of the goods.\n",
    "Perhaps the incoterms affect whether or not the freight costs are expensive. Test these hypotheses with a significance level of 0.01.\n",
    "\n",
    "H0: vendor_inco_term and freight_cost_group are independent.\n",
    "\n",
    "HA: vendor_inco_term and freight_cost_group are associated."
   ]
  },
  {
   "cell_type": "code",
   "execution_count": 3,
   "metadata": {},
   "outputs": [
    {
     "name": "stdout",
     "output_type": "stream",
     "text": [
      "vendor_inco_term  freight_cost_groups\n",
      "CIP               reasonable             0.680000\n",
      "                  expensive              0.320000\n",
      "DDP               expensive              0.550000\n",
      "                  reasonable             0.450000\n",
      "EXW               expensive              0.583448\n",
      "                  reasonable             0.416552\n",
      "FCA               reasonable             0.663636\n",
      "                  expensive              0.336364\n",
      "Name: proportion, dtype: float64\n",
      "freight_cost_groups  expensive  reasonable\n",
      "vendor_inco_term                          \n",
      "CIP                   0.320000    0.680000\n",
      "DDP                   0.550000    0.450000\n",
      "EXW                   0.583448    0.416552\n",
      "FCA                   0.336364    0.663636\n"
     ]
    },
    {
     "data": {
      "image/png": "[encoded data removed]",
      "text/plain": [
       "<Figure size 640x480 with 1 Axes>"
      ]
     },
     "metadata": {},
     "output_type": "display_data"
    }
   ],
   "source": [
    "#!pip install pingouin\n",
    "import pingouin\n",
    "\n",
    "late_shipments2 = late_shipments[late_shipments['vendor_inco_term'] != 'DDU']\n",
    "\n",
    "# Proportion of freight_cost_group grouped by vendor_inco_term\n",
    "props = late_shipments2.groupby('vendor_inco_term')['freight_cost_groups'].value_counts(normalize=True)\n",
    "\n",
    "# Print props\n",
    "print(props)\n",
    "\n",
    "# Convert props to wide format\n",
    "wide_props = props.unstack()\n",
    "\n",
    "# Print wide_props\n",
    "print(wide_props)\n",
    "\n",
    "# Proportional stacked bar plot of freight_cost_group vs. vendor_inco_term\n",
    "wide_props.plot(kind='bar', stacked=True)\n",
    "plt.show()"
   ]
  },
  {
   "cell_type": "code",
   "execution_count": 4,
   "metadata": {},
   "outputs": [
    {
     "name": "stdout",
     "output_type": "stream",
     "text": [
      "      test  lambda     chi2  dof          pval    cramer     power\n",
      "0  pearson     1.0  33.6426  3.0  2.357026e-07  0.183511  0.999424\n"
     ]
    }
   ],
   "source": [
    "# Determine if freight_cost_group and vendor_inco_term are independent\n",
    "expected, observed, stats = pingouin.chi2_independence(data=late_shipments2, x='vendor_inco_term', y='freight_cost_groups')\n",
    "\n",
    "# Print results\n",
    "print(stats[stats['test'] == 'pearson']) "
   ]
  },
  {
   "cell_type": "markdown",
   "metadata": {},
   "source": [
    "### chi-square goodness of fit tests\n",
    "\n",
    "* compare single categorical variable to a hypothesised distribution\n",
    "\n",
    "* question: how do you feel when you discover that you've already visited the top resource?\n",
    "\n",
    "```python\n",
    "purple_link_counts = stack_overflow['purple_link'].value_counts()\n",
    "purple_link_counts = purple_link_counts.rename_axis('purple_link').reset_index(name='n').sort_values('purple_link')\n",
    "\n",
    "hypothesized = pd.DataFrame({\n",
    "    'purple_link': ['Amused', 'Annoyed', 'Hello, old friend', 'Indifferent'],\n",
    "    'prop': [1/6, 1/6, 1/2, 1/6]\n",
    "})\n",
    "\n",
    "# H0 = sample matches hypothesized distro\n",
    "# HA = sample does not match hypothesized distro\n",
    "# x2 (chi) measures how far observed results are from expectations in each group\n",
    "\n",
    "alpha = 0.01\n",
    "\n",
    "n_total = len(stack_overflow)\n",
    "hypothesized['n'] = hypothesized['prop'] * n_total\n",
    "\n",
    "plt.bar(purple_link_counts['purple_link'], purple_link_counts['n'], color = 'red', label = 'Observed')\n",
    "plt.bar(hypothesized['purple_link'], hypothesized['n'], alpha = 0.5, color = 'blue', label = 'Hypothesized')\n",
    "\n",
    "plt.legend()\n",
    "plt.show()\n",
    "\n",
    "\n",
    "print(hypothesized)\n",
    "\n",
    "from scipy.stats import chisquare\n",
    "chisquare(f_obs=purple_link_counts['n'], f_exp = hypothesized['n'])\n",
    "\n",
    "# conclude sample distribution is different from hypothesied because pvalue is very small\n",
    "```"
   ]
  },
  {
   "cell_type": "markdown",
   "metadata": {},
   "source": [
    "Visualizing goodness of fit\n",
    "The chi-square goodness of fit test compares proportions of each level of a categorical variable to hypothesized values. Before running such a test, it can be helpful to visually compare the distribution in the sample to the hypothesized distribution.\n",
    "\n",
    "Recall the vendor incoterms in the late_shipments dataset. You hypothesize that the four values occur with these frequencies in the population of shipments.\n",
    "\n",
    "CIP: 0.05\n",
    "DDP: 0.1\n",
    "EXW: 0.75\n",
    "FCA: 0.1\n",
    "These frequencies are stored in the hypothesized DataFrame.\n",
    "\n",
    "The incoterm_counts DataFrame stores the .value_counts() of the vendor_inco_term column.\n",
    "\n"
   ]
  },
  {
   "cell_type": "code",
   "execution_count": 13,
   "metadata": {},
   "outputs": [
    {
     "name": "stdout",
     "output_type": "stream",
     "text": [
      "  vendor_inco_term    n\n",
      "3              CIP   56\n",
      "2              DDP  100\n",
      "0              EXW  732\n",
      "1              FCA  111\n",
      "  vendor_inco_term  prop\n",
      "0              CIP  0.05\n",
      "1              DDP  0.10\n",
      "2              EXW  0.75\n",
      "3              FCA  0.10\n",
      "999\n",
      "  vendor_inco_term  prop       n\n",
      "0              CIP  0.05   49.95\n",
      "1              DDP  0.10   99.90\n",
      "2              EXW  0.75  749.25\n",
      "3              FCA  0.10   99.90\n"
     ]
    },
    {
     "data": {
      "image/png": "[encoded data removed]",
      "text/plain": [
       "<Figure size 640x480 with 1 Axes>"
      ]
     },
     "metadata": {},
     "output_type": "display_data"
    }
   ],
   "source": [
    "# create incoterm_counts\n",
    "incoterm_counts = late_shipments2['vendor_inco_term'].value_counts()\n",
    "incoterm_counts = incoterm_counts.rename_axis('vendor_inco_term').reset_index(name='n').sort_values('vendor_inco_term')\n",
    "\n",
    "print(incoterm_counts)\n",
    "\n",
    "hypothesized = pd.DataFrame({\n",
    "    'vendor_inco_term': ['CIP', 'DDP', 'EXW', 'FCA'],\n",
    "    'prop': [0.05, 0.1, 0.75, 0.1]\n",
    "})\n",
    "\n",
    "print(hypothesized)\n",
    "# Find the number of rows in late_shipments\n",
    "n_total = len(late_shipments2)\n",
    "\n",
    "# Print n_total\n",
    "print(n_total)\n",
    "\n",
    "# Create n column that is prop column * n_total\n",
    "hypothesized['n'] = hypothesized['prop'] * n_total\n",
    "\n",
    "# Print the modified hypothesized DataFrame\n",
    "print(hypothesized)\n",
    "\n",
    "# Plot a red bar graph of n vs. vendor_inco_term for incoterm_counts\n",
    "plt.bar(incoterm_counts['vendor_inco_term'], incoterm_counts['n'], color=\"red\", label=\"Observed\")\n",
    "\n",
    "# Add a blue bar plot for the hypothesized counts\n",
    "plt.bar(hypothesized['vendor_inco_term'], hypothesized['n'], color='blue', alpha = 0.5, label=\"Hypothesized\")\n",
    "plt.legend()\n",
    "plt.show()\n",
    "\n"
   ]
  },
  {
   "cell_type": "markdown",
   "metadata": {},
   "source": [
    "Performing a goodness of fit test\n",
    "The bar plot of vendor_inco_term suggests that the distribution across the four categories was quite close to the hypothesized distribution. You'll need to perform a chi-square goodness of fit test to see whether the differences are statistically significant.\n",
    "\n",
    "Recall the hypotheses for this type of test:\n",
    "\n",
    "H0: The sample matches with the hypothesized distribution.\n",
    "\n",
    "HA: The sample does not match with the hypothesized distribution.\n",
    "\n",
    "To decide which hypothesis to choose, we'll set a significance level of 0.1."
   ]
  },
  {
   "cell_type": "code",
   "execution_count": 14,
   "metadata": {},
   "outputs": [
    {
     "name": "stdout",
     "output_type": "stream",
     "text": [
      "Power_divergenceResult(statistic=2.3633633633633613, pvalue=0.5004909543758689)\n"
     ]
    }
   ],
   "source": [
    "from scipy.stats import chisquare\n",
    "# Perform a goodness of fit test on the incoterm counts n\n",
    "gof_test = chisquare(f_obs=incoterm_counts['n'], f_exp = hypothesized['n'])\n",
    "\n",
    "\n",
    "# Print gof_test results\n",
    "print(gof_test)"
   ]
  },
  {
   "cell_type": "markdown",
   "metadata": {},
   "source": [
    "Fail to reject H0 - so sample matches hypothesized distribution"
   ]
  },
  {
   "cell_type": "markdown",
   "metadata": {},
   "source": [
    "## Non-parametric tests"
   ]
  },
  {
   "cell_type": "markdown",
   "metadata": {},
   "source": [
    "* above tests make assumptions about data\n",
    "\n",
    "**Randomness**\n",
    "* samples are random subsets of larger populations\n",
    "  * consequence: sample not representative of population\n",
    "**Independence**\n",
    "* each observation (row) in the dataset is independent\n",
    "  * consequence: increased chance of false negative/positive errors\n",
    "**large sample size**\n",
    "* sample size big enough to mitigate uncertainty so that *Central Limit Theorem* applies, and distribution is normal\n",
    "  * consequence: wider confidence intervals, increased chance of false negative/positive errors\n",
    "  * t-test: \n",
    "    * one sample: at least 30 observations in the sample \n",
    "    * two samples: at least 30 observations in each sample\n",
    "    * paired samples: at least 30 pairs of observations across sample\n",
    "    * ANOVA: at least 30 observations in each sample\n",
    "  * proportion test: \n",
    "    * one sample: at least 10 successes in sample; at least 10 failures \n",
    "    * two samples: at least 10 successes in each sample; at least 10 failures\n",
    "  * chi-square test:\n",
    "    * number of successes greater than or equal to 5\n",
    "    * number of failures greater than or equal to 5\n",
    "\n",
    "**sanity check** if bootstrap distribution doesn't look normal, assumptions are likely not valid\n",
    "* revisit data collection for randomness, independence, sample size"
   ]
  },
  {
   "cell_type": "code",
   "execution_count": 2,
   "metadata": {},
   "outputs": [],
   "source": [
    "import pandas as pd\n",
    "import numpy as np\n",
    "from scipy.stats import norm\n",
    "import matplotlib.pyplot as plt\n",
    "import seaborn as sns\n",
    "\n",
    "late_shipments = pd.read_feather('late_shipments.feather')\n",
    "late_shipments2 = late_shipments[late_shipments['vendor_inco_term'] != 'DDU']"
   ]
  },
  {
   "cell_type": "code",
   "execution_count": 4,
   "metadata": {},
   "outputs": [
    {
     "name": "stdout",
     "output_type": "stream",
     "text": [
      "freight_cost_groups\n",
      "expensive     531\n",
      "reasonable    454\n",
      "Name: count, dtype: int64\n",
      "True\n"
     ]
    }
   ],
   "source": [
    "# count freight_cost_groups values\n",
    "counts = late_shipments2['freight_cost_groups'].value_counts()\n",
    "\n",
    "# Print counts\n",
    "print(counts)\n",
    "\n",
    "# Inspect whether the counts are big enough\n",
    "print((counts >= 30).all())\n"
   ]
  },
  {
   "cell_type": "code",
   "execution_count": 6,
   "metadata": {},
   "outputs": [
    {
     "name": "stdout",
     "output_type": "stream",
     "text": [
      "late\n",
      "No     938\n",
      "Yes     61\n",
      "Name: count, dtype: int64\n",
      "True\n"
     ]
    }
   ],
   "source": [
    "# Count the late values\n",
    "counts = late_shipments2['late'].value_counts()\n",
    "\n",
    "# Print the result\n",
    "print(counts)\n",
    "\n",
    "# Inspect whether the counts are big enough\n",
    "print((counts >= 10).all())"
   ]
  },
  {
   "cell_type": "code",
   "execution_count": 7,
   "metadata": {},
   "outputs": [
    {
     "name": "stdout",
     "output_type": "stream",
     "text": [
      "vendor_inco_term  freight_cost_groups\n",
      "CIP               reasonable              34\n",
      "                  expensive               16\n",
      "DDP               expensive               55\n",
      "                  reasonable              45\n",
      "EXW               expensive              423\n",
      "                  reasonable             302\n",
      "FCA               reasonable              73\n",
      "                  expensive               37\n",
      "Name: count, dtype: int64\n",
      "True\n"
     ]
    }
   ],
   "source": [
    "# Count the values of freight_cost_group grouped by vendor_inco_term\n",
    "counts = late_shipments2.groupby('vendor_inco_term')['freight_cost_groups'].value_counts()\n",
    "\n",
    "# Print the result\n",
    "print(counts)\n",
    "\n",
    "# Inspect whether the counts are big enough\n",
    "print((counts >= 5).all())"
   ]
  },
  {
   "cell_type": "code",
   "execution_count": 8,
   "metadata": {},
   "outputs": [
    {
     "name": "stdout",
     "output_type": "stream",
     "text": [
      "shipment_mode\n",
      "Air            905\n",
      "Ocean           88\n",
      "Air Charter      6\n",
      "Name: count, dtype: int64\n",
      "False\n"
     ]
    }
   ],
   "source": [
    "# Count the shipment_mode values\n",
    "counts = late_shipments2['shipment_mode'].value_counts()\n",
    "\n",
    "# Print the result\n",
    "print(counts)\n",
    "\n",
    "# Inspect whether the counts are big enough\n",
    "print((counts >= 30).all())"
   ]
  },
  {
   "cell_type": "markdown",
   "metadata": {},
   "source": [
    "### non-parametric tests\n",
    "\n",
    "parametric tests: z-test, t-test, ANOVA - all assume normal distribution and large sample size for CLT\n",
    "\n",
    "**non-parametric tests** avoid parametric assumptions and conditions.  many non-parametric tests use *ranks* of data:\n",
    "`from scipy.stats imort rankdata`\n",
    "\n",
    "* are more reliable for **small sample sizes** and when data is **not normally distributed**\n",
    "* **Wilcoxon-signed rank test** works on ranked absolute differences between pairs of data\n",
    "* Step 1:\n",
    "  * take differences in paired values\n",
    "* Step 2: \n",
    "  * take absolute differences between paired values\n",
    "* Step 3: \n",
    "  * rank the abs differences\n",
    "* Step 4: \n",
    "  * rank differences\n",
    "  * calculate statistic `W` by using signs of diff column to split the ranks into two groups - one for positive differences, one for negative differences\n",
    "  * `W` is the smaller of the sums of signs (positive and negative)\n",
    "\n",
    "Using `pingouin.Wilcoxon`\n",
    "\n",
    "```python\n",
    "import pingouin\n",
    "alpha = 0.01\n",
    "pingouin.wilcoxon(x, y, alternative = 'less')\n",
    "\n",
    "```"
   ]
  },
  {
   "cell_type": "code",
   "execution_count": 9,
   "metadata": {},
   "outputs": [
    {
     "name": "stdout",
     "output_type": "stream",
     "text": [
      "                T  dof alternative          p-val         CI95%   cohen-d  \\\n",
      "T-test  30.298384  499   two-sided  3.600634e-115  [6.39, 7.27]  0.454202   \n",
      "\n",
      "              BF10  power  \n",
      "T-test  2.246e+111    1.0  \n"
     ]
    }
   ],
   "source": [
    "import pingouin\n",
    "\n",
    "# import sample dem data\n",
    "sample_dem_data = pd.read_feather('dem_votes_potus_12_16.feather')\n",
    "\n",
    "# paired t-test\n",
    "paired_test_results = pingouin.ttest(x=sample_dem_data['dem_percent_12'], y=sample_dem_data['dem_percent_16'], paired=True, alternative='two-sided')\n",
    "\n",
    "# print paired test results\n",
    "print(paired_test_results)\n"
   ]
  },
  {
   "cell_type": "code",
   "execution_count": 10,
   "metadata": {},
   "outputs": [
    {
     "name": "stdout",
     "output_type": "stream",
     "text": [
      "           W-val alternative         p-val       RBC      CLES\n",
      "Wilcoxon  2401.0   two-sided  1.780396e-77  0.961661  0.644816\n"
     ]
    }
   ],
   "source": [
    "# Conduct a Wilcoxon test on dem_percent_12 and dem_percent_16\n",
    "wilcoxon_test_results = pingouin.wilcoxon(x=sample_dem_data['dem_percent_12'], y = sample_dem_data['dem_percent_16'], alternative = 'two-sided')\n",
    "\n",
    "# Print Wilcoxon test results\n",
    "print(wilcoxon_test_results)"
   ]
  },
  {
   "cell_type": "markdown",
   "metadata": {},
   "source": [
    "### non-parametric ANOVA and unpaired t-tests\n",
    "\n",
    "* **Wilcoxon-Mann-Whitney test**\n",
    "  * aka Mann Whitney U test\n",
    "  * a t-test on the ranks of the numeric input\n",
    "  * works on unpaired data\n",
    "\n",
    "```python\n",
    "\n",
    "age_vs_comp = stack_overflow[['converted_comp', 'age_first_code_cut']]\n",
    "age_vs_comp_wide = age_vs_comp.pivot(columns = 'age_first_code_cut', values = 'converted_comp')\n",
    "\n",
    "alpha = 0.01\n",
    "\n",
    "pingouin.mwu(x=age_vs_comp_wide['child'], y = age_vs_comp_wide['adult'], alternative='greater')\n",
    "\n",
    "```\n",
    "\n",
    "* **Kruskal-Wallis test**\n",
    "  * extends Wilcoxon-Mann-Whitney to more than two groups (in the same way that ANOVA extends t-tests)\n",
    "\n",
    "```python\n",
    "\n",
    "pingouin.kruskal(data=stack_overflow, dv= 'converted_comp', between = 'job_sat')\n",
    "```"
   ]
  },
  {
   "cell_type": "code",
   "execution_count": 11,
   "metadata": {},
   "outputs": [
    {
     "name": "stdout",
     "output_type": "stream",
     "text": [
      "       U-val alternative     p-val       RBC      CLES\n",
      "MWU  38145.0   two-sided  0.000014 -0.331902  0.665951\n"
     ]
    }
   ],
   "source": [
    "# Select the weight_kilograms and late columns\n",
    "weight_vs_late = late_shipments[['weight_kilograms', 'late']]\n",
    "\n",
    "# Convert weight_vs_late into wide format\n",
    "weight_vs_late_wide = weight_vs_late.pivot(columns='late', \n",
    "                                           values='weight_kilograms')\n",
    "\n",
    "\n",
    "# Run a two-sided Wilcoxon-Mann-Whitney test on weight_kilograms vs. late\n",
    "wmw_test = pingouin.mwu(x=weight_vs_late_wide['Yes'], y = weight_vs_late_wide['No'], alternative = 'two-sided')\n",
    "\n",
    "\n",
    "\n",
    "# Print the test results\n",
    "print(wmw_test)"
   ]
  },
  {
   "cell_type": "code",
   "execution_count": 12,
   "metadata": {},
   "outputs": [
    {
     "name": "stdout",
     "output_type": "stream",
     "text": [
      "                Source  ddof1           H         p-unc\n",
      "Kruskal  shipment_mode      2  125.096618  6.848799e-28\n"
     ]
    }
   ],
   "source": [
    "# Run a Kruskal-Wallis test on weight_kilograms vs. shipment_mode\n",
    "kw_test = pingouin.kruskal(data=late_shipments, dv='weight_kilograms', between='shipment_mode')\n",
    "\n",
    "\n",
    "\n",
    "# Print the results\n",
    "print(kw_test)"
   ]
  }
 ],
 "metadata": {
  "kernelspec": {
   "display_name": "datacamp",
   "language": "python",
   "name": "python3"
  },
  "language_info": {
   "codemirror_mode": {
    "name": "ipython",
    "version": 3
   },
   "file_extension": ".py",
   "mimetype": "text/x-python",
   "name": "python",
   "nbconvert_exporter": "python",
   "pygments_lexer": "ipython3",
   "version": "3.9.18"
  }
 },
 "nbformat": 4,
 "nbformat_minor": 2
}
