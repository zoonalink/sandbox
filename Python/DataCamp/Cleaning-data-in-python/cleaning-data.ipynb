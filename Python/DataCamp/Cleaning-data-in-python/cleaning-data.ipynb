{
 "cells": [
  {
   "cell_type": "markdown",
   "metadata": {},
   "source": [
    "# Cleaning Data in Python"
   ]
  },
  {
   "cell_type": "code",
   "execution_count": null,
   "metadata": {},
   "outputs": [],
   "source": [
    "!pip install missingno\n",
    "!pip install fuzzywuzzy\n",
    "!pip install recordlinkage\n"
   ]
  },
  {
   "cell_type": "code",
   "execution_count": 1,
   "metadata": {},
   "outputs": [],
   "source": [
    "\n",
    "# Import the course packages\n",
    "import pandas as pd\n",
    "import numpy as np\n",
    "import datetime as dt\n",
    "import matplotlib.pyplot as plt\n",
    "import missingno as msno\n",
    "import fuzzywuzzy\n",
    "import recordlinkage \n",
    "\n",
    "# Import the course datasets\n",
    "ride_sharing = pd.read_csv('ride_sharing_new.csv', index_col = 'Unnamed: 0')\n",
    "airlines = pd.read_csv('airlines_final.csv',  index_col = 'Unnamed: 0')\n",
    "banking = pd.read_csv('banking_dirty.csv', index_col = 'Unnamed: 0')\n",
    "restaurants = pd.read_csv('restaurants_L2.csv', index_col = 'Unnamed: 0')\n",
    "restaurants_new = pd.read_csv('restaurants_L2_dirty.csv', index_col = 'Unnamed: 0')"
   ]
  },
  {
   "cell_type": "markdown",
   "metadata": {},
   "source": [
    "## Common data problems\n",
    "\n",
    "* data type constraints `.dtypes` `.info()`\n",
    "    * `.astype()`\n",
    "* string to integer - `.str.strip()`\n",
    "* `assert condition` returns nothing if condition is met, error if it isn't\n",
    "* `.describe()` for category"
   ]
  },
  {
   "cell_type": "code",
   "execution_count": 3,
   "metadata": {},
   "outputs": [
    {
     "name": "stdout",
     "output_type": "stream",
     "text": [
      "<class 'pandas.core.frame.DataFrame'>\n",
      "Index: 25760 entries, 0 to 25759\n",
      "Data columns (total 9 columns):\n",
      " #   Column           Non-Null Count  Dtype \n",
      "---  ------           --------------  ----- \n",
      " 0   duration         25760 non-null  object\n",
      " 1   station_A_id     25760 non-null  int64 \n",
      " 2   station_A_name   25760 non-null  object\n",
      " 3   station_B_id     25760 non-null  int64 \n",
      " 4   station_B_name   25760 non-null  object\n",
      " 5   bike_id          25760 non-null  int64 \n",
      " 6   user_type        25760 non-null  int64 \n",
      " 7   user_birth_year  25760 non-null  int64 \n",
      " 8   user_gender      25760 non-null  object\n",
      "dtypes: int64(5), object(4)\n",
      "memory usage: 2.0+ MB\n",
      "None\n",
      "count    25760.000000\n",
      "mean         2.008385\n",
      "std          0.704541\n",
      "min          1.000000\n",
      "25%          2.000000\n",
      "50%          2.000000\n",
      "75%          3.000000\n",
      "max          3.000000\n",
      "Name: user_type, dtype: float64\n",
      "count     25760\n",
      "unique        3\n",
      "top           2\n",
      "freq      12972\n",
      "Name: user_type_cat, dtype: int64\n"
     ]
    }
   ],
   "source": [
    "# Print the information of ride_sharing\n",
    "print(ride_sharing.info())\n",
    "\n",
    "# Print summary statistics of user_type column\n",
    "print(ride_sharing['user_type'].describe())\n",
    "\n",
    "# Convert user_type from integer to category\n",
    "ride_sharing['user_type_cat'] = ride_sharing['user_type'].astype('category')\n",
    "\n",
    "# Write an assert statement confirming the change\n",
    "assert ride_sharing['user_type_cat'].dtype == 'category'\n",
    "\n",
    "# Print new summary statistics \n",
    "print(ride_sharing['user_type_cat'].describe())"
   ]
  },
  {
   "cell_type": "code",
   "execution_count": 4,
   "metadata": {},
   "outputs": [
    {
     "name": "stdout",
     "output_type": "stream",
     "text": [
      "         duration duration_trim  duration_time\n",
      "0      12 minutes           12              12\n",
      "1      24 minutes           24              24\n",
      "2       8 minutes            8               8\n",
      "3       4 minutes            4               4\n",
      "4      11 minutes           11              11\n",
      "...           ...           ...            ...\n",
      "25755  11 minutes           11              11\n",
      "25756  10 minutes           10              10\n",
      "25757  14 minutes           14              14\n",
      "25758  14 minutes           14              14\n",
      "25759  29 minutes           29              29\n",
      "\n",
      "[25760 rows x 3 columns]\n",
      "11.389052795031056\n"
     ]
    }
   ],
   "source": [
    "# Strip duration of minutes\n",
    "ride_sharing['duration_trim'] = ride_sharing['duration'].str.strip('minutes')\n",
    "\n",
    "# Convert duration to integer\n",
    "ride_sharing['duration_time'] = ride_sharing['duration_trim'].astype(int)\n",
    "\n",
    "# Write an assert statement making sure of conversion\n",
    "assert ride_sharing['duration_time'].dtype == 'int'\n",
    "\n",
    "# Print formed columns and calculate average ride duration \n",
    "print(ride_sharing[['duration','duration_trim','duration_time']])\n",
    "print(ride_sharing['duration_time'].mean())"
   ]
  },
  {
   "cell_type": "markdown",
   "metadata": {},
   "source": [
    "### range\n",
    "\n",
    "* values out of range\n",
    "* future date (greater than `.date.today()`)\n",
    "\n",
    "**options**\n",
    "* drop data (only if small amount)\n",
    "* custom mins and maxs\n",
    "* treat as missing and impute\n",
    "* set custom valeu depending on business assumption (default)\n",
    "\n",
    "**dropping**\n",
    "* filter df = df[df['col'] > value]\n",
    "* drop df.drop(df[df['col'] > value].index, inplace = True)\n",
    "\n",
    "**hard limit**\n",
    "df.loc[df['col'] > value, 'col'] = limit\n",
    "\n",
    "**dates**\n",
    "```python\n",
    "# convert to date\n",
    "df['datecol'] = pd.to_datetime(df['datecol']).dt.date\n",
    "today_date = dt.date.today()\n",
    "\n",
    "# drop values with filtering\n",
    "df = df[df['datecol'] < today_date]\n",
    "# drop using .drop()\n",
    "df.drop(df[df['datecol'] > today_date].index, inplace = True)\n",
    "\n",
    "# replace\n",
    "df.loc[df['datecol'] > today_date, 'datecol'] = today_date\n",
    "# assert \n",
    "assert df.datecol.max().date() <= today_date\n",
    "\n",
    "```"
   ]
  },
  {
   "cell_type": "code",
   "execution_count": null,
   "metadata": {},
   "outputs": [],
   "source": [
    "# Convert tire_sizes to integer\n",
    "ride_sharing['tire_sizes'] = ride_sharing['tire_sizes'].astype('int')\n",
    "\n",
    "# Set all values above 27 to 27\n",
    "ride_sharing.loc[ride_sharing['tire_sizes'] > 27, 'tire_sizes'] = 27\n",
    "\n",
    "# Reconvert tire_sizes back to categorical\n",
    "ride_sharing['tire_sizes'] = ride_sharing['tire_sizes'].astype('category')\n",
    "\n",
    "# Print tire size description\n",
    "print(ride_sharing['tire_sizes'].describe())"
   ]
  },
  {
   "cell_type": "code",
   "execution_count": null,
   "metadata": {},
   "outputs": [],
   "source": [
    "# Convert ride_date to date\n",
    "ride_sharing['ride_dt'] = pd.to_datetime(ride_sharing['ride_date']).dt.date\n",
    "\n",
    "# Save today's date\n",
    "today = dt.date.today()\n",
    "\n",
    "# Set all in the future to today's date\n",
    "ride_sharing.loc[ride_sharing['ride_dt'] > today, 'ride_dt'] = today\n",
    "\n",
    "# Print maximum of ride_dt column\n",
    "print(ride_sharing['ride_dt'].max())"
   ]
  },
  {
   "cell_type": "markdown",
   "metadata": {},
   "source": [
    "### uniqueness, duplicate values\n",
    "\n",
    "* `.duplicated()`\n",
    "    * `subset` list of column names to check for duplication\n",
    "    * `keep` whether to keep **first** (`first`), **last** (`last`), or **all** (`False`) duplicate values\n",
    "\n",
    "column_names = ['first_name', 'last_name', 'address']\n",
    "duplicates = height_weight.duplicated[subset = column_names, keep = False]\n",
    "\n",
    "height_weight[duplicates].sort_values(by = 'first_name')\n",
    "\n",
    "* may result in `complete` or `incomplete` dupicates:\n",
    "\n",
    "* `.drop_duplicates()` with `subset` and `keep` and `inplace`\n",
    "\n",
    "height_weight.drop_duplicates(inplace = True) # first is default\n",
    "\n",
    "\n",
    "* can combine duplicated rows using statistical measures and .agg()\n",
    "\n",
    "```python\n",
    "\n",
    "column_names = ['first_name', 'last_name', 'address']\n",
    "summaries = {'height': 'max', 'weight': 'mean'}\n",
    "height_weight = height_weight.groupby(by = column_names).agg(summaries).reset_index()\n",
    "```\n"
   ]
  },
  {
   "cell_type": "code",
   "execution_count": null,
   "metadata": {},
   "outputs": [],
   "source": [
    "# Find duplicates\n",
    "duplicates = ride_sharing.duplicated(subset = ['ride_id'], keep=False)\n",
    "\n",
    "# Sort your duplicated rides\n",
    "duplicated_rides = ride_sharing[duplicates].sort_values('ride_id')\n",
    "\n",
    "# Print relevant columns of duplicated_rides\n",
    "print(duplicated_rides[['ride_id','duration','user_birth_year']])"
   ]
  },
  {
   "cell_type": "code",
   "execution_count": null,
   "metadata": {},
   "outputs": [],
   "source": [
    "# Drop complete duplicates from ride_sharing\n",
    "ride_dup = ride_sharing.drop_duplicates()\n",
    "\n",
    "# Create statistics dictionary for aggregation function\n",
    "statistics = {'user_birth_year': 'min', 'duration': 'mean'}\n",
    "\n",
    "# Group by ride_id and compute new statistics\n",
    "ride_unique = ride_dup.groupby(by ='ride_id').agg(statistics).reset_index()\n",
    "\n",
    "# Find duplicated values again\n",
    "duplicates = ride_unique.duplicated(subset = 'ride_id', keep = False)\n",
    "duplicated_rides = ride_unique[duplicates == True]\n",
    "\n",
    "# Assert duplicates are processed\n",
    "assert duplicated_rides.shape[0] == 0"
   ]
  },
  {
   "cell_type": "markdown",
   "metadata": {},
   "source": [
    "## Text and categorical data problems\n",
    "\n",
    "### membership constraints\n",
    "\n",
    "* categories - predefined, limited \n",
    "* treat issues: \n",
    "  * drop data\n",
    "  * remap categories\n",
    "  * infer categories\n",
    "\n",
    "example:\n",
    "\n",
    "study_data = blood types\n",
    "categories = acceptable types\n",
    "\n",
    "joins: \n",
    "* anti joins - what is in A and not in B\n",
    "* inner join - what is in both A and B\n",
    "\n",
    "* inconsistent categories:\n",
    "* `inconsisten_categories = set(study_data['blood_type']).difference(categories['blood_type'])`\n",
    "* `inconsistent_rows = study_data['blood_type'].isin(inconsistent_categories)`\n",
    "* `study_data[inconsistent_rows]`\n",
    "* `consistent_data = study_data[~inconsistent_rows]`"
   ]
  },
  {
   "cell_type": "code",
   "execution_count": 9,
   "metadata": {},
   "outputs": [
    {
     "name": "stdout",
     "output_type": "stream",
     "text": [
      "      cleanliness           safety          satisfaction\n",
      "0           Clean          Neutral        Very satisfied\n",
      "1         Average        Very safe               Neutral\n",
      "2  Somewhat clean    Somewhat safe    Somewhat satsified\n",
      "3  Somewhat dirty      Very unsafe  Somewhat unsatisfied\n",
      "4           Dirty  Somewhat unsafe      Very unsatisfied\n",
      "Cleanliness:  ['Clean' 'Average' 'Somewhat clean' 'Somewhat dirty' 'Dirty'] \n",
      "\n",
      "Safety:  ['Neutral' 'Very safe' 'Somewhat safe' 'Very unsafe' 'Somewhat unsafe'] \n",
      "\n",
      "Satisfaction:  ['Very satisfied' 'Neutral' 'Somewhat satsified' 'Somewhat unsatisfied'\n",
      " 'Very unsatisfied'] \n",
      "\n"
     ]
    }
   ],
   "source": [
    "# save unique values of airlines columns cleanliness, safety, satisfaction to df\n",
    "cleanliness = airlines['cleanliness'].unique()\n",
    "safety = airlines['safety'].unique()\n",
    "satisfaction = airlines['satisfaction'].unique()\n",
    "categories = pd.DataFrame({'cleanliness': cleanliness, 'safety': safety, 'satisfaction': satisfaction})\n",
    "print(categories)\n",
    "\n",
    "\n",
    "# Print unique values of survey columns in airlines\n",
    "print('Cleanliness: ', airlines['cleanliness'].unique(), \"\\n\")\n",
    "print('Safety: ', airlines['safety'].unique(), \"\\n\")\n",
    "print('Satisfaction: ', airlines['satisfaction'].unique(), \"\\n\")\n",
    "\n"
   ]
  },
  {
   "cell_type": "code",
   "execution_count": 11,
   "metadata": {},
   "outputs": [
    {
     "name": "stdout",
     "output_type": "stream",
     "text": [
      "Empty DataFrame\n",
      "Columns: [id, day, airline, destination, dest_region, dest_size, boarding_area, dept_time, wait_min, cleanliness, safety, satisfaction]\n",
      "Index: []\n",
      "        id        day        airline        destination    dest_region  \\\n",
      "0     1351    Tuesday    UNITED INTL             KANSAI           Asia   \n",
      "1      373     Friday         ALASKA  SAN JOSE DEL CABO  Canada/Mexico   \n",
      "2     2820   Thursday          DELTA        LOS ANGELES        West US   \n",
      "3     1157    Tuesday      SOUTHWEST        LOS ANGELES        West US   \n",
      "4     2992  Wednesday       AMERICAN              MIAMI        East US   \n",
      "...    ...        ...            ...                ...            ...   \n",
      "2804  1475    Tuesday         ALASKA       NEW YORK-JFK        East US   \n",
      "2805  2222   Thursday      SOUTHWEST            PHOENIX        West US   \n",
      "2806  2684     Friday         UNITED            ORLANDO        East US   \n",
      "2807  2549    Tuesday        JETBLUE         LONG BEACH        West US   \n",
      "2808  2162   Saturday  CHINA EASTERN            QINGDAO           Asia   \n",
      "\n",
      "     dest_size boarding_area   dept_time  wait_min     cleanliness  \\\n",
      "0          Hub  Gates 91-102  2018-12-31     115.0           Clean   \n",
      "1        Small   Gates 50-59  2018-12-31     135.0           Clean   \n",
      "2          Hub   Gates 40-48  2018-12-31      70.0         Average   \n",
      "3          Hub   Gates 20-39  2018-12-31     190.0           Clean   \n",
      "4          Hub   Gates 50-59  2018-12-31     559.0  Somewhat clean   \n",
      "...        ...           ...         ...       ...             ...   \n",
      "2804       Hub   Gates 50-59  2018-12-31     280.0  Somewhat clean   \n",
      "2805       Hub   Gates 20-39  2018-12-31     165.0           Clean   \n",
      "2806       Hub   Gates 70-90  2018-12-31      92.0           Clean   \n",
      "2807     Small    Gates 1-12  2018-12-31      95.0           Clean   \n",
      "2808     Large    Gates 1-12  2018-12-31     220.0           Clean   \n",
      "\n",
      "             safety        satisfaction  \n",
      "0           Neutral      Very satisfied  \n",
      "1         Very safe      Very satisfied  \n",
      "2     Somewhat safe             Neutral  \n",
      "3         Very safe  Somewhat satsified  \n",
      "4         Very safe  Somewhat satsified  \n",
      "...             ...                 ...  \n",
      "2804        Neutral  Somewhat satsified  \n",
      "2805      Very safe      Very satisfied  \n",
      "2806      Very safe      Very satisfied  \n",
      "2807  Somewhat safe      Very satisfied  \n",
      "2808      Very safe  Somewhat satsified  \n",
      "\n",
      "[2477 rows x 12 columns]\n"
     ]
    }
   ],
   "source": [
    "# Find the cleanliness category in airlines not in categories\n",
    "cat_clean = set(airlines['cleanliness']).difference(categories['cleanliness'])\n",
    "\n",
    "# Find rows with that category\n",
    "cat_clean_rows = airlines['cleanliness'].isin(cat_clean)\n",
    "\n",
    "# Print rows with inconsistent category\n",
    "print(airlines[cat_clean_rows])\n",
    "\n",
    "# Print rows with consistent categories only\n",
    "print(airlines[~cat_clean_rows])"
   ]
  },
  {
   "cell_type": "markdown",
   "metadata": {},
   "source": [
    "### possible errors\n",
    "\n",
    "1. value inconsistency e.g. `married`, `Married`, `Maried`, `not married`, `UNMARRIED`\n",
    "2. trailing spaces e.g. `married ` ` married`\n",
    "3. collapsing too many categories to few\n",
    "   * creating new gropus `0-20k`, `20-40k`\n",
    "   * mapping groups to new ones - household income categories to `rich` and `poor`\n",
    "4. data is of type `category`"
   ]
  },
  {
   "cell_type": "markdown",
   "metadata": {},
   "source": [
    "**value inconsisency**\n",
    "\n",
    "* capitalisation\n",
    "  * `df['col'] = df['col'].str.upper()` or lower()\n",
    "* leading or trailing spaces\n",
    "  * `df = df['col'].str.strip()`\n",
    "* creating categories\n",
    "\n",
    "\n",
    "```python \n",
    "\n",
    "# option 1 - not correct\n",
    "group_names = ['0-200k', '200k-500k', '500k']\n",
    "demographics['income_group'] = pd.qcut(demographics['household_income'], q = 3, labels = group_names)\n",
    "\n",
    "print(demographics[['income_group', 'household_income']])\n",
    "\n",
    "# option 2 - much more correct\n",
    "ranges = [0, 200000, 500000, np.inf]\n",
    "group_names = ['0-200k', '200k-500k', '500k+']\n",
    "demographics['income_group'] = pd.cut(demographics['household_income'], bins = ranges, labels = group_names)\n",
    "\n",
    "print(demographics[['income_group', 'household_income']])\n",
    "\n",
    "```\n",
    "\n",
    "* collapsing categories\n",
    "\n",
    "```python\n",
    "mapping = {'Microsoft': 'DesktopOS', 'MacOS': 'DesktopOS', 'Linux': 'DesktopOS', 'IOS':'MobileOS', 'Android':'MobileOS'}\n",
    "devices['operating_system']  = devices['operating_system'].replace(mapping)\n",
    "devices['operating_system'].unique() \n",
    "```"
   ]
  },
  {
   "cell_type": "code",
   "execution_count": 15,
   "metadata": {},
   "outputs": [
    {
     "name": "stdout",
     "output_type": "stream",
     "text": [
      "['asia' 'canada/mexico' 'west us' 'east us' 'midwest us' 'middle east'\n",
      " 'europe' 'central/south america' 'australia/new zealand']\n",
      "['Hub' 'Small' 'Medium' 'Large']\n",
      "['asia' 'canada/mexico' 'west us' 'east us' 'midwest us' 'middle east'\n",
      " 'europe' 'central/south america' 'australia/new zealand']\n",
      "['Hub' 'Small' 'Medium' 'Large']\n"
     ]
    }
   ],
   "source": [
    "# Print unique values of both columns\n",
    "print(airlines['dest_region'].unique())\n",
    "print(airlines['dest_size'].unique())\n",
    "\n",
    "# Lower dest_region column and then replace \"eur\" with \"europe\"\n",
    "airlines['dest_region'] = airlines['dest_region'].str.lower()\n",
    "airlines['dest_region'] = airlines['dest_region'].replace({'eur':'europe'})\n",
    "\n",
    "# Remove white spaces from `dest_size`\n",
    "airlines['dest_size'] = airlines['dest_size'].str.strip()\n",
    "\n",
    "# Verify changes have been effected\n",
    "print(airlines['dest_region'].unique())\n",
    "print(airlines['dest_size'].unique())\n",
    "\n",
    "# Create ranges for categories\n",
    "label_ranges = [0, 60, 180, np.inf]\n",
    "label_names = ['short', 'medium', 'long']\n",
    "\n",
    "# Create wait_type column\n",
    "airlines['wait_type'] = pd.cut(airlines['wait_min'], bins = label_ranges, \n",
    "                                labels = label_names)\n",
    "\n",
    "# Create mappings and replace\n",
    "mappings = {'Monday':'weekday', 'Tuesday':'weekday', 'Wednesday': 'weekday', \n",
    "            'Thursday': 'weekday', 'Friday': 'weekday', \n",
    "            'Saturday': 'weekend', 'Sunday': 'weekend'}\n",
    "\n",
    "airlines['day_week'] = airlines['day'].replace(mappings)"
   ]
  },
  {
   "cell_type": "markdown",
   "metadata": {},
   "source": [
    "### regex and text\n",
    "\n",
    "```python\n",
    "# replace phone numbers with lower than 10 digits to NaN\n",
    "digits = phones['Phone number'].str.len()\n",
    "phones.loc[digits <10, 'Phone number'] = np.nan\n",
    "\n",
    "sanity_check = phone['Phone number'].str.len()\n",
    "assert sanity_check.min() >= 10\n",
    "assert phone['Phone number'].str.contains('+|-').any() == False\n",
    "```\n",
    "\n",
    "\n",
    "* regex for more complicated\n",
    "\n",
    "```python\n",
    "\n",
    "#replace letters with nothing\n",
    "phones['Phone number'] = phones['Phone numer'].str.replace(r'\\D+', '')\n",
    "phones.head()\n",
    "\n",
    "```\n"
   ]
  },
  {
   "cell_type": "code",
   "execution_count": null,
   "metadata": {},
   "outputs": [],
   "source": [
    "# Replace \"Dr.\" with empty string \"\"\n",
    "airlines['full_name'] = airlines['full_name'].str.replace(\"Dr.\",\"\")\n",
    "\n",
    "# Replace \"Mr.\" with empty string \"\"\n",
    "airlines['full_name'] = airlines['full_name'].str.replace(\"Mr.\",\"\")\n",
    "\n",
    "# Replace \"Miss\" with empty string \"\"\n",
    "airlines['full_name'] = airlines['full_name'].str.replace(\"Miss\",\"\")\n",
    "\n",
    "# Replace \"Ms.\" with empty string \"\"\n",
    "airlines['full_name'] = airlines['full_name'].str.replace(\"Ms.\",\"\")\n",
    "\n",
    "# Assert that full_name has no honorifics\n",
    "assert airlines['full_name'].str.contains('Ms.|Mr.|Miss|Dr.').any() == False"
   ]
  },
  {
   "cell_type": "code",
   "execution_count": null,
   "metadata": {},
   "outputs": [],
   "source": [
    "# Store length of each row in survey_response column\n",
    "resp_length = airlines['survey_response'].str.len()\n",
    "\n",
    "# Find rows in airlines where resp_length > 40\n",
    "airlines_survey = airlines[resp_length > 40]\n",
    "\n",
    "# Assert minimum survey_response length is > 40\n",
    "assert airlines_survey['survey_response'].str.len().min() > 40\n",
    "\n",
    "# Print new survey_response column\n",
    "print(airlines_survey['survey_response'])"
   ]
  },
  {
   "cell_type": "markdown",
   "metadata": {},
   "source": [
    "## Advanced Data Problems\n",
    "\n"
   ]
  },
  {
   "cell_type": "markdown",
   "metadata": {},
   "source": [
    "### uniformity\n",
    "\n",
    "* making sure same units are used\n",
    "  * visual inspection e.g. `plt.scatter(x = x, y = y, data = df)`\n",
    "* dates in different formats\n",
    "  * `pandas.to_datetime(df['datecol'], infer_datetime_format = True, errors = 'coerce')` # attempt to infer format of each date, return NA where conversion fails\n",
    "  * `df['datecol'].dt.strftime(\"%d-%m-%Y)`"
   ]
  },
  {
   "cell_type": "code",
   "execution_count": 2,
   "metadata": {},
   "outputs": [
    {
     "name": "stdout",
     "output_type": "stream",
     "text": [
      "<class 'pandas.core.frame.DataFrame'>\n",
      "Index: 100 entries, 0 to 99\n",
      "Data columns (total 11 columns):\n",
      " #   Column            Non-Null Count  Dtype  \n",
      "---  ------            --------------  -----  \n",
      " 0   cust_id           100 non-null    object \n",
      " 1   birth_date        100 non-null    object \n",
      " 2   Age               100 non-null    int64  \n",
      " 3   acct_amount       100 non-null    float64\n",
      " 4   inv_amount        100 non-null    int64  \n",
      " 5   fund_A            100 non-null    float64\n",
      " 6   fund_B            100 non-null    float64\n",
      " 7   fund_C            100 non-null    float64\n",
      " 8   fund_D            100 non-null    float64\n",
      " 9   account_opened    100 non-null    object \n",
      " 10  last_transaction  100 non-null    object \n",
      "dtypes: float64(5), int64(2), object(4)\n",
      "memory usage: 9.4+ KB\n",
      "None\n"
     ]
    }
   ],
   "source": [
    "print(banking.info())"
   ]
  },
  {
   "cell_type": "code",
   "execution_count": null,
   "metadata": {},
   "outputs": [],
   "source": [
    "# Find values of acct_cur that are equal to 'euro'\n",
    "acct_eu = banking['acct_cur'] == 'euro'\n",
    "\n",
    "# Convert acct_amount where it is in euro to dollars\n",
    "banking.loc[acct_eu, 'acct_amount'] = banking.loc[acct_eu, 'acct_amount'] * 1.1\n",
    "\n",
    "# Unify acct_cur column by changing 'euro' values to 'dollar'\n",
    "banking.loc[acct_eu, 'acct_cur'] = 'dollar'\n",
    "\n",
    "# Assert that only dollar currency remains\n",
    "assert banking['acct_cur'].unique() == 'dollar'"
   ]
  },
  {
   "cell_type": "code",
   "execution_count": 6,
   "metadata": {},
   "outputs": [
    {
     "name": "stdout",
     "output_type": "stream",
     "text": [
      "0    02-09-18\n",
      "1    28-02-19\n",
      "2    25-04-18\n",
      "3    07-11-17\n",
      "4    14-05-18\n",
      "Name: account_opened, dtype: object\n"
     ]
    },
    {
     "name": "stderr",
     "output_type": "stream",
     "text": [
      "C:\\Users\\zoona\\AppData\\Local\\Temp\\ipykernel_11728\\3955125932.py:5: UserWarning: Could not infer format, so each element will be parsed individually, falling back to `dateutil`. To ensure parsing is consistent and as-expected, please specify a format.\n",
      "  banking['account_opened_dt'] = pd.to_datetime(banking['account_opened'])\n"
     ]
    }
   ],
   "source": [
    "print(banking['account_opened'].head())\n",
    "\n",
    "# convert to datetime\n",
    "#banking['account_opened_dt'] = banking['account_opened'].dt.strftime('%Y-%m-%d')\n",
    "banking['account_opened_dt'] = pd.to_datetime(banking['account_opened'])"
   ]
  },
  {
   "cell_type": "code",
   "execution_count": 8,
   "metadata": {},
   "outputs": [],
   "source": [
    "# Convert account_opened to datetime\n",
    "banking['account_opened'] = pd.to_datetime(banking['account_opened'], \n",
    "                                           # Specify datetime format\n",
    "                                           format = '%m/%d/%Y',  # adjust this based on your data\n",
    "                                           # Return missing value for error\n",
    "                                           errors = 'coerce') "
   ]
  },
  {
   "cell_type": "code",
   "execution_count": 9,
   "metadata": {},
   "outputs": [
    {
     "name": "stdout",
     "output_type": "stream",
     "text": [
      "0     2018\n",
      "1     2019\n",
      "2     2018\n",
      "3     2017\n",
      "4     2018\n",
      "      ... \n",
      "95    2018\n",
      "96    2017\n",
      "97    2017\n",
      "98    2017\n",
      "99    2017\n",
      "Name: acct_year, Length: 100, dtype: object\n"
     ]
    }
   ],
   "source": [
    "# Get year of account opened\n",
    "banking['acct_year'] = banking['account_opened'].dt.strftime('%Y')\n",
    "\n",
    "# Print acct_year\n",
    "print(banking['acct_year'])"
   ]
  },
  {
   "cell_type": "markdown",
   "metadata": {},
   "source": [
    "### cross field validation\n",
    "\n",
    "* sum columns and match against known/expected totals\n",
    "* match ages against years, etc."
   ]
  },
  {
   "cell_type": "code",
   "execution_count": 10,
   "metadata": {},
   "outputs": [
    {
     "name": "stdout",
     "output_type": "stream",
     "text": [
      "Number of inconsistent investments:  8\n"
     ]
    }
   ],
   "source": [
    "# Store fund columns to sum against\n",
    "fund_columns = ['fund_A', 'fund_B', 'fund_C', 'fund_D']\n",
    "\n",
    "# Find rows where fund_columns row sum == inv_amount\n",
    "inv_equ = banking[fund_columns].sum(axis=1) == banking['inv_amount']\n",
    "\n",
    "# Store consistent and inconsistent data\n",
    "consistent_inv = banking[inv_equ]\n",
    "inconsistent_inv = banking[~inv_equ]\n",
    "\n",
    "# Store consistent and inconsistent data\n",
    "print(\"Number of inconsistent investments: \", inconsistent_inv.shape[0])"
   ]
  },
  {
   "cell_type": "code",
   "execution_count": 13,
   "metadata": {},
   "outputs": [
    {
     "name": "stdout",
     "output_type": "stream",
     "text": [
      "Number of inconsistent ages:  92\n"
     ]
    }
   ],
   "source": [
    "# convert birthdate to datetime\n",
    "banking['birth_date'] = pd.to_datetime(banking['birth_date'])\n",
    "# Store today's date and find ages\n",
    "today = dt.date.today()\n",
    "ages_manual = today.year - banking['birth_date'].dt.year\n",
    "\n",
    "# Find rows where age column == ages_manual\n",
    "age_equ = banking['Age'] == ages_manual\n",
    "\n",
    "# Store consistent and inconsistent data\n",
    "consistent_ages = banking[age_equ]\n",
    "inconsistent_ages = banking[~age_equ]\n",
    "\n",
    "# Store consistent and inconsistent data\n",
    "print(\"Number of inconsistent ages: \", inconsistent_ages.shape[0])"
   ]
  },
  {
   "cell_type": "code",
   "execution_count": 14,
   "metadata": {},
   "outputs": [
    {
     "name": "stdout",
     "output_type": "stream",
     "text": [
      "    cust_id birth_date  Age  acct_amount  inv_amount   fund_A   fund_B  \\\n",
      "0  870A9281 1962-06-09   58     63523.31       51295  30105.0   4138.0   \n",
      "1  166B05B0 1962-12-16   58     38175.46       15050   4995.0    938.0   \n",
      "3  F2158F66 1985-11-03   35     84132.10       23712   3908.0    492.0   \n",
      "4  7A73F334 1990-05-17   30    120512.00       93230  12158.4  51281.0   \n",
      "5  472341F2 1980-02-23   40     83127.65       67960  12686.0  19776.0   \n",
      "\n",
      "    fund_C   fund_D account_opened last_transaction account_opened_dt  \\\n",
      "0   1420.0  15632.0     2018-02-09         22-02-19        2018-02-09   \n",
      "1   6696.0   2421.0     2019-02-28         31-10-18        2019-02-28   \n",
      "3   6482.0  12830.0     2017-07-11         08-11-18        2017-07-11   \n",
      "4  13434.0  18383.0     2018-05-14         19-07-18        2018-05-14   \n",
      "5  23707.0  11791.0     2018-12-14         22-04-18        2018-12-14   \n",
      "\n",
      "  acct_year  \n",
      "0      2018  \n",
      "1      2019  \n",
      "3      2017  \n",
      "4      2018  \n",
      "5      2018  \n"
     ]
    }
   ],
   "source": [
    "print(inconsistent_ages.head())"
   ]
  },
  {
   "cell_type": "markdown",
   "metadata": {},
   "source": [
    "### completeness & missing data\n",
    "\n",
    "* `NA`, `nan`, `0`, ` `\n",
    "* `.isna()`\n",
    "* `.isna().sum()`\n",
    "\n",
    "\n",
    "`missingno` package\n",
    "\n",
    "`msno.matrix(airquality)`\n",
    "`plt.show()`\n",
    "\n",
    "* isolate missing and complete\n",
    "* `missing = airquality[airquality['CO2'].isna()]`\n",
    "* `complete = airquality[~airquality['CO2'].isna()]`\n",
    "* `.describe()` on each df\n",
    "* note that missing values have low temps\n",
    "* `sorted_airquality = airquality.sort_values(by = 'Temperature')`\n",
    "* `msno.matrix(sorted_airquality)`\n",
    "* `plt.show()`\n",
    "\n",
    "#### missingness\n",
    "\n",
    "* **missing completely at random MCAR** - no systematic relationship between missing data and other values (data entry when inputting data)\n",
    "* **missing at random** - systematic relationship between missing data and other _observed_ values (missing ozone data for high temperatures)\n",
    "* **missing not at random** - systematic relationship between missing data and *unobserved* values (missing temperature values of high temperatures)\n",
    "\n",
    "\n",
    "**dealing with missing data**\n",
    "1. drop missing data -> df = df.dropna(subset = ['colwithmissing'])\n",
    "2. impute statistical measure (mean, median, mode, etc.) -> df_impute = df.fillna({'colwithmissing': colmean})\n",
    "3. impute using an algorithmic approach\n",
    "4. impute with machine learning models"
   ]
  },
  {
   "cell_type": "code",
   "execution_count": 16,
   "metadata": {},
   "outputs": [
    {
     "name": "stdout",
     "output_type": "stream",
     "text": [
      "cust_id              0\n",
      "birth_date           0\n",
      "Age                  0\n",
      "acct_amount          0\n",
      "inv_amount           0\n",
      "fund_A               0\n",
      "fund_B               0\n",
      "fund_C               0\n",
      "fund_D               0\n",
      "account_opened       0\n",
      "last_transaction     0\n",
      "account_opened_dt    0\n",
      "acct_year            0\n",
      "dtype: int64\n"
     ]
    },
    {
     "data": {
      "image/png": "[encoded data removed]",
      "text/plain": [
       "<Figure size 2500x1000 with 2 Axes>"
      ]
     },
     "metadata": {},
     "output_type": "display_data"
    }
   ],
   "source": [
    "# Print number of missing values in banking\n",
    "print(banking.isna().sum())\n",
    "\n",
    "# Visualize missingness matrix\n",
    "msno.matrix(banking)\n",
    "plt.show()\n",
    "\n"
   ]
  },
  {
   "cell_type": "code",
   "execution_count": 18,
   "metadata": {},
   "outputs": [
    {
     "name": "stdout",
     "output_type": "stream",
     "text": [
      "      birth_date  Age  acct_amount  inv_amount  fund_A  fund_B  fund_C  \\\n",
      "count          0  0.0          0.0         0.0     0.0     0.0     0.0   \n",
      "mean         NaT  NaN          NaN         NaN     NaN     NaN     NaN   \n",
      "min          NaT  NaN          NaN         NaN     NaN     NaN     NaN   \n",
      "25%          NaT  NaN          NaN         NaN     NaN     NaN     NaN   \n",
      "50%          NaT  NaN          NaN         NaN     NaN     NaN     NaN   \n",
      "75%          NaT  NaN          NaN         NaN     NaN     NaN     NaN   \n",
      "max          NaT  NaN          NaN         NaN     NaN     NaN     NaN   \n",
      "std          NaN  NaN          NaN         NaN     NaN     NaN     NaN   \n",
      "\n",
      "       fund_D account_opened account_opened_dt  \n",
      "count     0.0              0                 0  \n",
      "mean      NaN            NaT               NaT  \n",
      "min       NaN            NaT               NaT  \n",
      "25%       NaN            NaT               NaT  \n",
      "50%       NaN            NaT               NaT  \n",
      "75%       NaN            NaT               NaT  \n",
      "max       NaN            NaT               NaT  \n",
      "std       NaN            NaN               NaN  \n",
      "                birth_date         Age   acct_amount    inv_amount  \\\n",
      "count                  100  100.000000  1.000000e+02    100.000000   \n",
      "mean   1977-08-27 05:16:48   43.170000  3.027560e+06  46006.300000   \n",
      "min    1961-06-03 00:00:00   27.000000  1.220984e+04   3214.000000   \n",
      "25%    1969-10-03 06:00:00   34.000000  5.921813e+04  23524.250000   \n",
      "50%    1975-04-13 12:00:00   45.500000  8.334416e+04  45785.500000   \n",
      "75%    1987-07-31 18:00:00   51.000000  9.509747e+04  66595.750000   \n",
      "max    1993-10-17 00:00:00   63.000000  1.737431e+08  96614.000000   \n",
      "std                    NaN   10.120541  2.104214e+07  26526.791616   \n",
      "\n",
      "             fund_A       fund_B       fund_C       fund_D  \\\n",
      "count    100.000000    100.00000    100.00000    100.00000   \n",
      "mean   11474.067600  11824.45330  11901.84080  10971.52570   \n",
      "min       41.000000    312.00000     67.00000    118.00000   \n",
      "25%     2317.000000   3387.50000   2272.25000   4044.75000   \n",
      "50%     6489.000000   8089.00000   6811.00000   8480.00000   \n",
      "75%    15585.000000  17678.25000  15426.75000  15754.00000   \n",
      "max    58179.000000  51281.00000  75499.00000  51708.00000   \n",
      "std    12432.069917  11081.38577  14084.34211   9487.15002   \n",
      "\n",
      "            account_opened    account_opened_dt  \n",
      "count                  100                  100  \n",
      "mean   2018-04-01 07:55:12  2018-04-01 07:55:12  \n",
      "min    2017-01-08 00:00:00  2017-01-08 00:00:00  \n",
      "25%    2017-10-13 18:00:00  2017-10-13 18:00:00  \n",
      "50%    2018-04-27 12:00:00  2018-04-27 12:00:00  \n",
      "75%    2018-09-11 18:00:00  2018-09-11 18:00:00  \n",
      "max    2019-09-02 00:00:00  2019-09-02 00:00:00  \n",
      "std                    NaN                  NaN  \n"
     ]
    },
    {
     "data": {
      "image/png": "[encoded data removed]",
      "text/plain": [
       "<Figure size 2500x1000 with 2 Axes>"
      ]
     },
     "metadata": {},
     "output_type": "display_data"
    }
   ],
   "source": [
    "# Isolate missing and non missing values of inv_amount\n",
    "missing_investors = banking[banking['inv_amount'].isna()]\n",
    "investors = banking[~banking['inv_amount'].isna()]\n",
    "\n",
    "# describe\n",
    "print(missing_investors.describe())\n",
    "print(investors.describe())\n",
    "\n",
    "# Sort banking by age and visualize\n",
    "banking_sorted = banking.sort_values('Age')\n",
    "msno.matrix(banking_sorted)\n",
    "plt.show()\n"
   ]
  },
  {
   "cell_type": "code",
   "execution_count": 19,
   "metadata": {},
   "outputs": [
    {
     "name": "stdout",
     "output_type": "stream",
     "text": [
      "cust_id              0\n",
      "birth_date           0\n",
      "Age                  0\n",
      "acct_amount          0\n",
      "inv_amount           0\n",
      "fund_A               0\n",
      "fund_B               0\n",
      "fund_C               0\n",
      "fund_D               0\n",
      "account_opened       0\n",
      "last_transaction     0\n",
      "account_opened_dt    0\n",
      "acct_year            0\n",
      "dtype: int64\n"
     ]
    }
   ],
   "source": [
    "# Drop missing values of cust_id\n",
    "banking_fullid = banking.dropna(subset = ['cust_id'])\n",
    "\n",
    "# Compute estimated acct_amount\n",
    "acct_imp = banking_fullid['inv_amount'] * 5\n",
    "\n",
    "# Impute missing acct_amount with corresponding acct_imp\n",
    "banking_imputed = banking_fullid.fillna({'acct_amount':acct_imp})\n",
    "\n",
    "# Print number of missing values\n",
    "print(banking_imputed.isna().sum())"
   ]
  },
  {
   "cell_type": "markdown",
   "metadata": {},
   "source": [
    "## Record linkage\n",
    "\n",
    "* **minimum edit distance** - how close two strings are.\n",
    "  * 'intention' and 'execution'\n",
    "  * first delete I from intention and adding 'C' between 'E' and 'N' -> *ntecntion (distance = 2 so far)\n",
    "  * then substitute N with E, T with X, N with U (minimum edit distance = 5)\n",
    "* minimum edit distance algorithms: \n",
    "  * **damerau-levenshtein** - insertion, subsitution, deletion, transposition\n",
    "  * **levenshtein** - insertion, subsitution, deletion\n",
    "  * **hamming** - substitution only\n",
    "  * **jaro distance** - transposition only\n",
    "\n",
    "Looking at **levenshtein** with package - `thefuzz`\n",
    "\n",
    "```python\n",
    "\n",
    "from thefuzz import fuzz\n",
    "\n",
    "# compare reading and reeding\n",
    "fuzz.WRatio('Reeding', 'Reading')\n",
    "\n",
    "# output is 0-100 where 100 is a perfect match\n",
    "```\n",
    "\n",
    "comparison with arrays: \n",
    "\n",
    "```python\n",
    "\n",
    "# define string and array of possible matches\n",
    "string = 'Houston Rockets vs Los Angeles Lakers'\n",
    "choices = pd.Series(['Rockets vs Lakers', 'lakers vs Rockets', 'Houson vs Los Angeles', 'Heat vs Bulls'])\n",
    "\n",
    "process.extract(string, choices, limit = 2)\n",
    "\n",
    "```\n",
    "\n",
    "* can collapse cateories with string matching: \n",
    "* `survey['state'].unique()` -> many typo states\n",
    "* `categories` -> contains valid/correct states\n",
    "\n",
    "```python\n",
    "\n",
    "# for each correct category\n",
    "for state in categories['state']:\n",
    "    # find potential matches in states with typos\n",
    "    matches = process.extract(state, survey['state'], limit = survey.shape[0])\n",
    "    # for each potential match match\n",
    "    for potential_match in matches:\n",
    "        #if high similarity score\n",
    "        if potential_match[1] >=80:\n",
    "            # replace typo with correct category\n",
    "            survey.loc[survey['state'] == potential_match[0], 'state'] = state\n",
    "\n",
    "```"
   ]
  },
  {
   "cell_type": "code",
   "execution_count": null,
   "metadata": {},
   "outputs": [],
   "source": [
    "#!pip install thefuzz\n",
    "\n",
    "# Import process from thefuzz\n",
    "from thefuzz import process\n",
    "\n",
    "# Store the unique values of cuisine_type in unique_types\n",
    "unique_types = restaurants['cuisine_type'].unique()\n",
    "\n",
    "# Calculate similarity of 'asian' to all values of unique_types\n",
    "print(process.extract('asian', unique_types, limit = len(unique_types)))\n",
    "\n",
    "# Calculate similarity of 'american' to all values of unique_types\n",
    "print(process.extract('american', unique_types, limit = len(unique_types)))\n",
    "\n",
    "# Calculate similarity of 'italian' to all values of unique_types\n",
    "print(process.extract('italian', unique_types, limit = len(unique_types)))"
   ]
  },
  {
   "cell_type": "code",
   "execution_count": null,
   "metadata": {},
   "outputs": [],
   "source": [
    "# Create a list of matches, comparing 'italian' with the cuisine_type column\n",
    "matches = process.extract('italian', restaurants['cuisine_type'], limit = restaurants.shape[0])\n",
    "\n",
    "# Inspect the first 5 matches\n",
    "print(matches[0:5])"
   ]
  },
  {
   "cell_type": "code",
   "execution_count": null,
   "metadata": {},
   "outputs": [],
   "source": [
    "# Create a list of matches, comparing 'italian' with the cuisine_type column\n",
    "matches = process.extract('italian', restaurants['cuisine_type'], limit=len(restaurants.cuisine_type))\n",
    "\n",
    "# Iterate through the list of matches to italian\n",
    "for match in matches:\n",
    "  # Check whether the similarity score is greater than or equal to 80\n",
    "  if match[1] >= 80:\n",
    "    # Select all rows where the cuisine_type is spelled this way, and set them to the correct cuisine\n",
    "    restaurants.loc[restaurants['cuisine_type'] == match[0], 'cuisine_type'] = 'italian'"
   ]
  },
  {
   "cell_type": "code",
   "execution_count": null,
   "metadata": {},
   "outputs": [],
   "source": [
    "# Iterate through categories\n",
    "for cuisine in categories:  \n",
    "  # Create a list of matches, comparing cuisine with the cuisine_type column\n",
    "  matches = process.extract(cuisine, restaurants['cuisine_type'], limit=len(restaurants.cuisine_type))\n",
    "\n",
    "  # Iterate through the list of matches\n",
    "  for match in matches:\n",
    "     # Check whether the similarity score is greater than or equal to 80\n",
    "    if match[1] >= 80:\n",
    "      # If it is, select all rows where the cuisine_type is spelled this way, and set them to the correct cuisine\n",
    "      restaurants.loc[restaurants['cuisine_type'] == match[0]] = cuisine\n",
    "      \n",
    "# Inspect the final result\n",
    "print(restaurants['cuisine_type'].unique())"
   ]
  },
  {
   "cell_type": "markdown",
   "metadata": {},
   "source": [
    "### record linkage \n",
    "\n",
    "* act of linking data from different sources regarding the same entity\n",
    "  * clean two or more dataframes, generate pairs of potentially matching records, score these pairs according to string similarity and link them\n",
    "  * `recordlinkage` package\n",
    "* `blocking` is used when scale of data does not allow to generate every possible pair\n",
    "\n",
    "```python \n",
    "# import recordlinkage\n",
    "import recordlinkage\n",
    "\n",
    "# create indexing object\n",
    "indexer = recordlinkage.Index()\n",
    "\n",
    "#generate pairs blocked on state\n",
    "indexer.block('state')\n",
    "pairs = indexer.index(census_A, census_B)\n",
    "\n",
    "# create compare object\n",
    "compare_cl = recordlinkage.Compare()\n",
    "\n",
    "# find exact matches for pairs of date_of_birth and state\n",
    "compare_cl.exact('date_of_birth', 'date_of_birth', label = 'date_of_birth')\n",
    "compare_cl.exact('state', 'state', label = 'state')\n",
    "\n",
    "# find similar matches for pairs of surname and ddress_1 using string similarity\n",
    "compare_cl.string('surname', 'surname', threshold = 0.85, label = 'surname')\n",
    "compare_cl.string('address_1', 'address_1', threshold = 0.85, label = 'address_1')\n",
    "\n",
    "# find matches\n",
    "potential_matches = compare_cl.compute(pairs, census_A, census_B)\n",
    "\n",
    "# isolate potential matches\n",
    "potential_matches[potential_matches.sum(axis=1) => 2]\n",
    "\n",
    "```"
   ]
  },
  {
   "cell_type": "code",
   "execution_count": null,
   "metadata": {},
   "outputs": [],
   "source": [
    "# Create an indexer and object and find possible pairs\n",
    "indexer = recordlinkage.Index()\n",
    "\n",
    "# Block pairing on cuisine_type\n",
    "indexer.block('cuisine_type')\n",
    "\n",
    "# Generate pairs\n",
    "pairs = indexer.index(restaurants, restaurants_new)\n",
    "\n",
    "# Create a comparison object\n",
    "comp_cl = recordlinkage.Compare()\n",
    "\n",
    "# Find exact matches on city, cuisine_types - \n",
    "comp_cl.exact('city', 'city', label='city')\n",
    "comp_cl.exact('cuisine_type', 'cuisine_type', label='cuisine_type')\n",
    "\n",
    "# Find similar matches of rest_name\n",
    "comp_cl.string('rest_name', 'rest_name', label='name', threshold = 0.8) \n",
    "\n",
    "# Get potential matches and print\n",
    "potential_matches = comp_cl.compute(pairs, restaurants, restaurants_new)\n",
    "print(potential_matches)\n",
    "\n",
    "print(potential_matches[potential_matches.sum(axis = 1) >= n])"
   ]
  },
  {
   "cell_type": "markdown",
   "metadata": {},
   "source": [
    "### linking dataframes\n",
    "\n",
    "after finding matching records:\n",
    "* `matches.index`\n",
    "* `duplicate_rows = matches.index.get_level_values(1)`\n",
    "* `census_B_duplicates = census_B[census_B.index.isin(duplicate_rows)]`\n",
    "* `census_B_new = census_B[~census_B.index.isin(duplicate_rows)]`\n",
    "* `full_census = census_A.append(census_B_new)`"
   ]
  },
  {
   "cell_type": "code",
   "execution_count": null,
   "metadata": {},
   "outputs": [],
   "source": [
    "# Isolate potential matches with row sum >=3\n",
    "matches = potential_matches[potential_matches.sum(axis=1) >= 3]\n",
    "\n",
    "# Get values of second column index of matches\n",
    "matching_indices = matches.index.get_level_values(1)\n",
    "\n",
    "# Subset restaurants_new based on non-duplicate values\n",
    "non_dup = restaurants_new[~restaurants_new.index.isin(matching_indices)]\n",
    "\n",
    "# Append non_dup to restaurants\n",
    "full_restaurants = restaurants.append(non_dup)\n",
    "print(full_restaurants)"
   ]
  }
 ],
 "metadata": {
  "kernelspec": {
   "display_name": "Python 3",
   "language": "python",
   "name": "python3"
  },
  "language_info": {
   "codemirror_mode": {
    "name": "ipython",
    "version": 3
   },
   "file_extension": ".py",
   "mimetype": "text/x-python",
   "name": "python",
   "nbconvert_exporter": "python",
   "pygments_lexer": "ipython3",
   "version": "3.9.18"
  }
 },
 "nbformat": 4,
 "nbformat_minor": 2
}
