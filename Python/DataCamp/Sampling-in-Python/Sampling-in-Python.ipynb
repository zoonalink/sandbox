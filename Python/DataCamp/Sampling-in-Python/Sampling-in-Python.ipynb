{
 "cells": [
  {
   "cell_type": "markdown",
   "metadata": {},
   "source": [
    "# Sampling in Python\n",
    "\n",
    " https://app.datacamp.com/learn/courses/sampling-in-python\n",
    "\n",
    " **Important** - use conda environment datacamp for this notebook\n",
    "\n",
    " In terminal: \n",
    "\n",
    " * list environments: `conda env list` \n",
    " * activate environment: `conda activate your_environment_name`\n",
    " * deactivate environment: `conda deactivate`\n"
   ]
  },
  {
   "cell_type": "markdown",
   "metadata": {},
   "source": [
    "## Intro to sampling\n",
    "\n",
    "* population - complete dataset\n",
    "* sample - subset of data working with\n",
    "\n",
    "`df.sample(n='integer')` - returns a random sample\n",
    "\n",
    "* population parameter = calculation made on the population dataset, e.g. population mean\n",
    "* point estimate or sample statistic - calculation made on the sample dataset"
   ]
  },
  {
   "cell_type": "code",
   "execution_count": 1,
   "metadata": {},
   "outputs": [],
   "source": [
    "# example\n",
    "import pandas as pd\n",
    "import numpy as np\n",
    "import matplotlib.pyplot as plt\n",
    "\n",
    "# read feather file\n",
    "spotify_population = pd.read_feather('spotify_2000_2020.feather')"
   ]
  },
  {
   "cell_type": "code",
   "execution_count": 6,
   "metadata": {},
   "outputs": [
    {
     "name": "stdout",
     "output_type": "stream",
     "text": [
      "       acousticness                     artists  danceability  duration_ms  \\\n",
      "25310       0.38300          ['Los Terricolas']         0.261     245880.0   \n",
      "38454       0.18100   ['The Derek Trucks Band']         0.551     302307.0   \n",
      "29012       0.11800  ['The Head and the Heart']         0.642     196055.0   \n",
      "19898       0.00168               ['Powerwolf']         0.228     270707.0   \n",
      "32858       0.03990               ['BLACKPINK']         0.707     197355.0   \n",
      "...             ...                         ...           ...          ...   \n",
      "4286        0.85100            ['Natalie Cole']         0.307     210907.0   \n",
      "33840       0.74300                    ['Seal']         0.659     324067.0   \n",
      "10998       0.19800         ['Cali Life Style']         0.872     289213.0   \n",
      "39254       0.10600         ['Rain Sounds ACE']         0.000     164452.0   \n",
      "17448       0.26800    ['The Notorious B.I.G.']         0.723     249587.0   \n",
      "\n",
      "       duration_minutes  energy  explicit                      id  \\\n",
      "25310          4.098000   0.429       0.0  75losSBec1tZJmJb4pzURW   \n",
      "38454          5.038450   0.695       0.0  5U51nS2N1TDL1HEHEio7mC   \n",
      "29012          3.267583   0.520       0.0  5CalS8Gn69OOrR9aiw0ZO9   \n",
      "19898          4.511783   0.854       0.0  1BZ6VNjPOcf1ysNMARzirk   \n",
      "32858          3.289250   0.758       0.0  7e7VjLxO5xJINHvnRytrqi   \n",
      "...                 ...     ...       ...                     ...   \n",
      "4286           3.515117   0.289       0.0  2z2k83Vs7W1JtUNm9OOQlv   \n",
      "33840          5.401117   0.407       0.0  3YfiGjwBzBsDrYPqAJsD4z   \n",
      "10998          4.820217   0.552       1.0  7JGvUAXsFRlyie2NIhsSVa   \n",
      "39254          2.740867   0.654       0.0  5aVTpbRU7DM9GfCNydb9MR   \n",
      "17448          4.159783   0.730       0.0  3dbCYM0LJR8tiL0W1XXmpK   \n",
      "\n",
      "       instrumentalness  key  liveness  loudness  mode  \\\n",
      "25310          0.000192  0.0    0.1160    -9.909   1.0   \n",
      "38454          0.000154  0.0    0.1920    -7.111   1.0   \n",
      "29012          0.000512  9.0    0.5520    -7.886   1.0   \n",
      "19898          0.000000  8.0    0.0810    -5.942   0.0   \n",
      "32858          0.000000  4.0    0.1410    -4.511   0.0   \n",
      "...                 ...  ...       ...       ...   ...   \n",
      "4286           0.000126  5.0    0.0798   -13.369   1.0   \n",
      "33840          0.000000  4.0    0.0784    -9.718   0.0   \n",
      "10998          0.000000  0.0    0.1250    -7.246   1.0   \n",
      "39254          1.000000  3.0    0.8590   -14.770   0.0   \n",
      "17448          0.000000  9.0    0.0639    -4.573   0.0   \n",
      "\n",
      "                                          name  popularity release_date  \\\n",
      "25310                          Luto En Mi Alma        59.0   2002-08-20   \n",
      "38454                        Down In the Flood        49.0   2009-01-13   \n",
      "29012                                 Honeybee        71.0   2019-05-17   \n",
      "19898                  Night of the Werewolves        54.0   2011-08-02   \n",
      "32858                        PLAYING WITH FIRE        72.0   2016-11-01   \n",
      "...                                        ...         ...          ...   \n",
      "4286   Unforgettable (Duet with Nat King Cole)        43.0   2000-11-07   \n",
      "33840              Kiss from a Rose - Acoustic        59.0         2004   \n",
      "10998                      Between The Streets        38.0   2004-01-01   \n",
      "39254                         Rain in the Park        64.0   2017-05-05   \n",
      "17448                Big Poppa - 2007 Remaster        42.0   2007-03-05   \n",
      "\n",
      "       speechiness    tempo  valence    year  \n",
      "25310       0.0404   81.126    0.385  2002.0  \n",
      "38454       0.0323  114.136    0.207  2009.0  \n",
      "29012       0.0387  136.014    0.488  2019.0  \n",
      "19898       0.0660  171.404    0.456  2011.0  \n",
      "32858       0.0917   97.037    0.674  2016.0  \n",
      "...            ...      ...      ...     ...  \n",
      "4286        0.0281   85.948    0.145  2000.0  \n",
      "33840       0.0353  119.321    0.269  2004.0  \n",
      "10998       0.2970   83.614    0.779  2004.0  \n",
      "39254       0.0000    0.000    0.000  2017.0  \n",
      "17448       0.2870   84.708    0.764  2007.0  \n",
      "\n",
      "[1000 rows x 20 columns]\n",
      "3.8521519140900073\n",
      "3.783540783333333\n"
     ]
    }
   ],
   "source": [
    "# Sample 1000 rows from spotify_population\n",
    "spotify_sample = spotify_population.sample(n=1000)\n",
    "\n",
    "# Print the sample\n",
    "print(spotify_sample)\n",
    "\n",
    "# Calculate the mean duration in mins from spotify_population\n",
    "mean_dur_pop = spotify_population['duration_minutes'].mean()\n",
    "\n",
    "# Calculate the mean duration in mins from spotify_sample\n",
    "mean_dur_samp = spotify_sample['duration_minutes'].mean()\n",
    "\n",
    "# Print the means\n",
    "print(mean_dur_pop)\n",
    "print(mean_dur_samp)"
   ]
  },
  {
   "cell_type": "code",
   "execution_count": 9,
   "metadata": {},
   "outputs": [
    {
     "name": "stdout",
     "output_type": "stream",
     "text": [
      "-7.366856851353947\n",
      "-7.76254\n"
     ]
    }
   ],
   "source": [
    "# Create a pandas Series from the loudness column of spotify_population\n",
    "loudness_pop = spotify_population['loudness']\n",
    "\n",
    "# Sample 100 values of loudness_pop\n",
    "loudness_samp = loudness_pop.sample(n=100)\n",
    "\n",
    "# Calculate the mean of loudness_pop\n",
    "mean_loudness_pop = np.mean(loudness_pop)\n",
    "\n",
    "# Calculate the mean of loudness_samp\n",
    "mean_loudness_samp = np.mean(loudness_samp)\n",
    "\n",
    "print(mean_loudness_pop)\n",
    "print(mean_loudness_samp)"
   ]
  },
  {
   "cell_type": "markdown",
   "metadata": {},
   "source": [
    "### convenience sampling\n",
    "\n",
    "* convenience sampling - getting data by the easiest method, may introduce bias\n",
    "  * e.g. Literary Digest - Landon and Roosevelt\n",
    "\n",
    "* visualising selection bias with `.hist(bins=np.arange(low, high, width))`"
   ]
  },
  {
   "cell_type": "code",
   "execution_count": 14,
   "metadata": {},
   "outputs": [
    {
     "data": {
      "image/png": "[encoded data removed]",
      "text/plain": [
       "<Figure size 640x480 with 1 Axes>"
      ]
     },
     "metadata": {},
     "output_type": "display_data"
    }
   ],
   "source": [
    "# example\n",
    "# Visualize the distribution of acousticness with a histogram\n",
    "spotify_population['acousticness'].hist(bins=np.arange(0, 1.01, 0.01)) # stop value is exclusive\n",
    "plt.show()\n",
    "\n"
   ]
  },
  {
   "cell_type": "code",
   "execution_count": 15,
   "metadata": {},
   "outputs": [
    {
     "data": {
      "image/png": "[encoded data removed]",
      "text/plain": [
       "<Figure size 640x480 with 1 Axes>"
      ]
     },
     "metadata": {},
     "output_type": "display_data"
    }
   ],
   "source": [
    "# Visualize the distribution of duration_minutes as a histogram\n",
    "spotify_population['duration_minutes'].hist(bins=np.arange(0, 15.5, 0.5))\n",
    "plt.show()"
   ]
  },
  {
   "cell_type": "markdown",
   "metadata": {},
   "source": [
    "### (pseudo) random number generator\n",
    "\n",
    "* pseudo-random number generation is fast and cheap\n",
    "* next 'random' number calculated from previous 'random' number\n",
    "* first 'random' number calculated from 'seed'\n",
    "* using seed means all future values will be the same\n",
    "\n",
    "`numpy` has many functions for generating random numbers, `numpy.random` such as `numpy.random.beta()`:\n",
    "* .beta\n",
    "* .binomial\n",
    "* .chisquare\n",
    "* .exponential\n",
    "* .f\n",
    "* .gamma\n",
    "* .geometric\n",
    "* .hypergeometric\n",
    "* .lognormal\n",
    "* .negative_binomial\n",
    "* .normal\n",
    "* .poisson\n",
    "* .standard_t\n",
    "* .uniform"
   ]
  },
  {
   "cell_type": "code",
   "execution_count": null,
   "metadata": {},
   "outputs": [],
   "source": [
    "# example\n",
    "\n",
    "# Generate random numbers from a Uniform(-3, 3)\n",
    "uniforms = np.random.uniform(low=-3, high=3, size=5000)\n",
    "\n",
    "# Print uniforms\n",
    "print(uniforms)\n",
    "\n",
    "# Generate random numbers from a Normal(5, 2)\n",
    "normals = np.random.normal(loc=5, scale=2, size=5000)\n",
    "\n",
    "# Print normals\n",
    "print(normals)"
   ]
  },
  {
   "cell_type": "code",
   "execution_count": 16,
   "metadata": {},
   "outputs": [
    {
     "data": {
      "image/png": "[encoded data removed]",
      "text/plain": [
       "<Figure size 640x480 with 1 Axes>"
      ]
     },
     "metadata": {},
     "output_type": "display_data"
    }
   ],
   "source": [
    "# Generate random numbers from a Uniform(-3, 3)\n",
    "uniforms = np.random.uniform(low=-3, high=3, size=5000)\n",
    "\n",
    "# Plot a histogram of uniform values, binwidth 0.25\n",
    "plt.hist(uniforms, bins=np.arange(-3,3.25, 0.25))\n",
    "plt.show()"
   ]
  },
  {
   "cell_type": "code",
   "execution_count": 17,
   "metadata": {},
   "outputs": [
    {
     "data": {
      "image/png": "[encoded data removed]",
      "text/plain": [
       "<Figure size 640x480 with 1 Axes>"
      ]
     },
     "metadata": {},
     "output_type": "display_data"
    }
   ],
   "source": [
    "# Generate random numbers from a Normal(5, 2)\n",
    "normals = np.random.normal(loc=5, scale=2, size=5000)\n",
    "\n",
    "# Plot a histogram of normal values, binwidth 0.5\n",
    "plt.hist(normals, bins=np.arange(-2, 13.5, 0.5))\n",
    "plt.show()"
   ]
  },
  {
   "cell_type": "markdown",
   "metadata": {},
   "source": [
    "## Sampling Methods\n",
    "\n",
    "https://campus.datacamp.com/courses/sampling-in-python/sampling-methods?ex=1"
   ]
  },
  {
   "cell_type": "markdown",
   "metadata": {},
   "source": [
    "### simple and systmeatic random sampling\n",
    "\n",
    "* simple random sampling - `df.sample(n=int, random_state=seed_int)`\n",
    "* systematic random sampling - samples at random intervals (in a pattern):\n",
    "\n",
    "* `sample_size = int`\n",
    "* `pop_size = len(df)`\n",
    "* `interval = pop_size // sample_size` # // for integer division\n",
    "* `df.iloc[::interval]` # selects every value by interval\n",
    "\n",
    "* problem with systematic sampling if there is a pattern, for example where ealier samples have higher value than later rows - introduces bias\n",
    "  * only use if the plot (scatter) looks like noise\n",
    "* can shuffle the rows beforehand to remove pattern beforehand\n",
    "* `shuffled = df.sample(frac=1)` # effectively randomly shuffles rows\n",
    "* `shuffled = shuffled.reset_index(drop=True).reset_index()` # drop True to clear previous row indexes, chaining additional reset_index creates column with new indexes\n",
    "* "
   ]
  },
  {
   "cell_type": "code",
   "execution_count": 2,
   "metadata": {},
   "outputs": [],
   "source": [
    "# example\n",
    "\n",
    "# import attrition feather file data\n",
    "attrition_pop = pd.read_feather('attrition.feather')"
   ]
  },
  {
   "cell_type": "code",
   "execution_count": null,
   "metadata": {},
   "outputs": [],
   "source": [
    "# Sample 70 rows using simple random sampling and set the seed\n",
    "attrition_samp = attrition_pop.sample(n=70, random_state=18900217)\n",
    "\n",
    "# Print the sample\n",
    "print(attrition_samp)"
   ]
  },
  {
   "cell_type": "code",
   "execution_count": 4,
   "metadata": {},
   "outputs": [],
   "source": [
    "# Set the sample size to 70\n",
    "sample_size = 70\n",
    "\n",
    "# Calculate the population size from attrition_pop\n",
    "pop_size = len(attrition_pop)\n",
    "\n",
    "# Calculate the interval\n",
    "interval = pop_size // sample_size\n",
    "\n",
    "# Systematically sample 70 rows\n",
    "attrition_sys_samp = attrition_pop.iloc[::interval]\n",
    "\n",
    "# Print the sample\n",
    "#print(attrition_sys_samp)"
   ]
  },
  {
   "cell_type": "code",
   "execution_count": 6,
   "metadata": {},
   "outputs": [
    {
     "data": {
      "image/png": "[encoded data removed]",
      "text/plain": [
       "<Figure size 640x480 with 1 Axes>"
      ]
     },
     "metadata": {},
     "output_type": "display_data"
    }
   ],
   "source": [
    "# Add an index column to attrition_pop\n",
    "attrition_pop_id = attrition_pop.reset_index()\n",
    "\n",
    "# Plot YearsAtCompany vs. index for attrition_pop_id\n",
    "attrition_pop_id.plot(kind='scatter', y = 'YearsAtCompany', x = 'index')\n",
    "plt.show()"
   ]
  },
  {
   "cell_type": "code",
   "execution_count": 7,
   "metadata": {},
   "outputs": [
    {
     "data": {
      "image/png": "[encoded data removed]",
      "text/plain": [
       "<Figure size 640x480 with 1 Axes>"
      ]
     },
     "metadata": {},
     "output_type": "display_data"
    }
   ],
   "source": [
    "# Shuffle the rows of attrition_pop\n",
    "attrition_shuffled = attrition_pop.sample(frac=1)\n",
    "\n",
    "# Reset the row indexes and create an index column\n",
    "attrition_shuffled = attrition_shuffled.reset_index(drop=True).reset_index()\n",
    "\n",
    "# Plot YearsAtCompany vs. index for attrition_shuffled\n",
    "attrition_shuffled.plot(kind='scatter', x='index', y='YearsAtCompany')\n",
    "plt.show()"
   ]
  },
  {
   "cell_type": "markdown",
   "metadata": {},
   "source": [
    "### stratified and weighted random sampling\n",
    "\n",
    "* stratified sampling - allows sampling a population containing subgroups\n",
    "\n",
    "* normal sampling: \n",
    "* `df.sample(frac=0.1, random_state=2021)` # 10% sample\n",
    "* `df['col'].value_counts(normalize=True)` # show proportions\n",
    "* by chance, the proportions may not match the true population proportions \n",
    "* can group by the variable first - **proportional stratified sampling**\n",
    "\n",
    "* `df_strat = df.groupby('col_group').sample(frac=0.1, random_state=2021)` # groupby first to sample with proportions\n",
    "* `df_strat = df.groupby('col_group').sample(n=15, random_state=2021)` # equal counts stratified sampling\n",
    "  \n",
    "* **weighted random sampling:** - to correct for under/over represented groups\n",
    "  * `df_weight = df`\n",
    "  * `condition = df_weight['col'] == \"of_interest\"`\n",
    "  * `df_weight['weight'] = np.where(condition, 2, 1)` # weighting rows where condition met as 2 and 1 for where condition not matched\n",
    "  * ``df_weight = df_weight.sample(frac=0.1, weights = \"weight\")`\n"
   ]
  },
  {
   "cell_type": "code",
   "execution_count": 17,
   "metadata": {},
   "outputs": [
    {
     "name": "stdout",
     "output_type": "stream",
     "text": [
      "Education\n",
      "Bachelor         0.389116\n",
      "Master           0.270748\n",
      "College          0.191837\n",
      "Below_College    0.115646\n",
      "Doctor           0.032653\n",
      "Name: proportion, dtype: float64\n",
      "Education\n",
      "Bachelor         0.389456\n",
      "Master           0.270408\n",
      "College          0.192177\n",
      "Below_College    0.115646\n",
      "Doctor           0.032313\n",
      "Name: proportion, dtype: float64\n"
     ]
    }
   ],
   "source": [
    "# Proportion of employees by Education level\n",
    "education_counts_pop = attrition_pop['Education'].value_counts(normalize=True)\n",
    "\n",
    "# Print education_counts_pop\n",
    "print(education_counts_pop)\n",
    "\n",
    "# Proportional stratified sampling for 40% of each Education group\n",
    "attrition_strat = attrition_pop.groupby('Education', observed = False).sample(frac=0.4, random_state=2022)\n",
    "\n",
    "# Calculate the Education level proportions from attrition_strat\n",
    "education_counts_strat = attrition_strat['Education'].value_counts(normalize=True)\n",
    "\n",
    "# Print education_counts_strat\n",
    "print(education_counts_strat)"
   ]
  },
  {
   "cell_type": "code",
   "execution_count": 21,
   "metadata": {},
   "outputs": [
    {
     "name": "stdout",
     "output_type": "stream",
     "text": [
      "Education\n",
      "Below_College    0.2\n",
      "College          0.2\n",
      "Bachelor         0.2\n",
      "Master           0.2\n",
      "Doctor           0.2\n",
      "Name: proportion, dtype: float64\n"
     ]
    }
   ],
   "source": [
    "# Get 30 employees from each Education group\n",
    "attrition_eq = attrition_pop.groupby('Education', observed=False)\\\n",
    "\t.sample(n=30, random_state=2022)      \n",
    "\n",
    "# Get the proportions from attrition_eq\n",
    "education_counts_eq = attrition_eq['Education'].value_counts(normalize=True)\n",
    "\n",
    "# Print the results\n",
    "print(education_counts_eq)"
   ]
  },
  {
   "cell_type": "code",
   "execution_count": 26,
   "metadata": {},
   "outputs": [
    {
     "data": {
      "image/png": "[encoded data removed]",
      "text/plain": [
       "<Figure size 640x480 with 1 Axes>"
      ]
     },
     "metadata": {},
     "output_type": "display_data"
    },
    {
     "name": "stdout",
     "output_type": "stream",
     "text": [
      "mean of population is: 7.0081632653061225\n",
      "sample mean is 11.1475\n"
     ]
    }
   ],
   "source": [
    "# Plot YearsAtCompany from attrition_pop as a histogram\n",
    "attrition_pop['YearsAtCompany'].hist(bins=np.arange(0, 41, 1))\n",
    "#plt.show()\n",
    "\n",
    "# Sample 400 employees weighted by YearsAtCompany\n",
    "attrition_weight = attrition_pop.sample(n=400, weights=\"YearsAtCompany\")\n",
    "\n",
    "# Plot YearsAtCompany from attrition_weight as a histogram\n",
    "attrition_weight['YearsAtCompany'].hist(bins=(np.arange(0,41,1)))\n",
    "plt.show()\n",
    "\n",
    "print(\"mean of population is:\", attrition_pop['YearsAtCompany'].mean())\n",
    "print(\"sample mean is\", attrition_weight['YearsAtCompany'].mean())\n"
   ]
  },
  {
   "cell_type": "markdown",
   "metadata": {},
   "source": [
    "### cluster sampling\n",
    "\n",
    "stratiified sampling: \n",
    "* split population into subgroups\n",
    "* use simple random sampling on every subgroup\n",
    "\n",
    "cluster sampling:\n",
    "* use simple random sampling to pick some subgroups\n",
    "* use simple random sampling on only those subgroups\n",
    "\n",
    "**stages**\n",
    "1. sampling for subgroups:\n",
    "`import random`\n",
    "`groups = list(df['col'].unique())`\n",
    "`groups_samp = random.sample(groups, k=3)` # randomly cut down on number of groups\n",
    "2. sampling each group\n",
    "`group_condition = df['group'].isin(groups_samp)` \n",
    "`df_cluster = df[group_condition]` # filter dataset for rows where group is one of selected\n",
    "`df_cluster['group'] = df_group['group].cat.remove_unused_categories()` # removes levels with zero rows\n",
    "`df_cluster.groupby('group').sample(n=5, random_state=2021)`\n",
    "\n",
    "**cluster sampling** - multistage clustering, can be several"
   ]
  },
  {
   "cell_type": "code",
   "execution_count": 30,
   "metadata": {},
   "outputs": [
    {
     "name": "stdout",
     "output_type": "stream",
     "text": [
      "      Age  Attrition     BusinessTravel  DailyRate            Department  \\\n",
      "1380   44        0.0      Travel_Rarely       1099                 Sales   \n",
      "1395   46        0.0      Travel_Rarely        488                 Sales   \n",
      "1300   42        0.0      Travel_Rarely        532  Research_Development   \n",
      "1271   39        0.0      Travel_Rarely        117  Research_Development   \n",
      "1354   42        0.0      Travel_Rarely       1059  Research_Development   \n",
      "858    32        0.0      Travel_Rarely        495  Research_Development   \n",
      "1417   59        0.0         Non-Travel       1420       Human_Resources   \n",
      "1307   41        0.0      Travel_Rarely       1276                 Sales   \n",
      "1377   52        0.0      Travel_Rarely       1053  Research_Development   \n",
      "1388   50        0.0      Travel_Rarely        264                 Sales   \n",
      "1463   56        0.0      Travel_Rarely       1400  Research_Development   \n",
      "464    46        0.0         Non-Travel       1144  Research_Development   \n",
      "1313   54        0.0      Travel_Rarely       1441  Research_Development   \n",
      "1203   36        0.0      Travel_Rarely        429  Research_Development   \n",
      "1427   52        0.0  Travel_Frequently        890  Research_Development   \n",
      "1188   37        0.0      Travel_Rarely       1305  Research_Development   \n",
      "453    49        0.0         Non-Travel       1002  Research_Development   \n",
      "1200   43        0.0  Travel_Frequently       1082  Research_Development   \n",
      "876    38        0.0      Travel_Rarely        397  Research_Development   \n",
      "1176   36        0.0      Travel_Rarely        363  Research_Development   \n",
      "367    34        0.0      Travel_Rarely        121  Research_Development   \n",
      "300    27        0.0      Travel_Rarely        486  Research_Development   \n",
      "137    22        0.0      Travel_Rarely        604  Research_Development   \n",
      "22     27        0.0         Non-Travel       1450  Research_Development   \n",
      "1143   35        0.0      Travel_Rarely        819  Research_Development   \n",
      "36     20        1.0      Travel_Rarely       1362  Research_Development   \n",
      "411    24        0.0  Travel_Frequently        567  Research_Development   \n",
      "42     45        0.0      Travel_Rarely        252  Research_Development   \n",
      "195    31        1.0         Non-Travel        335  Research_Development   \n",
      "213    23        0.0      Travel_Rarely        977  Research_Development   \n",
      "92     35        0.0      Travel_Rarely        890                 Sales   \n",
      "101    29        0.0      Travel_Rarely       1090                 Sales   \n",
      "153    31        1.0  Travel_Frequently       1060                 Sales   \n",
      "1008   53        0.0      Travel_Rarely       1436                 Sales   \n",
      "140    38        0.0      Travel_Rarely        395                 Sales   \n",
      "23     19        1.0  Travel_Frequently        602                 Sales   \n",
      "1150   52        0.0         Non-Travel        585                 Sales   \n",
      "104    20        1.0  Travel_Frequently        769                 Sales   \n",
      "148    33        0.0         Non-Travel       1038                 Sales   \n",
      "188    50        0.0      Travel_Rarely        316                 Sales   \n",
      "\n",
      "      DistanceFromHome      Education    EducationField  \\\n",
      "1380                 5       Bachelor         Marketing   \n",
      "1395                 2       Bachelor  Technical_Degree   \n",
      "1300                 4        College  Technical_Degree   \n",
      "1271                10  Below_College           Medical   \n",
      "1354                 9        College             Other   \n",
      "858                 10       Bachelor           Medical   \n",
      "1417                 2         Master   Human_Resources   \n",
      "1307                 2         Doctor     Life_Sciences   \n",
      "1377                 1        College     Life_Sciences   \n",
      "1388                 9       Bachelor         Marketing   \n",
      "1463                 7       Bachelor     Life_Sciences   \n",
      "464                  7         Master           Medical   \n",
      "1313                17       Bachelor  Technical_Degree   \n",
      "1203                 2         Master     Life_Sciences   \n",
      "1427                25         Master           Medical   \n",
      "1188                10         Master     Life_Sciences   \n",
      "453                 18         Master     Life_Sciences   \n",
      "1200                27       Bachelor     Life_Sciences   \n",
      "876                  2        College           Medical   \n",
      "1176                 1       Bachelor  Technical_Degree   \n",
      "367                  2         Master           Medical   \n",
      "300                  8       Bachelor           Medical   \n",
      "137                  6  Below_College           Medical   \n",
      "22                   3       Bachelor           Medical   \n",
      "1143                18         Doctor     Life_Sciences   \n",
      "36                  10  Below_College           Medical   \n",
      "411                  2  Below_College  Technical_Degree   \n",
      "42                   2       Bachelor     Life_Sciences   \n",
      "195                  9        College           Medical   \n",
      "213                 10       Bachelor  Technical_Degree   \n",
      "92                   2       Bachelor         Marketing   \n",
      "101                 10       Bachelor         Marketing   \n",
      "153                  1       Bachelor     Life_Sciences   \n",
      "1008                 6        College         Marketing   \n",
      "140                  9       Bachelor         Marketing   \n",
      "23                   1  Below_College  Technical_Degree   \n",
      "1150                29         Master     Life_Sciences   \n",
      "104                  9       Bachelor         Marketing   \n",
      "148                  8  Below_College     Life_Sciences   \n",
      "188                  8         Master         Marketing   \n",
      "\n",
      "     EnvironmentSatisfaction  Gender  ...  PerformanceRating  \\\n",
      "1380                  Medium    Male  ...          Excellent   \n",
      "1395                    High  Female  ...          Excellent   \n",
      "1300                    High    Male  ...          Excellent   \n",
      "1271                    High    Male  ...          Excellent   \n",
      "1354               Very_High    Male  ...        Outstanding   \n",
      "858                     High    Male  ...        Outstanding   \n",
      "1417                    High  Female  ...        Outstanding   \n",
      "1307                  Medium  Female  ...          Excellent   \n",
      "1377               Very_High    Male  ...          Excellent   \n",
      "1388                    High    Male  ...          Excellent   \n",
      "1463               Very_High    Male  ...          Excellent   \n",
      "464                     High  Female  ...          Excellent   \n",
      "1313                    High  Female  ...          Excellent   \n",
      "1203                    High  Female  ...          Excellent   \n",
      "1427                    High  Female  ...        Outstanding   \n",
      "1188                    High    Male  ...          Excellent   \n",
      "453                Very_High    Male  ...          Excellent   \n",
      "1200                    High  Female  ...          Excellent   \n",
      "876                Very_High  Female  ...          Excellent   \n",
      "1176                    High  Female  ...        Outstanding   \n",
      "367                     High  Female  ...          Excellent   \n",
      "300                   Medium  Female  ...          Excellent   \n",
      "137                      Low    Male  ...        Outstanding   \n",
      "22                      High    Male  ...          Excellent   \n",
      "1143                  Medium    Male  ...          Excellent   \n",
      "36                 Very_High    Male  ...          Excellent   \n",
      "411                      Low  Female  ...          Excellent   \n",
      "42                    Medium  Female  ...          Excellent   \n",
      "195                     High    Male  ...        Outstanding   \n",
      "213                Very_High    Male  ...          Excellent   \n",
      "92                 Very_High  Female  ...          Excellent   \n",
      "101                Very_High    Male  ...          Excellent   \n",
      "153                Very_High  Female  ...          Excellent   \n",
      "1008                  Medium    Male  ...        Outstanding   \n",
      "140                   Medium    Male  ...          Excellent   \n",
      "23                      High  Female  ...        Outstanding   \n",
      "1150                     Low    Male  ...          Excellent   \n",
      "104                Very_High  Female  ...          Excellent   \n",
      "148                   Medium  Female  ...          Excellent   \n",
      "188                Very_High    Male  ...          Excellent   \n",
      "\n",
      "     RelationshipSatisfaction  StockOptionLevel TotalWorkingYears  \\\n",
      "1380                     High                 1                26   \n",
      "1395                   Medium                 1                28   \n",
      "1300                Very_High                 0                22   \n",
      "1271                Very_High                 0                21   \n",
      "1354                Very_High                 0                24   \n",
      "858                    Medium                 0                10   \n",
      "1417                Very_High                 1                30   \n",
      "1307                   Medium                 1                22   \n",
      "1377                   Medium                 1                26   \n",
      "1388                     High                 1                27   \n",
      "1463                      Low                 0                37   \n",
      "464                      High                 0                 7   \n",
      "1313                     High                 1                22   \n",
      "1203                Very_High                 0                18   \n",
      "1427                     High                 0                31   \n",
      "1188                Very_High                 0                18   \n",
      "453                       Low                 2                 7   \n",
      "1200                     High                 1                18   \n",
      "876                 Very_High                 1                10   \n",
      "1176                     High                 1                17   \n",
      "367                      High                 0                 6   \n",
      "300                       Low                 0                 5   \n",
      "137                 Very_High                 0                 3   \n",
      "22                  Very_High                 1                 1   \n",
      "1143                Very_High                 0                16   \n",
      "36                  Very_High                 0                 1   \n",
      "411                      High                 0                 6   \n",
      "42                  Very_High                 0                 1   \n",
      "195                       Low                 0                 4   \n",
      "213                 Very_High                 1                 4   \n",
      "92                        Low                 0                 2   \n",
      "101                 Very_High                 2                 2   \n",
      "153                       Low                 0                 3   \n",
      "1008                Very_High                 1                13   \n",
      "140                 Very_High                 1                 3   \n",
      "23                        Low                 0                 1   \n",
      "1150                   Medium                 2                16   \n",
      "104                    Medium                 0                 2   \n",
      "148                 Very_High                 0                 3   \n",
      "188                 Very_High                 1                 4   \n",
      "\n",
      "     TrainingTimesLastYear WorkLifeBalance  YearsAtCompany  \\\n",
      "1380                     5          Better              22   \n",
      "1395                     2            Good               7   \n",
      "1300                     3          Better              22   \n",
      "1271                     3          Better              21   \n",
      "1354                     2          Better               1   \n",
      "858                      5            Best               5   \n",
      "1417                     3          Better               3   \n",
      "1307                     2          Better              18   \n",
      "1377                     2            Good               9   \n",
      "1388                     2          Better               1   \n",
      "1463                     3            Good               6   \n",
      "464                      2            Best               1   \n",
      "1313                     2          Better              10   \n",
      "1203                     2          Better              16   \n",
      "1427                     3          Better               9   \n",
      "1188                     2            Good               1   \n",
      "453                      0          Better               7   \n",
      "1200                     1          Better               8   \n",
      "876                      6            Best               5   \n",
      "1176                     2          Better               7   \n",
      "367                      3          Better               6   \n",
      "300                      0          Better               3   \n",
      "137                      3          Better               2   \n",
      "22                       2            Good               1   \n",
      "1143                     2          Better              16   \n",
      "36                       5          Better               1   \n",
      "411                      2          Better               6   \n",
      "42                       3          Better               1   \n",
      "195                      0          Better               3   \n",
      "213                      2          Better               2   \n",
      "92                       3          Better               2   \n",
      "101                      2          Better               2   \n",
      "153                      2            Best               3   \n",
      "1008                     3             Bad               7   \n",
      "140                      3          Better               2   \n",
      "23                       5            Best               0   \n",
      "1150                     3            Good               9   \n",
      "104                      3          Better               2   \n",
      "148                      2            Good               2   \n",
      "188                      2          Better               2   \n",
      "\n",
      "      YearsInCurrentRole  YearsSinceLastPromotion YearsWithCurrManager  \n",
      "1380                   9                        3                   10  \n",
      "1395                   7                        7                    7  \n",
      "1300                  17                       11                   15  \n",
      "1271                   9                       11                   10  \n",
      "1354                   0                        0                    1  \n",
      "858                    2                        0                    0  \n",
      "1417                   2                        2                    2  \n",
      "1307                  16                       11                    8  \n",
      "1377                   8                        7                    8  \n",
      "1388                   0                        0                    0  \n",
      "1463                   4                        0                    2  \n",
      "464                    0                        0                    0  \n",
      "1313                   7                        0                    8  \n",
      "1203                  14                        5                   12  \n",
      "1427                   8                        0                    0  \n",
      "1188                   0                        0                    1  \n",
      "453                    7                        1                    7  \n",
      "1200                   7                        0                    1  \n",
      "876                    4                        0                    2  \n",
      "1176                   7                        7                    7  \n",
      "367                    5                        1                    3  \n",
      "300                    2                        0                    2  \n",
      "137                    2                        2                    2  \n",
      "22                     1                        0                    1  \n",
      "1143                  15                        1                   10  \n",
      "36                     0                        1                    1  \n",
      "411                    3                        1                    3  \n",
      "42                     0                        0                    0  \n",
      "195                    2                        1                    2  \n",
      "213                    2                        2                    2  \n",
      "92                     2                        2                    2  \n",
      "101                    2                        2                    2  \n",
      "153                    2                        2                    2  \n",
      "1008                   7                        4                    5  \n",
      "140                    2                        1                    2  \n",
      "23                     0                        0                    0  \n",
      "1150                   8                        0                    0  \n",
      "104                    2                        0                    2  \n",
      "148                    2                        2                    2  \n",
      "188                    2                        2                    2  \n",
      "\n",
      "[40 rows x 31 columns]\n"
     ]
    },
    {
     "name": "stderr",
     "output_type": "stream",
     "text": [
      "C:\\Users\\zoona\\AppData\\Local\\Temp\\ipykernel_32408\\1817153344.py:14: SettingWithCopyWarning: \n",
      "A value is trying to be set on a copy of a slice from a DataFrame.\n",
      "Try using .loc[row_indexer,col_indexer] = value instead\n",
      "\n",
      "See the caveats in the documentation: https://pandas.pydata.org/pandas-docs/stable/user_guide/indexing.html#returning-a-view-versus-a-copy\n",
      "  attrition_filtered['JobRole'] = attrition_filtered['JobRole'].cat.remove_unused_categories()\n",
      "C:\\Users\\zoona\\AppData\\Local\\Temp\\ipykernel_32408\\1817153344.py:17: FutureWarning: The default of observed=False is deprecated and will be changed to True in a future version of pandas. Pass observed=False to retain current behavior or observed=True to adopt the future default and silence this warning.\n",
      "  attrition_clust = attrition_filtered.groupby('JobRole').sample(n=10, random_state=2022)\n"
     ]
    }
   ],
   "source": [
    "# example\n",
    "import random\n",
    "# Create a list of unique JobRole values\n",
    "job_roles_pop = list(attrition_pop['JobRole'].unique())\n",
    "\n",
    "# Randomly sample four JobRole values\n",
    "job_roles_samp = random.sample(job_roles_pop, k=4)\n",
    "\n",
    "# Filter for rows where JobRole is in job_roles_samp\n",
    "jobrole_condition = attrition_pop['JobRole'].isin(job_roles_samp)\n",
    "attrition_filtered = attrition_pop[jobrole_condition]\n",
    "\n",
    "# Remove categories with no rows\n",
    "attrition_filtered['JobRole'] = attrition_filtered['JobRole'].cat.remove_unused_categories()\n",
    "\n",
    "# Randomly sample 10 employees from each sampled job role\n",
    "attrition_clust = attrition_filtered.groupby('JobRole').sample(n=10, random_state=2022)\n",
    "\n",
    "\n",
    "# Print the sample\n",
    "print(attrition_clust)"
   ]
  },
  {
   "cell_type": "markdown",
   "metadata": {},
   "source": [
    "### comparing sampling methods\n",
    "\n",
    "*  random sampling \n",
    "*  stratified \n",
    "*  cluster"
   ]
  },
  {
   "cell_type": "code",
   "execution_count": 33,
   "metadata": {},
   "outputs": [],
   "source": [
    "# example\n",
    "\n",
    "# Perform simple random sampling to get 0.25 of the population\n",
    "attrition_srs = attrition_pop.sample(frac=0.25, random_state = 2022)\n",
    "\n",
    "# Perform stratified sampling to get 0.25 of each relationship group\n",
    "attrition_strat = attrition_pop.groupby('RelationshipSatisfaction', observed=False).sample(frac=0.25, random_state = 2022)\n"
   ]
  },
  {
   "cell_type": "code",
   "execution_count": 43,
   "metadata": {},
   "outputs": [
    {
     "name": "stderr",
     "output_type": "stream",
     "text": [
      "C:\\Users\\zoona\\AppData\\Local\\Temp\\ipykernel_32408\\397067106.py:10: SettingWithCopyWarning: \n",
      "A value is trying to be set on a copy of a slice from a DataFrame.\n",
      "Try using .loc[row_indexer,col_indexer] = value instead\n",
      "\n",
      "See the caveats in the documentation: https://pandas.pydata.org/pandas-docs/stable/user_guide/indexing.html#returning-a-view-versus-a-copy\n",
      "  attrition_clust_prep['RelationshipSatisfaction'] = attrition_clust_prep['RelationshipSatisfaction'].cat.remove_unused_categories().copy()\n"
     ]
    }
   ],
   "source": [
    "\n",
    "# Create a list of unique RelationshipSatisfaction values\n",
    "satisfaction_unique = list(attrition_pop['RelationshipSatisfaction'].unique())\n",
    "\n",
    "# Randomly sample 2 unique satisfaction values\n",
    "satisfaction_samp = random.sample(satisfaction_unique, k=2)\n",
    "\n",
    "# Filter for satisfaction_samp and clear unused categories from RelationshipSatisfaction\n",
    "satis_condition = attrition_pop['RelationshipSatisfaction'].isin(satisfaction_samp)\n",
    "attrition_clust_prep = attrition_pop[satis_condition]\n",
    "attrition_clust_prep['RelationshipSatisfaction'] = attrition_clust_prep['RelationshipSatisfaction'].cat.remove_unused_categories()\n",
    "\n",
    "# Perform cluster sampling on the selected group, getting 0.25 of attrition_pop\n",
    "attrition_clust = attrition_clust_prep.groupby('RelationshipSatisfaction', observed=False).sample(n=len(attrition_pop)//4, random_state=2022, replace=True)\n"
   ]
  },
  {
   "cell_type": "code",
   "execution_count": 48,
   "metadata": {},
   "outputs": [
    {
     "name": "stdout",
     "output_type": "stream",
     "text": [
      "RelationshipSatisfaction\n",
      "Low          0.206522\n",
      "Medium       0.148515\n",
      "High         0.154684\n",
      "Very_High    0.148148\n",
      "Name: Attrition, dtype: float64\n",
      "RelationshipSatisfaction\n",
      "Low          0.134328\n",
      "Medium       0.164179\n",
      "High         0.160000\n",
      "Very_High    0.155963\n",
      "Name: Attrition, dtype: float64\n",
      "RelationshipSatisfaction\n",
      "Low          0.144928\n",
      "Medium       0.078947\n",
      "High         0.165217\n",
      "Very_High    0.129630\n",
      "Name: Attrition, dtype: float64\n",
      "RelationshipSatisfaction\n",
      "Medium    0.163488\n",
      "High      0.160763\n",
      "Name: Attrition, dtype: float64\n"
     ]
    }
   ],
   "source": [
    "# Mean Attrition by RelationshipSatisfaction group\n",
    "mean_attrition_pop = attrition_pop.groupby('RelationshipSatisfaction', observed=False)['Attrition'].mean()\n",
    "\n",
    "# Print the result\n",
    "print(mean_attrition_pop)\n",
    "\n",
    "# Calculate the same thing for the simple random sample \n",
    "mean_attrition_srs = attrition_srs.groupby('RelationshipSatisfaction', observed=False)['Attrition'].mean()\n",
    "\n",
    "# Print the result\n",
    "print(mean_attrition_srs)\n",
    "\n",
    "# Calculate the same thing for the stratified sample \n",
    "mean_attrition_strat = attrition_strat.groupby('RelationshipSatisfaction', observed=False)['Attrition'].mean()\n",
    "\n",
    "# Print the result\n",
    "print(mean_attrition_strat)\n",
    "\n",
    "# Calculate the same thing for the cluster sample \n",
    "mean_attrition_clust =  attrition_clust.groupby('RelationshipSatisfaction', observed=False)['Attrition'].mean()\n",
    "\n",
    "\n",
    "# Print the result\n",
    "print(mean_attrition_clust)\n"
   ]
  },
  {
   "cell_type": "markdown",
   "metadata": {},
   "source": [
    "## Sampling Distributions\n"
   ]
  },
  {
   "cell_type": "markdown",
   "metadata": {},
   "source": [
    "### Relative error of point estimates\n",
    "\n",
    "* how does sample size affect relative error?\n",
    "* in general - larger sample sizes gets closer to population mean\n",
    "* relative error - absolute error between sample and pop means\n",
    "* \n"
   ]
  },
  {
   "cell_type": "code",
   "execution_count": 4,
   "metadata": {},
   "outputs": [],
   "source": [
    "import pandas as pd\n",
    "#!pip install pyarrow\n",
    "\n",
    "# import attrition feather file data\n",
    "attrition_pop = pd.read_feather('attrition.feather')\n",
    "\n"
   ]
  },
  {
   "cell_type": "code",
   "execution_count": 5,
   "metadata": {},
   "outputs": [
    {
     "name": "stdout",
     "output_type": "stream",
     "text": [
      "62.78481012658228\n"
     ]
    }
   ],
   "source": [
    "# Generate a simple random sample of 50 rows, with seed 2022\n",
    "attrition_srs50 = attrition_pop.sample(n=50, random_state = 2022)\n",
    "mean_attrition_pop = attrition_pop['Attrition'].mean()\n",
    "# Calculate the mean employee attrition in the sample\n",
    "mean_attrition_srs50 = attrition_srs50['Attrition'].mean()\n",
    "\n",
    "# Calculate the relative error percentage\n",
    "rel_error_pct50 = abs(mean_attrition_srs50-mean_attrition_pop)/mean_attrition_pop * 100\n",
    "\n",
    "# Print rel_error_pct50\n",
    "print(rel_error_pct50)"
   ]
  },
  {
   "cell_type": "code",
   "execution_count": 6,
   "metadata": {},
   "outputs": [
    {
     "name": "stdout",
     "output_type": "stream",
     "text": [
      "6.962025316455694\n"
     ]
    }
   ],
   "source": [
    "# Generate a simple random sample of 100 rows, with seed 2022\n",
    "attrition_srs100 = attrition_pop.sample(n=100, random_state=2022)\n",
    "\n",
    "# Calculate the mean employee attrition in the sample\n",
    "mean_attrition_srs100 = attrition_srs100['Attrition'].mean()\n",
    "\n",
    "# Calculate the relative error percentage\n",
    "rel_error_pct100 = abs(mean_attrition_srs100-mean_attrition_pop)/mean_attrition_pop * 100\n",
    "\n",
    "# Print rel_error_pct100\n",
    "print(rel_error_pct100)"
   ]
  },
  {
   "cell_type": "markdown",
   "metadata": {},
   "source": [
    "### Sampling distribution\n",
    "\n",
    "* point estimates like sample mean will vary depending on which rows are in the sample\n",
    "* can loop to create many samples of the same size - e.g. 1000 sample means\n",
    "\n",
    "```python\n",
    "mean_col_1000 = []\n",
    "for i in range(1000):\n",
    "    mean_col_1000.append(\n",
    "        df.sample(n=30)['col'].mean()\n",
    "    )\n",
    "\n",
    "plt.hist(mean_col_1000, bins = int)\n",
    "plt.show()\n",
    "```"
   ]
  },
  {
   "cell_type": "code",
   "execution_count": 10,
   "metadata": {},
   "outputs": [
    {
     "name": "stdout",
     "output_type": "stream",
     "text": [
      "[0.08333333333333333, 0.15, 0.23333333333333334, 0.21666666666666667, 0.13333333333333333]\n"
     ]
    },
    {
     "data": {
      "image/png": "[encoded data removed]",
      "text/plain": [
       "<Figure size 640x480 with 1 Axes>"
      ]
     },
     "metadata": {},
     "output_type": "display_data"
    }
   ],
   "source": [
    "import matplotlib.pyplot as plt\n",
    "# Create an empty list\n",
    "mean_attritions = []\n",
    "# Loop 500 times to create 500 sample means\n",
    "for i in range(500):\n",
    "\tmean_attritions.append(\n",
    "    \tattrition_pop.sample(n=60)['Attrition'].mean()\n",
    "\t)\n",
    "  \n",
    "# Print out the first few entries of the list\n",
    "print(mean_attritions[0:5])\n",
    "\n",
    "# Create a histogram of the 500 sample means\n",
    "plt.hist(mean_attritions, bins=16)\n",
    "plt.show()"
   ]
  },
  {
   "cell_type": "markdown",
   "metadata": {},
   "source": [
    "### approximating sample means\n",
    "\n",
    "* generate all possible combinations of 4 x 6-sided die rolls\n"
   ]
  },
  {
   "cell_type": "code",
   "execution_count": 20,
   "metadata": {},
   "outputs": [
    {
     "name": "stdout",
     "output_type": "stream",
     "text": [
      "      die1  die2  die3  die4  mean_roll\n",
      "0        1     1     1     1       1.00\n",
      "1        1     1     1     2       1.25\n",
      "2        1     1     1     3       1.50\n",
      "3        1     1     1     4       1.75\n",
      "4        1     1     1     5       2.00\n",
      "...    ...   ...   ...   ...        ...\n",
      "1291     6     6     6     2       5.00\n",
      "1292     6     6     6     3       5.25\n",
      "1293     6     6     6     4       5.50\n",
      "1294     6     6     6     5       5.75\n",
      "1295     6     6     6     6       6.00\n",
      "\n",
      "[1296 rows x 5 columns]\n"
     ]
    }
   ],
   "source": [
    "# use expand grid from pandas to generate all combos\n",
    "import itertools\n",
    "def expand_grid(data_dict):\n",
    "    \"\"\"Create a dataframe from every combination of given values.\"\"\"\n",
    "    rows = itertools.product(*data_dict.values())\n",
    "    return pd.DataFrame.from_records(rows, columns=data_dict.keys())\n",
    "\n",
    "dice = expand_grid(\n",
    "    {'die1': [1,2,3,4,5,6],\n",
    "     'die2': [1,2,3,4,5,6],\n",
    "     'die3': [1,2,3,4,5,6],\n",
    "     'die4': [1,2,3,4,5,6]\n",
    "     }\n",
    ")\n",
    "\n",
    "dice['mean_roll'] = (dice['die1'] + dice['die2'] + dice['die3'] + dice['die4'])/4\n",
    "print(dice)"
   ]
  },
  {
   "cell_type": "code",
   "execution_count": 22,
   "metadata": {},
   "outputs": [
    {
     "data": {
      "image/png": "[encoded data removed]",
      "text/plain": [
       "<Figure size 640x480 with 1 Axes>"
      ]
     },
     "metadata": {},
     "output_type": "display_data"
    }
   ],
   "source": [
    "# visualise\n",
    "dice['mean_roll'] = dice['mean_roll'].astype('category')\n",
    "dice['mean_roll'].value_counts(sort=False).plot(kind='bar')\n",
    "plt.show()"
   ]
  },
  {
   "cell_type": "code",
   "execution_count": 23,
   "metadata": {},
   "outputs": [
    {
     "data": {
      "image/png": "[encoded data removed]",
      "text/plain": [
       "<Figure size 640x480 with 1 Axes>"
      ]
     },
     "metadata": {},
     "output_type": "display_data"
    }
   ],
   "source": [
    "# number of outcomes increases by a factor of six each time\n",
    "\n",
    "n_dice = list(range(1, 101))\n",
    "n_outcomes = []\n",
    "for n in n_dice:\n",
    "    n_outcomes.append(6**n)\n",
    "\n",
    "outcomes = pd.DataFrame(\n",
    "    {'n_dice': n_dice,\n",
    "     'n_outcomes': n_outcomes}\n",
    ")\n",
    "\n",
    "\n",
    "outcomes.plot(x = 'n_dice', y = 'n_outcomes', kind = 'scatter')\n",
    "plt.show()"
   ]
  },
  {
   "cell_type": "markdown",
   "metadata": {},
   "source": [
    "WIth 100 dice, the number of outcomes is approximately the same as the number of atoms in the univers - $6.5 * 10^{77}$\n",
    "* computationally impossible to calculate exact sampling distribution\n",
    "* rely on approximations\n",
    "\n",
    "**simulate mean of four dice rolls**\n",
    "\n",
    "* numpy's `random.choice` = `np.random.choice(list(range(1,7)), size=4, replace=True).mean()`\n",
    "\n",
    "then use for loop:\n",
    "\n",
    "* sample_means_1000 = []\n",
    "* for i in range(1000):\n",
    "    sample_means_1000.append(\n",
    "        np.random.choice(list(range(1,7)), size=4, replace=True).mean()\n",
    "    )\n",
    "* plt.hist(sample_means_1000, bins=20)\n",
    "\n",
    "* not perfect but pretty close"
   ]
  },
  {
   "cell_type": "code",
   "execution_count": 25,
   "metadata": {},
   "outputs": [
    {
     "name": "stdout",
     "output_type": "stream",
     "text": [
      "       die1  die2  die3  die4  die5 mean_roll\n",
      "0         1     1     1     1     1       1.0\n",
      "1         1     1     1     1     2       1.2\n",
      "2         1     1     1     1     3       1.4\n",
      "3         1     1     1     1     4       1.6\n",
      "4         1     1     1     1     5       1.8\n",
      "...     ...   ...   ...   ...   ...       ...\n",
      "32763     8     8     8     8     4       7.2\n",
      "32764     8     8     8     8     5       7.4\n",
      "32765     8     8     8     8     6       7.6\n",
      "32766     8     8     8     8     7       7.8\n",
      "32767     8     8     8     8     8       8.0\n",
      "\n",
      "[32768 rows x 6 columns]\n"
     ]
    },
    {
     "data": {
      "image/png": "[encoded data removed]",
      "text/plain": [
       "<Figure size 640x480 with 1 Axes>"
      ]
     },
     "metadata": {},
     "output_type": "display_data"
    }
   ],
   "source": [
    "# Expand a grid representing 5 8-sided dice\n",
    "dice = expand_grid(\n",
    "    {'die1': [1,2,3,4,5,6,7,8],\n",
    "     'die2': [1,2,3,4,5,6,7,8],\n",
    "     'die3': [1,2,3,4,5,6,7,8],\n",
    "     'die4': [1,2,3,4,5,6,7,8],\n",
    "     'die5': [1,2,3,4,5,6,7,8]\n",
    "     }\n",
    ")\n",
    "\n",
    "\n",
    "# Add a column of mean rolls and convert to a categorical\n",
    "dice['mean_roll'] = (dice['die1'] + dice['die2'] + dice['die3'] + dice['die4'] + dice['die5'])/5\n",
    "                     \n",
    "                    \n",
    "dice['mean_roll'] = dice['mean_roll'].astype('category')\n",
    "\n",
    "# Print result\n",
    "print(dice)\n",
    "\n",
    "# Draw a bar plot of mean_roll\n",
    "dice['mean_roll'].value_counts(sort=False).plot(kind='bar')\n",
    "plt.show()"
   ]
  },
  {
   "cell_type": "code",
   "execution_count": 29,
   "metadata": {},
   "outputs": [
    {
     "name": "stdout",
     "output_type": "stream",
     "text": [
      "4.2\n",
      "[4.6, 3.6, 5.2, 5.0, 4.6, 4.6, 3.8, 5.6, 5.4, 4.4]\n"
     ]
    },
    {
     "data": {
      "image/png": "[encoded data removed]",
      "text/plain": [
       "<Figure size 640x480 with 1 Axes>"
      ]
     },
     "metadata": {},
     "output_type": "display_data"
    }
   ],
   "source": [
    "import numpy as np\n",
    "# Sample one to eight, five times, with replacement\n",
    "five_rolls = np.random.choice(list(range(1,9)), size=5, replace=True)\n",
    "\n",
    "# Print the mean of five_rolls\n",
    "print(five_rolls.mean())\n",
    "\n",
    "# Replicate the sampling code 1000 times\n",
    "sample_means_1000 = []\n",
    "for i in range(1000):\n",
    "    sample_means_1000.append(\n",
    "  \t\tnp.random.choice(list(range(1, 9)), size=5, replace=True).mean()\n",
    "    )\n",
    "    \n",
    "# Print the first 10 entries of the result\n",
    "print(sample_means_1000[0:10])\n",
    "\n",
    "# Draw a histogram of sample_means_1000 with 20 bins\n",
    "plt.hist(sample_means_1000, bins=20)\n",
    "plt.show()"
   ]
  },
  {
   "cell_type": "markdown",
   "metadata": {},
   "source": [
    "### Standard errors and the Central limit theorem\n",
    "\n",
    "* `gaussian distribution` aka normal\n",
    "* central limit theorom - averages of independent samples have approximately **normal distributions**\n",
    "    * as sample size increases:\n",
    "        * distribution of the averages gets *closer to being normally distributed*\n",
    "        * width of the samplign distribution gets *narrower* (standard deviation decreases)\n",
    "            * `ddof=0` when calling `.std()` on populations\n",
    "            * `ddof=1` when calling `np.std()` on samples or sampling distribution\n",
    "\n",
    "* dividing population std by square root of the sample size, we get an estimate of the std dev of the sampling distribution for that sample size\n",
    "* **standard error** \n",
    "\n"
   ]
  },
  {
   "cell_type": "code",
   "execution_count": null,
   "metadata": {},
   "outputs": [],
   "source": [
    "# Calculate the mean of the mean attritions for each sampling distribution\n",
    "mean_of_means_5 = np.mean(sampling_distribution_5)\n",
    "mean_of_means_50 = np.mean(sampling_distribution_50)\n",
    "mean_of_means_500 = np.mean(sampling_distribution_500)\n",
    "\n",
    "# Print the results\n",
    "print(mean_of_means_5)\n",
    "print(mean_of_means_50)\n",
    "print(mean_of_means_500)\n",
    "\n",
    "# Calculate the std. dev. of the mean attritions for each sampling distribution\n",
    "sd_of_means_5 = np.std(sampling_distribution_5, ddof=1)\n",
    "sd_of_means_50 = np.std(sampling_distribution_50, ddof=1)\n",
    "sd_of_means_500 = np.std(sampling_distribution_500, ddof=1)\n",
    "\n",
    "# Print the results\n",
    "print(sd_of_means_5)\n",
    "print(sd_of_means_50)\n",
    "print(sd_of_means_500)"
   ]
  },
  {
   "cell_type": "markdown",
   "metadata": {},
   "source": [
    "## Bootstrap Distributions"
   ]
  },
  {
   "cell_type": "markdown",
   "metadata": {},
   "source": [
    "* why sample with replacement?\n",
    "    * resampling let's us approximate other theoretical observations which may exist in the population\n",
    "\n",
    "**bootstrapping** - in some ways the opposite of sampling from a population\n",
    "* in sampling - go from a population to a smaller sample\n",
    "* in bootstrapping - build a theoretical population from the sample\n",
    "    * develop understanding of sampling variability using a single sample\n",
    "\n",
    "1. make a resample of the same size as the original sample\n",
    "2. calculate the statistic of interest for this bootstrap sample, e.g. mean of a column\n",
    "3. repeat steps 1 and 2 many times\n",
    "\n",
    "resulting statistics are *bootstrap statistics* and form a *bootstrap distribution*\n",
    "\n",
    "```py\n",
    "import numpy as np\n",
    "\n",
    "mean_flavours_1000 = []\n",
    "\n",
    "for i in range(1000):\n",
    "    mean_flavours_1000.append(\n",
    "        np.mean(coffee_sample.sample(frac=1, replace=True)['flavour'])\n",
    "    )\n",
    "\n",
    "import matplotlib.pyplot as plt\n",
    "plt.hist(mean_flavours_1000)\n",
    "plt.show()\n",
    "\n",
    "```\n"
   ]
  },
  {
   "cell_type": "code",
   "execution_count": 4,
   "metadata": {},
   "outputs": [],
   "source": [
    "import pandas as pd\n",
    "import matplotlib.pyplot as plt \n",
    "import numpy as np \n",
    "\n",
    "spotify_population = pd.read_feather('spotify_2000_2020.feather')"
   ]
  },
  {
   "cell_type": "code",
   "execution_count": 20,
   "metadata": {},
   "outputs": [
    {
     "name": "stdout",
     "output_type": "stream",
     "text": [
      "<class 'pandas.core.frame.DataFrame'>\n",
      "RangeIndex: 41656 entries, 0 to 41655\n",
      "Data columns (total 5 columns):\n",
      " #   Column        Non-Null Count  Dtype  \n",
      "---  ------        --------------  -----  \n",
      " 0   index         41656 non-null  int64  \n",
      " 1   artists       41656 non-null  object \n",
      " 2   name          41656 non-null  object \n",
      " 3   danceability  41656 non-null  float64\n",
      " 4   popularity    41656 non-null  float64\n",
      "dtypes: float64(2), int64(1), object(2)\n",
      "memory usage: 1.6+ MB\n",
      "None\n"
     ]
    }
   ],
   "source": [
    "spotify_sample = spotify_population[['artists', 'name', 'danceability', 'popularity']]\n",
    "spotify_sample.reset_index(drop=False, inplace=True)\n",
    "print(spotify_sample.info())"
   ]
  },
  {
   "cell_type": "code",
   "execution_count": 16,
   "metadata": {},
   "outputs": [
    {
     "name": "stdout",
     "output_type": "stream",
     "text": [
      "0.5905296523910122\n"
     ]
    }
   ],
   "source": [
    "# Generate 1 bootstrap resample\n",
    "spotify_1_resample = spotify_sample.sample(frac=1, replace=True)\n",
    "\n",
    "# Print the resample\n",
    "#print(spotify_1_resample)\n",
    "\n",
    "# Calculate of the danceability column of spotify_1_resample\n",
    "mean_danceability_1 = np.mean(spotify_1_resample['danceability'])\n",
    "\n",
    "# Print the result\n",
    "print(mean_danceability_1)"
   ]
  },
  {
   "cell_type": "code",
   "execution_count": 17,
   "metadata": {},
   "outputs": [
    {
     "name": "stdout",
     "output_type": "stream",
     "text": [
      "[0.5915428869790667, 0.5906879753216824, 0.5911450091223353, 0.5911754969272135, 0.5916301925292875, 0.5899258858267717, 0.591488546667947, 0.5916235908392549, 0.5917393292682926, 0.5900604378720954, 0.5903996135010562, 0.5916466367390051, 0.592155422988285, 0.5917137651238717, 0.5914859852122143, 0.5906227146149414, 0.59251637699251, 0.5909273381985788, 0.5920642812560016, 0.5908528879393125, 0.5916600417706933, 0.5910037497599385, 0.5895545515652008, 0.5911393412713655, 0.5916690560783562, 0.5919061335701941, 0.5921248175532937, 0.5922424524678318, 0.5923976906087959, 0.5907300004801228, 0.5916285337046284, 0.5905962190320722, 0.5920428869790667, 0.5912954364317264, 0.5903172700211254, 0.5903738981179181, 0.5911554013827539, 0.5901731659304782, 0.5908211638179375, 0.5909088438640292, 0.5900308382946033, 0.5913296835990013, 0.5918854714806989, 0.5913494334549645, 0.5922080228538505, 0.5911071034184753, 0.5918572594584214, 0.5921574467063568, 0.5900604978874592, 0.5929270525254464, 0.5911926445169964, 0.5901500816208949, 0.5925033416554637, 0.5919243014211638, 0.5906563784328788, 0.5907283392548491, 0.5919859828115998, 0.5904375504129058, 0.5923629705204533, 0.5915549284616862, 0.5899816665066256, 0.5899397949875168, 0.5904904575571346, 0.5925165378336854, 0.592828449683119, 0.590677971960822, 0.5909023261955061, 0.5912573866909929, 0.5919373415594392, 0.591480086902247, 0.5916676829268293, 0.5919353154407528, 0.5918735668331093, 0.591018508738237, 0.5920963702707893, 0.591289907816401, 0.5907275662569617, 0.5923690176685231, 0.590801886883042, 0.5915179685999616, 0.5916252424620703, 0.5925730002880738, 0.5906509242366046, 0.5922220328404071, 0.5910456908968695, 0.5921825979450739, 0.5919702035721145, 0.5896697690608795, 0.592358356539274, 0.5903138155367774, 0.5918557782792394, 0.5921338606683311, 0.5900438688304206, 0.5916445289994238, 0.5910639595736509, 0.5909039274054159, 0.591684023910121, 0.5903914106011139, 0.5919719392164394, 0.590518215863261, 0.5913860836374112, 0.5904463078548108, 0.5914116621855195, 0.5915742966199348, 0.5908728370462839, 0.590302114941425, 0.5910577851930094, 0.5902773550028808, 0.5914359155943921, 0.5927785144997121, 0.5916774294219321, 0.591515704820434, 0.5924656496062991, 0.590822976281928, 0.5909068057422701, 0.5919701243518342, 0.591437896101402, 0.5919964903015171, 0.5904401982907626, 0.5913275734588054, 0.5917642428461686, 0.5921440608795853, 0.5896922412137506, 0.5899528855386978, 0.5926099793547149, 0.5913057998847705, 0.5904820338006529, 0.5916868734396006, 0.592024121375072, 0.5902428821778376, 0.5908309007105819, 0.5905599673516421, 0.5904102818321489, 0.59162518964855, 0.5915338318609565, 0.5909539009986557, 0.5918979330708661, 0.5899692913385827, 0.5915380881505665, 0.5900805190128673, 0.590008476570002, 0.5919058959093527, 0.5901720304397926, 0.5911257369886691, 0.5908223017092376, 0.5914293475129633, 0.5945830300556942, 0.5914015676013059, 0.5904273261955061, 0.5915680454196274, 0.591625184847321, 0.5915811239677357, 0.5910682830804685, 0.5916174452659881, 0.5911428941809104, 0.5907992390051853, 0.5926488957173036, 0.5918153159208758, 0.5916787305550221, 0.5908527775110428, 0.5917144925100826, 0.591753838582677, 0.5913059295179567, 0.5901520573266757, 0.5914805862300749, 0.590932852410217, 0.5910472657000192, 0.5904836590167082, 0.592322484155944, 0.5908261090839254, 0.5917217807758787, 0.5903899582293067, 0.5906426469176109, 0.5908293067025159, 0.5914109996159016, 0.5922436191665066, 0.5925182470712501, 0.5911054613981178, 0.590846459093528, 0.5915984564048398, 0.5914853754561168, 0.5915758666218554, 0.5903384242366045, 0.590785509890532, 0.5910384290378337, 0.5906327611868638, 0.590597596984828, 0.5920666074515075, 0.5912331500864221, 0.5944267284424812, 0.5914273694065681, 0.5922749495870943, 0.5906548276358746, 0.5916948290762435, 0.5917906087958519, 0.5931386811023621, 0.5892489629345112, 0.5900696970424429, 0.592915515171884, 0.592665390339927, 0.5910424692721338, 0.5917381001536394, 0.5895432638755521, 0.5907490205492605, 0.5910437463990782, 0.5921859347993087, 0.5904603754561167, 0.5916630641444209, 0.5907572522565776, 0.5908890892068368, 0.5904069809871326, 0.5905322426541194, 0.591055353370463, 0.5928833685423469, 0.5915399174188593, 0.588889984636067, 0.5905714230843094, 0.5910539466103322, 0.5897889475705781, 0.5921959933743038, 0.5907583253312849, 0.592020546859996, 0.5914730314960629, 0.5920476185903591, 0.5909565080660649, 0.5917202971960822, 0.590084604858844, 0.591483442961398, 0.591621588726714, 0.5923934439216438, 0.5915117222008834, 0.59143272757826, 0.5907277342999808, 0.5901852026118686, 0.5905855795083541, 0.5916098017092376, 0.5908295971768771, 0.5907404959669675, 0.5904136162857692, 0.5907677477434223, 0.590966811503745, 0.5909071346264644, 0.590039214038794, 0.5928388083349339, 0.5904385154599577, 0.5927467111580564, 0.5897171908008451, 0.5914381457653158, 0.5908000384098329, 0.5912370630881505, 0.5906505017284426, 0.5912421427885539, 0.5915490781640099, 0.5913341127328596, 0.5917067817361246, 0.5918054902054926, 0.5918457437103899, 0.5903517284424812, 0.591007245054734, 0.5907609780103706, 0.5904807350681774, 0.5914615709621662, 0.5917755905511812, 0.5901583661417322, 0.5906395573266756, 0.592750775398502, 0.5920397781832148, 0.5925753192817361, 0.5903005185327443, 0.5910782480314961, 0.5917599481467255, 0.5909999591895524, 0.5915070025926636, 0.5925468768004609, 0.5910944425772997, 0.591972781832149, 0.5914232499519877, 0.5920827851930094, 0.5914028447282504, 0.591371269444978, 0.5915053941809103, 0.592303394468984, 0.5904361556558478, 0.5899423828500097, 0.5902449347032841, 0.5927065560783561, 0.5890753000768195, 0.590521713558671, 0.5910658008450163, 0.5921217639715768, 0.5908134770501249, 0.5901464879009026, 0.5894500888227386, 0.5906910961206068, 0.5927335029767621, 0.5910736508546187, 0.5911122359323987, 0.5913261618974458, 0.5917851762051084, 0.5906096216631459, 0.5911463198578837, 0.5916001584405608, 0.5927808743038218, 0.5900205180526215, 0.591425038409833, 0.5925153183214902, 0.591212684847321, 0.5906905751872479, 0.5916031207989244, 0.5912905583829461, 0.5913175556942577, 0.5908812295947763, 0.5908534712886498, 0.5913069113693106, 0.5914929109852122, 0.5902644757057807, 0.5928819329748416, 0.5917657360284234, 0.5903012723257155, 0.5920175941040906, 0.5911687343960054, 0.5915869022469753, 0.590301421163818, 0.5903917250816209, 0.5915321154215479, 0.5904267500480123, 0.5904512291146533, 0.5897486676589208, 0.5919133546187825, 0.5928649510274631, 0.590958183695026, 0.5899004585173805, 0.5922596480699059, 0.5918386642980603, 0.5915715431150376, 0.5909666914730171, 0.5910192313232187, 0.5919312560015364, 0.5916131121567122, 0.5906239773381985, 0.5910128696946418, 0.5915410697138467, 0.590275288073747, 0.5911202395813328, 0.5913226305934318, 0.5912026982907624, 0.5921217759746495, 0.5921896341463415, 0.5901549476666026, 0.5905791242558095, 0.5917556054349914, 0.5906786033224506, 0.5911719296139811, 0.5900331932974843, 0.5914355146917611, 0.5905784256769733, 0.5923050845016324, 0.5906517284424813, 0.5903211518148647, 0.591839278855387, 0.5911146557518725, 0.5904114701363549, 0.5935068129441138, 0.5910952587862492, 0.5910345160361052, 0.5920847657000191, 0.590287456788938, 0.5915881409640867, 0.5904159184751296, 0.5919046403879392, 0.5901053869790666, 0.5920171571922411, 0.5899328764163626, 0.5916041770693298, 0.5911282744382562, 0.5919044555406184, 0.5907411081236796, 0.5909050028807376, 0.5907566016900326, 0.5924808623007489, 0.590854251488381, 0.5910970832533128, 0.5926751032264259, 0.5911510226618014, 0.5913508498175533, 0.5911064504513156, 0.5917822930670251, 0.5915938856347225, 0.5917488525062417, 0.5912308478970617, 0.5918972873055501, 0.592427700691377, 0.5903512219128096, 0.5910037809679277, 0.5901884914538122, 0.5901870918955253, 0.5915850753792972, 0.5913335653927406, 0.5905059199154983, 0.5921226281928174, 0.592761789418091, 0.5907592159592857, 0.5907293163049739, 0.5907372431342424, 0.5928088414634147, 0.5916861004417131, 0.5904219344152103, 0.5903053413673902, 0.5923724313424237, 0.5909472008834262, 0.5908507513923565, 0.591117229210678, 0.5903497023237949, 0.5916903975417708, 0.5906517428461686, 0.5915523237948914, 0.5916062608027655, 0.5901253096792779, 0.591159880929518, 0.5905497551373152, 0.5920328452083733, 0.5900639955828693, 0.5906466127328598, 0.5905975297676205, 0.5923426565200691, 0.5923851161897447, 0.5917394997119262, 0.5914104186671788, 0.5931446274246206, 0.5907940752832725, 0.5895928125600153, 0.5916652487036681, 0.5913932950835413, 0.5910315872863454, 0.5912948674860764, 0.5903259506433646, 0.5918976810063376, 0.5909405535817168, 0.5892508954292299, 0.5915190464758978, 0.5912272493758401, 0.5912308911081238, 0.5917900734588054, 0.5917749759938544, 0.5897580252544651, 0.5914488092951796, 0.5902227314192433, 0.5923555166122527, 0.5922267548492414, 0.5908790474361437, 0.5926619406568082, 0.5911846648742078, 0.5917502616669867, 0.5897322378528902, 0.5911319545803726, 0.5902200307278662, 0.5911325643364702, 0.5931376728442481, 0.5900221600729786, 0.59188196898406, 0.5914896005377377, 0.5915184991357788, 0.5911827803917803, 0.5902566713078546, 0.5906234155943922, 0.5906993518340694, 0.5909841943537545, 0.5911473185135394, 0.5925066425004801, 0.5913468527943154, 0.5919042610908394, 0.590851317937392, 0.5933714903015173, 0.5916284784904936, 0.5925253816977147, 0.5924612444785865, 0.5919969512195121, 0.5918997263299404, 0.591671648742078, 0.5909186023622048, 0.5922896677549452, 0.5913291290570386, 0.5916773381985788, 0.5901132826003457, 0.5920636642980605, 0.5910102482235452, 0.5904501440368735, 0.5909797316112926, 0.5916003528903399, 0.5915166098521222, 0.5928696034184752, 0.5905118470328404, 0.5917778327251776, 0.5909881385634722, 0.592308356539274, 0.5913715383138084, 0.5916428125600154, 0.590281784136739, 0.5911986076435567, 0.5913603898598041, 0.5908114437295948, 0.5925385202611868, 0.591470076339543, 0.5916476017860571, 0.5929096528711351, 0.5907223137123104, 0.5906718071826388, 0.5902817289226041, 0.5917184367198003, 0.5914022253696946, 0.5912715143076628, 0.5905000672172075, 0.5925366333781448, 0.5909084957749183, 0.5897479474745535, 0.5915714230843097, 0.5905395621279047, 0.5919070410024967, 0.5912912977722298, 0.5911588462646438, 0.5907600729786826, 0.5912556726521989, 0.5917519012867295, 0.5908067937391973, 0.59044137699251, 0.5922407456308816, 0.5908263491453813, 0.590833075667371, 0.59138142644517, 0.5918524054157863, 0.5916612708853467, 0.5926741453812175, 0.5919933094872288, 0.5905926373151527, 0.5905109708085271, 0.5913279575571345, 0.5906931750528134, 0.5903246711158058, 0.5913494286537353, 0.5916103058382947, 0.5889420827731899, 0.5905755977530248, 0.5914538913961974, 0.5909478418475129, 0.5911843215863261, 0.5911597657000193, 0.5911738068945651, 0.5908498151526791, 0.5906389091607451, 0.5908650494526599, 0.5910897277703092, 0.5916468888035338, 0.5904286561359707, 0.5909561575763396, 0.591828166410601, 0.59275273910121, 0.5905639355675053, 0.5897770573266756, 0.5892297700211254, 0.5911622599385442, 0.5900133810255425, 0.5901699659112734, 0.5909750552141348, 0.591490536777415, 0.5925200451315537, 0.5899648694065681, 0.5910930502208566, 0.5909445530055694, 0.5912976834069522, 0.5907003816977147, 0.5907814000384098, 0.5920272757826004, 0.5911643244670636, 0.590839756577684, 0.5894972032840408, 0.5903658272517764, 0.5918045899750336, 0.5912986100441713, 0.5902802189360477, 0.5914704196274246, 0.5916943321490301, 0.5921883618206261, 0.5907969848281159, 0.5913421499903976, 0.5909103850585751, 0.5921242774150183, 0.5930038265796044, 0.5922038025734588, 0.5914639019589015, 0.5934020453236027, 0.590513525062416, 0.5918080972729018, 0.591629208277319, 0.5931294699443058, 0.5909756841751488, 0.5911242342039562, 0.592706632898022, 0.5922820938160169, 0.5911384194353755, 0.5905167658920684, 0.590823221144613, 0.5911643892836566, 0.5914930790282311, 0.5900435639523719, 0.5921797940272711, 0.5912442025158441, 0.5891471360668331, 0.5918104834837719, 0.5922420539658152, 0.5905296379873248, 0.5914792850969848, 0.5927659400806606, 0.5909570145957366, 0.5902331908968695, 0.5921282240253506, 0.590189072402535, 0.5901961302093336, 0.5917567457269061, 0.591853075187248, 0.5908490229498752, 0.5896755209333588, 0.5918444161705396, 0.591464170827732, 0.5911539994238525, 0.5913811623775687, 0.5907624255809488, 0.5902415738429037, 0.5919202947954677, 0.5923347969080084, 0.5913624543883234, 0.5888676637219128, 0.5909368206260803, 0.5915559463222585, 0.5896677333397351, 0.5916670251584406, 0.591471963222585, 0.5910757081812944, 0.5914629921259843, 0.5909183310927598, 0.591391979546764, 0.5927397205684656, 0.590720878144805, 0.5912747527367006, 0.5919806582485116, 0.59217131265604, 0.591100857019397, 0.591280130113309, 0.5931635346648743, 0.591018095832533, 0.5890553821778375, 0.5910783320530056, 0.5912433262915306, 0.5917765555982333, 0.5930545155559823, 0.5908333397349722, 0.5917156880161321, 0.5913280127712695, 0.5921758954292298, 0.5918320674092568, 0.5920830828692145, 0.5920977266180142, 0.5912157384290379, 0.5910411969464182, 0.5902911705396581, 0.5909397661801421, 0.5914020981371231, 0.5916388203380065, 0.592237456788938, 0.5921620942961399, 0.5904941881121567, 0.5920960149798349, 0.5905289730170924, 0.5910296379873247, 0.590888959573651, 0.590942104378721, 0.5896305214134819, 0.5903787281544076, 0.5910724337430382, 0.5910009554445939, 0.5913731995390821, 0.5920952611868638, 0.5899263035337046, 0.5911548444401767, 0.5916074731131169, 0.5902571442289226, 0.5907760970808527, 0.5908701795659689, 0.5929722344920301, 0.591588546667947, 0.5910248583637412, 0.5900294171307856, 0.5908344560207414, 0.5909739077203765, 0.5929418667178797, 0.5904079772421741, 0.5920658224505473, 0.5914621014979835, 0.5900743854426733, 0.5904680454196273, 0.5902263515459958, 0.5918027391012098, 0.5901801061071633, 0.5916641588246591, 0.5916802021317457, 0.5923349001344345, 0.591648612444786, 0.5917008042058767, 0.590532619550605, 0.5891958253312849, 0.5900642548492413, 0.5913771005377376, 0.5920918259074323, 0.5908892644516998, 0.5921360212214327, 0.5922618206260802, 0.5924243014211639, 0.5892314264451701, 0.5914612780871904, 0.5916495318801613, 0.5913073602842327, 0.5897337406376032, 0.5920367510082581, 0.590149858363741, 0.590650064816593, 0.5926058166890724, 0.5921781472056845, 0.5898922580180528, 0.5915220232379489, 0.5919303653735356, 0.5914655079700404, 0.5902432446706357, 0.5911254273093912, 0.5900276382753985, 0.5905699755137315, 0.5903520837334358, 0.5919979426733244, 0.5913011066833109, 0.5906514163625888, 0.589703329652391, 0.5914312800076819, 0.5913143340695218, 0.5903101882081814, 0.5921155991933935, 0.590478941809103, 0.589785992414058, 0.5929815992894182, 0.5920916050508931, 0.5899166074515075, 0.591475064816593, 0.589984777703092, 0.5923104858843865, 0.5913113693105435, 0.5911716583445361, 0.5916756001536393, 0.5919008162089494, 0.5895645189168427, 0.5914005449395044, 0.5904367870174765, 0.5919844440176685, 0.590331284808911, 0.5905265003840984, 0.5922706428845784, 0.5910582509122334, 0.5916785337046283, 0.5915964518916842, 0.591520270789322, 0.591456150374496, 0.5908857859612061, 0.5899822738621087, 0.5923123271557518, 0.5899573218743999, 0.5895184463222585, 0.5901866189744573, 0.5905771965623199, 0.5908201315536777, 0.5911893556750527, 0.5916864053197619, 0.590459424812752, 0.591517939792587, 0.5923239845400423, 0.5904629609179951, 0.5907058695025925, 0.5917904935663529, 0.5908224697522566, 0.5902976521989629, 0.5920780727866334, 0.5916017548492415, 0.5917423684463222, 0.593338275398502, 0.5912185183406953, 0.5909080492606108, 0.5913504801229115, 0.59175130113309, 0.5906854642788554, 0.5904309703284041, 0.5912076579604378, 0.5920668235068177, 0.590904018628769, 0.5910188064144422, 0.5907381121567121, 0.5916648045899752, 0.5907814504513155, 0.5911818777607067, 0.5913660048972537, 0.5908313688304206, 0.5915309079124256, 0.5908272925869021, 0.5913446346264644, 0.5918733315728828, 0.5918988957173036, 0.5911925460917995, 0.5902941064912618, 0.5911144877088536, 0.5909984588054542, 0.590689430094104, 0.5914336806222393, 0.5913996255041291, 0.5904563376224313, 0.5908049500672172, 0.5908810855579029, 0.5901309535241022, 0.589854484347993, 0.5908144685039369, 0.592077071730363, 0.5906041938736317, 0.5913646389475705, 0.590301051469176, 0.5905502544651431, 0.5923639187632035, 0.5912127520645285, 0.5905793931246399, 0.5902825187247935, 0.5915166746687152, 0.5912684367198003, 0.5907758090071057, 0.59102518964855, 0.5907994814672555, 0.5910773622047243, 0.5914250624159784, 0.5907135490685615, 0.5905946802381409, 0.5909597248895717, 0.5907726089879008, 0.5933515531976187, 0.5901206500864221, 0.590343508738237, 0.5923394877088535, 0.5919058863068947, 0.5906181486460534, 0.5905334669675438, 0.5917934679277894, 0.5906888539466102, 0.5921030343768005, 0.591452532648358, 0.5917347032840407, 0.590855715863261, 0.5893390603994623, 0.5918441569041676, 0.5926165714422892, 0.5921159688880354, 0.5913932710773958, 0.591311539754177, 0.5913422700211254, 0.5914987732859612, 0.5925663289802189, 0.5915864269252928, 0.589000151238717, 0.5917588894757058, 0.591023643652775, 0.5917823098713271, 0.590904479546764, 0.5908687151910889, 0.5929073122719416, 0.5923636066833109, 0.5912829364317266, 0.591247592183599, 0.5924834141540234, 0.5922977290186286, 0.5919325043211061, 0.5913883378144805, 0.5916119478586519, 0.5914633810255426, 0.5918938640291914, 0.5912519541002496, 0.5907878768964856, 0.5899758330132514, 0.5922487060687536, 0.5921783392548492, 0.5913622623391588, 0.5911865301517187, 0.5909836902246975, 0.5908649870366813, 0.5915102482235451, 0.5905453500096025, 0.5918815200691376, 0.5920723185135396, 0.5912154839638948, 0.5904828692145189, 0.5913092975801805, 0.5917944761859034, 0.5896540138275398, 0.5916966127328596, 0.5919045299596696, 0.5900203356059152, 0.5917526478778568, 0.5901827803917802, 0.5909256265603995, 0.5904521245438832, 0.591084528039178, 0.5919057734780103, 0.591939214038794, 0.5916454316304974, 0.5898920155559824, 0.5916596288649895, 0.5920422412137508, 0.5907013755521414, 0.5914296451891684, 0.5908142092375649, 0.5893163913961974, 0.5913250480122911, 0.5893286729402727, 0.5920768412713654, 0.5920857307470713, 0.5918819137699252, 0.5906804229882848, 0.5906835725945841, 0.5900013035337046, 0.5919858267716536, 0.5916475681774535, 0.5928935759554447, 0.5912495534856923, 0.5914131217591704, 0.590696036585366, 0.5905586398117919, 0.5923142116381793, 0.5896265916074516, 0.5931285096984827, 0.5914575091223353, 0.5897151694833878, 0.592030353370463, 0.5924899174188593, 0.5908148886114845, 0.5923440416746688, 0.5926306918571154, 0.5923107907624352, 0.5906566953140004, 0.5903214734972152, 0.5924786369310544, 0.5916175124831957, 0.5915508018052622, 0.5907590407144229, 0.5916774582293067, 0.5927579916458613, 0.5911849049356636, 0.5908180982331477, 0.5915952947954676, 0.5901170563664299, 0.5926415450355291, 0.5901275662569618, 0.5898373247551373, 0.5916669099289418, 0.5916447378528903, 0.5912300436911849, 0.5923539778183214, 0.5933872719416171, 0.5908028735356251, 0.5930310207413099, 0.5930857259458422, 0.5915305742270022, 0.5922565632801996, 0.5896890603994622, 0.5916556774534281, 0.5904851954100251, 0.5893433454964471, 0.5915776718840022, 0.5926881961782215, 0.5913756433647015, 0.5911851690032649, 0.5922634458421356, 0.5906159160745151, 0.5923074419051277, 0.5907858771845592, 0.5916538217783752, 0.5919497671403879, 0.5909136666986748, 0.590229561167659, 0.591754457941233, 0.5899011042826964, 0.5914005929517956, 0.5894762387171116, 0.5908727578260035, 0.5916321010178606, 0.5906258810255426, 0.5920465047052045, 0.5915045539658154, 0.5911087814480507, 0.5915849769541003, 0.592233714230843, 0.5918022661801421, 0.5916380281352026]\n"
     ]
    },
    {
     "data": {
      "image/png": "[encoded data removed]",
      "text/plain": [
       "<Figure size 640x480 with 1 Axes>"
      ]
     },
     "metadata": {},
     "output_type": "display_data"
    }
   ],
   "source": [
    "# Replicate this 1000 times\n",
    "mean_danceability_1000 = []\n",
    "for i in range(1000):\n",
    "\tmean_danceability_1000.append(\n",
    "        np.mean(spotify_sample.sample(frac=1, replace=True)['danceability'])\n",
    "\t)\n",
    "  \n",
    "# Print the result\n",
    "print(mean_danceability_1000)\n",
    "\n",
    "# Draw a histogram of the resample means\n",
    "plt.hist(mean_danceability_1000)\n",
    "plt.show()"
   ]
  },
  {
   "cell_type": "markdown",
   "metadata": {},
   "source": [
    "### compare bootstrap and sample distributions\n",
    "\n",
    "interpreting the means\n",
    "\n",
    "bootstrap distribution mean:\n",
    "* usually close to the sample mean \n",
    "* may not be a good estimate of the population mean\n",
    "\n",
    "**bootstrapping cannot correct biases from sampling**\n",
    "\n",
    "standard deviation\n",
    "\n",
    "* sample standard deviation\n",
    "* estimated population standard deviation: `standard_error = np.std(bootstrap_distn, ddof=1)`\n",
    "* *standard error* is the standard deviation of the statistic of interest `standard_error * np.sqrt(500)`\n",
    "    * **Standard error times square root of sample size estimates the population standard deviation**\n",
    "\n",
    "\n",
    "interpreting the standard errors\n",
    "\n",
    "* *estimated standard error* -> standard deviation of the bootstrap distribution for a sample statistic\n",
    "* population std dev ~~ std error * sqrt(sample size)\n",
    "\n"
   ]
  },
  {
   "cell_type": "code",
   "execution_count": 18,
   "metadata": {},
   "outputs": [
    {
     "name": "stdout",
     "output_type": "stream",
     "text": [
      "[55.354, 55.052, 54.046, 54.184, 54.87, 54.532, 55.242, 54.744, 54.702, 55.064, 55.194, 54.584, 54.91, 55.572, 55.464, 54.664, 55.264, 54.316, 54.986, 55.156, 55.13, 55.032, 54.702, 55.384, 54.786, 55.22, 54.554, 55.162, 55.066, 55.484, 55.354, 54.45, 54.566, 54.528, 54.658, 53.864, 54.106, 54.676, 54.614, 55.092, 54.29, 55.178, 54.104, 54.938, 54.518, 55.532, 55.078, 55.524, 54.976, 54.648, 55.45, 54.156, 55.164, 54.458, 55.396, 55.04, 54.636, 54.804, 54.476, 54.498, 54.644, 56.288, 54.978, 55.628, 53.98, 54.51, 54.69, 54.708, 54.84, 54.592, 53.768, 53.334, 54.282, 54.862, 55.102, 55.23, 54.908, 54.708, 54.06, 54.5, 54.668, 55.394, 54.622, 54.718, 55.55, 55.956, 54.558, 55.602, 54.91, 53.48, 54.65, 54.594, 55.372, 55.436, 54.506, 55.39, 54.308, 55.358, 54.038, 54.174, 54.574, 54.618, 54.89, 54.082, 53.834, 54.416, 55.058, 54.656, 54.52, 55.296, 55.092, 54.792, 54.832, 55.018, 54.778, 54.682, 55.218, 54.582, 55.844, 54.19, 55.044, 54.67, 55.16, 55.09, 54.776, 54.682, 54.074, 54.652, 54.252, 54.39, 54.392, 54.342, 55.51, 54.744, 54.946, 53.628, 54.624, 54.528, 54.646, 55.304, 54.61, 54.382, 54.238, 54.694, 53.996, 54.18, 54.678, 54.148, 53.71, 55.028, 55.112, 54.742, 55.054, 54.396, 54.904, 54.446, 54.428, 55.352, 54.658, 55.49, 54.884, 55.034, 54.452, 54.754, 55.234, 54.616, 54.946, 54.634, 54.25, 55.1, 55.408, 55.02, 54.844, 56.114, 54.492, 54.098, 54.904, 55.008, 54.86, 54.002, 54.694, 54.326, 55.128, 54.848, 54.984, 54.45, 55.168, 55.216, 54.318, 55.428, 55.294, 54.634, 55.038, 54.126, 55.452, 54.58, 55.132, 55.336, 54.772, 55.204, 54.642, 55.34, 54.706, 55.046, 55.078, 54.27, 54.298, 54.466, 56.066, 54.262, 54.842, 55.68, 54.448, 54.454, 55.298, 54.866, 54.3, 54.534, 54.264, 54.418, 55.27, 55.184, 54.982, 55.164, 54.444, 55.374, 54.302, 53.648, 54.412, 55.604, 54.022, 54.148, 54.858, 55.198, 54.79, 55.112, 55.75, 55.014, 54.832, 56.308, 54.162, 54.888, 54.474, 56.402, 54.742, 54.56, 54.808, 54.706, 54.378, 54.248, 54.336, 55.29, 54.564, 54.628, 54.496, 54.896, 54.528, 54.444, 55.27, 55.242, 54.244, 54.926, 54.496, 55.172, 54.072, 55.604, 54.66, 54.762, 54.952, 54.254, 54.754, 54.524, 54.67, 55.568, 54.904, 54.314, 54.86, 54.912, 54.386, 54.712, 55.386, 54.414, 53.934, 53.996, 55.766, 54.168, 54.712, 55.658, 54.582, 55.186, 54.678, 54.998, 54.714, 54.968, 54.88, 54.864, 55.01, 54.258, 54.778, 55.146, 54.964, 55.358, 54.228, 55.11, 54.872, 54.614, 55.042, 55.054, 54.062, 55.128, 54.156, 55.322, 55.258, 54.394, 54.216, 55.482, 54.612, 54.844, 55.108, 54.67, 55.678, 55.966, 54.54, 54.764, 54.896, 54.21, 54.41, 54.522, 55.116, 54.654, 54.126, 54.722, 54.606, 55.008, 54.556, 54.79, 54.008, 54.858, 54.294, 53.826, 54.76, 54.24, 54.312, 54.822, 54.252, 55.32, 55.262, 54.894, 54.746, 54.76, 55.238, 55.476, 53.94, 54.666, 55.12, 54.598, 55.256, 54.642, 53.838, 54.23, 54.196, 54.6, 55.53, 54.24, 54.872, 54.202, 55.016, 54.576, 55.006, 54.26, 54.462, 54.862, 55.622, 53.832, 55.468, 54.594, 55.31, 54.726, 55.03, 54.724, 54.358, 55.016, 54.174, 55.196, 55.618, 54.132, 54.232, 54.808, 54.91, 54.448, 54.954, 54.098, 54.578, 53.916, 54.566, 54.972, 55.16, 55.478, 54.568, 55.058, 55.334, 55.392, 55.694, 53.87, 54.92, 54.554, 55.334, 54.428, 54.368, 54.258, 54.524, 54.74, 55.258, 54.706, 55.356, 55.028, 54.466, 55.372, 54.314, 54.8, 55.052, 54.458, 55.076, 54.854, 54.368, 54.854, 54.972, 55.612, 55.046, 55.426, 54.268, 54.752, 54.668, 55.554, 54.768, 55.076, 54.83, 54.766, 55.126, 54.104, 53.706, 55.474, 55.222, 54.916, 54.432, 55.076, 54.816, 54.8, 55.152, 54.504, 55.646, 55.834, 55.512, 55.162, 54.79, 54.626, 55.338, 55.28, 54.006, 55.086, 55.302, 54.734, 54.012, 54.14, 55.268, 55.15, 54.884, 54.624, 54.572, 55.78, 55.4, 54.852, 55.186, 54.124, 54.68, 55.382, 55.38, 55.922, 55.044, 54.586, 54.536, 54.404, 55.604, 55.562, 54.384, 55.004, 55.256, 54.63, 55.532, 55.396, 54.586, 55.008, 54.78, 54.56, 54.962, 54.206, 55.17, 54.702, 55.93, 54.77, 54.922, 54.976, 53.596, 54.83, 55.09, 55.428, 54.506, 55.042, 55.99, 54.172, 55.056, 54.212, 55.186, 54.45, 54.994, 54.452, 54.74, 54.722, 55.258, 54.558, 54.938, 54.8, 54.676, 54.94, 54.208, 54.456, 55.002, 55.858, 53.924, 54.404, 54.124, 54.672, 54.35, 54.126, 55.606, 54.936, 54.052, 54.818, 55.218, 55.55, 54.876, 54.568, 54.584, 54.318, 54.53, 54.86, 55.14, 55.53, 54.928, 55.09, 54.754, 54.442, 54.778, 54.366, 55.256, 54.438, 55.062, 54.444, 55.744, 55.014, 56.294, 55.196, 54.934, 54.37, 55.092, 54.616, 55.232, 55.372, 55.17, 54.59, 54.084, 54.812, 54.634, 54.6, 54.442, 55.01, 55.028, 53.764, 54.632, 54.448, 53.7, 55.558, 54.578, 54.83, 55.102, 54.782, 53.912, 56.336, 55.532, 54.174, 55.15, 54.466, 55.75, 54.55, 54.302, 54.45, 55.752, 54.668, 55.302, 54.782, 55.768, 53.742, 54.508, 53.992, 54.71, 56.266, 54.73, 55.696, 55.116, 54.586, 55.064, 54.412, 54.242, 55.038, 54.574, 54.594, 55.282, 54.948, 55.226, 54.678, 54.036, 54.84, 54.97, 55.11, 54.71, 54.448, 54.934, 54.512, 54.546, 55.608, 54.89, 53.882, 54.868, 55.052, 56.158, 55.082, 55.078, 54.782, 55.348, 55.35, 55.228, 54.25, 54.294, 54.91, 55.664, 54.152, 54.158, 55.424, 55.914, 54.536, 55.278, 55.064, 54.508, 54.168, 54.858, 54.356, 54.956, 54.886, 55.036, 55.058, 55.626, 55.134, 55.466, 55.774, 54.756, 54.318, 54.374, 55.636, 54.892, 54.336, 55.128, 54.038, 54.982, 53.968, 54.47, 55.194, 54.338, 55.002, 55.416, 54.05, 55.432, 55.024, 54.81, 54.864, 54.21, 54.97, 54.364, 54.256, 55.328, 54.558, 55.28, 55.24, 54.954, 54.36, 54.058, 54.634, 54.526, 53.436, 54.69, 55.048, 54.96, 55.336, 55.256, 54.994, 56.11, 55.162, 54.548, 54.852, 54.684, 55.132, 55.226, 54.606, 54.022, 55.174, 55.286, 55.49, 54.25, 54.17, 54.308, 54.336, 54.248, 54.618, 53.876, 54.904, 54.878, 54.51, 54.252, 54.476, 55.29, 54.608, 55.058, 54.626, 55.198, 54.632, 55.106, 55.802, 54.872, 54.28, 54.622, 55.316, 54.162, 54.874, 54.166, 55.026, 54.886, 55.136, 55.288, 54.772, 54.952, 54.104, 55.202, 55.146, 55.764, 54.578, 54.638, 55.022, 54.52, 55.374, 55.054, 54.78, 53.444, 54.694, 55.05, 55.172, 55.69, 54.832, 55.678, 54.656, 53.744, 55.124, 55.212, 54.214, 55.328, 54.482, 55.106, 55.436, 54.652, 55.624, 56.01, 55.682, 54.66, 54.868, 54.564, 54.634, 54.19, 54.694, 54.358, 54.892, 54.214, 53.608, 54.494, 54.68, 53.854, 54.92, 55.382, 54.668, 54.32, 54.822, 55.798, 53.96, 54.77, 54.94, 54.742, 55.212, 55.278, 54.644, 55.008, 54.728, 55.296, 54.712, 54.854, 55.236, 54.792, 54.698, 54.562, 54.446, 54.45, 54.65, 54.976, 55.736, 55.324, 55.734, 54.644, 55.616, 56.15, 55.152, 55.164, 54.678, 53.612, 55.006, 54.712, 54.894, 54.874, 55.166, 54.988, 55.47, 55.182, 54.496, 55.114, 55.182, 54.634, 54.928, 54.592, 55.976, 55.55, 55.352, 55.486, 55.498, 53.96, 54.412, 54.892, 55.602, 54.59, 54.324, 55.23, 55.992, 54.866, 55.256, 55.28, 54.566, 54.504, 54.838, 54.35, 55.158, 55.496, 54.692, 54.928, 55.162, 54.612, 54.61, 54.936, 54.202, 55.194, 55.358, 55.008, 54.522, 54.98, 54.748, 54.946, 54.616, 55.142, 54.7, 55.284, 54.506, 55.04, 55.002, 54.382, 54.864, 53.93, 54.344, 54.338, 54.89, 54.882, 54.93, 54.336, 54.984, 54.872, 54.89, 54.954, 55.192, 54.63, 55.018, 55.542, 54.57, 54.318, 55.418, 54.896, 55.384, 54.48, 55.408, 54.708, 55.156, 55.588, 54.758, 54.662, 55.214, 54.08, 54.488, 54.364, 54.966, 54.962, 54.998, 54.518, 55.038, 54.35, 54.864, 54.448, 54.286, 55.194, 54.466, 54.624, 54.984, 54.762, 54.326, 55.65, 55.212, 54.942, 55.282, 54.588, 55.028, 53.96, 55.264, 54.326, 53.938, 55.52, 54.914, 54.588, 55.032, 54.136, 55.088, 55.35, 54.408, 55.508, 54.938, 54.602, 54.178, 54.19, 53.46, 54.29, 54.712, 54.982, 54.246, 54.514, 54.894, 54.77, 54.29, 54.548, 55.308, 54.498, 54.942, 55.166, 54.648, 54.738, 55.304, 55.204, 55.06, 55.756, 55.552, 55.428, 53.858, 54.692, 55.632, 55.076, 55.094, 55.138, 54.84, 55.644, 55.126, 55.342, 55.47, 54.812, 54.692, 55.32, 54.518, 54.858, 54.736, 54.846, 55.392, 54.8, 55.112, 55.75, 55.34, 54.834, 54.866, 55.226, 54.59, 54.078, 54.596, 54.722, 54.858, 54.59, 55.026, 54.27, 54.204, 55.224, 55.21, 54.784, 55.478, 55.448, 54.332, 55.296, 54.264, 54.796, 55.402, 54.486, 54.684, 55.14, 54.668, 54.902, 54.738, 54.474, 54.676, 55.278, 54.818, 54.834, 54.36, 55.742, 55.502, 54.984, 54.8, 55.876, 54.596, 54.87, 54.88, 54.722, 55.198, 54.488, 55.444, 55.588, 54.328, 54.62, 55.106, 55.054, 54.888, 55.234, 55.006, 55.266, 54.358, 55.132, 55.534, 55.058, 54.338, 54.498, 55.922, 54.036, 54.318, 54.838, 55.038, 55.328, 54.16, 55.128, 55.428, 55.004, 55.502, 54.894, 55.372, 54.052, 55.428, 55.004, 54.084, 54.414, 54.062, 54.984, 53.564, 54.872, 55.768, 54.91, 55.048, 54.694, 54.718, 54.35, 54.82, 54.274, 54.152, 54.388, 54.694, 54.38, 54.366, 55.67, 54.632, 54.438, 55.16, 53.852, 54.722, 55.078, 55.266, 54.594, 55.548, 55.036, 54.988, 54.662, 54.45, 55.706, 54.904, 54.862, 54.912, 55.138, 54.33, 55.526, 55.444, 54.846, 55.338, 54.748, 55.232, 54.354, 54.948, 54.33, 54.788, 55.404, 54.18, 54.712, 54.876, 54.24, 54.404, 54.778, 54.456, 54.664, 54.008, 53.958, 54.626, 54.722, 54.582, 54.798, 55.104, 53.924, 55.464, 54.064, 54.09, 54.702, 54.696, 54.588, 54.196, 54.264, 53.982, 55.204, 54.502, 55.202, 54.836, 54.304, 55.15, 53.912, 55.35, 55.066, 55.004, 54.85, 54.59, 54.764, 54.434, 54.908, 54.67, 55.494, 54.568, 55.026, 55.23, 54.554, 55.194, 55.168, 54.998, 55.866, 55.154, 54.772, 54.332, 54.284, 54.282, 54.456, 54.244, 54.48, 54.826, 54.678, 54.938, 55.234, 55.52, 55.464, 54.482, 54.892, 54.156, 54.39, 54.47, 54.582, 54.512, 54.636, 53.532, 55.436, 55.31, 56.136, 55.08, 54.768, 55.05, 53.61, 55.454, 55.002, 54.686, 54.168, 54.454, 54.67, 54.69, 54.484, 55.032, 55.418, 55.224, 54.126, 55.146, 54.462, 54.932, 55.006, 55.106, 54.696, 54.268, 54.46, 55.498, 54.908, 54.48, 54.906, 55.576, 55.248, 54.74, 54.106, 55.414, 55.156, 54.942, 55.166, 54.958, 54.802, 55.464, 54.398, 55.2, 53.964, 54.462, 55.386, 54.594, 54.37, 55.792, 55.422, 55.106, 54.9, 54.196, 54.578, 55.138, 55.154, 55.25, 54.104, 54.836, 55.176, 55.336, 54.486, 55.156, 53.888, 54.872, 54.43, 53.96, 54.86, 54.756, 54.848, 55.156, 55.506, 54.62, 55.074, 55.15, 54.23, 54.88, 55.226, 55.26, 54.558, 54.498, 54.556, 54.722, 54.272, 54.79, 54.726, 54.876, 55.242, 54.484, 54.816, 54.826, 55.218, 54.788, 54.392, 55.288, 54.646, 55.268, 54.694, 54.888, 55.67, 54.58, 55.044, 54.23, 55.076, 54.864, 55.126, 54.328, 54.878, 54.928, 55.65, 54.244, 54.236, 53.66, 54.326, 55.292, 55.512, 54.66, 54.584, 54.85, 55.308, 55.526, 55.258, 54.228, 55.51, 54.262, 55.126, 54.416, 55.25, 54.818, 55.068, 54.75, 55.4, 54.888, 55.698, 54.636, 53.71, 54.462, 53.83, 54.444, 55.314, 54.996, 54.978, 55.014, 55.202, 55.248, 54.174, 54.664, 55.086, 55.53, 54.01, 55.112, 54.832, 55.372, 54.706, 55.092, 54.85, 55.246, 54.304, 54.876, 54.786, 55.804, 55.216, 53.892, 54.942, 54.626, 54.884, 53.416, 54.472, 54.118, 54.744, 54.38, 54.794, 55.06, 54.238, 54.496, 54.198, 54.758, 55.406, 55.18, 54.538, 55.13, 55.232, 55.312, 55.632, 54.038, 54.822, 55.316, 54.446, 54.488, 54.71, 54.5, 53.986, 55.026, 54.526, 54.366, 54.584, 54.308, 55.7, 54.732, 55.698, 53.838, 55.568, 55.362, 55.25, 55.092, 55.008, 53.896, 54.898, 54.35, 53.74, 54.094, 54.626, 55.226, 55.41, 54.602, 55.126, 54.354, 55.858, 55.554, 54.266, 55.494, 54.376, 55.612, 54.324, 54.264, 55.662, 55.248, 54.12, 54.67, 54.608, 55.35, 55.5, 54.8, 54.688, 54.546, 53.938, 56.654, 54.986, 54.972, 55.522, 55.644, 53.986, 55.308, 54.266, 54.936, 55.712, 55.216, 55.542, 55.272, 54.686, 54.698, 54.75, 54.41, 55.392, 53.716, 55.904, 54.594, 55.184, 54.738, 54.296, 55.586, 54.724, 55.462, 54.87, 55.034, 54.442, 55.044, 55.208, 54.178, 54.736, 55.296, 55.05, 54.832, 54.754, 54.256, 54.43, 55.27, 55.076, 54.712, 54.912, 54.474, 54.776, 55.326, 55.128, 55.034, 55.452, 55.068, 54.534, 54.948, 55.324, 54.932, 55.032, 55.258, 54.848, 54.192, 55.3, 54.644, 54.988, 54.922, 54.04, 54.938, 54.358, 55.508, 54.726, 53.982, 54.822, 55.034, 54.664, 54.152, 55.168, 54.816, 54.682, 55.982, 54.534, 55.034, 55.192, 54.236, 54.796, 54.96, 54.706, 55.13, 54.546, 54.47, 55.106, 54.408, 54.82, 53.964, 54.574, 55.764, 54.848, 54.322, 55.854, 55.354, 54.642, 54.884, 54.88, 54.618, 54.598, 54.396, 54.946, 54.424, 55.068, 54.942, 54.948, 54.762, 55.41, 55.452, 53.986, 54.862, 55.038, 54.728, 54.646, 55.034, 54.228, 54.32, 55.732, 54.522, 54.794, 54.698, 55.284, 55.276, 55.022, 54.514, 54.42, 54.372, 54.354, 54.5, 55.884, 54.228, 55.346, 53.41, 53.91, 53.984, 54.68, 54.496, 54.85, 55.148, 55.476, 55.262, 54.988, 55.268, 53.77, 54.048, 55.15, 54.832, 54.788, 54.506, 55.142, 55.034, 55.164, 54.384, 54.378, 55.182, 55.2, 55.582, 54.07, 54.16, 53.986, 54.482, 54.452, 54.912, 55.412, 55.878, 55.752, 54.304, 55.168, 55.386, 55.296, 54.98, 54.718, 54.64, 54.93, 53.734, 54.126, 55.214, 54.176, 55.19, 54.816, 55.108, 55.298, 55.114, 55.244, 54.468, 55.372, 55.384, 54.82, 55.09, 54.668, 54.216, 53.618, 55.552, 54.6, 55.002, 54.668, 54.506, 54.566, 55.906, 54.27, 54.67, 55.088, 55.108, 54.392, 54.964, 54.69, 54.098, 54.84, 54.872, 54.362, 54.754, 54.532, 54.376, 54.812, 54.802, 54.616, 55.652, 54.692, 55.462, 55.256, 53.538, 54.774, 55.448, 55.022, 55.526, 55.604, 55.27, 54.21, 55.448, 53.904, 54.9, 55.122, 54.81, 54.742, 55.392, 54.344, 55.028, 55.902, 54.65, 55.612, 53.798, 54.058, 54.112, 54.896, 54.268, 55.08, 54.064, 55.336, 55.202, 55.378, 54.496, 55.084, 54.396, 55.134, 55.356, 54.898, 54.554, 54.546, 55.136, 55.394, 55.464, 55.292, 55.65, 55.338, 55.522, 54.73, 55.41, 54.88, 54.074, 54.864, 54.3, 55.252, 54.608, 55.012, 54.994, 54.204, 54.47, 54.894, 54.942, 55.598, 53.438, 55.066, 54.754, 54.298, 54.33, 54.894, 54.748, 55.1, 55.228, 54.786, 54.534, 55.174, 55.106, 54.476, 54.69, 55.402, 55.326, 55.018, 54.83, 55.716, 54.424, 54.78, 55.692, 53.842, 54.744, 54.49, 53.732, 54.874, 54.844, 55.258, 55.074, 54.832, 54.964, 54.82, 54.198, 54.812, 54.508, 54.902, 55.18, 54.894, 55.982, 53.604, 54.726, 54.624, 54.942, 54.744, 55.044, 55.118, 55.248, 55.03, 55.418, 55.352, 55.06, 55.03, 54.128, 54.402, 54.568, 54.478, 55.002, 55.802, 55.782, 54.724, 54.96, 54.518, 54.268, 54.898, 55.182, 55.106, 55.866, 54.746, 54.318, 54.318, 55.58, 53.968, 54.938, 55.202, 54.484, 54.606, 54.958, 54.73, 54.816, 54.592, 55.066, 54.382, 54.464, 54.312, 54.368, 55.136, 54.896, 54.246, 55.116, 55.544, 54.288, 54.908, 54.434, 55.224, 55.654, 55.004, 55.44, 54.408, 54.848, 55.116, 54.364, 54.662, 55.08, 54.998, 54.132, 53.828, 54.634, 54.516, 54.634, 55.012, 55.256, 55.438, 54.11, 54.562, 55.13, 54.896, 54.698, 54.558, 55.206, 55.148, 54.306, 54.012, 55.1, 54.654, 53.626, 55.272, 54.156, 55.112, 54.434, 55.258, 54.474, 53.562, 54.598, 55.02, 55.038, 55.024, 54.912, 55.242, 54.98, 55.212, 54.536, 55.626, 54.678, 55.064, 54.374, 55.312, 54.23, 55.16, 55.13, 55.138, 55.638, 54.722, 54.48, 55.534, 54.99, 54.838, 55.678, 54.698, 54.64, 55.366, 55.612, 54.612, 55.104, 55.918, 54.492, 55.076, 54.294, 55.622, 54.168, 54.922, 54.426, 54.882, 54.33, 54.576, 54.998, 54.93, 55.19, 54.338, 54.576, 55.16, 54.472, 54.364, 54.612, 54.15, 55.03, 55.26, 55.446, 55.144, 55.016, 54.438, 55.222, 55.256, 54.67, 53.89, 55.51, 54.044, 55.002, 54.32, 54.18, 54.456, 55.66, 53.996, 55.26, 54.312, 54.882, 54.426, 55.406, 55.572, 55.486, 54.698, 55.028, 55.344, 54.98, 55.208, 55.406, 55.188, 54.922, 55.17, 54.708, 54.648, 53.856, 54.94, 54.336, 55.178, 54.122, 54.854, 54.558, 55.376, 54.69, 54.852, 54.566, 55.03, 55.954, 54.936, 54.598, 55.378, 54.268, 54.81, 55.144, 55.176, 55.126, 54.858, 54.304, 53.628, 54.336, 55.592, 54.824, 55.006, 54.436, 55.416, 54.514, 55.856, 54.102, 55.0, 54.54, 55.258, 54.832, 54.48, 54.802, 54.668, 54.514, 55.182, 55.252, 54.806, 55.084, 55.154, 55.538, 55.386, 54.692, 54.646, 55.32, 55.218, 55.082, 55.332, 54.776, 55.948, 53.988]\n"
     ]
    }
   ],
   "source": [
    "mean_popularity_2000_samp = []\n",
    "\n",
    "# Generate a sampling distribution of 2000 replicates\n",
    "for i in range(2000):\n",
    "    mean_popularity_2000_samp.append(\n",
    "    \t# Sample 500 rows and calculate the mean popularity \n",
    "    \tspotify_population.sample(n=500)['popularity'].mean()\n",
    "    )\n",
    "\n",
    "# Print the sampling distribution results\n",
    "print(mean_popularity_2000_samp)"
   ]
  },
  {
   "cell_type": "code",
   "execution_count": 21,
   "metadata": {},
   "outputs": [
    {
     "name": "stdout",
     "output_type": "stream",
     "text": [
      "[55.378, 54.38, 54.682, 54.868, 54.72, 54.672, 54.142, 55.004, 54.814, 54.54, 53.998, 55.188, 54.69, 56.018, 55.17, 55.154, 54.95, 54.712, 54.6, 54.85, 54.396, 53.788, 54.08, 55.15, 55.614, 54.886, 54.89, 55.218, 55.82, 54.72, 54.15, 55.022, 54.906, 54.472, 54.802, 55.078, 55.782, 54.306, 54.61, 54.836, 55.062, 55.062, 54.852, 55.504, 54.744, 54.578, 54.766, 55.488, 55.326, 55.168, 54.514, 54.22, 55.362, 54.766, 55.012, 54.736, 55.28, 54.34, 54.26, 54.41, 55.41, 54.86, 54.818, 54.482, 54.666, 55.158, 54.544, 54.706, 54.816, 55.146, 54.534, 55.236, 55.014, 54.232, 54.556, 54.318, 54.778, 54.86, 54.872, 55.096, 54.68, 55.644, 54.516, 55.324, 55.062, 54.346, 54.016, 54.572, 54.976, 54.464, 55.56, 55.398, 54.756, 54.584, 54.946, 55.42, 55.126, 54.486, 53.754, 55.318, 54.61, 54.71, 55.162, 55.006, 54.88, 54.42, 54.672, 54.76, 54.888, 55.296, 55.522, 55.156, 54.496, 54.788, 55.906, 55.088, 54.69, 54.862, 54.916, 54.306, 54.98, 55.9, 55.052, 55.156, 54.922, 54.122, 55.078, 54.594, 54.868, 56.51, 54.922, 54.528, 55.098, 55.218, 54.238, 55.636, 54.414, 54.432, 53.74, 55.43, 54.88, 54.576, 54.298, 55.232, 55.598, 55.096, 55.732, 55.298, 55.53, 54.866, 55.468, 54.312, 54.732, 55.366, 55.002, 54.64, 55.422, 54.822, 54.778, 54.56, 55.448, 54.748, 55.766, 54.822, 55.172, 53.902, 54.098, 54.702, 55.448, 54.77, 54.636, 55.752, 55.138, 54.622, 54.884, 55.026, 55.604, 54.604, 55.526, 55.476, 54.816, 54.218, 54.742, 54.806, 55.164, 55.324, 55.52, 54.5, 55.044, 55.228, 55.36, 55.09, 54.47, 54.81, 55.106, 55.094, 54.608, 55.068, 55.134, 55.52, 55.04, 54.826, 55.102, 55.608, 55.744, 55.436, 55.11, 54.09, 54.094, 55.196, 54.414, 55.76, 54.272, 54.154, 55.476, 54.236, 54.58, 55.76, 55.756, 54.778, 54.364, 55.104, 54.6, 54.9, 55.182, 55.618, 54.45, 55.064, 54.778, 54.69, 54.89, 55.77, 55.096, 55.31, 54.216, 55.378, 55.002, 55.486, 54.55, 54.136, 54.628, 55.386, 54.892, 54.672, 54.696, 54.54, 55.016, 54.564, 55.442, 54.926, 55.494, 55.138, 55.408, 54.472, 54.566, 55.02, 54.896, 55.216, 54.436, 54.32, 54.808, 54.886, 55.058, 55.06, 54.31, 54.238, 54.844, 54.758, 55.098, 54.558, 55.436, 54.902, 54.188, 54.89, 54.788, 54.642, 54.79, 55.788, 55.168, 54.146, 53.926, 54.558, 54.17, 55.476, 54.728, 54.224, 54.014, 55.136, 54.65, 54.706, 55.242, 54.698, 55.176, 54.67, 54.676, 55.354, 55.778, 54.07, 54.414, 54.61, 55.28, 55.762, 54.752, 55.35, 55.076, 54.994, 54.598, 54.974, 54.73, 54.274, 55.09, 54.258, 54.828, 54.97, 55.474, 54.21, 54.674, 55.416, 54.97, 54.224, 55.29, 55.402, 54.714, 54.954, 54.998, 54.96, 54.88, 54.936, 54.462, 56.01, 54.692, 54.724, 54.614, 54.912, 55.704, 54.086, 54.538, 55.902, 54.688, 54.744, 54.534, 54.736, 54.854, 55.014, 53.686, 54.072, 55.294, 55.04, 54.108, 53.894, 54.924, 54.624, 53.972, 54.62, 55.802, 55.414, 54.956, 54.378, 54.988, 55.006, 54.98, 55.508, 54.906, 54.622, 54.568, 54.998, 54.88, 54.582, 55.462, 55.116, 54.884, 54.994, 54.57, 54.786, 55.206, 55.032, 55.38, 54.504, 55.23, 55.296, 55.086, 54.544, 54.848, 55.19, 55.098, 54.776, 55.156, 53.974, 55.456, 54.332, 54.422, 54.612, 54.914, 54.926, 55.482, 55.12, 55.826, 54.844, 55.208, 54.926, 53.796, 55.004, 54.574, 54.838, 54.516, 54.478, 54.882, 54.378, 54.82, 54.614, 54.8, 54.664, 54.454, 55.344, 54.586, 54.796, 55.462, 55.478, 55.464, 54.798, 55.602, 54.274, 54.898, 55.112, 54.028, 54.436, 55.104, 55.014, 54.29, 55.372, 55.288, 55.528, 55.03, 55.654, 54.742, 54.844, 54.706, 55.084, 54.614, 55.228, 55.432, 54.666, 54.948, 54.41, 55.784, 55.574, 54.452, 55.674, 54.016, 54.79, 55.23, 55.196, 55.768, 55.158, 54.484, 54.862, 55.066, 54.816, 55.014, 54.81, 54.55, 54.68, 54.55, 55.796, 55.934, 55.622, 55.04, 54.626, 55.744, 54.676, 54.642, 54.684, 55.006, 55.106, 54.554, 55.072, 54.684, 55.034, 54.522, 54.908, 54.29, 54.276, 54.604, 55.37, 54.276, 55.128, 55.186, 54.01, 55.1, 55.082, 53.916, 55.13, 54.342, 54.88, 54.938, 54.966, 54.54, 55.256, 55.178, 55.326, 54.814, 54.566, 55.37, 55.114, 55.124, 54.774, 55.018, 54.67, 55.196, 55.688, 55.236, 55.358, 55.85, 54.65, 55.054, 54.584, 54.488, 54.76, 54.816, 55.208, 55.042, 54.824, 55.054, 55.198, 55.46, 55.154, 55.358, 55.502, 54.484, 54.196, 55.074, 54.744, 55.534, 54.802, 56.036, 55.936, 54.452, 54.282, 54.322, 55.064, 54.806, 54.324, 55.422, 54.948, 54.382, 54.93, 55.058, 54.886, 54.776, 54.466, 54.772, 55.02, 55.126, 54.69, 54.608, 55.296, 55.182, 54.578, 54.218, 54.42, 53.836, 55.388, 54.284, 55.23, 54.242, 54.836, 54.166, 54.968, 54.306, 54.57, 54.69, 56.174, 54.77, 53.994, 54.764, 53.97, 55.36, 55.034, 54.278, 54.798, 55.14, 55.108, 54.734, 54.732, 54.842, 54.606, 55.104, 55.262, 55.362, 54.102, 53.894, 54.742, 54.786, 54.218, 56.252, 55.452, 54.494, 55.412, 54.578, 55.222, 54.15, 54.254, 56.014, 55.016, 54.548, 55.432, 54.516, 54.866, 54.792, 54.89, 56.07, 54.85, 54.432, 55.254, 54.388, 54.578, 53.848, 55.008, 55.042, 55.01, 54.554, 53.974, 54.718, 54.602, 55.33, 55.036, 54.294, 54.954, 54.494, 55.076, 54.698, 54.322, 54.898, 54.588, 55.068, 55.334, 54.47, 54.428, 54.608, 54.69, 54.594, 53.982, 53.582, 54.982, 54.74, 54.844, 54.628, 54.648, 54.83, 54.61, 55.116, 54.236, 54.35, 54.648, 54.512, 54.282, 54.998, 55.774, 55.162, 55.2, 54.79, 54.536, 54.492, 54.416, 54.934, 55.058, 55.038, 55.31, 55.204, 55.144, 54.528, 55.21, 55.168, 54.828, 55.558, 55.344, 55.082, 55.798, 54.266, 55.428, 53.952, 56.092, 54.912, 54.406, 55.012, 56.258, 54.894, 54.658, 54.038, 54.882, 53.846, 54.616, 54.62, 54.416, 55.194, 54.296, 54.922, 54.532, 54.568, 54.338, 55.412, 55.772, 55.102, 55.038, 54.83, 55.364, 55.006, 55.702, 54.876, 54.302, 54.67, 55.064, 54.76, 54.26, 55.164, 54.824, 55.57, 54.734, 55.314, 55.482, 55.452, 54.594, 54.826, 54.864, 55.01, 54.846, 54.422, 54.946, 54.792, 54.784, 54.274, 54.266, 55.022, 55.156, 54.358, 55.568, 54.25, 54.028, 55.106, 55.244, 54.162, 54.326, 54.964, 54.81, 54.172, 55.038, 54.26, 55.68, 55.09, 54.838, 55.488, 54.884, 54.168, 56.082, 55.0, 53.992, 54.438, 55.714, 54.876, 54.998, 55.182, 55.648, 54.556, 54.682, 54.212, 54.95, 55.862, 54.904, 54.406, 55.004, 54.602, 55.102, 55.402, 54.54, 54.568, 54.76, 55.426, 55.968, 55.854, 54.614, 54.57, 54.572, 54.93, 55.096, 55.126, 55.432, 53.884, 54.328, 54.564, 54.632, 55.138, 55.232, 55.54, 54.212, 53.998, 55.416, 55.268, 54.642, 53.816, 54.202, 54.54, 54.336, 54.866, 55.024, 55.57, 54.842, 53.854, 55.54, 54.908, 55.054, 55.02, 55.538, 54.498, 54.454, 54.436, 54.154, 54.902, 55.668, 54.714, 55.008, 54.424, 55.458, 54.036, 55.746, 54.358, 54.726, 54.622, 55.446, 55.112, 55.498, 54.516, 53.916, 55.276, 55.142, 54.562, 54.554, 54.626, 55.534, 54.444, 54.108, 55.72, 55.806, 54.194, 54.932, 54.7, 55.354, 54.272, 54.578, 54.736, 55.11, 54.766, 54.902, 55.318, 55.23, 55.046, 55.312, 54.972, 55.726, 54.466, 54.714, 55.596, 54.714, 54.702, 54.11, 54.18, 54.546, 54.788, 54.9, 54.802, 54.646, 54.496, 54.18, 55.924, 55.432, 55.47, 55.018, 55.656, 54.448, 55.286, 55.218, 55.824, 54.992, 55.332, 55.164, 54.42, 55.21, 54.42, 54.754, 54.47, 54.932, 55.268, 54.474, 54.996, 54.934, 55.172, 54.756, 55.55, 54.0, 54.518, 54.976, 54.93, 54.948, 54.756, 54.478, 54.75, 55.396, 55.52, 55.296, 54.56, 55.294, 54.81, 55.114, 55.1, 55.078, 54.514, 54.846, 54.83, 55.052, 53.482, 53.884, 55.002, 54.67, 54.238, 54.832, 56.406, 55.426, 54.316, 55.43, 55.07, 54.614, 55.114, 54.648, 54.104, 55.112, 55.18, 54.446, 54.536, 54.204, 55.566, 54.558, 54.974, 55.358, 55.082, 55.576, 54.888, 55.202, 55.15, 55.014, 55.16, 54.322, 54.812, 54.536, 54.628, 54.87, 54.382, 54.63, 55.142, 54.99, 54.89, 54.436, 56.09, 54.958, 55.138, 55.546, 53.898, 54.91, 54.802, 54.328, 55.104, 55.244, 55.004, 54.49, 54.88, 54.964, 54.506, 55.34, 55.398, 54.662, 55.564, 54.366, 54.878, 54.724, 55.174, 54.404, 54.726, 55.012, 55.392, 55.208, 54.71, 54.822, 54.566, 55.43, 54.658, 54.984, 53.766, 54.39, 55.152, 55.032, 56.388, 54.344, 55.144, 54.69, 53.66, 54.41, 54.588, 54.586, 54.49, 54.852, 54.788, 55.074, 54.89, 55.044, 54.87, 55.276, 54.932, 54.93, 54.488, 55.478, 54.99, 55.082, 54.35, 54.78, 53.73, 54.056, 54.828, 55.186, 54.658, 55.226, 56.112, 55.048, 55.264, 54.786, 53.888, 54.922, 55.248, 55.02, 54.434, 54.962, 54.898, 54.414, 54.886, 54.378, 55.354, 54.924, 54.762, 54.596, 55.258, 54.626, 55.054, 54.87, 55.824, 55.194, 55.138, 55.306, 54.586, 54.876, 54.92, 54.434, 54.928, 55.258, 55.578, 54.698, 54.782, 54.394, 54.942, 55.026, 55.648, 54.842, 55.622, 54.84, 55.592, 53.856, 54.98, 54.058, 55.182, 54.79, 55.394, 55.374, 55.266, 54.17, 54.766, 54.134, 55.246, 55.0, 55.778, 55.342, 54.68, 55.2, 53.962, 55.404, 54.946, 55.39, 55.442, 54.252, 54.486, 54.614, 54.716, 55.464, 55.328, 55.126, 54.748, 54.448, 55.106, 55.314, 53.67, 55.018, 55.24, 55.004, 55.134, 54.476, 55.136, 55.22, 53.41, 55.348, 54.8, 54.71, 54.504, 54.948, 54.354, 55.428, 54.454, 55.228, 54.782, 54.64, 55.18, 55.088, 55.614, 54.142, 54.904, 54.734, 54.378, 54.118, 54.8, 55.084, 55.506, 55.784, 53.652, 54.77, 55.384, 55.274, 54.64, 54.522, 54.748, 54.882, 54.234, 55.464, 54.216, 53.566, 55.2, 55.166, 54.634, 55.846, 55.984, 55.062, 54.836, 54.162, 55.582, 53.896, 54.848, 54.868, 54.55, 54.26, 54.984, 54.828, 54.946, 55.484, 54.824, 55.062, 55.022, 54.416, 55.758, 54.692, 54.62, 54.788, 54.27, 54.65, 55.53, 54.222, 55.042, 55.328, 55.206, 55.402, 55.038, 53.914, 54.844, 55.276, 54.64, 55.054, 55.034, 54.986, 53.772, 53.832, 55.118, 56.494, 55.828, 54.73, 54.474, 54.82, 54.07, 54.514, 54.378, 55.18, 53.996, 54.738, 54.24, 54.914, 54.632, 54.382, 54.056, 53.724, 54.918, 55.188, 55.656, 54.78, 54.438, 54.68, 54.85, 54.904, 54.838, 54.644, 54.344, 55.398, 54.704, 54.816, 54.906, 54.784, 54.266, 54.438, 54.65, 54.3, 54.768, 55.08, 54.942, 54.494, 54.352, 55.242, 54.122, 54.944, 55.348, 53.958, 55.614, 54.74, 55.26, 54.602, 53.88, 55.39, 55.084, 54.892, 55.226, 55.38, 55.496, 55.292, 55.266, 54.19, 54.286, 54.89, 54.818, 55.01, 55.08, 54.258, 53.878, 55.168, 54.788, 55.244, 54.132, 54.234, 54.254, 55.002, 55.18, 55.416, 55.812, 54.54, 54.626, 53.824, 54.578, 54.654, 54.626, 54.912, 54.418, 54.868, 54.312, 54.9, 55.386, 55.352, 54.59, 55.196, 54.706, 55.132, 55.28, 54.88, 54.304, 54.11, 54.026, 54.384, 54.492, 54.762, 55.434, 55.11, 55.67, 55.512, 55.434, 54.404, 55.252, 54.662, 55.126, 54.654, 54.644, 55.092, 53.752, 54.992, 55.082, 54.734, 54.522, 54.074, 54.88, 54.006, 54.858, 54.722, 55.08, 54.854, 54.424, 55.14, 53.932, 53.992, 54.562, 54.65, 54.91, 54.826, 56.066, 55.46, 55.946, 54.654, 54.308, 54.476, 55.32, 54.266, 55.136, 55.186, 55.478, 54.224, 55.232, 54.888, 54.79, 54.614, 55.064, 54.676, 55.53, 55.216, 54.096, 55.056, 55.38, 54.758, 55.51, 55.268, 54.688, 54.328, 54.798, 54.774, 54.722, 55.136, 55.392, 55.81, 55.638, 54.818, 54.074, 53.942, 55.25, 54.32, 54.522, 53.944, 55.194, 55.18, 54.762, 54.946, 54.874, 55.478, 54.674, 55.154, 53.764, 55.154, 54.12, 55.138, 54.55, 54.52, 55.032, 53.85, 54.73, 54.676, 55.584, 55.212, 54.964, 54.342, 54.424, 54.632, 55.308, 55.688, 54.648, 54.564, 54.316, 54.994, 54.298, 55.008, 54.758, 55.23, 55.164, 55.484, 55.238, 55.784, 54.454, 54.416, 54.878, 55.076, 56.07, 54.992, 55.938, 54.994, 54.884, 54.95, 54.462, 55.108, 54.424, 54.214, 55.026, 54.614, 54.568, 54.772, 54.804, 54.704, 54.686, 55.056, 55.414, 54.734, 53.452, 55.522, 54.554, 55.042, 54.806, 55.076, 54.152, 54.974, 55.23, 55.634, 55.044, 55.598, 54.37, 55.042, 54.542, 54.698, 54.928, 55.012, 54.414, 54.34, 54.66, 55.468, 54.494, 55.542, 54.404, 55.808, 55.186, 55.474, 54.67, 55.47, 55.476, 55.902, 54.07, 54.504, 55.026, 55.412, 54.348, 53.972, 55.348, 54.348, 55.108, 54.612, 54.318, 55.362, 54.952, 53.938, 54.43, 55.728, 55.132, 55.606, 54.94, 54.786, 53.648, 55.312, 55.25, 55.376, 54.322, 54.946, 54.44, 54.708, 55.01, 54.96, 54.074, 55.328, 55.312, 54.926, 54.616, 54.374, 55.052, 55.064, 54.342, 55.62, 54.95, 54.478, 54.446, 54.134, 55.482, 55.274, 54.842, 54.822, 54.794, 55.518, 54.41, 54.972, 54.656, 55.32, 53.986, 54.814, 54.506, 54.386, 55.466, 55.59, 54.92, 54.026, 55.48, 54.044, 53.752, 54.966, 55.21, 55.766, 54.604, 53.77, 55.396, 54.37, 54.178, 55.124, 55.502, 55.248, 53.932, 54.588, 54.972, 53.792, 54.784, 54.702, 55.608, 54.844, 54.598, 53.968, 55.2, 54.428, 55.006, 55.036, 54.64, 54.398, 54.386, 54.258, 54.318, 55.194, 54.394, 54.88, 55.202, 55.03, 54.58, 55.086, 56.024, 55.142, 53.766, 54.702, 55.122, 54.468, 54.606, 55.586, 55.414, 55.36, 54.606, 54.692, 54.976, 55.578, 54.938, 55.372, 55.348, 54.37, 55.804, 55.104, 54.094, 55.09, 55.37, 54.722, 55.984, 54.924, 55.324, 54.264, 54.79, 54.348, 55.28, 54.54, 54.936, 54.836, 54.534, 54.66, 54.654, 54.512, 54.278, 54.934, 55.148, 55.06, 55.69, 54.33, 55.132, 55.572, 55.34, 54.762, 55.532, 55.144, 55.006, 54.716, 55.178, 55.574, 54.946, 55.298, 55.366, 54.748, 54.378, 54.926, 54.508, 54.384, 53.97, 54.404, 54.886, 55.018, 55.238, 54.934, 54.778, 55.14, 54.092, 54.83, 55.716, 54.47, 54.35, 54.788, 55.242, 55.076, 55.186, 55.438, 54.112, 55.202, 53.932, 54.648, 55.076, 54.606, 55.656, 54.036, 55.292, 54.026, 55.0, 53.556, 54.152, 54.786, 54.902, 55.234, 55.316, 54.71, 55.978, 54.732, 54.206, 54.65, 55.008, 55.146, 55.2, 55.54, 54.898, 54.132, 54.756, 54.924, 54.618, 54.616, 55.912, 54.778, 54.862, 55.0, 55.34, 54.23, 55.134, 53.738, 55.012, 54.332, 54.872, 55.412, 54.736, 55.56, 55.084, 55.184, 53.804, 54.514, 55.474, 55.094, 55.406, 55.306, 54.32, 54.346, 54.508, 54.458, 54.396, 54.678, 54.298, 54.286, 54.988, 54.544, 55.306, 54.608, 55.532, 54.228, 55.298, 55.436, 54.796, 54.016, 55.278, 54.87, 54.984, 54.142, 55.062, 55.404, 54.264, 55.43, 54.878, 54.974, 54.678, 55.26, 55.0, 55.138, 54.918, 55.144, 55.308, 56.03, 54.456, 54.544, 54.432, 55.37, 55.482, 54.312, 54.736, 54.748, 54.876, 54.594, 54.994, 54.634, 55.166, 54.28, 55.474, 54.46, 54.308, 54.924, 54.872, 55.016, 54.23, 55.508, 53.95, 54.234, 55.15, 54.386, 54.796, 55.23, 54.778, 54.5, 54.626, 55.422, 55.254, 54.898, 54.856, 55.004, 55.426, 54.492, 55.206, 55.196, 55.06, 54.422, 55.814, 54.6, 54.184, 54.994, 56.088, 55.012, 54.882, 54.592, 54.25, 55.3, 54.594, 54.688, 54.9, 55.47, 55.03, 54.302, 54.928, 54.702, 55.032, 55.634, 54.896, 54.562, 53.434, 55.234, 54.844, 54.918, 54.794, 54.494, 54.634, 54.682, 54.608, 55.276, 55.11, 55.262, 55.27, 55.106, 53.756, 55.55, 55.254, 55.41, 54.908, 55.634, 55.08, 54.558, 54.904, 55.082, 55.372, 54.754, 55.142, 54.856, 55.806, 54.938, 54.27, 55.43, 54.892, 54.616, 54.516, 55.886, 54.388, 55.2, 54.762, 54.708, 54.552, 55.056, 55.304, 54.2, 54.396, 55.454, 53.868, 55.066, 54.84, 54.438, 55.2, 54.86, 54.57, 54.626, 54.664, 54.268, 55.214, 54.862, 54.852, 54.47, 55.198, 55.694, 54.736, 54.876, 55.26, 55.28, 54.472, 54.292, 54.088, 54.384, 54.992, 54.338, 54.93, 54.876, 55.142, 54.628, 54.478, 54.7, 54.442, 55.024, 54.832, 54.988, 54.508, 54.888, 54.05, 54.224, 54.834, 54.19, 54.416, 55.374, 55.112, 54.3, 54.61, 55.776, 54.91, 55.124, 54.68, 54.482, 55.174, 54.268, 55.256, 55.79, 55.166, 55.66, 55.45, 54.782, 54.76, 55.512, 54.996, 54.61, 54.584, 54.75, 54.212, 55.202, 54.286, 54.578, 54.288, 54.916, 54.13, 54.596, 54.388, 54.196, 54.732, 54.978, 54.358, 54.35, 54.98, 54.532, 54.72, 55.098, 55.162, 54.198, 54.136, 54.928, 54.436, 55.222, 55.036, 54.892, 54.388, 55.018, 54.008, 54.416, 55.59, 54.9, 54.41, 55.222, 54.402, 55.498, 55.118, 55.216, 54.938, 55.064, 55.348, 54.958, 55.754, 54.418, 54.99, 54.61, 54.502, 54.88, 54.714, 54.49, 55.834, 53.922, 54.268, 54.776, 55.082, 55.136, 55.466, 55.782, 54.56, 55.222, 55.19, 54.794, 54.786, 55.244, 55.59, 54.674, 54.79, 53.968, 54.708, 55.08, 54.392, 54.656, 54.594, 55.08, 54.736, 55.842, 54.836, 54.686, 55.61, 55.038, 55.006, 55.448, 54.794, 56.28, 54.618, 54.568, 55.688, 55.366]\n"
     ]
    }
   ],
   "source": [
    "mean_popularity_2000_boot = []\n",
    "\n",
    "# Generate a bootstrap distribution of 2000 replicates\n",
    "for i in range(2000):\n",
    "    mean_popularity_2000_boot.append(\n",
    "    \t# Resample 500 rows and calculate the mean popularity     \n",
    "    \tspotify_sample.sample(n=500, replace=True)['popularity'].mean()\n",
    "    )\n",
    "\n",
    "# Print the bootstrap distribution results\n",
    "print(mean_popularity_2000_boot)"
   ]
  },
  {
   "cell_type": "code",
   "execution_count": 23,
   "metadata": {},
   "outputs": [
    {
     "name": "stdout",
     "output_type": "stream",
     "text": [
      "[54.837142308430955, 54.837142308430955, 54.831176, 54.86668399999999]\n"
     ]
    }
   ],
   "source": [
    "# Calculate the population mean popularity\n",
    "pop_mean = spotify_population['popularity'].mean()\n",
    "\n",
    "# Calculate the original sample mean popularity\n",
    "samp_mean = spotify_sample['popularity'].mean()\n",
    "\n",
    "# Calculate the sampling dist'n estimate of mean popularity\n",
    "samp_distn_mean = np.mean(mean_popularity_2000_samp)\n",
    "\n",
    "# Calculate the bootstrap dist'n estimate of mean popularity\n",
    "boot_distn_mean = np.mean(mean_popularity_2000_boot)\n",
    "\n",
    "# Print the means\n",
    "print([pop_mean, samp_mean, samp_distn_mean, boot_distn_mean])"
   ]
  },
  {
   "cell_type": "code",
   "execution_count": 25,
   "metadata": {},
   "outputs": [
    {
     "name": "stdout",
     "output_type": "stream",
     "text": [
      "[10.880065274257536, 10.880195870824291, 11.017091297721516, 10.826201244605349]\n"
     ]
    }
   ],
   "source": [
    "# Calculate the population std dev popularity\n",
    "pop_sd = spotify_population['popularity'].std(ddof=0)\n",
    "\n",
    "# Calculate the original sample std dev popularity\n",
    "samp_sd = spotify_sample['popularity'].std()\n",
    "\n",
    "# Calculate the sampling dist'n estimate of std dev popularity\n",
    "samp_distn_sd = np.std(mean_popularity_2000_samp, ddof=1) * np.sqrt(500)\n",
    "\n",
    "# Calculate the bootstrap dist'n estimate of std dev popularity\n",
    "boot_distn_sd = np.std(mean_popularity_2000_boot, ddof=1) * np.sqrt(500)\n",
    "\n",
    "# Print the standard deviations\n",
    "print([pop_sd, samp_sd, samp_distn_sd, boot_distn_sd])"
   ]
  },
  {
   "cell_type": "markdown",
   "metadata": {},
   "source": [
    "#### Confidence intervals\n",
    "\n",
    "* values within standard deviations\n",
    "* 95% - use quantile - .025 to .975 `np.quantile(dist, quantile)`\n",
    "\n",
    "**inverse cumulative distribution function**\n",
    "\n",
    "* PDF: bell curve\n",
    "* CDF: integrate to get area under bell curve\n",
    "* Inverse CDF: flip x and y axes\n",
    "\n",
    "`from scipy.stats import norm`\n",
    "`norm.ppf(quantile, loc=0, scale=1)` (-1.96, 1.96)\n",
    "\n",
    "**standard error method for confidence interval**\n",
    "\n",
    "* point_estimate = np.mean(df_distn)\n",
    "* std_error = np.std(df_distn, ddof=1)\n",
    "* from scipy.stats import norm\n",
    "* lower = norm.ppf(0.025, loc=point_estimate, scale=std_error)\n",
    "* upper = norm.ppf(0.975, loc=point_estimate, scale=std_error)\n",
    "* print((lower, upper))"
   ]
  },
  {
   "cell_type": "code",
   "execution_count": 26,
   "metadata": {},
   "outputs": [
    {
     "name": "stdout",
     "output_type": "stream",
     "text": [
      "(53.915949999999995, 55.810050000000004)\n"
     ]
    }
   ],
   "source": [
    "# Generate a 95% confidence interval using the quantile method\n",
    "lower_quant = np.quantile(mean_popularity_2000_boot, 0.025)\n",
    "upper_quant = np.quantile(mean_popularity_2000_boot, 0.975)\n",
    "\n",
    "# Print quantile method confidence interval\n",
    "print((lower_quant, upper_quant))"
   ]
  },
  {
   "cell_type": "code",
   "execution_count": 28,
   "metadata": {},
   "outputs": [
    {
     "name": "stdout",
     "output_type": "stream",
     "text": [
      "(53.917743058028506, 55.81562494197148)\n"
     ]
    }
   ],
   "source": [
    "from scipy.stats import norm\n",
    "# Find the mean and std dev of the bootstrap distribution\n",
    "point_estimate = np.mean(mean_popularity_2000_boot)\n",
    "standard_error = np.std(mean_popularity_2000_boot, ddof=1)\n",
    "\n",
    "# Find the lower limit of the confidence interval\n",
    "lower_se = norm.ppf(0.025, loc=point_estimate, scale=standard_error)\n",
    "\n",
    "# Find the upper limit of the confidence interval\n",
    "upper_se = norm.ppf(0.975, loc=point_estimate, scale=standard_error)\n",
    "\n",
    "# Print standard error method confidence interval\n",
    "print((lower_se, upper_se))"
   ]
  }
 ],
 "metadata": {
  "kernelspec": {
   "display_name": "Python 3",
   "language": "python",
   "name": "python3"
  },
  "language_info": {
   "codemirror_mode": {
    "name": "ipython",
    "version": 3
   },
   "file_extension": ".py",
   "mimetype": "text/x-python",
   "name": "python",
   "nbconvert_exporter": "python",
   "pygments_lexer": "ipython3",
   "version": "3.10.13"
  }
 },
 "nbformat": 4,
 "nbformat_minor": 2
}
