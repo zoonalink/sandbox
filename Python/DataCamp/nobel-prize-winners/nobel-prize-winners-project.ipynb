{
 "cells": [
  {
   "cell_type": "markdown",
   "metadata": {},
   "source": [
    "# Visualising the History of Nobel Prize Winners\n",
    "\n",
    "## Instructions\n",
    "\n",
    "Analyze Nobel Prize winner data and identify patterns by answering the following questions:\n",
    "\n",
    "* What is the most commonly awarded gender and birth country? Storing the string answers as `top_gender` and `top_country`.\n",
    "* What decade had the highest proportion of US-born winners? Store this as an integer called `max_decade_usa`.\n",
    "* What decade and category pair had the highest proportion of female laureates? Store this as a dictionary called `max_female_dict` where the decade is the key and the category is the value.\n",
    "* Who was the first woman to receive a Nobel Prize, and in what category? Save your string answers as `first_woman_name` and `first_woman_category`.\n",
    "* Which individuals or organizations have won multiple Nobel Prizes throughout the years? Store the full names in a list named `repeat_list`.\n",
    "\n",
    "## Introduction\n",
    "\n",
    "The Nobel Prize has been among the most prestigious international awards since 1901. Each year, awards are bestowed in chemistry, literature, physics, physiology or medicine, economics, and peace. In addition to the honor, prestige, and substantial prize money, the recipient also gets a gold medal with an image of Alfred Nobel (1833 - 1896), who established the prize.\n",
    "\n",
    "The Nobel Foundation has made a dataset available of all prize winners from the outset of the awards from 1901 to 2023. The dataset used in this project is from the Nobel Prize API and is available in the `nobel.csv` file in the `data` folder.\n",
    "\n",
    "In this project, you'll get a chance to explore and answer several questions related to this prizewinning data. And we encourage you then to explore further questions that you're interested in!"
   ]
  },
  {
   "cell_type": "code",
   "execution_count": 1,
   "metadata": {},
   "outputs": [],
   "source": [
    "# load libraries\n",
    "import numpy as np\n",
    "import seaborn as sns\n",
    "import pandas as pd\n",
    "\n",
    "# read data from file\n",
    "nobel = pd.read_csv('nobel.csv')\n"
   ]
  },
  {
   "cell_type": "code",
   "execution_count": 4,
   "metadata": {},
   "outputs": [
    {
     "name": "stdout",
     "output_type": "stream",
     "text": [
      "<class 'pandas.core.frame.DataFrame'>\n",
      "RangeIndex: 1000 entries, 0 to 999\n",
      "Data columns (total 18 columns):\n",
      " #   Column                Non-Null Count  Dtype \n",
      "---  ------                --------------  ----- \n",
      " 0   year                  1000 non-null   int64 \n",
      " 1   category              1000 non-null   object\n",
      " 2   prize                 1000 non-null   object\n",
      " 3   motivation            912 non-null    object\n",
      " 4   prize_share           1000 non-null   object\n",
      " 5   laureate_id           1000 non-null   int64 \n",
      " 6   laureate_type         1000 non-null   object\n",
      " 7   full_name             1000 non-null   object\n",
      " 8   birth_date            968 non-null    object\n",
      " 9   birth_city            964 non-null    object\n",
      " 10  birth_country         969 non-null    object\n",
      " 11  sex                   970 non-null    object\n",
      " 12  organization_name     736 non-null    object\n",
      " 13  organization_city     735 non-null    object\n",
      " 14  organization_country  735 non-null    object\n",
      " 15  death_date            596 non-null    object\n",
      " 16  death_city            579 non-null    object\n",
      " 17  death_country         585 non-null    object\n",
      "dtypes: int64(2), object(16)\n",
      "memory usage: 140.8+ KB\n",
      "None\n",
      "Index(['year', 'category', 'prize', 'motivation', 'prize_share', 'laureate_id',\n",
      "       'laureate_type', 'full_name', 'birth_date', 'birth_city',\n",
      "       'birth_country', 'sex', 'organization_name', 'organization_city',\n",
      "       'organization_country', 'death_date', 'death_city', 'death_country'],\n",
      "      dtype='object')\n"
     ]
    }
   ],
   "source": [
    "# inspect the data\n",
    "#print(nobel.head(5))\n",
    "print(nobel.info()) \n",
    "print(nobel.columns)\n"
   ]
  },
  {
   "cell_type": "markdown",
   "metadata": {},
   "source": [
    "## What is the most commonly awarded gender and birth country? Storing the string answers as top_gender and top_country."
   ]
  },
  {
   "cell_type": "code",
   "execution_count": 11,
   "metadata": {},
   "outputs": [
    {
     "name": "stdout",
     "output_type": "stream",
     "text": [
      "United States of America    291\n",
      "Name: birth_country, dtype: int64\n",
      "Male      905\n",
      "Female     65\n",
      "Name: sex, dtype: int64\n"
     ]
    }
   ],
   "source": [
    "# top 5 birth_countries\n",
    "print(nobel['birth_country'].value_counts().head(1))\n",
    "top_country = nobel['birth_country'].value_counts().head(1).index[0]\n",
    "\n",
    "# top  gender\n",
    "print(nobel['sex'].value_counts().head(5))\n",
    "top_gender = nobel['sex'].value_counts().head(1).index[0]\n"
   ]
  },
  {
   "cell_type": "markdown",
   "metadata": {},
   "source": [
    "## What decade had the highest proportion of US-born winners? Store this as an integer called max_decade_usa."
   ]
  },
  {
   "cell_type": "code",
   "execution_count": 57,
   "metadata": {},
   "outputs": [
    {
     "name": "stdout",
     "output_type": "stream",
     "text": [
      "    decade  usa_born\n",
      "0     1900  0.017544\n",
      "1     1910  0.075000\n",
      "2     1920  0.074074\n",
      "3     1930  0.250000\n",
      "4     1940  0.302326\n",
      "5     1950  0.291667\n",
      "6     1960  0.265823\n",
      "7     1970  0.317308\n",
      "8     1980  0.319588\n",
      "9     1990  0.403846\n",
      "10    2000  0.422764\n",
      "11    2010  0.314050\n",
      "12    2020  0.360000\n",
      "2000\n",
      "2000\n"
     ]
    },
    {
     "data": {
      "image/png": "[encoded data removed]",
      "text/plain": [
       "<Figure size 500x500 with 1 Axes>"
      ]
     },
     "metadata": {},
     "output_type": "display_data"
    }
   ],
   "source": [
    "# copy the original dataframe for usa winners\n",
    "nobel['usa_born'] = nobel['birth_country'] == 'United States of America'\n",
    "\n",
    "\n",
    "# calculate decades into column\n",
    "nobel['decade'] = (np.floor(nobel['year'] / 10) * 10).astype(int)\n",
    "\n",
    "# calculate the proportion of usa winners per decade\n",
    "prop_usa_winners = nobel.groupby('decade', as_index=False)['usa_born'].mean()\n",
    "print(prop_usa_winners)\n",
    "\n",
    "# get decade with max proportion of usa winners\n",
    "max_decade_usa = prop_usa_winners['decade'][prop_usa_winners['usa_born'].idxmax()]\n",
    "max_decade_usa_v2 = prop_usa_winners[prop_usa_winners['usa_born'] == prop_usa_winners['usa_born'].max()]['decade'].values[0]\n",
    "\n",
    "print(max_decade_usa)\n",
    "print(max_decade_usa_v2)\n",
    "\n",
    "# Optional: Plotting USA born winners\n",
    "import seaborn as sns\n",
    "ax1 = sns.relplot(x='decade', y='usa_born', data=prop_usa_winners, kind=\"line\")"
   ]
  },
  {
   "cell_type": "markdown",
   "metadata": {},
   "source": [
    "## What decade and category pair had the highest proportion of female laureates? Store this as a dictionary called max_female_dict where the decade is the key and the category is the value."
   ]
  },
  {
   "cell_type": "code",
   "execution_count": 64,
   "metadata": {},
   "outputs": [
    {
     "name": "stdout",
     "output_type": "stream",
     "text": [
      "{2020: 'Literature'}\n"
     ]
    }
   ],
   "source": [
    "# copy original dataframe for female laureates\n",
    "nobel['female_winner'] = nobel['sex'] == 'Female'\n",
    "\n",
    "# calculate decades into column\n",
    "#nobel['decade'] = (np.floor(nobel['year'] / 10) * 10).astype(int)\n",
    "\n",
    "# proportion of female winners per decade\n",
    "prop_female_winners = nobel.groupby(['decade', 'category'], as_index=False)['female_winner'].mean()\n",
    "\n",
    "# max proportion\n",
    "max_female_decade_prop = prop_female_winners[prop_female_winners['female_winner'] == prop_female_winners['female_winner'].max()][['decade', 'category']]\n",
    "\n",
    "# simpler max proportion: \n",
    "# max proportion\n",
    "max_female_decade_prop = prop_female_winners.loc[prop_female_winners['female_winner'].idxmax(), ['decade', 'category']]\n",
    "\n",
    "# Create a dictionary with the decade and category pair\n",
    "max_female_dict = {max_female_decade_prop['decade'].values[0]: max_female_decade_prop['category'].values[0]}\n",
    "\n",
    "\n",
    "print(max_female_dict)"
   ]
  },
  {
   "cell_type": "markdown",
   "metadata": {},
   "source": [
    "## Who was the first woman to receive a Nobel Prize, and in what category? Save your string answers as first_woman_name and first_woman_category.\n"
   ]
  },
  {
   "cell_type": "code",
   "execution_count": 38,
   "metadata": {},
   "outputs": [
    {
     "name": "stdout",
     "output_type": "stream",
     "text": [
      "Physics\n"
     ]
    }
   ],
   "source": [
    "# index of lowest year\n",
    "index_of_first_woman = nobel_female['year'].idxmin()\n",
    "#print(index_of_first_woman)\n",
    "# use index to get full name\n",
    "first_woman_name = nobel_female.loc[index_of_first_woman, 'full_name']\n",
    "#print(first_woman_name)\n",
    "\n",
    "first_woman_category = nobel_female.loc[index_of_first_woman, 'category']\n",
    "#print(first_woman_category)"
   ]
  },
  {
   "cell_type": "markdown",
   "metadata": {},
   "source": [
    "## Which individuals or organizations have won multiple Nobel Prizes throughout the years? Store the full names in a list named repeat_list."
   ]
  },
  {
   "cell_type": "code",
   "execution_count": 42,
   "metadata": {},
   "outputs": [
    {
     "name": "stdout",
     "output_type": "stream",
     "text": [
      "['Marie Curie, née Sklodowska'\n",
      " 'Comité international de la Croix Rouge (International Committee of the Red Cross)'\n",
      " 'Linus Carl Pauling'\n",
      " 'Office of the United Nations High Commissioner for Refugees (UNHCR)'\n",
      " 'John Bardeen' 'Frederick Sanger']\n"
     ]
    }
   ],
   "source": [
    "# individuals or organisations which have won multiple nobel prizes\n",
    "\n",
    "# count the number of prizes for each individual\n",
    "nobel['num_win'] = nobel.groupby('full_name')['full_name'].transform('count')\n",
    "#print(nobel[(nobel['num_win'] > 1)].head(5))\n",
    "\n",
    "# select only the unique names with more than 1 prize\n",
    "repeat_list = nobel[(nobel['num_win'] > 1)]['full_name'].unique()\n",
    "print(repeat_list)"
   ]
  }
 ],
 "metadata": {
  "kernelspec": {
   "display_name": "Python 3",
   "language": "python",
   "name": "python3"
  },
  "language_info": {
   "codemirror_mode": {
    "name": "ipython",
    "version": 3
   },
   "file_extension": ".py",
   "mimetype": "text/x-python",
   "name": "python",
   "nbconvert_exporter": "python",
   "pygments_lexer": "ipython3",
   "version": "3.11.0"
  }
 },
 "nbformat": 4,
 "nbformat_minor": 2
}
