{
 "cells": [
  {
   "cell_type": "markdown",
   "metadata": {},
   "source": [
    "# Intro to statistics Python\n",
    "\n",
    "https://app.datacamp.com/learn/courses/introduction-to-statistics-in-python"
   ]
  },
  {
   "cell_type": "markdown",
   "metadata": {},
   "source": [
    "## 1 Summary Statistics\n",
    "\n",
    "### Measures of centre\n",
    "\n",
    "* mean (average)\n",
    "* median - 50% lower, 50% higher\n",
    "* mode - most frequent\n"
   ]
  },
  {
   "cell_type": "code",
   "execution_count": 28,
   "metadata": {},
   "outputs": [
    {
     "name": "stdout",
     "output_type": "stream",
     "text": [
      "mean of column A is 4.157894736842105\n",
      "median of column B is 3.0\n",
      "mode of A: 2\n",
      "mean      4.157895\n",
      "median    3.000000\n",
      "Name: A, dtype: float64\n"
     ]
    }
   ],
   "source": [
    "import numpy as np\n",
    "import statistics as st\n",
    "import pandas as pd\n",
    "\n",
    "columns = ['A','B']\n",
    "data = np.array([[1,2] , [1,5] , [2,3], [2,4], [2,5], [2,1], [3,6], [3,3], [3,5], [2,5], [7,1], [2,2], [3,3], [1,6], [4,2], [10, 2], [15, 15], [11,3], [5, 13]])\n",
    "df = pd.DataFrame(data,columns=columns)\n",
    "#print(df) \n",
    "\n",
    "# mean\n",
    "print(\"mean of column\", df.columns[0], \"is\", np.mean(df['A']))\n",
    "\n",
    "# median\n",
    "print(\"median of column\", df.columns[1], \"is\", np.median(df.loc[1]))\n",
    "\n",
    "# mode\n",
    "print(\"mode of A:\", st.mode(df['A']))\n",
    "\n",
    "# combined\n",
    "print(df['A'].agg([np.mean, np.median]))\n"
   ]
  },
  {
   "cell_type": "markdown",
   "metadata": {},
   "source": [
    "To get all rows of df where the col_name column is 'a', use `df[df['col_name'] == 'a']`\n",
    "\n"
   ]
  },
  {
   "cell_type": "code",
   "execution_count": 29,
   "metadata": {},
   "outputs": [
    {
     "data": {
      "image/png": "[encoded data removed]",
      "text/plain": [
       "<Figure size 640x480 with 1 Axes>"
      ]
     },
     "metadata": {},
     "output_type": "display_data"
    }
   ],
   "source": [
    "# plot a histogram\n",
    "\n",
    "import matplotlib.pyplot as plt\n",
    "plt.hist(df['A'])\n",
    "plt.show()"
   ]
  },
  {
   "cell_type": "markdown",
   "metadata": {},
   "source": [
    "### measures of spread\n",
    "\n",
    "`variance` - average distance from each data point to the data's mean\n",
    "\n",
    "1. subtract mean from each data point\n",
    "2. square each distance \n",
    "3. sum squared distances\n",
    "4. divide by n\n",
    "\n",
    "```py\n",
    "\n",
    "# variance\n",
    "# ddof = 1 where sample is used; if it is an entire population, then use omit ddof=1\n",
    "np.var(df['col_name'], ddof=1)\n",
    "\n",
    "```\n",
    "\n",
    "`stanard deviation` - square root of variance\n",
    "\n",
    "```py\n",
    "# sq root of variance\n",
    "np.sqrt(np.var(df['col_name'], ddof=1))\n",
    "\n",
    "# one step\n",
    "np.std(df['col_name'], ddof=1)\n",
    "```\n",
    "\n",
    "`mean absolute deviation` - absolute value of the distances to mean, then mean of the differences\n",
    "\n",
    "```py\n",
    "dists = df['col'] - mean(df$col)\n",
    "np.mean(np.abs(dists))\n",
    "```\n",
    "\n",
    "**different to standard deviation**\n",
    "* SD squares distances, penalising longer distances more than shorter\n",
    "* MAD penalises all distances equally\n",
    "* SD is more common\n",
    "\n",
    "\n",
    "#### quantiles\n",
    "\n",
    "* split data into number of equal parts\n",
    "* \n",
    "```py\n",
    "\n",
    "np.quantile(df['A'], 0.5)\n",
    "```\n",
    "#### boxplots\n",
    "\n",
    "* represent quartiles\n",
    "* box is 50% (25%, median, 75%)\n",
    "\n",
    "`interquartile range (IQR)` - height of the box in a boxplot, 25%-75%\n",
    "\n",
    "```py\n",
    "# using numpy\n",
    "np.quantile([df['A'], 0.75) - np.quantile(df['A'], 0.25)\n",
    "\n",
    "# using scipy\n",
    "\n",
    "from scipy.stats import iqr\n",
    "iqr(df['A'])\n",
    "\n",
    "```"
   ]
  },
  {
   "cell_type": "code",
   "execution_count": 34,
   "metadata": {},
   "outputs": [
    {
     "name": "stdout",
     "output_type": "stream",
     "text": [
      "[ 1.   2.   3.   4.5 15. ]\n",
      "[ 1.   2.   3.   4.5 15. ]\n"
     ]
    },
    {
     "data": {
      "image/png": "[encoded data removed]",
      "text/plain": [
       "<Figure size 640x480 with 1 Axes>"
      ]
     },
     "metadata": {},
     "output_type": "display_data"
    }
   ],
   "source": [
    "\n",
    "# quartiles - 4 equal parts\n",
    "print(np.quantile(df['A'], [0, 0.25, 0.5, 0.75, 1]))\n",
    "\n",
    "# linspace - to split quartiles into equal parts\n",
    "print(np.quantile((df['A']), np.linspace(0, 1, 5)))\n",
    "\n",
    "plt.boxplot(df['A'])\n",
    "plt.show()\n"
   ]
  },
  {
   "cell_type": "markdown",
   "metadata": {},
   "source": [
    "#### Outliers\n",
    "\n",
    "* data substantially different from other data points\n",
    "* standard: \n",
    "  * data < Q1 - 1.5 * IQR \n",
    "  * data > Q3 + 1.5 * IQR"
   ]
  },
  {
   "cell_type": "code",
   "execution_count": 42,
   "metadata": {},
   "outputs": [
    {
     "name": "stdout",
     "output_type": "stream",
     "text": [
      "2.5\n",
      "-1.75 8.25\n",
      "15    10\n",
      "16    15\n",
      "17    11\n",
      "Name: A, dtype: int32\n",
      "Series([], Name: A, dtype: int32)\n",
      "     A   B\n",
      "15  10   2\n",
      "16  15  15\n",
      "17  11   3\n"
     ]
    }
   ],
   "source": [
    "from scipy.stats import iqr\n",
    "\n",
    "iqr = iqr(df['A'])\n",
    "print(iqr)\n",
    "\n",
    "lower_bound = np.quantile(df['A'], 0.25) - (1.5 * iqr)\n",
    "upper_bound = np.quantile(df['A'], 0.75) + (1.5 * iqr)\n",
    "\n",
    "print(lower_bound, upper_bound)\n",
    "\n",
    "print(df['A'].loc[df['A'] > upper_bound])\n",
    "print(df['A'].loc[df['A'] < lower_bound])\n",
    "\n",
    "print(df[(df['A'] > upper_bound)|(df['A'] < lower_bound)])"
   ]
  },
  {
   "cell_type": "code",
   "execution_count": 43,
   "metadata": {},
   "outputs": [
    {
     "data": {
      "text/html": [
       "<div>\n",
       "<style scoped>\n",
       "    .dataframe tbody tr th:only-of-type {\n",
       "        vertical-align: middle;\n",
       "    }\n",
       "\n",
       "    .dataframe tbody tr th {\n",
       "        vertical-align: top;\n",
       "    }\n",
       "\n",
       "    .dataframe thead th {\n",
       "        text-align: right;\n",
       "    }\n",
       "</style>\n",
       "<table border=\"1\" class=\"dataframe\">\n",
       "  <thead>\n",
       "    <tr style=\"text-align: right;\">\n",
       "      <th></th>\n",
       "      <th>A</th>\n",
       "      <th>B</th>\n",
       "    </tr>\n",
       "  </thead>\n",
       "  <tbody>\n",
       "    <tr>\n",
       "      <th>count</th>\n",
       "      <td>19.000000</td>\n",
       "      <td>19.000000</td>\n",
       "    </tr>\n",
       "    <tr>\n",
       "      <th>mean</th>\n",
       "      <td>4.157895</td>\n",
       "      <td>4.526316</td>\n",
       "    </tr>\n",
       "    <tr>\n",
       "      <th>std</th>\n",
       "      <td>3.876756</td>\n",
       "      <td>3.702378</td>\n",
       "    </tr>\n",
       "    <tr>\n",
       "      <th>min</th>\n",
       "      <td>1.000000</td>\n",
       "      <td>1.000000</td>\n",
       "    </tr>\n",
       "    <tr>\n",
       "      <th>25%</th>\n",
       "      <td>2.000000</td>\n",
       "      <td>2.000000</td>\n",
       "    </tr>\n",
       "    <tr>\n",
       "      <th>50%</th>\n",
       "      <td>3.000000</td>\n",
       "      <td>3.000000</td>\n",
       "    </tr>\n",
       "    <tr>\n",
       "      <th>75%</th>\n",
       "      <td>4.500000</td>\n",
       "      <td>5.000000</td>\n",
       "    </tr>\n",
       "    <tr>\n",
       "      <th>max</th>\n",
       "      <td>15.000000</td>\n",
       "      <td>15.000000</td>\n",
       "    </tr>\n",
       "  </tbody>\n",
       "</table>\n",
       "</div>"
      ],
      "text/plain": [
       "               A          B\n",
       "count  19.000000  19.000000\n",
       "mean    4.157895   4.526316\n",
       "std     3.876756   3.702378\n",
       "min     1.000000   1.000000\n",
       "25%     2.000000   2.000000\n",
       "50%     3.000000   3.000000\n",
       "75%     4.500000   5.000000\n",
       "max    15.000000  15.000000"
      ]
     },
     "execution_count": 43,
     "metadata": {},
     "output_type": "execute_result"
    }
   ],
   "source": [
    "# all in one\n",
    "\n",
    "df.describe()"
   ]
  },
  {
   "cell_type": "markdown",
   "metadata": {},
   "source": [
    "## 2 Random Numbers and Probability"
   ]
  },
  {
   "cell_type": "markdown",
   "metadata": {},
   "source": [
    "P(event) = # ways event can happen / total # of possible outcomes\n",
    "\n",
    "```py\n",
    "# sampling from dataframe\n",
    "\n",
    "df.sample()\n",
    "\n",
    "# setting seed\n",
    "\n",
    "np.random.seed(10)\n",
    "```\n",
    "\n",
    "**setting seed**\n",
    "\n",
    "np.random.seed(100)\n",
    "\n",
    "**sampling with / without replacement**\n",
    "* pull sample 5x returning/replacing each time\n",
    "df.sample(5, replace=True)\n",
    "\n",
    "**independence** - second event not affected by outcome of first event\n",
    "\n",
    "* sampling without replacement = each pick is dependent because second pick outcome affected by what happens in first"
   ]
  },
  {
   "cell_type": "markdown",
   "metadata": {},
   "source": [
    "**probability distribution** - probability of each possible outcome in a scenario\n",
    "**expected value** mean of a probability distribution\n",
    "* multiply each value by its probaility and summing\n",
    "\n",
    "**probability** of different outcomes is the area of the probability distribution\n",
    "\n",
    "**discrete probability distribution** - discrete outcomes\n",
    "* same outcome probability = discrete uniform distribution\n",
    "\n"
   ]
  },
  {
   "cell_type": "code",
   "execution_count": 11,
   "metadata": {},
   "outputs": [
    {
     "name": "stdout",
     "output_type": "stream",
     "text": [
      "   number      prob\n",
      "0       1  0.166667\n",
      "1       2  0.166667\n",
      "2       3  0.166667\n",
      "3       4  0.166667\n",
      "4       5  0.166667\n",
      "5       6  0.166667\n",
      "3.5\n",
      "   number      prob\n",
      "2       3  0.166667\n",
      "4       5  0.166667\n",
      "0       1  0.166667\n",
      "1       2  0.166667\n",
      "0       1  0.166667\n",
      "0       1  0.166667\n",
      "1       2  0.166667\n",
      "2       3  0.166667\n",
      "2       3  0.166667\n",
      "3       4  0.166667\n"
     ]
    },
    {
     "data": {
      "image/png": "[encoded data removed]",
      "text/plain": [
       "<Figure size 640x480 with 1 Axes>"
      ]
     },
     "metadata": {},
     "output_type": "display_data"
    },
    {
     "name": "stdout",
     "output_type": "stream",
     "text": [
      "2.5\n"
     ]
    },
    {
     "data": {
      "image/png": "[encoded data removed]",
      "text/plain": [
       "<Figure size 640x480 with 1 Axes>"
      ]
     },
     "metadata": {},
     "output_type": "display_data"
    },
    {
     "name": "stdout",
     "output_type": "stream",
     "text": [
      "3.62\n"
     ]
    },
    {
     "data": {
      "image/png": "[encoded data removed]",
      "text/plain": [
       "<Figure size 640x480 with 1 Axes>"
      ]
     },
     "metadata": {},
     "output_type": "display_data"
    },
    {
     "name": "stdout",
     "output_type": "stream",
     "text": [
      "3.527\n"
     ]
    }
   ],
   "source": [
    "# visualising a sample\n",
    "import pandas as pd\n",
    "import numpy as np\n",
    "import matplotlib.pyplot as plt\n",
    "# set seed\n",
    "np.random.seed(1)\n",
    "\n",
    "die = pd.DataFrame({\n",
    "    'number': [1, 2, 3, 4, 5, 6],\n",
    "    'prob': [0.166667, 0.166667, 0.166667, 0.166667, 0.166667, 0.166667]\n",
    "})\n",
    "print(die)\n",
    "# mean\n",
    "print(np.mean(die['number']))\n",
    "\n",
    "# sample 10 rolls\n",
    "rolls_10 = die.sample(10, replace=True, weights='prob')\n",
    "print(rolls_10)\n",
    "\n",
    "# plot histogram\n",
    "rolls_10['number'].hist(bins=np.linspace(1,7,7))\n",
    "plt.show()\n",
    "\n",
    "# means (theoretical is 3.5)\n",
    "print(np.mean(rolls_10['number']))\n",
    "\n",
    "# sample 100 rolls\n",
    "rolls_100 = die.sample(100, replace=True, weights='prob')\n",
    "rolls_100['number'].hist(bins=np.linspace(1,7,7))\n",
    "plt.show()\n",
    "print(np.mean(rolls_100['number']))\n",
    "\n",
    "# sample 1000 rolls\n",
    "rolls_1000 = die.sample(1000, replace=True, weights='prob')\n",
    "rolls_1000['number'].hist(bins=np.linspace(1,7,7))\n",
    "plt.show()\n",
    "print(np.mean(rolls_1000['number']))\n"
   ]
  },
  {
   "cell_type": "markdown",
   "metadata": {},
   "source": [
    "**Law of large numbers** - as size of sample increases, sample mean will approach expected value"
   ]
  },
  {
   "cell_type": "code",
   "execution_count": null,
   "metadata": {},
   "outputs": [],
   "source": [
    "# example\n",
    "\n",
    "# Create probability distribution\n",
    "size_dist = restaurant_groups['group_size'] / restaurant_groups.shape[0]\n",
    "\n",
    "# Reset index and rename columns\n",
    "size_dist = size_dist.reset_index()\n",
    "size_dist.columns = ['group_size', 'prob']\n",
    "\n",
    "print(size_dist)\n",
    "\n",
    "# Calculate expected value\n",
    "expected_value = (size_dist['group_size'] * size_dist['prob']).sum()\n",
    "\n",
    "# or \n",
    "expected_value = np.sum(size_dist['group_size'] * size_dist['prob'])\n",
    "\n",
    "print(expected_value)\n",
    "\n",
    "# Sum the probabilities of groups_4_or_more\n",
    "prob_4_or_more = np.sum(groups_4_or_more['prob'])\n",
    "print(prob_4_or_more)"
   ]
  },
  {
   "cell_type": "markdown",
   "metadata": {},
   "source": [
    "**continuous variables**"
   ]
  },
  {
   "cell_type": "code",
   "execution_count": 5,
   "metadata": {},
   "outputs": [
    {
     "name": "stdout",
     "output_type": "stream",
     "text": [
      "0.41666666666666663\n",
      "0.25000000000000006\n"
     ]
    },
    {
     "data": {
      "text/plain": [
       "array([ 9.88492859,  7.53408331, 10.98008539, 10.41951396, 10.21058239,\n",
       "       11.2374412 ,  5.17248352,  2.87702721, 11.80749512, 11.33520063])"
      ]
     },
     "execution_count": 5,
     "metadata": {},
     "output_type": "execute_result"
    }
   ],
   "source": [
    "# uniform distribution in python\n",
    "from scipy.stats import uniform\n",
    "uniform.cdf(7, 0, 12) # 7 is the value, 0 is the lower bound, 12 is the upper bound\n",
    "\n",
    "more_than_7 = 1- uniform.cdf(7, 0, 12)\n",
    "print(more_than_7)\n",
    "\n",
    "# p between 4 and 7 (inclusive) P(4 <= X <= 7)\n",
    "between_4_and_7 = uniform.cdf(7, 0, 12) - uniform.cdf(4, 0, 12)\n",
    "print(between_4_and_7)\n",
    "\n",
    "# generate random numbers according to uniform distribution\n",
    "from scipy.stats import uniform\n",
    "uniform.rvs(0, 12, size=10)"
   ]
  },
  {
   "cell_type": "code",
   "execution_count": null,
   "metadata": {},
   "outputs": [],
   "source": [
    "# example\n",
    "\n",
    "# Min and max wait times for back-up that happens every 30 min\n",
    "min_time = 0\n",
    "max_time = 30\n",
    "\n",
    "# Import uniform from scipy.stats\n",
    "from scipy.stats import uniform\n",
    "\n",
    "# Calculate probability of waiting less than 5 mins\n",
    "prob_less_than_5 = uniform.cdf(5, 0,30)\n",
    "print(prob_less_than_5)\n",
    "\n",
    "# Calculate probability of waiting more than 5 mins\n",
    "prob_greater_than_5 = 1-uniform.cdf(5,0,30)\n",
    "print(prob_greater_than_5)\n",
    "\n",
    "# Calculate probability of waiting 10-20 mins\n",
    "prob_between_10_and_20 = uniform.cdf(20,0,30)-uniform.cdf(10,0,30)\n",
    "print(prob_between_10_and_20)\n",
    "\n",
    "# Set random seed to 334\n",
    "np.random.seed(334)\n",
    "\n",
    "# Import uniform\n",
    "from scipy.stats import uniform\n",
    "\n",
    "# Generate 1000 wait times between 0 and 30 mins\n",
    "wait_times = uniform.rvs(0,30, size=1000)\n",
    "\n",
    "#print(wait_times)\n",
    "\n",
    "# Create a histogram of simulated times and show plot\n",
    "plt.hist(wait_times)\n",
    "plt.show()"
   ]
  },
  {
   "cell_type": "markdown",
   "metadata": {},
   "source": [
    "**binomial distribution** - heads/tails, true/false, yes/no\n",
    "\n",
    "from scipy.stats import binom\n",
    "`binom.rvs(# of coins, prob of heads/successes, size=# of trials)`\n",
    "\n",
    "* Probability distribution of the number of successes in a sequence of independent trials\n",
    "  * e.g. number of heads in a sequence of coin tosses\n",
    "* described by *n* and *p*\n",
    "  * *n*: total number of trials\n",
    "  * *p*: probability of success\n",
    "\n",
    "* probability of getting exactly x heads: \n",
    "`binom.pmf(num heads, num trials, prob of heads)`\n",
    "\n",
    "* probability of getting x heads or fewer:\n",
    "`binom.cdf(7, 10, 0.5)`\n",
    "\n",
    "**Independence** - binomial distribution is a probability distribution of the number of successes in a sequence of **independent** trials\n",
    "\n"
   ]
  },
  {
   "cell_type": "code",
   "execution_count": 13,
   "metadata": {},
   "outputs": [
    {
     "name": "stdout",
     "output_type": "stream",
     "text": [
      "[0 0 0 0 0 1 1 0]\n",
      "[5]\n",
      "[2 2 2 2 0 2 0 2 2 2]\n",
      "[1 2 0 1 0 1 0 0 1 0]\n",
      "0.11718749999999996\n",
      "0.9453125\n",
      "0.0546875\n",
      "5.0\n"
     ]
    }
   ],
   "source": [
    "from scipy.stats import binom\n",
    "import numpy as np\n",
    "\n",
    "np.random.seed(334)\n",
    "\n",
    "# one flip many times - flip one coin, 50% chance of success, 8 times\n",
    "print(binom.rvs(1, 0.5, size = 8))\n",
    "\n",
    "# many flips one time - flip 8 coins, 50% chance of success, 1 time\n",
    "print(binom.rvs(8, 0.5, size=1))\n",
    "\n",
    "# many flips many times = flip 3 coins, 505 chance of success, 10 times\n",
    "print(binom.rvs(3, 0.5, size = 10))\n",
    "\n",
    "# weighted coin, prob success is 25%\n",
    "print(binom.rvs(3, 0.25, size=10))\n",
    "\n",
    "# probability of 7 heads in 10 flips\n",
    "print(binom.pmf(7, 10, 0.5))\n",
    "\n",
    "# probability of 7 or less heads in 10 flips\n",
    "print(binom.cdf(7, 10, 0.5))\n",
    "\n",
    "# probability of 7 or more heads in 10 flips\n",
    "print(1-binom.cdf(7, 10, 0.5))\n",
    "\n",
    "#expected value - n * p\n",
    "print(10 * 0.5)"
   ]
  },
  {
   "cell_type": "markdown",
   "metadata": {},
   "source": [
    "## 3 More distributions and the Central Limit theorem\n",
    "\n",
    "### normal distribution\n",
    "\n",
    "* described by mean and standard deviation\n",
    "* **standard normal distribution** has mean of 0 and standard deviation of 1\n",
    "* 68 % within 1 SD; 95% within 2 SD and 99.7% within 3 SD\n",
    "\n",
    "`from scipy.stats import norm`\n",
    "`norm.cdf(area less than, mean, sd)`\n"
   ]
  },
  {
   "cell_type": "code",
   "execution_count": null,
   "metadata": {},
   "outputs": [],
   "source": [
    "# example of normal distribution\n",
    "# plot data to see visual - it is normal\n",
    "# mean 4812, std 2058\n",
    "import matplotlib.pyplot as plt\n",
    "# Histogram of amount with 10 bins and show plot\n",
    "amir_deals.hist(bins=10)\n",
    "#plt.hist(amir_deals['amount'], bins=10)\n",
    "plt.show()\n",
    "\n",
    "# Probability of deal < 7500\n",
    "prob_less_7500 = norm.cdf(7500, 5000, 2000)\n",
    "\n",
    "print(prob_less_7500)\n",
    "\n",
    "# Probability of deal > 1000\n",
    "prob_over_1000 = 1-norm.cdf(1000, 5000, 2000)\n",
    "\n",
    "print(prob_over_1000)\n",
    "\n",
    "# Probability of deal between 3000 and 7000\n",
    "prob_3000_to_7000 = norm.cdf(7000, 5000, 2000) - norm.cdf(3000, 5000, 2000)\n",
    "\n",
    "print(prob_3000_to_7000)\n",
    "\n",
    "# Calculate amount that 25% of deals will be less than\n",
    "pct_25 = norm.ppf(.25, 5000, 2000)\n",
    "\n",
    "print(pct_25)"
   ]
  },
  {
   "cell_type": "code",
   "execution_count": null,
   "metadata": {},
   "outputs": [],
   "source": [
    "# same data set\n",
    "# analyst predicts woth of each sale will increase by 20%; volatility will increase by 30%  (std will increase by 30%)\n",
    "# Calculate new average amount\n",
    "new_mean = 5000+(5000*0.2)\n",
    "\n",
    "# Calculate new standard deviation\n",
    "new_sd = 2000+(2000*0.3)\n",
    "\n",
    "# Simulate 36 new sales\n",
    "new_sales = norm.rvs(new_mean, new_sd, size=36)\n",
    "\n",
    "# Create histogram and show\n",
    "plt.hist(new_sales)\n",
    "plt.show()\n",
    "\n",
    "# comparing performances using .cdf\n",
    "\n",
    "In [2]:\n",
    "1-norm.cdf(1000, 5000, 2000)\n",
    "Out[2]:\n",
    "0.9772498680518208\n",
    "In [3]:\n",
    "1-norm.cdf(1000, 6000, 2600)\n",
    "Out[3]:\n",
    "0.9727648049862613"
   ]
  },
  {
   "cell_type": "markdown",
   "metadata": {},
   "source": [
    "### central limit theorem\n",
    "\n",
    "* sampling distribution of a statistic becomes closer to the normal distribution as the number of trials increases.\n",
    "  * needs independence and random sampling\n",
    "* applies to SD and proportions too\n",
    "\n",
    "* can collect several sample to estimate population statistics"
   ]
  },
  {
   "cell_type": "code",
   "execution_count": 16,
   "metadata": {},
   "outputs": [
    {
     "name": "stdout",
     "output_type": "stream",
     "text": [
      "[3.4, 4.2, 4.2, 4.0, 4.2, 2.8, 3.8, 3.8, 4.8, 4.6]\n"
     ]
    },
    {
     "data": {
      "image/png": "[encoded data removed]",
      "text/plain": [
       "<Figure size 640x480 with 1 Axes>"
      ]
     },
     "metadata": {},
     "output_type": "display_data"
    }
   ],
   "source": [
    "# rolling a dice 5 times 10 times\n",
    "import numpy as np\n",
    "import matplotlib.pyplot as plt\n",
    "\n",
    "sample_means = []\n",
    "for i in range(10):\n",
    "    sample = np.random.randint(1, 7, size=5)\n",
    "    sample_means.append(np.mean(sample))\n",
    "print(sample_means)\n",
    "\n",
    "# plot sample means\n",
    "# sampling distribution of sample means\n",
    "plt.hist(sample_means)\n",
    "plt.show()"
   ]
  },
  {
   "cell_type": "code",
   "execution_count": 20,
   "metadata": {},
   "outputs": [
    {
     "name": "stdout",
     "output_type": "stream",
     "text": [
      "[2.6, 3.0, 4.2, 2.6, 3.6, 3.4, 2.4, 3.6, 4.2, 3.4, 3.0, 4.0, 4.8, 2.2, 5.0, 2.6, 3.0, 3.8, 3.8, 4.4, 3.8, 3.2, 3.2, 4.0, 4.6, 2.6, 4.2, 3.2, 4.0, 3.2, 2.8, 3.6, 4.8, 3.6, 3.4, 2.6, 2.6, 3.4, 3.8, 4.0, 4.2, 3.4, 3.4, 3.0, 2.2, 3.2, 5.6, 3.0, 3.0, 3.2, 2.4, 4.8, 4.0, 3.0, 3.2, 3.8, 3.4, 4.4, 3.4, 4.2, 4.0, 4.0, 4.2, 3.6, 4.4, 2.8, 4.0, 2.6, 3.2, 3.6, 4.4, 2.2, 2.6, 2.6, 2.8, 2.2, 4.6, 3.0, 3.0, 4.0, 3.4, 2.8, 2.6, 3.2, 2.4, 2.6, 3.4, 3.4, 3.6, 3.4, 3.6, 3.2, 4.6, 2.8, 2.2, 2.6, 3.6, 4.0, 3.4, 3.6]\n"
     ]
    },
    {
     "data": {
      "image/png": "[encoded data removed]",
      "text/plain": [
       "<Figure size 640x480 with 1 Axes>"
      ]
     },
     "metadata": {},
     "output_type": "display_data"
    }
   ],
   "source": [
    "# 100 sample means\n",
    "import numpy as np\n",
    "import matplotlib.pyplot as plt\n",
    "\n",
    "sample_means = []\n",
    "for i in range(100):\n",
    "    sample = np.random.randint(1, 7, size=5)\n",
    "    sample_means.append(np.mean(sample))\n",
    "print(sample_means)\n",
    "\n",
    "# plot sample means\n",
    "# sampling distribution of sample means\n",
    "plt.hist(sample_means)\n",
    "plt.show()"
   ]
  },
  {
   "cell_type": "code",
   "execution_count": 21,
   "metadata": {},
   "outputs": [
    {
     "data": {
      "image/png": "[encoded data removed]",
      "text/plain": [
       "<Figure size 640x480 with 1 Axes>"
      ]
     },
     "metadata": {},
     "output_type": "display_data"
    }
   ],
   "source": [
    "# 1000 sample means\n",
    "import numpy as np\n",
    "import matplotlib.pyplot as plt\n",
    "\n",
    "sample_means = []\n",
    "for i in range(1000):\n",
    "    sample = np.random.randint(1, 7, size=5)\n",
    "    sample_means.append(np.mean(sample))\n",
    "#print(sample_means)\n",
    "\n",
    "# plot sample means\n",
    "# sampling distribution of sample means\n",
    "plt.hist(sample_means)\n",
    "plt.show()\n"
   ]
  },
  {
   "cell_type": "code",
   "execution_count": null,
   "metadata": {},
   "outputs": [],
   "source": [
    "# example\n",
    "\n",
    "# Set seed to 104\n",
    "np.random.seed(104)\n",
    "\n",
    "# Sample 20 num_users with replacement from amir_deals\n",
    "samp_20 = amir_deals['num_users'].sample(20, replace=True)\n",
    "\n",
    "sample_means = []\n",
    "# Loop 100 times\n",
    "for i in range(100):\n",
    "  # Take sample of 20 num_users\n",
    "  samp_20 = amir_deals['num_users'].sample(20, replace=True)\n",
    "  # Calculate mean of samp_20\n",
    "  samp_20_mean = np.mean(samp_20)\n",
    "  # Append samp_20_mean to sample_means\n",
    "  sample_means.append(samp_20_mean)\n",
    "  \n",
    "#print(sample_means)\n",
    "  \n",
    "  # Convert to Series and plot histogram\n",
    "sample_means_series = pd.Series(sample_means)\n",
    "sample_means_series.hist()\n",
    "# Show plot\n",
    "plt.show()"
   ]
  },
  {
   "cell_type": "code",
   "execution_count": null,
   "metadata": {},
   "outputs": [],
   "source": [
    "# mean of means\n",
    "# estimating population mean from several random samples\n",
    "\n",
    "# Set seed to 321\n",
    "np.random.seed(321)\n",
    "\n",
    "sample_means = []\n",
    "# Loop 30 times to take 30 means\n",
    "for i in range(30):\n",
    "  # Take sample of size 20 from num_users col of all_deals with replacement\n",
    "  cur_sample = all_deals['num_users'].sample(20, replace=True)\n",
    "  # Take mean of cur_sample\n",
    "  cur_mean = np.mean(cur_sample)\n",
    "  # Append cur_mean to sample_means\n",
    "  sample_means.append(cur_mean)\n",
    "\n",
    "# Print mean of sample_means\n",
    "print(np.mean(sample_means))\n",
    "\n",
    "# Print mean of num_users in amir_deals\n",
    "print(np.mean(amir_deals['num_users']))\n"
   ]
  },
  {
   "cell_type": "markdown",
   "metadata": {},
   "source": [
    "### Poisson \n",
    "\n",
    "* Poisson process - events appear to happen at a certain rate but completely at random\n",
    "* Examples:\n",
    "  * number of animals adopted from an animal shelter per week\n",
    "  * number of people arriving at a restaurant per hour\n",
    "  * number of earthquakes in cali per year\n",
    "* Time unit is irrelevant - use same unit for same situation\n",
    "* Poisson distribution - probability of some # of events occurring over a fixed period of time\n",
    "* Lambda = average number of events per time interval\n",
    "  * average number of adoptions per week = 8\n",
    "* Distribution peak always at Lambda value\n",
    "  \n",
    "* probability of a single value P(# adoptions in a week =5) given average number of adoptions per week is 8: \n",
    "\n",
    "`from scipy.stats import poisson`\n",
    "`poisson.pmf(5, 8)`\n",
    "\n",
    "* probability of a of less than or equal to - what is P(#adoptions in a week <=5), if average is 8: \n",
    "\n",
    "`from scipy.stats import poisson`\n",
    "`poisson.cdf(5, 8)`\n",
    "\n",
    "* probability of a of greater than - what is P(#adoptions in a week >5), if average is 8: \n",
    "\n",
    "`from scipy.stats import poisson`\n",
    "`1-poisson.cdf(5, 8)`\n",
    "\n",
    "**sampling from Poisson**\n",
    "\n",
    "`from scipy.stats import poisson`\n",
    "`poisson.rvs(8, size=10)`"
   ]
  },
  {
   "cell_type": "markdown",
   "metadata": {},
   "source": [
    "### others\n",
    "\n",
    "**exponential**\n",
    "\n",
    "* probability of time between Poisson events\n",
    "* eg.\n",
    "  * probability of > 1 day between adoptions\n",
    "  * probability of < 10 minutes between restaurant arrivals\n",
    "  * probability of 6-8 months between earthquakes\n",
    "* also uses lambda (rate) - expected value of exponential distribution\n",
    "  * 1/lambda\n",
    "* continuous (time) \n",
    "\n",
    "`from scipy.stats import expon`\n",
    "`scale = 1/lambda` e.g 1/0.5 \n",
    "# P(wait<1 min)\n",
    "`expon.cdf(1, scale=2)`\n",
    "\n",
    "# P(wait>4min) =\n",
    "`1-expon.cdf(4, scale=2)`\n",
    "\n",
    "# P(1 min < wait < 4 min)\n",
    "`expon.cdf(4, scale=2) - expon.cdf(1, scale=2)`\n",
    "\n",
    "\n",
    "**(student's) t-distribution**\n",
    "\n",
    "* similar to normal distribution shape\n",
    "* thicker tails - observations more likely to fall further from mean\n",
    "* has parameter degrees of freedom (df) which affects thickness of tails\n",
    "  * lower df = thicker tails, higher sd\n",
    "  * higher df closer to normal distribution\n",
    "\n",
    "\n",
    "**log-normal distribution**\n",
    "\n",
    "* variable whose logarithm is normally distributed\n",
    "* examples:\n",
    "  * length of chess games\n",
    "  * adult blood pressures\n",
    "  * "
   ]
  },
  {
   "cell_type": "markdown",
   "metadata": {},
   "source": []
  },
  {
   "cell_type": "markdown",
   "metadata": {},
   "source": [
    "## 4 Correlation and Experimental Design\n",
    "\n",
    "* correlation coefficient - -1 to 1\n",
    "* `sns.scatterplot(x='independent', y='dependent', data=df)`\n",
    "* `sns.lmplot((x='independent', y='dependent', data=df, ci=None)` \n",
    "* `df['col'].corr(df['col2'])`"
   ]
  },
  {
   "cell_type": "markdown",
   "metadata": {},
   "source": [
    "### caveats\n",
    "\n",
    "* needs linearity to be valide\n",
    "* skewed data can be log-transformed\n",
    "* other transformations\n",
    "  * `np.log(x)`\n",
    "  * `sqrt(x)`\n",
    "  * `1/x` (reciprocal)\n",
    "  * combinations:\n",
    "    * `log(x)` and `log(y)`\n",
    "    * `sqrt(x)` and `1/y`\n",
    "\n",
    "* correlation does not imply causation\n",
    "* confounding (hidden variables which are correlated to two variables - it counfounds)"
   ]
  },
  {
   "cell_type": "markdown",
   "metadata": {},
   "source": [
    "### experiment design\n",
    "\n",
    "* experiment aims to answer: `what is the effect of the treatment on the response`\n",
    "  * treatment: explanatory/independent variable\n",
    "  * response: response/dependent variable\n",
    "\n",
    "**controlled experiment**\n",
    "* participants assigned to either treatment group or control goup\n",
    "  * treatment group sees new drug/advert/etc.\n",
    "  * control group does not\n",
    "* groups should be comparable so that causation can be inferred\n",
    "* if groups are not comparable, it can lead to confounding (bias)\n",
    "\n",
    "\n",
    "**gold standard**\n",
    "* randomised control trial\n",
    "  * participants assigned to treatment/control randomly, not based on any other characteristics\n",
    "  * choosing randomly helps ensure groups are comparable\n",
    "* placebo\n",
    "  * resembles treatment but has no effect\n",
    "  * participants will not know which group they are in\n",
    "  * in clinical trials, sugar pills used\n",
    "* double-blind trial\n",
    "  * person administering treatment/running study does not know if placebo or real\n",
    "  * prevents bias in response/analysis\n",
    "\n",
    "**fewer opportunities for bias = more reliable conclusion about causation**\n",
    "\n",
    "### observational study\n",
    "\n",
    "* participants are not assigned randomly to groups\n",
    "  * participants assign themselves, usually based on pre-existing characteristics\n",
    "* many research questions are not conducive to a controlled experiment\n",
    "  * can't force a disease or people to smoke\n",
    "  * can't change past behaviour\n",
    "* cannot establish causation, only association\n",
    "  * effects can be confounded by factors that got certain people into control or treatment groups\n",
    "  * ways to control for confounders to strengthen results\n",
    "\n",
    "### longitudinal v cross sectional\n",
    "\n",
    "* longitudinal\n",
    "  * participants followed over a period of time to examine effect of treatment on response\n",
    "  * effect of age on height is not confounded by generation\n",
    "  * more expensive, results take longer\n",
    "\n",
    "* cross-sectional\n",
    "  * data on participants is collected from a single snapsot in time\n",
    "  * effect of age on height is confounded by generation\n",
    "  * cheaper, faster, more convenient"
   ]
  }
 ],
 "metadata": {
  "kernelspec": {
   "display_name": "Python 3",
   "language": "python",
   "name": "python3"
  },
  "language_info": {
   "codemirror_mode": {
    "name": "ipython",
    "version": 3
   },
   "file_extension": ".py",
   "mimetype": "text/x-python",
   "name": "python",
   "nbconvert_exporter": "python",
   "pygments_lexer": "ipython3",
   "version": "3.11.0"
  }
 },
 "nbformat": 4,
 "nbformat_minor": 2
}
