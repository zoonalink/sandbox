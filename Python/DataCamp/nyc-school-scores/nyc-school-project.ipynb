{
 "cells": [
  {
   "cell_type": "markdown",
   "metadata": {},
   "source": [
    "# Project: Exploring NYC Public School Test Result Scores\n",
    "\n",
    "* Create a pandas DataFrame called `best_math_schools` containing the \"`school_name`\" and \"`average_math`\" score for all schools where the results are at least 80% of the maximum possible score, sorted by \"`average_math`\" in descending order.\n",
    "* Identify the top 10 performing schools based on scores across the three SAT sections, storing as a pandas DataFrame called `top_10_schools` containing the school name and a column named \"`total_SAT`\", with results sorted by `total_SAT` in descending order.\n",
    "* Locate the NYC borough with the largest standard deviation for \"`total_SAT`\", storing as a DataFrame called `largest_std_dev` with \"borough\" as the index and three columns: \"`num_schools`\" for the number of schools in the borough, \"`average_SAT`\" for the mean of \"`total_SAT`\", and \"`std_SAT`\" for the standard deviation of \"`total_SAT`\". Round all numeric values to two decimal places."
   ]
  },
  {
   "cell_type": "markdown",
   "metadata": {},
   "source": [
    "\n",
    "Every year, American high school students take SATs, which are standardized tests intended to measure literacy, numeracy, and writing skills. There are three sections - reading, math, and writing, each with a maximum score of 800 points. These tests are extremely important for students and colleges, as they play a pivotal role in the admissions process.\n",
    "\n",
    "Analyzing the performance of schools is important for a variety of stakeholders, including policy and education professionals, researchers, government, and even parents considering which school their children should attend. \n",
    "\n",
    "You have been provided with a dataset called `schools.csv`, which is previewed below.\n",
    "\n",
    "You have been tasked with answering three key questions about New York City (NYC) public school SAT performance."
   ]
  },
  {
   "cell_type": "markdown",
   "metadata": {},
   "source": [
    "## plan\n",
    "\n",
    "1. schools with best math score\n",
    "2. "
   ]
  },
  {
   "cell_type": "code",
   "execution_count": 1,
   "metadata": {},
   "outputs": [
    {
     "data": {
      "text/html": [
       "<div>\n",
       "<style scoped>\n",
       "    .dataframe tbody tr th:only-of-type {\n",
       "        vertical-align: middle;\n",
       "    }\n",
       "\n",
       "    .dataframe tbody tr th {\n",
       "        vertical-align: top;\n",
       "    }\n",
       "\n",
       "    .dataframe thead th {\n",
       "        text-align: right;\n",
       "    }\n",
       "</style>\n",
       "<table border=\"1\" class=\"dataframe\">\n",
       "  <thead>\n",
       "    <tr style=\"text-align: right;\">\n",
       "      <th></th>\n",
       "      <th>school_name</th>\n",
       "      <th>borough</th>\n",
       "      <th>building_code</th>\n",
       "      <th>average_math</th>\n",
       "      <th>average_reading</th>\n",
       "      <th>average_writing</th>\n",
       "      <th>percent_tested</th>\n",
       "    </tr>\n",
       "  </thead>\n",
       "  <tbody>\n",
       "    <tr>\n",
       "      <th>0</th>\n",
       "      <td>New Explorations into Science, Technology and ...</td>\n",
       "      <td>Manhattan</td>\n",
       "      <td>M022</td>\n",
       "      <td>657</td>\n",
       "      <td>601</td>\n",
       "      <td>601</td>\n",
       "      <td>NaN</td>\n",
       "    </tr>\n",
       "    <tr>\n",
       "      <th>1</th>\n",
       "      <td>Essex Street Academy</td>\n",
       "      <td>Manhattan</td>\n",
       "      <td>M445</td>\n",
       "      <td>395</td>\n",
       "      <td>411</td>\n",
       "      <td>387</td>\n",
       "      <td>78.9</td>\n",
       "    </tr>\n",
       "    <tr>\n",
       "      <th>2</th>\n",
       "      <td>Lower Manhattan Arts Academy</td>\n",
       "      <td>Manhattan</td>\n",
       "      <td>M445</td>\n",
       "      <td>418</td>\n",
       "      <td>428</td>\n",
       "      <td>415</td>\n",
       "      <td>65.1</td>\n",
       "    </tr>\n",
       "    <tr>\n",
       "      <th>3</th>\n",
       "      <td>High School for Dual Language and Asian Studies</td>\n",
       "      <td>Manhattan</td>\n",
       "      <td>M445</td>\n",
       "      <td>613</td>\n",
       "      <td>453</td>\n",
       "      <td>463</td>\n",
       "      <td>95.9</td>\n",
       "    </tr>\n",
       "    <tr>\n",
       "      <th>4</th>\n",
       "      <td>Henry Street School for International Studies</td>\n",
       "      <td>Manhattan</td>\n",
       "      <td>M056</td>\n",
       "      <td>410</td>\n",
       "      <td>406</td>\n",
       "      <td>381</td>\n",
       "      <td>59.7</td>\n",
       "    </tr>\n",
       "  </tbody>\n",
       "</table>\n",
       "</div>"
      ],
      "text/plain": [
       "                                         school_name    borough building_code  \\\n",
       "0  New Explorations into Science, Technology and ...  Manhattan          M022   \n",
       "1                               Essex Street Academy  Manhattan          M445   \n",
       "2                       Lower Manhattan Arts Academy  Manhattan          M445   \n",
       "3    High School for Dual Language and Asian Studies  Manhattan          M445   \n",
       "4      Henry Street School for International Studies  Manhattan          M056   \n",
       "\n",
       "   average_math  average_reading  average_writing  percent_tested  \n",
       "0           657              601              601             NaN  \n",
       "1           395              411              387            78.9  \n",
       "2           418              428              415            65.1  \n",
       "3           613              453              463            95.9  \n",
       "4           410              406              381            59.7  "
      ]
     },
     "execution_count": 1,
     "metadata": {},
     "output_type": "execute_result"
    }
   ],
   "source": [
    "# Re-run this cell \n",
    "import pandas as pd\n",
    "\n",
    "# Read in the data\n",
    "schools = pd.read_csv(\"schools.csv\")\n",
    "\n",
    "# Preview the data\n",
    "schools.head()"
   ]
  },
  {
   "cell_type": "markdown",
   "metadata": {},
   "source": [
    "## find best maths schools"
   ]
  },
  {
   "cell_type": "code",
   "execution_count": 16,
   "metadata": {},
   "outputs": [
    {
     "name": "stdout",
     "output_type": "stream",
     "text": [
      "                                           school_name  average_math\n",
      "88                              Stuyvesant High School           754\n",
      "170                       Bronx High School of Science           714\n",
      "93                 Staten Island Technical High School           711\n",
      "365  Queens High School for the Sciences at York Co...           701\n",
      "68   High School for Mathematics, Science, and Engi...           683\n",
      "280                     Brooklyn Technical High School           682\n",
      "333                        Townsend Harris High School           680\n",
      "174  High School of American Studies at Lehman College           669\n",
      "0    New Explorations into Science, Technology and ...           657\n",
      "45                       Eleanor Roosevelt High School           641\n"
     ]
    }
   ],
   "source": [
    "# Query the schools DataFrame to select schools where the average math score is greater than 80% of the total possible score\n",
    "best_maths_schools = schools.query('average_math/800 >= 0.8')\n",
    "\n",
    "# Select the 'school_name' and 'average_math' columns, sort by 'average_math' in descending order\n",
    "best_maths_schools = best_maths_schools[['school_name', 'average_math']].sort_values(by='average_math', ascending=False)\n",
    "\n",
    "# Print the resulting DataFrame\n",
    "print(best_maths_schools)"
   ]
  },
  {
   "cell_type": "markdown",
   "metadata": {},
   "source": [
    "## find top 10 overall schools"
   ]
  },
  {
   "cell_type": "code",
   "execution_count": 22,
   "metadata": {},
   "outputs": [
    {
     "name": "stdout",
     "output_type": "stream",
     "text": [
      "                                           school_name        borough  \\\n",
      "88                              Stuyvesant High School      Manhattan   \n",
      "170                       Bronx High School of Science          Bronx   \n",
      "93                 Staten Island Technical High School  Staten Island   \n",
      "174  High School of American Studies at Lehman College          Bronx   \n",
      "333                        Townsend Harris High School         Queens   \n",
      "365  Queens High School for the Sciences at York Co...         Queens   \n",
      "5                       Bard High School Early College      Manhattan   \n",
      "280                     Brooklyn Technical High School       Brooklyn   \n",
      "45                       Eleanor Roosevelt High School      Manhattan   \n",
      "68   High School for Mathematics, Science, and Engi...      Manhattan   \n",
      "\n",
      "    building_code  average_math  average_reading  average_writing  \\\n",
      "88           M477           754              697              693   \n",
      "170          X445           714              660              667   \n",
      "93           R440           711              660              670   \n",
      "174          X905           669              672              672   \n",
      "333          Q515           680              640              661   \n",
      "365          Q774           701              621              625   \n",
      "5            M097           634              641              639   \n",
      "280          K430           682              608              606   \n",
      "45           M855           641              617              631   \n",
      "68           M812           683              610              596   \n",
      "\n",
      "     percent_tested  total_SAT  \n",
      "88             97.4       2144  \n",
      "170            97.0       2041  \n",
      "93             99.7       2041  \n",
      "174            91.8       2013  \n",
      "333            97.1       1981  \n",
      "365            97.9       1947  \n",
      "5              70.8       1914  \n",
      "280            95.5       1896  \n",
      "45             86.0       1889  \n",
      "68             92.6       1889  \n"
     ]
    }
   ],
   "source": [
    "\n",
    "# Create a copy of the schools DataFrame\n",
    "top_10_schools = schools.copy()\n",
    "\n",
    "# Add a new column 'total_SAT' to the DataFrame, which is the sum of the 'average_math', 'average_reading', and 'average_writing' columns\n",
    "top_10_schools['total_SAT'] = (top_10_schools['average_math'] + top_10_schools['average_reading'] + top_10_schools['average_writing'])\n",
    "\n",
    "# Sort the DataFrame by the 'total_SAT' column in descending order and select the top 10 rows\n",
    "top_10_schools = top_10_schools.sort_values(by='total_SAT', ascending=False).head(10)\n",
    "\n",
    "# Print the resulting DataFrame\n",
    "print(top_10_schools)"
   ]
  },
  {
   "cell_type": "markdown",
   "metadata": {},
   "source": [
    "## find borough with largest stdev"
   ]
  },
  {
   "cell_type": "code",
   "execution_count": 26,
   "metadata": {},
   "outputs": [
    {
     "name": "stdout",
     "output_type": "stream",
     "text": [
      "           num_schools  average_SAT  std_SAT\n",
      "borough                                     \n",
      "Manhattan           89      1340.13   230.29\n"
     ]
    }
   ],
   "source": [
    "# Add total_SAT column to the schools DataFrame\n",
    "schools['total_SAT'] = schools['average_math'] + schools['average_reading'] + schools['average_writing']\n",
    "\n",
    "# Group the DataFrame by 'borough', calculate the required statistics, and round to two decimal places\n",
    "borough_stats = schools.groupby('borough')['total_SAT'].agg(['count', 'mean', 'std']).round(2)\n",
    "\n",
    "# Rename the columns\n",
    "borough_stats.columns = ['num_schools', 'average_SAT', 'std_SAT']\n",
    "\n",
    "# Find the borough with the largest standard deviation for 'total_SAT'\n",
    "largest_std_dev = borough_stats[borough_stats['std_SAT'] == borough_stats['std_SAT'].max()]\n",
    "\n",
    "print(largest_std_dev)"
   ]
  },
  {
   "cell_type": "code",
   "execution_count": 27,
   "metadata": {},
   "outputs": [
    {
     "name": "stdout",
     "output_type": "stream",
     "text": [
      "               num_schools  average_SAT  std_SAT\n",
      "borough                                         \n",
      "Bronx                   98      1202.72   150.39\n",
      "Brooklyn               109      1230.26   154.87\n",
      "Manhattan               89      1340.13   230.29\n",
      "Queens                  69      1345.48   195.25\n",
      "Staten Island           10      1439.00   222.30\n"
     ]
    }
   ],
   "source": [
    "print(borough_stats)"
   ]
  }
 ],
 "metadata": {
  "kernelspec": {
   "display_name": "Python 3",
   "language": "python",
   "name": "python3"
  },
  "language_info": {
   "codemirror_mode": {
    "name": "ipython",
    "version": 3
   },
   "file_extension": ".py",
   "mimetype": "text/x-python",
   "name": "python",
   "nbconvert_exporter": "python",
   "pygments_lexer": "ipython3",
   "version": "3.11.0"
  }
 },
 "nbformat": 4,
 "nbformat_minor": 2
}
