{
 "cells": [
  {
   "cell_type": "markdown",
   "metadata": {},
   "source": [
    "# Correlation Functions"
   ]
  },
  {
   "cell_type": "code",
   "execution_count": null,
   "metadata": {},
   "outputs": [],
   "source": [
    "def check_correlation(df, cutoff=0.6):\n",
    "    '''\n",
    "    Function to iterate through a dataframe to identify highly correlated features.\n",
    "    '''\n",
    "    corr_matrix = df.corr()\n",
    "    for col in corr_matrix.columns:\n",
    "        for idx, val in corr_matrix[col].iteritems():\n",
    "            if idx != col and val >= cutoff:\n",
    "                print(f\"'{col}' and '{idx}' are highly correlated ({val})\")\n",
    "        if all(val < cutoff for val in corr_matrix[col]):\n",
    "            print(f\"{col} has no highly correlated features\")\n",
    "\n"
   ]
  },
  {
   "cell_type": "code",
   "execution_count": null,
   "metadata": {},
   "outputs": [],
   "source": [
    "def target_correlation(df, target='target', cutoff=0.6):\n",
    "    '''\n",
    "    Function to iterate through a dataframe and identify features which are highly correlated to the target.\n",
    "    '''\n",
    "    corr_matrix = df.corr()\n",
    "    for col in corr_matrix.columns:\n",
    "        if col == target:\n",
    "            continue\n",
    "        corr = corr_matrix.loc[target, col]\n",
    "        if abs(corr) >= cutoff:\n",
    "            print(f\"'{col}' is HIGHLY correlated with '{target}': {corr}\")\n",
    "        else:\n",
    "            print(f\"'{col}' is less than {cutoff}\")\n",
    "\n",
    "\n"
   ]
  }
 ],
 "metadata": {
  "kernelspec": {
   "display_name": "Python 3",
   "language": "python",
   "name": "python3"
  },
  "language_info": {
   "name": "python",
   "version": "3.11.0"
  },
  "orig_nbformat": 4,
  "vscode": {
   "interpreter": {
    "hash": "3a85823825384e2f260493b9b35c69d8eaac198ff59bb0d6c0e72fffbde301e2"
   }
  }
 },
 "nbformat": 4,
 "nbformat_minor": 2
}
