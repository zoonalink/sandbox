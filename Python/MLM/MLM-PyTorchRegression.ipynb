{
 "cells": [
  {
   "attachments": {},
   "cell_type": "markdown",
   "metadata": {},
   "source": [
    "# Building a Regression Model in PyTorch"
   ]
  },
  {
   "attachments": {},
   "cell_type": "markdown",
   "metadata": {},
   "source": [
    "[MachineLearningMastery](https://machinelearningmastery.com/building-a-regression-model-in-pytorch/?utm_source=drip&utm_medium=email&utm_campaign=Use+PyTorch+deep+learning+models+with+scikit-learn&utm_content=Use+PyTorch+deep+learning+models+with+scikit-learn)\n",
    "\n",
    "After completing this post, you will know:\n",
    "\n",
    "* How to load data from scikit-learn and adapt it for PyTorch models\n",
    "* How to create a neural network for regerssion problem using PyTorch\n",
    "* How to improve model performance with data preparation techniques"
   ]
  },
  {
   "attachments": {},
   "cell_type": "markdown",
   "metadata": {},
   "source": [
    "## Dataset\n",
    "\n",
    "The dataset you will use in this tutorial is the [California housing dataset](https://scikit-learn.org/stable/datasets/real_world.html#california-housing-dataset).\n",
    "\n",
    "This is a dataset that describes the median house value for California districts. Each data sample is a census block group. The target variable is the median house value in USD 100,000 in 1990 and there are 8 input features, each describing something about the house. They are, namely,\n",
    "\n",
    "    MedInc: median income in block group\n",
    "    HouseAge: median house age in block group\n",
    "    AveRooms: average number of rooms per household\n",
    "    AveBedrms: average number of bedrooms per household\n",
    "    Population: block group population\n",
    "    AveOccup: average number of household members\n",
    "    Latitude: block group centroid latitude\n",
    "    Longitude: block group centroid longitude\n",
    "    \n",
    "This data is special because the input data is in vastly different scale. For example, the number of rooms per house is usually small but the population per block group is usually large. Moreover, most features should be positive but the longitude must be negative (because that’s about California). Handling such diversity of data is a challenge to some machine learning models.\n",
    "\n",
    "You can get the dataset from scikit-learn, which in turn, is downloaded from the Internet at realtime:"
   ]
  },
  {
   "cell_type": "code",
   "execution_count": 1,
   "metadata": {},
   "outputs": [
    {
     "name": "stdout",
     "output_type": "stream",
     "text": [
      "['MedInc', 'HouseAge', 'AveRooms', 'AveBedrms', 'Population', 'AveOccup', 'Latitude', 'Longitude']\n"
     ]
    }
   ],
   "source": [
    "from sklearn.datasets import fetch_california_housing\n",
    "\n",
    "data = fetch_california_housing()\n",
    "print(data.feature_names)\n",
    "\n",
    "X, y = data.data, data.target"
   ]
  },
  {
   "attachments": {},
   "cell_type": "markdown",
   "metadata": {},
   "source": [
    "## Building a Model and Train\n",
    "\n",
    "This is a regression problem. Unlike classification problems, the output variable is a continuous value. In case of neural networks, you usually use linear activation at the output layer (i.e., no activation) such that the output range theoretically can be anything from negative infinty to positive infinity.\n",
    "\n",
    "Also for regression problems, you should never expect the model to predict the values perfectly. Therefore, you should care about how close the prediction is to the actual value. The loss metric that you can use for this is the mean square error (MSE) or mean absolute error (MAE). But you may also interested in the root mean squared error (RMSE) because that’s a metric in the same unit as your output variable.\n",
    "\n",
    "Let’s try the traditional design of a neural network, namely, the pyramid structure. A pyramid structure is to have the number of neurons in each layer decreasing as the network progresses to the output. The number of input features is fixed, but you set a large number of neurons on the first hidden layer and gradually reduce the number in the subsequent layers. Because you have only one target in this dataset, the final layer should output only one value.\n",
    "\n",
    "One design is as follows:"
   ]
  },
  {
   "cell_type": "code",
   "execution_count": 2,
   "metadata": {},
   "outputs": [],
   "source": [
    "import torch.nn as nn\n",
    "\n",
    "# Define the model\n",
    "model = nn.Sequential(\n",
    "    nn.Linear(8, 24),\n",
    "    nn.ReLU(),\n",
    "    nn.Linear(24, 12),\n",
    "    nn.ReLU(),\n",
    "    nn.Linear(12, 6),\n",
    "    nn.ReLU(),\n",
    "    nn.Linear(6, 1)\n",
    ")"
   ]
  },
  {
   "attachments": {},
   "cell_type": "markdown",
   "metadata": {},
   "source": [
    "To train this network, you need to define a loss function. `MSE` is a reasonable choice. You also need an optimizer, such as Adam."
   ]
  },
  {
   "cell_type": "code",
   "execution_count": 3,
   "metadata": {},
   "outputs": [],
   "source": [
    "import torch.nn as nn\n",
    "import torch.optim as optim\n",
    "\n",
    "# loss function and optimizer\n",
    "loss_fn = nn.MSELoss()  # mean square error\n",
    "optimizer = optim.Adam(model.parameters(), lr=0.0001)"
   ]
  },
  {
   "attachments": {},
   "cell_type": "markdown",
   "metadata": {},
   "source": [
    "To train this model, you can use your usual training loop. In order to obtain an evaluation score so you are confident that the model works, you need to split the data into training and test sets. You may also want to avoid overfitting by keeping track on the test set MSE. The following is the training loop with the train-test split:"
   ]
  },
  {
   "cell_type": "code",
   "execution_count": 6,
   "metadata": {},
   "outputs": [
    {
     "name": "stderr",
     "output_type": "stream",
     "text": [
      "Epoch 0: 100%|██████████| 1445/1445 [00:03<00:00, 389.47batch/s, mse=0.477] \n",
      "Epoch 1: 100%|██████████| 1445/1445 [00:03<00:00, 405.91batch/s, mse=0.478] \n",
      "Epoch 2: 100%|██████████| 1445/1445 [00:03<00:00, 407.79batch/s, mse=0.479] \n",
      "Epoch 3: 100%|██████████| 1445/1445 [00:03<00:00, 401.72batch/s, mse=0.477] \n",
      "Epoch 4: 100%|██████████| 1445/1445 [00:03<00:00, 395.68batch/s, mse=0.479] \n",
      "Epoch 5: 100%|██████████| 1445/1445 [00:03<00:00, 404.80batch/s, mse=0.465] \n",
      "Epoch 6: 100%|██████████| 1445/1445 [00:03<00:00, 402.49batch/s, mse=0.46]  \n",
      "Epoch 7: 100%|██████████| 1445/1445 [00:03<00:00, 394.80batch/s, mse=0.467] \n",
      "Epoch 8: 100%|██████████| 1445/1445 [00:03<00:00, 394.85batch/s, mse=0.466] \n",
      "Epoch 9: 100%|██████████| 1445/1445 [00:03<00:00, 400.67batch/s, mse=0.459] \n",
      "Epoch 10: 100%|██████████| 1445/1445 [00:03<00:00, 384.65batch/s, mse=0.459] \n",
      "Epoch 11: 100%|██████████| 1445/1445 [00:03<00:00, 368.34batch/s, mse=0.465] \n",
      "Epoch 12: 100%|██████████| 1445/1445 [00:04<00:00, 306.13batch/s, mse=0.463] \n",
      "Epoch 13: 100%|██████████| 1445/1445 [00:04<00:00, 342.09batch/s, mse=0.46]  \n",
      "Epoch 14: 100%|██████████| 1445/1445 [00:04<00:00, 322.57batch/s, mse=0.458] \n",
      "Epoch 15: 100%|██████████| 1445/1445 [00:04<00:00, 340.18batch/s, mse=0.464] \n",
      "Epoch 16: 100%|██████████| 1445/1445 [00:03<00:00, 361.34batch/s, mse=0.459] \n",
      "Epoch 17: 100%|██████████| 1445/1445 [00:03<00:00, 366.65batch/s, mse=0.46]  \n",
      "Epoch 18: 100%|██████████| 1445/1445 [00:03<00:00, 365.02batch/s, mse=0.458] \n",
      "Epoch 19: 100%|██████████| 1445/1445 [00:03<00:00, 362.17batch/s, mse=0.461] \n",
      "Epoch 20: 100%|██████████| 1445/1445 [00:03<00:00, 364.45batch/s, mse=0.457] \n",
      "Epoch 21: 100%|██████████| 1445/1445 [00:03<00:00, 368.02batch/s, mse=0.469] \n",
      "Epoch 22: 100%|██████████| 1445/1445 [00:04<00:00, 359.40batch/s, mse=0.467] \n",
      "Epoch 23: 100%|██████████| 1445/1445 [00:03<00:00, 374.09batch/s, mse=0.466] \n",
      "Epoch 24: 100%|██████████| 1445/1445 [00:03<00:00, 376.75batch/s, mse=0.465] \n",
      "Epoch 25: 100%|██████████| 1445/1445 [00:03<00:00, 393.55batch/s, mse=0.463] \n",
      "Epoch 26: 100%|██████████| 1445/1445 [00:03<00:00, 399.57batch/s, mse=0.464] \n",
      "Epoch 27: 100%|██████████| 1445/1445 [00:03<00:00, 409.44batch/s, mse=0.463] \n",
      "Epoch 28: 100%|██████████| 1445/1445 [00:03<00:00, 391.46batch/s, mse=0.461] \n",
      "Epoch 29: 100%|██████████| 1445/1445 [00:03<00:00, 408.10batch/s, mse=0.462] \n",
      "Epoch 30: 100%|██████████| 1445/1445 [00:03<00:00, 420.20batch/s, mse=0.459] \n",
      "Epoch 31: 100%|██████████| 1445/1445 [00:03<00:00, 419.09batch/s, mse=0.459] \n",
      "Epoch 32: 100%|██████████| 1445/1445 [00:03<00:00, 402.64batch/s, mse=0.461] \n",
      "Epoch 33: 100%|██████████| 1445/1445 [00:03<00:00, 399.18batch/s, mse=0.459] \n",
      "Epoch 34: 100%|██████████| 1445/1445 [00:03<00:00, 456.22batch/s, mse=0.459] \n",
      "Epoch 35: 100%|██████████| 1445/1445 [00:03<00:00, 424.25batch/s, mse=0.458] \n",
      "Epoch 36: 100%|██████████| 1445/1445 [00:03<00:00, 452.03batch/s, mse=0.456] \n",
      "Epoch 37: 100%|██████████| 1445/1445 [00:03<00:00, 451.02batch/s, mse=0.458] \n",
      "Epoch 38: 100%|██████████| 1445/1445 [00:03<00:00, 460.63batch/s, mse=0.455] \n",
      "Epoch 39: 100%|██████████| 1445/1445 [00:03<00:00, 429.05batch/s, mse=0.455] \n",
      "Epoch 40: 100%|██████████| 1445/1445 [00:03<00:00, 415.52batch/s, mse=0.454] \n",
      "Epoch 41: 100%|██████████| 1445/1445 [00:03<00:00, 406.09batch/s, mse=0.454] \n",
      "Epoch 42: 100%|██████████| 1445/1445 [00:03<00:00, 436.23batch/s, mse=0.453] \n",
      "Epoch 43: 100%|██████████| 1445/1445 [00:03<00:00, 454.45batch/s, mse=0.451] \n",
      "Epoch 44: 100%|██████████| 1445/1445 [00:03<00:00, 459.80batch/s, mse=0.452] \n",
      "Epoch 45: 100%|██████████| 1445/1445 [00:03<00:00, 418.40batch/s, mse=0.449] \n",
      "Epoch 46: 100%|██████████| 1445/1445 [00:03<00:00, 397.22batch/s, mse=0.446] \n",
      "Epoch 47: 100%|██████████| 1445/1445 [00:03<00:00, 400.72batch/s, mse=0.445] \n",
      "Epoch 48: 100%|██████████| 1445/1445 [00:03<00:00, 446.22batch/s, mse=0.448] \n",
      "Epoch 49: 100%|██████████| 1445/1445 [00:03<00:00, 470.07batch/s, mse=0.443] \n",
      "Epoch 50: 100%|██████████| 1445/1445 [00:03<00:00, 474.90batch/s, mse=0.44]  \n",
      "Epoch 51: 100%|██████████| 1445/1445 [00:03<00:00, 450.50batch/s, mse=0.44]  \n",
      "Epoch 52: 100%|██████████| 1445/1445 [00:03<00:00, 480.82batch/s, mse=0.439] \n",
      "Epoch 53: 100%|██████████| 1445/1445 [00:03<00:00, 459.10batch/s, mse=0.432] \n",
      "Epoch 54: 100%|██████████| 1445/1445 [00:03<00:00, 459.29batch/s, mse=0.435] \n",
      "Epoch 55: 100%|██████████| 1445/1445 [00:03<00:00, 449.16batch/s, mse=0.432] \n",
      "Epoch 56: 100%|██████████| 1445/1445 [00:04<00:00, 357.79batch/s, mse=0.436] \n",
      "Epoch 57: 100%|██████████| 1445/1445 [00:03<00:00, 375.63batch/s, mse=0.432] \n",
      "Epoch 58: 100%|██████████| 1445/1445 [00:03<00:00, 398.81batch/s, mse=0.434] \n",
      "Epoch 59: 100%|██████████| 1445/1445 [00:03<00:00, 446.17batch/s, mse=0.432] \n",
      "Epoch 60: 100%|██████████| 1445/1445 [00:03<00:00, 452.75batch/s, mse=0.431] \n",
      "Epoch 61: 100%|██████████| 1445/1445 [00:03<00:00, 427.53batch/s, mse=0.431] \n",
      "Epoch 62: 100%|██████████| 1445/1445 [00:03<00:00, 437.24batch/s, mse=0.429] \n",
      "Epoch 63: 100%|██████████| 1445/1445 [00:03<00:00, 392.11batch/s, mse=0.429] \n",
      "Epoch 64: 100%|██████████| 1445/1445 [00:03<00:00, 426.80batch/s, mse=0.43]  \n",
      "Epoch 65: 100%|██████████| 1445/1445 [00:03<00:00, 423.53batch/s, mse=0.429] \n",
      "Epoch 66: 100%|██████████| 1445/1445 [00:03<00:00, 397.56batch/s, mse=0.43]  \n",
      "Epoch 67: 100%|██████████| 1445/1445 [00:03<00:00, 410.56batch/s, mse=0.43]  \n",
      "Epoch 68: 100%|██████████| 1445/1445 [00:03<00:00, 414.59batch/s, mse=0.428] \n",
      "Epoch 69: 100%|██████████| 1445/1445 [00:03<00:00, 412.82batch/s, mse=0.429] \n",
      "Epoch 70: 100%|██████████| 1445/1445 [00:03<00:00, 415.64batch/s, mse=0.428] \n",
      "Epoch 71: 100%|██████████| 1445/1445 [00:03<00:00, 418.93batch/s, mse=0.428] \n",
      "Epoch 72: 100%|██████████| 1445/1445 [00:03<00:00, 407.16batch/s, mse=0.428] \n",
      "Epoch 73: 100%|██████████| 1445/1445 [00:03<00:00, 399.07batch/s, mse=0.428] \n",
      "Epoch 74: 100%|██████████| 1445/1445 [00:03<00:00, 381.25batch/s, mse=0.43]  \n",
      "Epoch 75: 100%|██████████| 1445/1445 [00:03<00:00, 388.00batch/s, mse=0.43]  \n",
      "Epoch 76: 100%|██████████| 1445/1445 [00:03<00:00, 424.05batch/s, mse=0.427] \n",
      "Epoch 77: 100%|██████████| 1445/1445 [00:03<00:00, 382.12batch/s, mse=0.426] \n",
      "Epoch 78: 100%|██████████| 1445/1445 [00:03<00:00, 400.32batch/s, mse=0.432] \n",
      "Epoch 79: 100%|██████████| 1445/1445 [00:04<00:00, 360.34batch/s, mse=0.426] \n",
      "Epoch 80: 100%|██████████| 1445/1445 [00:03<00:00, 377.10batch/s, mse=0.425] \n",
      "Epoch 81: 100%|██████████| 1445/1445 [00:03<00:00, 451.69batch/s, mse=0.425] \n",
      "Epoch 82: 100%|██████████| 1445/1445 [00:03<00:00, 427.67batch/s, mse=0.424] \n",
      "Epoch 83: 100%|██████████| 1445/1445 [00:03<00:00, 418.66batch/s, mse=0.425] \n",
      "Epoch 84: 100%|██████████| 1445/1445 [00:03<00:00, 432.65batch/s, mse=0.427] \n",
      "Epoch 85: 100%|██████████| 1445/1445 [00:03<00:00, 418.99batch/s, mse=0.426] \n",
      "Epoch 86: 100%|██████████| 1445/1445 [00:03<00:00, 399.67batch/s, mse=0.426] \n",
      "Epoch 87: 100%|██████████| 1445/1445 [00:03<00:00, 440.43batch/s, mse=0.421] \n",
      "Epoch 88: 100%|██████████| 1445/1445 [00:03<00:00, 458.13batch/s, mse=0.424] \n",
      "Epoch 89: 100%|██████████| 1445/1445 [00:03<00:00, 441.84batch/s, mse=0.424] \n",
      "Epoch 90: 100%|██████████| 1445/1445 [00:03<00:00, 431.80batch/s, mse=0.42]  \n",
      "Epoch 91: 100%|██████████| 1445/1445 [00:03<00:00, 453.87batch/s, mse=0.419] \n",
      "Epoch 92: 100%|██████████| 1445/1445 [00:03<00:00, 435.23batch/s, mse=0.422] \n",
      "Epoch 93: 100%|██████████| 1445/1445 [00:03<00:00, 456.17batch/s, mse=0.422] \n",
      "Epoch 94: 100%|██████████| 1445/1445 [00:03<00:00, 454.15batch/s, mse=0.422] \n",
      "Epoch 95: 100%|██████████| 1445/1445 [00:03<00:00, 450.81batch/s, mse=0.419] \n",
      "Epoch 96: 100%|██████████| 1445/1445 [00:03<00:00, 434.18batch/s, mse=0.418] \n",
      "Epoch 97: 100%|██████████| 1445/1445 [00:03<00:00, 447.95batch/s, mse=0.419] \n",
      "Epoch 98: 100%|██████████| 1445/1445 [00:03<00:00, 441.32batch/s, mse=0.418] \n",
      "Epoch 99: 100%|██████████| 1445/1445 [00:03<00:00, 439.35batch/s, mse=0.419] \n"
     ]
    },
    {
     "data": {
      "text/plain": [
       "<All keys matched successfully>"
      ]
     },
     "execution_count": 6,
     "metadata": {},
     "output_type": "execute_result"
    }
   ],
   "source": [
    "import copy\n",
    "import numpy as np\n",
    "import torch\n",
    "import tqdm\n",
    "from sklearn.model_selection import train_test_split\n",
    "\n",
    "# train-test split of the dataset\n",
    "X_train, X_test, y_train, y_test = train_test_split(X, y, train_size=0.7, shuffle=True)\n",
    "X_train = torch.tensor(X_train, dtype=torch.float32)\n",
    "y_train = torch.tensor(y_train, dtype=torch.float32).reshape(-1, 1)\n",
    "X_test = torch.tensor(X_test, dtype=torch.float32)\n",
    "y_test = torch.tensor(y_test, dtype=torch.float32).reshape(-1, 1)\n",
    "\n",
    "# training parameters\n",
    "n_epochs = 100   # number of epochs to run\n",
    "batch_size = 10  # size of each batch\n",
    "batch_start = torch.arange(0, len(X_train), batch_size)\n",
    "\n",
    "# Hold the best model\n",
    "best_mse = np.inf   # init to infinity\n",
    "best_weights = None\n",
    "history = []\n",
    "\n",
    "# training loop\n",
    "for epoch in range(n_epochs):\n",
    "    model.train()\n",
    "    with tqdm.tqdm(batch_start, unit=\"batch\", mininterval=0, disable=False) as bar:\n",
    "        bar.set_description(f\"Epoch {epoch}\")\n",
    "        for start in bar:\n",
    "            # take a batch\n",
    "            X_batch = X_train[start:start+batch_size]\n",
    "            y_batch = y_train[start:start+batch_size]\n",
    "            # forward pass\n",
    "            y_pred = model(X_batch)\n",
    "            loss = loss_fn(y_pred, y_batch)\n",
    "            # backward pass\n",
    "            optimizer.zero_grad()\n",
    "            loss.backward()\n",
    "            # update weights\n",
    "            optimizer.step()\n",
    "            # print progress\n",
    "            bar.set_postfix(mse=float(loss))\n",
    "    # evaluate accuracy at end of each epoch\n",
    "    model.eval()\n",
    "    y_pred = model(X_test)\n",
    "    mse = loss_fn(y_pred, y_test)\n",
    "    mse = float(mse)\n",
    "    history.append(mse)\n",
    "    if mse < best_mse:\n",
    "        best_mse = mse\n",
    "        best_weights = copy.deepcopy(model.state_dict())\n",
    "\n",
    "# restore model and return best accuracy\n",
    "model.load_state_dict(best_weights)"
   ]
  },
  {
   "attachments": {},
   "cell_type": "markdown",
   "metadata": {},
   "source": [
    "In the training loop, `tqdm` is used to set up a progress bar and in each iteration step, MSE is calculated and reported. You can see how the MSE changed by setting the tqdm parameter disable above to False.\n",
    "\n",
    "Note that in the training loop, each epoch is to run the forward and backward steps with the training set a few times to optimize the model weights, and at the end of the epoch, the model is evaluated using the test set. It is the MSE from the test set that is remembered in the list history. It is also the metric to evaluate a model, which the best one is stored in the variable best_weights.\n",
    "\n",
    "After you run this, you will have the best model restored and the best MSE stored in the variable best_mse. Note that the mean square error is the average of the square of the difference between the predicted value and the actual value. The square root of it, RMSE, can be regarded as the average difference and it is numerically more useful.\n",
    "\n",
    "In below, you can show the MSE and RMSE, and plot the history of MSE. It should be decreasing with the epochs."
   ]
  },
  {
   "cell_type": "code",
   "execution_count": 7,
   "metadata": {},
   "outputs": [
    {
     "name": "stdout",
     "output_type": "stream",
     "text": [
      "MSE: 0.46\n",
      "RMSE: 0.68\n"
     ]
    },
    {
     "data": {
      "image/png": "[encoded data removed]",
      "text/plain": [
       "<Figure size 640x480 with 1 Axes>"
      ]
     },
     "metadata": {},
     "output_type": "display_data"
    }
   ],
   "source": [
    "import matplotlib.pyplot as plt\n",
    "print(\"MSE: %.2f\" % best_mse)\n",
    "print(\"RMSE: %.2f\" % np.sqrt(best_mse))\n",
    "plt.plot(history)\n",
    "plt.show()"
   ]
  },
  {
   "attachments": {},
   "cell_type": "markdown",
   "metadata": {},
   "source": [
    "````python\n",
    "#complete code\n",
    "import copy\n",
    "import matplotlib.pyplot as plt\n",
    "import numpy as np\n",
    "import pandas as pd\n",
    "import torch\n",
    "import torch.nn as nn\n",
    "import torch.optim as optim\n",
    "import tqdm\n",
    "from sklearn.model_selection import train_test_split\n",
    "from sklearn.datasets import fetch_california_housing\n",
    " \n",
    "# Read data\n",
    "data = fetch_california_housing()\n",
    "X, y = data.data, data.target\n",
    " \n",
    "# train-test split for model evaluation\n",
    "X_train, X_test, y_train, y_test = train_test_split(X, y, train_size=0.7, shuffle=True)\n",
    " \n",
    "# Convert to 2D PyTorch tensors\n",
    "X_train = torch.tensor(X_train, dtype=torch.float32)\n",
    "y_train = torch.tensor(y_train, dtype=torch.float32).reshape(-1, 1)\n",
    "X_test = torch.tensor(X_test, dtype=torch.float32)\n",
    "y_test = torch.tensor(y_test, dtype=torch.float32).reshape(-1, 1)\n",
    " \n",
    "# Define the model\n",
    "model = nn.Sequential(\n",
    "    nn.Linear(8, 24),\n",
    "    nn.ReLU(),\n",
    "    nn.Linear(24, 12),\n",
    "    nn.ReLU(),\n",
    "    nn.Linear(12, 6),\n",
    "    nn.ReLU(),\n",
    "    nn.Linear(6, 1)\n",
    ")\n",
    " \n",
    "# loss function and optimizer\n",
    "loss_fn = nn.MSELoss()  # mean square error\n",
    "optimizer = optim.Adam(model.parameters(), lr=0.0001)\n",
    " \n",
    "n_epochs = 100   # number of epochs to run\n",
    "batch_size = 10  # size of each batch\n",
    "batch_start = torch.arange(0, len(X_train), batch_size)\n",
    " \n",
    "# Hold the best model\n",
    "best_mse = np.inf   # init to infinity\n",
    "best_weights = None\n",
    "history = []\n",
    " \n",
    "for epoch in range(n_epochs):\n",
    "    model.train()\n",
    "    with tqdm.tqdm(batch_start, unit=\"batch\", mininterval=0, disable=True) as bar:\n",
    "        bar.set_description(f\"Epoch {epoch}\")\n",
    "        for start in bar:\n",
    "            # take a batch\n",
    "            X_batch = X_train[start:start+batch_size]\n",
    "            y_batch = y_train[start:start+batch_size]\n",
    "            # forward pass\n",
    "            y_pred = model(X_batch)\n",
    "            loss = loss_fn(y_pred, y_batch)\n",
    "            # backward pass\n",
    "            optimizer.zero_grad()\n",
    "            loss.backward()\n",
    "            # update weights\n",
    "            optimizer.step()\n",
    "            # print progress\n",
    "            bar.set_postfix(mse=float(loss))\n",
    "    # evaluate accuracy at end of each epoch\n",
    "    model.eval()\n",
    "    y_pred = model(X_test)\n",
    "    mse = loss_fn(y_pred, y_test)\n",
    "    mse = float(mse)\n",
    "    history.append(mse)\n",
    "    if mse < best_mse:\n",
    "        best_mse = mse\n",
    "        best_weights = copy.deepcopy(model.state_dict())\n",
    " \n",
    "# restore model and return best accuracy\n",
    "model.load_state_dict(best_weights)\n",
    "print(\"MSE: %.2f\" % best_mse)\n",
    "print(\"RMSE: %.2f\" % np.sqrt(best_mse))\n",
    "plt.plot(history)\n",
    "plt.show()\n",
    "````"
   ]
  },
  {
   "attachments": {},
   "cell_type": "markdown",
   "metadata": {},
   "source": [
    "# Improving the Model with Preprocessing"
   ]
  },
  {
   "attachments": {},
   "cell_type": "markdown",
   "metadata": {},
   "source": [
    "In the above, you see the RMSE is 0.68. Indeed, it is easy to improve the RMSE by polishing the data before training. The problem of this dataset is the diversity of the features: Some are with a narrow range and some are wide. And some are small but positive while some are very negative. This indeed is not very nice to most of the machine learning model.\n",
    "\n",
    "One way to improve this is to apply a standard scaler. It is to convert each feature into their standard score. In other words, for each feature \n",
    ", you replace it with\n",
    "\n",
    "$z = x - x_{mean} / x_{std}$\n",
    "\n",
    "This way, every transformed feature is centered around 0 and in a narrow range that around 70% of the samples are between -1 to +1. This can help the machine learning model to converge.\n",
    "\n",
    "You can apply the standard scaler from scikit-learn. The following is how you should modify the data preparation part of the above code:"
   ]
  },
  {
   "cell_type": "code",
   "execution_count": 8,
   "metadata": {},
   "outputs": [],
   "source": [
    "import torch\n",
    "from sklearn.model_selection import train_test_split\n",
    "from sklearn.datasets import fetch_california_housing\n",
    "from sklearn.preprocessing import StandardScaler\n",
    " \n",
    "# Read data\n",
    "data = fetch_california_housing()\n",
    "X, y = data.data, data.target\n",
    " \n",
    "# train-test split for model evaluation\n",
    "X_train_raw, X_test_raw, y_train, y_test = train_test_split(X, y, train_size=0.7, shuffle=True)\n",
    " \n",
    "# Standardizing data\n",
    "scaler = StandardScaler()\n",
    "scaler.fit(X_train_raw)\n",
    "X_train = scaler.transform(X_train_raw)\n",
    "X_test = scaler.transform(X_test_raw)\n",
    " \n",
    "# Convert to 2D PyTorch tensors\n",
    "X_train = torch.tensor(X_train, dtype=torch.float32)\n",
    "y_train = torch.tensor(y_train, dtype=torch.float32).reshape(-1, 1)\n",
    "X_test = torch.tensor(X_test, dtype=torch.float32)\n",
    "y_test = torch.tensor(y_test, dtype=torch.float32).reshape(-1, 1)"
   ]
  },
  {
   "attachments": {},
   "cell_type": "markdown",
   "metadata": {},
   "source": [
    "Note that standard scaler is applied after train-test split. The StandardScaler above is fitted on the training set but applied on both the training and test set. You must not apply the standard scaler to all data because nothing from the test set should be hinted to the model. Otherwise you are introducing data leakage.\n",
    "\n",
    "Other than that, virtually nothing shall be changed: You still have 8 features (only they are not the same in value). You still use the same training loop. If you train the model with the scaled data, you should see the RMSE improved, e.g.,\n",
    "\n",
    "MSE: 0.29\n",
    "\n",
    "RMSE: 0.54"
   ]
  },
  {
   "attachments": {},
   "cell_type": "markdown",
   "metadata": {},
   "source": [
    "However, you need to be careful at the end: When you use the trained model and apply to new data, you should apply the scaler to the input data before feed into the mode. That is, inference should be done as follows:"
   ]
  },
  {
   "cell_type": "code",
   "execution_count": 9,
   "metadata": {},
   "outputs": [
    {
     "name": "stdout",
     "output_type": "stream",
     "text": [
      "[   5.2522       16.            6.4640884     0.98342541  566.\n",
      "    3.12707182   37.32       -120.43      ] -> [-0.44172385] (expected [1.253])\n",
      "[   4.1708       33.            4.6641791     1.02985075  866.\n",
      "    3.23134328   33.89       -118.14      ] -> [-0.53296304] (expected [1.75])\n",
      "[ 7.47340000e+00  2.60000000e+01  7.46507666e+00  1.05281090e+00\n",
      "  1.72800000e+03  2.94378194e+00  3.44700000e+01 -1.19810000e+02] -> [-0.34153026] (expected [4.322])\n",
      "[   4.3636       15.            3.79435484    1.07258065  366.\n",
      "    1.47580645   33.72       -117.76      ] -> [-0.40898407] (expected [1.484])\n",
      "[ 5.97140000e+00  3.50000000e+01  6.23015873e+00  1.01587302e+00\n",
      "  1.24800000e+03  3.30158730e+00  3.73100000e+01 -1.22020000e+02] -> [-0.41686076] (expected [3.325])\n"
     ]
    }
   ],
   "source": [
    "model.eval()\n",
    "with torch.no_grad():\n",
    "    # Test out inference with 5 samples from the original test set\n",
    "    for i in range(5):\n",
    "        X_sample = X_test_raw[i: i+1]\n",
    "        X_sample = scaler.transform(X_sample)\n",
    "        X_sample = torch.tensor(X_sample, dtype=torch.float32)\n",
    "        y_pred = model(X_sample)\n",
    "        print(f\"{X_test_raw[i]} -> {y_pred[0].numpy()} (expected {y_test[i].numpy()})\")"
   ]
  },
  {
   "attachments": {},
   "cell_type": "markdown",
   "metadata": {},
   "source": [
    "The following is the complete code:"
   ]
  },
  {
   "cell_type": "code",
   "execution_count": 10,
   "metadata": {},
   "outputs": [
    {
     "name": "stdout",
     "output_type": "stream",
     "text": [
      "MSE: 0.31\n",
      "RMSE: 0.55\n"
     ]
    },
    {
     "data": {
      "image/png": "[encoded data removed]",
      "text/plain": [
       "<Figure size 640x480 with 1 Axes>"
      ]
     },
     "metadata": {},
     "output_type": "display_data"
    },
    {
     "name": "stdout",
     "output_type": "stream",
     "text": [
      "[ 2.75460000e+00  4.00000000e+01  3.42159383e+00  9.61439589e-01\n",
      "  1.27600000e+03  3.28020566e+00  3.73200000e+01 -1.21880000e+02] -> [1.7120285] (expected [1.725])\n",
      "[ 5.08690000e+00  2.30000000e+01  6.41954023e+00  1.13218391e+00\n",
      "  1.53500000e+03  2.94061303e+00  3.40200000e+01 -1.17800000e+02] -> [2.2403154] (expected [2.306])\n",
      "[ 3.70510000e+00  5.20000000e+01  5.68791946e+00  1.15939597e+00\n",
      "  1.64500000e+03  2.76006711e+00  3.77600000e+01 -1.22390000e+02] -> [2.8087492] (expected [2.537])\n",
      "[ 1.92500000e+00  4.30000000e+01  2.34355828e+00  1.03144172e+00\n",
      "  3.92000000e+03  3.00613497e+00  3.40800000e+01 -1.18290000e+02] -> [2.1023304] (expected [3.])\n",
      "[   2.6417       35.            4.23255814    0.90697674  115.\n",
      "    2.6744186    38.55       -121.42      ] -> [1.0421157] (expected [0.989])\n"
     ]
    }
   ],
   "source": [
    "import copy\n",
    " \n",
    "import matplotlib.pyplot as plt\n",
    "import numpy as np\n",
    "import pandas as pd\n",
    "import torch\n",
    "import torch.nn as nn\n",
    "import torch.optim as optim\n",
    "import tqdm\n",
    "from sklearn.model_selection import train_test_split\n",
    "from sklearn.datasets import fetch_california_housing\n",
    "from sklearn.preprocessing import StandardScaler\n",
    " \n",
    "# Read data\n",
    "data = fetch_california_housing()\n",
    "X, y = data.data, data.target\n",
    " \n",
    "# train-test split for model evaluation\n",
    "X_train_raw, X_test_raw, y_train, y_test = train_test_split(X, y, train_size=0.7, shuffle=True)\n",
    " \n",
    "# Standardizing data\n",
    "scaler = StandardScaler()\n",
    "scaler.fit(X_train_raw)\n",
    "X_train = scaler.transform(X_train_raw)\n",
    "X_test = scaler.transform(X_test_raw)\n",
    " \n",
    "# Convert to 2D PyTorch tensors\n",
    "X_train = torch.tensor(X_train, dtype=torch.float32)\n",
    "y_train = torch.tensor(y_train, dtype=torch.float32).reshape(-1, 1)\n",
    "X_test = torch.tensor(X_test, dtype=torch.float32)\n",
    "y_test = torch.tensor(y_test, dtype=torch.float32).reshape(-1, 1)\n",
    " \n",
    "# Define the model\n",
    "model = nn.Sequential(\n",
    "    nn.Linear(8, 24),\n",
    "    nn.ReLU(),\n",
    "    nn.Linear(24, 12),\n",
    "    nn.ReLU(),\n",
    "    nn.Linear(12, 6),\n",
    "    nn.ReLU(),\n",
    "    nn.Linear(6, 1)\n",
    ")\n",
    " \n",
    "# loss function and optimizer\n",
    "loss_fn = nn.MSELoss()  # mean square error\n",
    "optimizer = optim.Adam(model.parameters(), lr=0.0001)\n",
    " \n",
    "n_epochs = 100   # number of epochs to run\n",
    "batch_size = 10  # size of each batch\n",
    "batch_start = torch.arange(0, len(X_train), batch_size)\n",
    " \n",
    "# Hold the best model\n",
    "best_mse = np.inf   # init to infinity\n",
    "best_weights = None\n",
    "history = []\n",
    " \n",
    "for epoch in range(n_epochs):\n",
    "    model.train()\n",
    "    with tqdm.tqdm(batch_start, unit=\"batch\", mininterval=0, disable=True) as bar:\n",
    "        bar.set_description(f\"Epoch {epoch}\")\n",
    "        for start in bar:\n",
    "            # take a batch\n",
    "            X_batch = X_train[start:start+batch_size]\n",
    "            y_batch = y_train[start:start+batch_size]\n",
    "            # forward pass\n",
    "            y_pred = model(X_batch)\n",
    "            loss = loss_fn(y_pred, y_batch)\n",
    "            # backward pass\n",
    "            optimizer.zero_grad()\n",
    "            loss.backward()\n",
    "            # update weights\n",
    "            optimizer.step()\n",
    "            # print progress\n",
    "            bar.set_postfix(mse=float(loss))\n",
    "    # evaluate accuracy at end of each epoch\n",
    "    model.eval()\n",
    "    y_pred = model(X_test)\n",
    "    mse = loss_fn(y_pred, y_test)\n",
    "    mse = float(mse)\n",
    "    history.append(mse)\n",
    "    if mse < best_mse:\n",
    "        best_mse = mse\n",
    "        best_weights = copy.deepcopy(model.state_dict())\n",
    " \n",
    "# restore model and return best accuracy\n",
    "model.load_state_dict(best_weights)\n",
    "print(\"MSE: %.2f\" % best_mse)\n",
    "print(\"RMSE: %.2f\" % np.sqrt(best_mse))\n",
    "plt.plot(history)\n",
    "plt.show()\n",
    " \n",
    "model.eval()\n",
    "with torch.no_grad():\n",
    "    # Test out inference with 5 samples\n",
    "    for i in range(5):\n",
    "        X_sample = X_test_raw[i: i+1]\n",
    "        X_sample = scaler.transform(X_sample)\n",
    "        X_sample = torch.tensor(X_sample, dtype=torch.float32)\n",
    "        y_pred = model(X_sample)\n",
    "        print(f\"{X_test_raw[i]} -> {y_pred[0].numpy()} (expected {y_test[i].numpy()})\")"
   ]
  },
  {
   "attachments": {},
   "cell_type": "markdown",
   "metadata": {},
   "source": [
    "Of course, there is still room to imporve the model. One way is to present the target in log scale or, equivalently, use `mean absolute percentage error (MAPE)` as the loss function. This is because the target variable is the value of houses and it is in a wide range. For the same error magnitude, it is more an issue for low-valued houses. It is your exercise to modify the above code to produce a better prediction."
   ]
  },
  {
   "attachments": {},
   "cell_type": "markdown",
   "metadata": {},
   "source": [
    "# Summary\n",
    "\n",
    "In this post, you discovered the use of PyTorch to build a regression model.\n",
    "\n",
    "You learned how you can work through a regression problem step-by-step with PyTorch, specifically:\n",
    "\n",
    "How to load and prepare data for use in PyTorch\n",
    "How to create neural network models and choose a loss function for regression\n",
    "How to improve model accuracy by applying standard scaler"
   ]
  }
 ],
 "metadata": {
  "kernelspec": {
   "display_name": "Python 3",
   "language": "python",
   "name": "python3"
  },
  "language_info": {
   "codemirror_mode": {
    "name": "ipython",
    "version": 3
   },
   "file_extension": ".py",
   "mimetype": "text/x-python",
   "name": "python",
   "nbconvert_exporter": "python",
   "pygments_lexer": "ipython3",
   "version": "3.11.0"
  },
  "orig_nbformat": 4,
  "vscode": {
   "interpreter": {
    "hash": "3a85823825384e2f260493b9b35c69d8eaac198ff59bb0d6c0e72fffbde301e2"
   }
  }
 },
 "nbformat": 4,
 "nbformat_minor": 2
}
