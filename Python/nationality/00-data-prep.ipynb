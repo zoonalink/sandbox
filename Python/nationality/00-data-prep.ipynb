{
 "cells": [
  {
   "cell_type": "markdown",
   "metadata": {},
   "source": [
    "# Nationality Data prep\n"
   ]
  },
  {
   "cell_type": "markdown",
   "metadata": {},
   "source": [
    "## steps\n",
    "\n",
    "### basics\n",
    "\n",
    "* files named 201011-nationality.xlsx, 201112-nationality.xlsx, etc.\n",
    "* need to merge files in folder into one dataframe\n",
    "* need to process data: \n",
    "  * Delete columns (or don't import)\n",
    "    * PT Reg Status\n",
    "    * PT Reg Start Date\n",
    "    * Mode of Attendance\n",
    "    * Intake Code\n",
    "    * RAG Reg Status \n",
    "    * Rag Reg Start Date\n",
    "    * Surname\n",
    "  * remaining cols:\n",
    "    * Student Number\n",
    "    * Nationality\n",
    "    * PA Reg Status\n",
    "    * PA Code\n",
    "    * PA Reg Start Date\n",
    "    * Taught at Site\n",
    "  * Filter 'Taught at Site' to: \n",
    "    * ['FRENCHAY CAMPUS',\n",
    "    'GLENSIDE CAMPUS',\n",
    "    'BOWER ASHTON CAMPUS',\n",
    "    'ST MATTHIAS CAMPUS'\n",
    "    ]\n",
    "    * Delete PA Code, PA Reg Start Date\n",
    "  * Now any duplication will be on PA Reg Status mainly but also Taught at Site (20 students)\n",
    "  * Filter for PA Reg Status == A to look at graduating students only\n",
    "  * \n",
    "* "
   ]
  },
  {
   "cell_type": "markdown",
   "metadata": {},
   "source": [
    "Data:\n",
    "\n",
    "I have 15 xlsx files names 201011-nationality.xlsx, 201112-ntaionality.xlsx, etc. They are in a folder called 'data'\n",
    "\n",
    "This is what I need: \n",
    "\n",
    "* merge all files into one dataframe\n",
    "* delete these columns or do not import them ['PT Reg Status', 'PT Reg Start Date', 'Mode of Attendance', 'Intake Code', 'RAG Reg Status', 'RAG Reg Start Date', 'Surname']\n",
    "* After this, the remaining columsn are: ['Student Number', 'Nationality', 'PA Reg Status', 'PA Code', 'PA Reg Start Date', 'Taught at Site']\n",
    "* Filter 'Taught at Site' by these values ['FRENCHAY CAMPUS','GLENSIDE CAMPUS','BOWER ASHTON CAMPUS','ST MATTHIAS CAMPUS']\n",
    "* Delete 'PA Code' and 'PA Reg Start Date'\n",
    "* Remove duplicates\n",
    "* Save this file to csv\n",
    "* Filter dataframe by 'PA Reg Status' == 'A'\n",
    "* Remove duplicates and save as PA_Reg_Status_A\n",
    "* Make a separate dataframe which has rows filtered by 'PA Reg Status' == 'WD' and save.\n",
    "\n",
    "Once I have this dataframe, I want to work on the == 'A' version.\n",
    "\n",
    "Let's do the above first.  Any questions? \n",
    "\n"
   ]
  },
  {
   "cell_type": "code",
   "execution_count": 2,
   "metadata": {},
   "outputs": [],
   "source": [
    "import pandas as pd\n",
    "import os\n",
    "\n",
    "# Path to the folder containing the Excel files\n",
    "data_folder = 'data'\n",
    "\n",
    "# List to store dataframes\n",
    "all_dataframes = []\n",
    "\n",
    "# Loop through all files in the folder\n",
    "for file in os.listdir(data_folder):\n",
    "    if file.endswith('.xlsx'):\n",
    "        file_path = os.path.join(data_folder, file)\n",
    "        \n",
    "        # Read Excel file\n",
    "        df = pd.read_excel(file_path)\n",
    "        \n",
    "        # Drop unwanted columns\n",
    "        columns_to_drop = ['PT Reg Status', 'PT Reg Start Date', 'Mode of Attendance', \n",
    "                           'Intake Code', 'RAG Reg Status', 'RAG Reg Start Date', 'Surname']\n",
    "        df = df.drop(columns=columns_to_drop, errors='ignore')\n",
    "        \n",
    "        # Filter 'Taught at Site'\n",
    "        allowed_sites = ['FRENCHAY CAMPUS', 'GLENSIDE CAMPUS', 'BOWER ASHTON CAMPUS', 'ST MATTHIAS CAMPUS']\n",
    "        df = df[df['Taught at Site'].isin(allowed_sites)]\n",
    "        \n",
    "        # Drop 'PA Code' and 'PA Reg Start Date'\n",
    "        df = df.drop(columns=['PA Code', 'PA Reg Start Date'], errors='ignore')\n",
    "        \n",
    "        # Append the cleaned dataframe to the list\n",
    "        all_dataframes.append(df)\n",
    "\n",
    "# Concatenate all dataframes into one\n",
    "merged_df = pd.concat(all_dataframes, ignore_index=True)\n",
    "\n",
    "# Remove duplicates\n",
    "merged_df = merged_df.drop_duplicates()\n"
   ]
  },
  {
   "cell_type": "code",
   "execution_count": 3,
   "metadata": {},
   "outputs": [
    {
     "name": "stdout",
     "output_type": "stream",
     "text": [
      "<class 'pandas.core.frame.DataFrame'>\n",
      "Index: 518865 entries, 0 to 714292\n",
      "Data columns (total 5 columns):\n",
      " #   Column          Non-Null Count   Dtype \n",
      "---  ------          --------------   ----- \n",
      " 0   Student Number  518865 non-null  int64 \n",
      " 1   Nationality     518865 non-null  object\n",
      " 2   PA Reg Status   518865 non-null  object\n",
      " 3   Taught at Site  518865 non-null  object\n",
      " 4   RASP Year       518865 non-null  object\n",
      "dtypes: int64(1), object(4)\n",
      "memory usage: 23.8+ MB\n",
      "None\n"
     ]
    }
   ],
   "source": [
    "print(merged_df.info())"
   ]
  },
  {
   "cell_type": "code",
   "execution_count": 4,
   "metadata": {},
   "outputs": [
    {
     "name": "stdout",
     "output_type": "stream",
     "text": [
      "Data processing complete. Files saved:\n",
      "- merged_nationality_data.csv\n",
      "- PA_Reg_Status_A.csv\n",
      "- PA_Reg_Status_WD.csv\n"
     ]
    }
   ],
   "source": [
    "\n",
    "# Save the merged dataframe to CSV\n",
    "merged_df.to_csv('merged_nationality_data.csv', index=False)\n",
    "\n",
    "# Filter by 'PA Reg Status' == 'A' and save\n",
    "pa_reg_status_a = merged_df[merged_df['PA Reg Status'] == 'A'].drop_duplicates()\n",
    "pa_reg_status_a.to_csv('PA_Reg_Status_A.csv', index=False)\n",
    "\n",
    "# Filter by 'PA Reg Status' == 'WD' and save\n",
    "pa_reg_status_wd = merged_df[merged_df['PA Reg Status'] == 'WD'].drop_duplicates()\n",
    "pa_reg_status_wd.to_csv('PA_Reg_Status_WD.csv', index=False)\n",
    "\n",
    "print(\"Data processing complete. Files saved:\")\n",
    "print(\"- merged_nationality_data.csv\")\n",
    "print(\"- PA_Reg_Status_A.csv\")\n",
    "print(\"- PA_Reg_Status_WD.csv\")\n"
   ]
  }
 ],
 "metadata": {
  "kernelspec": {
   "display_name": "mlscientist",
   "language": "python",
   "name": "python3"
  },
  "language_info": {
   "codemirror_mode": {
    "name": "ipython",
    "version": 3
   },
   "file_extension": ".py",
   "mimetype": "text/x-python",
   "name": "python",
   "nbconvert_exporter": "python",
   "pygments_lexer": "ipython3",
   "version": "3.9.18"
  }
 },
 "nbformat": 4,
 "nbformat_minor": 2
}
