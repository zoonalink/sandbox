{
 "cells": [
  {
   "cell_type": "markdown",
   "metadata": {},
   "source": [
    "# Trouble shooting"
   ]
  },
  {
   "cell_type": "code",
   "execution_count": null,
   "metadata": {},
   "outputs": [],
   "source": [
    "pip uninstall prompt_toolkit\n",
    "pip uninstall jupyter\n",
    "pip uninstall ipykernel ipython jupyter-client jupyter-console jupyter-core\n",
    "pip install prompt_toolkit\n",
    "pip install jupyter\n",
    "pip install ipykernel ipython jupyter-client jupyter-console jupyter-core\n",
    "\n",
    "python --version\n",
    "pip --version\n",
    "\n",
    "python -m venv myenv\n",
    "myenv\\Scripts\\activate\n",
    "\n",
    "pip install prompt_toolkit jupyter\n"
   ]
  },
  {
   "cell_type": "code",
   "execution_count": null,
   "metadata": {
    "vscode": {
     "languageId": "powershell"
    }
   },
   "outputs": [],
   "source": [
    "#conda create --name myenv python=3.9\n",
    "#conda activate myenv\n",
    "#conda install prompt_toolkit jupyter pandas scikit-learn nltk scikit-image matplotlib seaborn scikit-learn\n",
    "#conda deactivate\n",
    "\n",
    "#conda list\n",
    "\n",
    "#jupyter notebook\n",
    "\n",
    "#conda deactivate"
   ]
  }
 ],
 "metadata": {
  "kernelspec": {
   "display_name": "mlscientist",
   "language": "python",
   "name": "python3"
  },
  "language_info": {
   "codemirror_mode": {
    "name": "ipython",
    "version": 3
   },
   "file_extension": ".py",
   "mimetype": "text/x-python",
   "name": "python",
   "nbconvert_exporter": "python",
   "pygments_lexer": "ipython3",
   "version": "3.9.21"
  }
 },
 "nbformat": 4,
 "nbformat_minor": 2
}
