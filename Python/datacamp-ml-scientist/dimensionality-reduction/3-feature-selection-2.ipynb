{
 "cells": [
  {
   "cell_type": "markdown",
   "metadata": {},
   "source": [
    "# Feature Reduction 2 - model accuracy"
   ]
  },
  {
   "cell_type": "markdown",
   "metadata": {},
   "source": [
    "Recursive Feature Elimination (RFE) is a feature selection technique that recursively removes the least important features and builds a model using the remaining features. It ranks the features by importance and selects the best subset of features for model building.\n",
    "\n",
    "Here's a brief overview of how to use RFE in Python with `scikit-learn`:\n",
    "\n",
    "1. **Import necessary libraries:**\n",
    "   ```python\n",
    "   from sklearn.feature_selection import RFE\n",
    "   from sklearn.linear_model import LogisticRegression\n",
    "   ```\n",
    "\n",
    "2. **Create the model and RFE object:**\n",
    "   ```python\n",
    "   model = LogisticRegression()\n",
    "   rfe = RFE(model, n_features_to_select=5)\n",
    "   ```\n",
    "\n",
    "3. **Fit the RFE object to the data:**\n",
    "   ```python\n",
    "   rfe = rfe.fit(X, y)\n",
    "   ```\n",
    "\n",
    "4. **Use `rfe.support_` to get a boolean mask of the selected features:**\n",
    "   ```python\n",
    "   selected_features = rfe.support_\n",
    "   ```\n",
    "\n",
    "5. **Use `rfe.ranking_` to get the ranking of all features:**\n",
    "   ```python\n",
    "   feature_ranking = rfe.ranking_\n",
    "   ```\n",
    "\n",
    "### Example Code\n"
   ]
  },
  {
   "cell_type": "code",
   "execution_count": 1,
   "metadata": {},
   "outputs": [
    {
     "name": "stdout",
     "output_type": "stream",
     "text": [
      "Selected Features: [ True  True  True  True False False  True False False False]\n",
      "Feature Ranking: [1 1 1 1 3 4 1 5 2 6]\n"
     ]
    }
   ],
   "source": [
    "from sklearn.datasets import make_classification\n",
    "from sklearn.feature_selection import RFE\n",
    "from sklearn.linear_model import LogisticRegression\n",
    "\n",
    "# Generate a dataset\n",
    "X, y = make_classification(n_samples=100, n_features=10, random_state=42)\n",
    "\n",
    "# Create a model\n",
    "model = LogisticRegression()\n",
    "\n",
    "# Create the RFE object\n",
    "rfe = RFE(model, n_features_to_select=5)\n",
    "\n",
    "# Fit the RFE object to the data\n",
    "rfe = rfe.fit(X, y)\n",
    "\n",
    "# Get the boolean mask of selected features\n",
    "selected_features = rfe.support_\n",
    "\n",
    "# Get the ranking of all features\n",
    "feature_ranking = rfe.ranking_\n",
    "\n",
    "print(\"Selected Features:\", selected_features)\n",
    "print(\"Feature Ranking:\", feature_ranking)"
   ]
  },
  {
   "cell_type": "markdown",
   "metadata": {},
   "source": [
    "\n",
    "\n",
    "- `rfe.support_`: A boolean array indicating which features are selected.\n",
    "- `rfe.ranking_`: An array of feature rankings, where 1 indicates the most important features."
   ]
  },
  {
   "cell_type": "code",
   "execution_count": 2,
   "metadata": {},
   "outputs": [
    {
     "name": "stdout",
     "output_type": "stream",
     "text": [
      "Feature Ranking: {'feature_0': 1, 'feature_1': 1, 'feature_2': 1, 'feature_3': 1, 'feature_4': 3, 'feature_5': 4, 'feature_6': 1, 'feature_7': 5, 'feature_8': 2, 'feature_9': 6}\n"
     ]
    }
   ],
   "source": [
    "import pandas as pd\n",
    "from sklearn.datasets import make_classification\n",
    "from sklearn.feature_selection import RFE\n",
    "from sklearn.linear_model import LogisticRegression\n",
    "\n",
    "# Generate a dataset\n",
    "X, y = make_classification(n_samples=100, n_features=10, random_state=42)\n",
    "X = pd.DataFrame(X, columns=[f'feature_{i}' for i in range(10)])\n",
    "\n",
    "# Create a model\n",
    "model = LogisticRegression()\n",
    "\n",
    "# Create the RFE object\n",
    "rfe = RFE(model, n_features_to_select=5)\n",
    "\n",
    "# Fit the RFE object to the data\n",
    "rfe = rfe.fit(X, y)\n",
    "\n",
    "# Get the ranking of all features\n",
    "feature_ranking = rfe.ranking_\n",
    "\n",
    "# Create a dictionary mapping feature names to their rankings\n",
    "feature_ranking_dict = dict(zip(X.columns, feature_ranking))\n",
    "\n",
    "print(\"Feature Ranking:\", feature_ranking_dict)"
   ]
  },
  {
   "cell_type": "markdown",
   "metadata": {},
   "source": [
    "## Diabetes classifier\n",
    "\n",
    "Using Pima Indians dataset to predict diabetes using logistic regression."
   ]
  },
  {
   "cell_type": "code",
   "execution_count": 3,
   "metadata": {},
   "outputs": [],
   "source": [
    "import pandas as pd\n",
    "\n",
    "# import PimaIndians.csv\n",
    "pima = pd.read_csv('PimaIndians.csv')\n"
   ]
  },
  {
   "cell_type": "code",
   "execution_count": 4,
   "metadata": {},
   "outputs": [
    {
     "name": "stdout",
     "output_type": "stream",
     "text": [
      "   pregnant  glucose  diastolic  triceps  insulin   bmi  family  age      test\n",
      "0         1       89         66       23       94  28.1   0.167   21  negative\n",
      "1         0      137         40       35      168  43.1   2.288   33  positive\n",
      "2         3       78         50       32       88  31.0   0.248   26  positive\n",
      "3         2      197         70       45      543  30.5   0.158   53  positive\n",
      "4         1      189         60       23      846  30.1   0.398   59  positive\n"
     ]
    }
   ],
   "source": [
    "print(pima.head())"
   ]
  },
  {
   "cell_type": "code",
   "execution_count": 8,
   "metadata": {},
   "outputs": [],
   "source": [
    "# create train, test data\n",
    "from sklearn.model_selection import train_test_split\n",
    "from sklearn.linear_model import LogisticRegression\n",
    "from sklearn.preprocessing import StandardScaler\n",
    "from sklearn.metrics import accuracy_score\n",
    "\n",
    "X = pima.drop('test', axis=1)\n",
    "y = pima['test']\n",
    "\n",
    "X_train, X_test, y_train, y_test = train_test_split(X, y, test_size=0.2, random_state=42)"
   ]
  },
  {
   "cell_type": "code",
   "execution_count": 9,
   "metadata": {},
   "outputs": [
    {
     "name": "stdout",
     "output_type": "stream",
     "text": [
      "77.2% accuracy on test set.\n",
      "{'pregnant': 0.36, 'glucose': 1.12, 'diastolic': 0.13, 'triceps': 0.23, 'insulin': 0.13, 'bmi': 0.32, 'family': 0.4, 'age': 0.2}\n"
     ]
    }
   ],
   "source": [
    "# fit scaler and transform training data\n",
    "scaler = StandardScaler()\n",
    "X_train_scaled = scaler.fit_transform(X_train)\n",
    "\n",
    "# fit model\n",
    "lr = LogisticRegression()\n",
    "lr.fit(X_train_scaled, y_train)\n",
    "\n",
    "# scale test data and make predictions\n",
    "X_test_scaled = scaler.transform(X_test)\n",
    "\n",
    "# predict\n",
    "y_pred = lr.predict(X_test_scaled)\n",
    "\n",
    "#  accuracy metrics and feature coefficients\n",
    "print(f\"{accuracy_score(y_test, y_pred):.1%} accuracy on test set.\")\n",
    "print(dict(zip(X.columns, abs(lr.coef_[0]).round(2))))"
   ]
  },
  {
   "cell_type": "markdown",
   "metadata": {},
   "source": [
    "Can the model be improved by reducing the number of features without hurting the model accuracy?"
   ]
  },
  {
   "cell_type": "code",
   "execution_count": 10,
   "metadata": {},
   "outputs": [
    {
     "name": "stdout",
     "output_type": "stream",
     "text": [
      "79.6% accuracy on test set.\n",
      "{'pregnant': 0.05, 'glucose': 1.23, 'diastolic': 0.03, 'triceps': 0.24, 'insulin': 0.19, 'bmi': 0.38, 'family': 0.35, 'age': 0.34}\n"
     ]
    }
   ],
   "source": [
    "# Remove the feature with the lowest model coefficient\n",
    "X = pima[['pregnant', 'glucose', 'diastolic', 'triceps', 'insulin', 'bmi', 'family', 'age']]\n",
    "\n",
    "# Performs a 25-75% train test split\n",
    "X_train, X_test, y_train, y_test = train_test_split(X, y, test_size=0.25, random_state=0)\n",
    "\n",
    "# Scales features and fits the logistic regression model\n",
    "lr.fit(scaler.fit_transform(X_train), y_train)\n",
    "\n",
    "# Calculates the accuracy on the test set and prints coefficients\n",
    "acc = accuracy_score(y_test, lr.predict(scaler.transform(X_test)))\n",
    "print(f\"{acc:.1%} accuracy on test set.\") \n",
    "print(dict(zip(X.columns, abs(lr.coef_[0]).round(2))))"
   ]
  },
  {
   "cell_type": "markdown",
   "metadata": {},
   "source": [
    "Remove diastolic."
   ]
  },
  {
   "cell_type": "code",
   "execution_count": 12,
   "metadata": {},
   "outputs": [
    {
     "name": "stdout",
     "output_type": "stream",
     "text": [
      "80.6% accuracy on test set.\n",
      "{'pregnant': 0.05, 'glucose': 1.24, 'triceps': 0.24, 'insulin': 0.2, 'bmi': 0.39, 'family': 0.34, 'age': 0.35}\n"
     ]
    }
   ],
   "source": [
    "# Remove the feature with the lowest model coefficient\n",
    "X = pima[[ 'pregnant','glucose', 'triceps', 'insulin', 'bmi', 'family', 'age']]\n",
    "\n",
    "# Performs a 25-75% train test split\n",
    "X_train, X_test, y_train, y_test = train_test_split(X, y, test_size=0.25, random_state=0)\n",
    "\n",
    "# Scales features and fits the logistic regression model\n",
    "lr.fit(scaler.fit_transform(X_train), y_train)\n",
    "\n",
    "# Calculates the accuracy on the test set and prints coefficients\n",
    "acc = accuracy_score(y_test, lr.predict(scaler.transform(X_test)))\n",
    "print(f\"{acc:.1%} accuracy on test set.\") \n",
    "print(dict(zip(X.columns, abs(lr.coef_[0]).round(2))))"
   ]
  },
  {
   "cell_type": "markdown",
   "metadata": {},
   "source": [
    "Remove two more features - pregnant, insulin"
   ]
  },
  {
   "cell_type": "code",
   "execution_count": 13,
   "metadata": {},
   "outputs": [
    {
     "name": "stdout",
     "output_type": "stream",
     "text": [
      "79.6% accuracy on test set.\n",
      "{'glucose': 1.13, 'triceps': 0.25, 'bmi': 0.34, 'family': 0.34, 'age': 0.37}\n"
     ]
    }
   ],
   "source": [
    "# Remove the feature with the lowest model coefficient\n",
    "X = pima[['glucose', 'triceps',  'bmi', 'family', 'age']]\n",
    "\n",
    "# Performs a 25-75% train test split\n",
    "X_train, X_test, y_train, y_test = train_test_split(X, y, test_size=0.25, random_state=0)\n",
    "\n",
    "# Scales features and fits the logistic regression model\n",
    "lr.fit(scaler.fit_transform(X_train), y_train)\n",
    "\n",
    "# Calculates the accuracy on the test set and prints coefficients\n",
    "acc = accuracy_score(y_test, lr.predict(scaler.transform(X_test)))\n",
    "print(f\"{acc:.1%} accuracy on test set.\") \n",
    "print(dict(zip(X.columns, abs(lr.coef_[0]).round(2))))"
   ]
  },
  {
   "cell_type": "markdown",
   "metadata": {},
   "source": [
    "Keep only highest coef feature - glucose"
   ]
  },
  {
   "cell_type": "code",
   "execution_count": 14,
   "metadata": {},
   "outputs": [
    {
     "name": "stdout",
     "output_type": "stream",
     "text": [
      "75.5% accuracy on test set.\n",
      "{'glucose': 1.28}\n"
     ]
    }
   ],
   "source": [
    "# Remove the feature with the lowest model coefficient\n",
    "X = pima[['glucose']]\n",
    "\n",
    "# Performs a 25-75% train test split\n",
    "X_train, X_test, y_train, y_test = train_test_split(X, y, test_size=0.25, random_state=0)\n",
    "\n",
    "# Scales features and fits the logistic regression model\n",
    "lr.fit(scaler.fit_transform(X_train), y_train)\n",
    "\n",
    "# Calculates the accuracy on the test set and prints coefficients\n",
    "acc = accuracy_score(y_test, lr.predict(scaler.transform(X_test)))\n",
    "print(f\"{acc:.1%} accuracy on test set.\") \n",
    "print(dict(zip(X.columns, abs(lr.coef_[0]).round(2))))"
   ]
  },
  {
   "cell_type": "markdown",
   "metadata": {},
   "source": [
    "Automatic Recursive feature elimination"
   ]
  },
  {
   "cell_type": "code",
   "execution_count": null,
   "metadata": {},
   "outputs": [
    {
     "name": "stdout",
     "output_type": "stream",
     "text": [
      "Fitting estimator with 8 features.\n",
      "Fitting estimator with 7 features.\n",
      "Fitting estimator with 6 features.\n",
      "Fitting estimator with 5 features.\n",
      "Fitting estimator with 4 features.\n",
      "{'pregnant': 5, 'glucose': 1, 'diastolic': 6, 'triceps': 3, 'insulin': 4, 'bmi': 1, 'family': 2, 'age': 1}\n",
      "Index(['glucose', 'bmi', 'age'], dtype='object')\n",
      "80.6% accuracy on test set.\n"
     ]
    }
   ],
   "source": [
    "# Remove the feature with the lowest model coefficient\n",
    "X = pima[['pregnant', 'glucose', 'diastolic', 'triceps', 'insulin', 'bmi', 'family', 'age']]\n",
    "\n",
    "# Performs a 25-75% train test split\n",
    "X_train, X_test, y_train, y_test = train_test_split(X, y, test_size=0.25, random_state=0)\n",
    "\n",
    "\n",
    "# scale train, test data \n",
    "X_train_scaled = scaler.fit_transform(X_train)\n",
    "X_test_scaled = scaler.transform(X_test)\n",
    "\n",
    "\n",
    "# Create the RFE with a LogisticRegression estimator and 3 features to select\n",
    "rfe = RFE(estimator=LogisticRegression(), n_features_to_select=3, verbose=1)\n",
    "\n",
    "# Fits the eliminator to the data\n",
    "rfe.fit(X_train_scaled, y_train)\n",
    "\n",
    "# Print the features and their ranking (high = dropped early on)\n",
    "print(dict(zip(X.columns, rfe.ranking_)))\n",
    "\n",
    "# Print the features that are not eliminated\n",
    "print(X.columns[rfe.support_])\n",
    "\n",
    "# Calculates the test set accuracy\n",
    "acc = accuracy_score(y_test, rfe.predict(X_test_scaled))\n",
    "print(f\"{acc:.1%} accuracy on test set.\") "
   ]
  },
  {
   "cell_type": "markdown",
   "metadata": {},
   "source": [
    "## Tree based feature selection"
   ]
  },
  {
   "cell_type": "code",
   "execution_count": 1,
   "metadata": {},
   "outputs": [
    {
     "name": "stdout",
     "output_type": "stream",
     "text": [
      "(1986, 99)\n",
      "(4082, 99)\n",
      "(6068, 99)\n"
     ]
    }
   ],
   "source": [
    "import pandas as pd\n",
    "\n",
    "# Load the data\n",
    "ansur_f = pd.read_csv('ANSUR_II_FEMALE.csv')\n",
    "ansur_m = pd.read_csv('ANSUR_II_MALE.csv')\n",
    "\n",
    "# print shapes\n",
    "print(ansur_f.shape)\n",
    "print(ansur_m.shape)\n",
    "\n",
    "# combine datasets\n",
    "ansur_df = pd.concat([ansur_f, ansur_m])\n",
    "print(ansur_df.shape)"
   ]
  },
  {
   "cell_type": "markdown",
   "metadata": {},
   "source": [
    "Predicting 'Gender' in ANSUR"
   ]
  },
  {
   "cell_type": "code",
   "execution_count": 6,
   "metadata": {},
   "outputs": [
    {
     "name": "stdout",
     "output_type": "stream",
     "text": [
      "99.0% accuracy on test set.\n"
     ]
    }
   ],
   "source": [
    "from sklearn.ensemble import RandomForestClassifier\n",
    "from sklearn.model_selection import train_test_split\n",
    "from sklearn.preprocessing import StandardScaler\n",
    "from sklearn.metrics import accuracy_score\n",
    "\n",
    "# scale numeric features\n",
    "scaler = StandardScaler()\n",
    "numeric = ansur_df.select_dtypes(include=['float64', 'int64'])\n",
    "ansur_scaled = scaler.fit_transform(numeric)\n",
    "\n",
    "# create a DataFrame\n",
    "ansur_scaled_df = pd.DataFrame(ansur_scaled, columns=numeric.columns)\n",
    "\n",
    "# create training and test sets\n",
    "X_train, X_test, y_train, y_test = train_test_split(ansur_scaled, ansur_df['Gender'], test_size=0.3, random_state=0)\n",
    "\n",
    "# create a random forest classifier\n",
    "rf = RandomForestClassifier(random_state=0)\n",
    "\n",
    "# fit the classifier\n",
    "rf.fit(X_train, y_train)\n",
    "\n",
    "# print the accuracy\n",
    "acc = accuracy_score(y_test, rf.predict(X_test))\n",
    "print(\"{0:.1%} accuracy on test set.\".format(acc))\n",
    "                                                    "
   ]
  },
  {
   "cell_type": "markdown",
   "metadata": {},
   "source": [
    "99% accuracy on test set suggests that overfitting to the training set was avoided using RF."
   ]
  },
  {
   "cell_type": "code",
   "execution_count": null,
   "metadata": {},
   "outputs": [
    {
     "name": "stdout",
     "output_type": "stream",
     "text": [
      "{'abdominalextensiondepthsitting': 0.0, 'acromialheight': 0.0, 'acromionradialelength': 0.0, 'anklecircumference': 0.0, 'axillaheight': 0.0, 'balloffootcircumference': 0.0, 'balloffootlength': 0.01, 'biacromialbreadth': 0.07, 'bicepscircumferenceflexed': 0.01, 'bicristalbreadth': 0.01, 'bideltoidbreadth': 0.02, 'bimalleolarbreadth': 0.01, 'bitragionchinarc': 0.0, 'bitragionsubmandibulararc': 0.0, 'bizygomaticbreadth': 0.0, 'buttockcircumference': 0.02, 'buttockdepth': 0.0, 'buttockheight': 0.0, 'buttockkneelength': 0.0, 'buttockpopliteallength': 0.0, 'calfcircumference': 0.0, 'cervicaleheight': 0.02, 'chestbreadth': 0.0, 'chestcircumference': 0.0, 'chestdepth': 0.01, 'chestheight': 0.06, 'crotchheight': 0.0, 'crotchlengthomphalion': 0.01, 'crotchlengthposterioromphalion': 0.0, 'earbreadth': 0.0, 'earlength': 0.0, 'earprotrusion': 0.0, 'elbowrestheight': 0.0, 'eyeheightsitting': 0.0, 'footbreadthhorizontal': 0.0, 'footlength': 0.01, 'forearmcenterofgriplength': 0.0, 'forearmcircumferenceflexed': 0.03, 'forearmforearmbreadth': 0.0, 'forearmhandlength': 0.0, 'functionalleglength': 0.0, 'handbreadth': 0.05, 'handcircumference': 0.07, 'handlength': 0.0, 'headbreadth': 0.0, 'headcircumference': 0.0, 'headlength': 0.0, 'heelanklecircumference': 0.01, 'heelbreadth': 0.0, 'hipbreadth': 0.01, 'hipbreadthsitting': 0.03, 'iliocristaleheight': 0.0, 'interpupillarybreadth': 0.0, 'interscyei': 0.01, 'interscyeii': 0.0, 'kneeheightmidpatella': 0.0, 'kneeheightsitting': 0.0, 'lateralfemoralepicondyleheight': 0.0, 'lateralmalleolusheight': 0.01, 'lowerthighcircumference': 0.01, 'mentonsellionlength': 0.0, 'neckcircumference': 0.15, 'neckcircumferencebase': 0.09, 'overheadfingertipreachsitting': 0.0, 'palmlength': 0.0, 'poplitealheight': 0.01, 'radialestylionlength': 0.02, 'shouldercircumference': 0.07, 'shoulderelbowlength': 0.0, 'shoulderlength': 0.0, 'sittingheight': 0.0, 'sleevelengthspinewrist': 0.05, 'sleeveoutseam': 0.0, 'span': 0.01, 'suprasternaleheight': 0.0, 'tenthribheight': 0.0, 'thighcircumference': 0.01, 'thighclearance': 0.0, 'thumbtipreach': 0.0, 'tibialheight': 0.0, 'tragiontopofhead': 0.0, 'trochanterionheight': 0.0, 'verticaltrunkcircumferenceusa': 0.0, 'waistbacklength': 0.02, 'waistbreadth': 0.0, 'waistcircumference': 0.0, 'waistdepth': 0.0, 'waistfrontlengthsitting': 0.0, 'waistheightomphalion': 0.0, 'wristcircumference': 0.04, 'wristheight': 0.0, 'weight_kg': 0.0, 'stature_m': 0.01, 'BMI': 0.0}\n",
      "[0.00093854 0.00129227 0.00041047 0.00077485 0.00168606 0.00211735\n",
      " 0.00950085 0.07421497 0.0097095  0.00621629 0.01577912 0.00808821\n",
      " 0.00079295 0.00220162 0.00205406 0.01510132 0.00309342 0.00088655\n",
      " 0.00254845 0.00136595 0.00172279 0.0234718  0.0012716  0.0019587\n",
      " 0.00545574 0.05719936 0.00063321 0.00677747 0.00083331 0.00109836\n",
      " 0.00065615 0.0020126  0.00049704 0.00269736 0.00148035 0.01050948\n",
      " 0.00044502 0.03037207 0.00333728 0.00479397 0.00052884 0.04754204\n",
      " 0.07285235 0.00056782 0.00093757 0.00132548 0.00063995 0.0130677\n",
      " 0.00073539 0.01318665 0.02687811 0.00063884 0.00052388 0.00637163\n",
      " 0.00413076 0.00047059 0.00053029 0.00154219 0.00522338 0.00560098\n",
      " 0.00121737 0.1495482  0.08590803 0.00061013 0.00037646 0.00510758\n",
      " 0.01538569 0.0685924  0.00087591 0.00136281 0.00228588 0.04728912\n",
      " 0.00086876 0.00890572 0.00127878 0.00129336 0.00804673 0.00100849\n",
      " 0.00049059 0.00062109 0.00060845 0.00083271 0.00079479 0.01742188\n",
      " 0.00122841 0.00184115 0.00070238 0.00051818 0.00086786 0.04091989\n",
      " 0.00039953 0.00397306 0.00620051 0.00332714]\n"
     ]
    }
   ],
   "source": [
    "# print the feature importances\n",
    "print(dict(zip(numeric.columns, rf.feature_importances_.round(2))))\n"
   ]
  },
  {
   "cell_type": "code",
   "execution_count": null,
   "metadata": {},
   "outputs": [],
   "source": [
    "# print the feature importance values\n",
    "print(rf.feature_importances_)\n",
    "\n",
    "# always sum to 1\n",
    "print(rf.feature_importances_.sum())"
   ]
  },
  {
   "cell_type": "code",
   "execution_count": 13,
   "metadata": {},
   "outputs": [
    {
     "name": "stdout",
     "output_type": "stream",
     "text": [
      "[False False False False False False False False False False False False\n",
      " False False False False False False False False False False False False\n",
      " False False False False False False False False False False False False\n",
      " False False False False False False False False False False False False\n",
      " False False False False False False False False False False False False\n",
      " False  True False False False False False False False False False False\n",
      " False False False False False False False False False False False False\n",
      " False False False False False False False False False False]\n",
      "Index(['neckcircumference'], dtype='object')\n",
      "   neckcircumference\n",
      "0          -1.016954\n",
      "1          -1.846788\n",
      "2          -1.268419\n",
      "3          -0.463731\n",
      "4          -0.891221\n"
     ]
    }
   ],
   "source": [
    "# create mask\n",
    "mask = rf.feature_importances_ > 0.1\n",
    "print(mask)\n",
    "\n",
    "# features that are selected\n",
    "print(ansur_scaled_df.columns[mask])\n",
    "\n",
    "# reduce the feature set of the dataset\n",
    "ansur_reduced = ansur_scaled_df.loc[:, mask]\n",
    "print(ansur_reduced.head())"
   ]
  },
  {
   "cell_type": "markdown",
   "metadata": {},
   "source": [
    "RFE with random forests"
   ]
  },
  {
   "cell_type": "code",
   "execution_count": 17,
   "metadata": {},
   "outputs": [
    {
     "name": "stdout",
     "output_type": "stream",
     "text": [
      "Fitting estimator with 94 features.\n",
      "Fitting estimator with 93 features.\n",
      "Fitting estimator with 92 features.\n",
      "Fitting estimator with 91 features.\n",
      "Fitting estimator with 90 features.\n",
      "Fitting estimator with 89 features.\n",
      "Fitting estimator with 88 features.\n",
      "Fitting estimator with 87 features.\n",
      "Fitting estimator with 86 features.\n",
      "Fitting estimator with 85 features.\n",
      "Fitting estimator with 84 features.\n",
      "Fitting estimator with 83 features.\n",
      "Fitting estimator with 82 features.\n",
      "Fitting estimator with 81 features.\n",
      "Fitting estimator with 80 features.\n",
      "Fitting estimator with 79 features.\n",
      "Fitting estimator with 78 features.\n",
      "Fitting estimator with 77 features.\n",
      "Fitting estimator with 76 features.\n",
      "Fitting estimator with 75 features.\n",
      "Fitting estimator with 74 features.\n",
      "Fitting estimator with 73 features.\n",
      "Fitting estimator with 72 features.\n",
      "Fitting estimator with 71 features.\n",
      "Fitting estimator with 70 features.\n",
      "Fitting estimator with 69 features.\n",
      "Fitting estimator with 68 features.\n",
      "Fitting estimator with 67 features.\n",
      "Fitting estimator with 66 features.\n",
      "Fitting estimator with 65 features.\n",
      "Fitting estimator with 64 features.\n",
      "Fitting estimator with 63 features.\n",
      "Fitting estimator with 62 features.\n",
      "Fitting estimator with 61 features.\n",
      "Fitting estimator with 60 features.\n",
      "Fitting estimator with 59 features.\n",
      "Fitting estimator with 58 features.\n",
      "Fitting estimator with 57 features.\n",
      "Fitting estimator with 56 features.\n",
      "Fitting estimator with 55 features.\n",
      "Fitting estimator with 54 features.\n",
      "Fitting estimator with 53 features.\n",
      "Fitting estimator with 52 features.\n",
      "Fitting estimator with 51 features.\n",
      "Fitting estimator with 50 features.\n",
      "Fitting estimator with 49 features.\n",
      "Fitting estimator with 48 features.\n",
      "Fitting estimator with 47 features.\n",
      "Fitting estimator with 46 features.\n",
      "Fitting estimator with 45 features.\n",
      "Fitting estimator with 44 features.\n",
      "Fitting estimator with 43 features.\n",
      "Fitting estimator with 42 features.\n",
      "Fitting estimator with 41 features.\n",
      "Fitting estimator with 40 features.\n",
      "Fitting estimator with 39 features.\n",
      "Fitting estimator with 38 features.\n",
      "Fitting estimator with 37 features.\n",
      "Fitting estimator with 36 features.\n",
      "Fitting estimator with 35 features.\n",
      "Fitting estimator with 34 features.\n",
      "Fitting estimator with 33 features.\n",
      "Fitting estimator with 32 features.\n",
      "Fitting estimator with 31 features.\n",
      "Fitting estimator with 30 features.\n",
      "Fitting estimator with 29 features.\n",
      "Fitting estimator with 28 features.\n",
      "Fitting estimator with 27 features.\n",
      "Fitting estimator with 26 features.\n",
      "Fitting estimator with 25 features.\n",
      "Fitting estimator with 24 features.\n",
      "Fitting estimator with 23 features.\n",
      "Fitting estimator with 22 features.\n",
      "Fitting estimator with 21 features.\n",
      "Fitting estimator with 20 features.\n",
      "Fitting estimator with 19 features.\n",
      "Fitting estimator with 18 features.\n",
      "Fitting estimator with 17 features.\n",
      "Fitting estimator with 16 features.\n",
      "Fitting estimator with 15 features.\n",
      "Fitting estimator with 14 features.\n",
      "Fitting estimator with 13 features.\n",
      "Fitting estimator with 12 features.\n",
      "Fitting estimator with 11 features.\n",
      "Fitting estimator with 10 features.\n",
      "Fitting estimator with 9 features.\n",
      "Fitting estimator with 8 features.\n",
      "Fitting estimator with 7 features.\n",
      "{'abdominalextensiondepthsitting': 49, 'acromialheight': 58, 'acromionradialelength': 81, 'anklecircumference': 67, 'axillaheight': 65, 'balloffootcircumference': 32, 'balloffootlength': 28, 'biacromialbreadth': 1, 'bicepscircumferenceflexed': 36, 'bicristalbreadth': 10, 'bideltoidbreadth': 22, 'bimalleolarbreadth': 25, 'bitragionchinarc': 76, 'bitragionsubmandibulararc': 39, 'bizygomaticbreadth': 52, 'buttockcircumference': 3, 'buttockdepth': 20, 'buttockheight': 77, 'buttockkneelength': 33, 'buttockpopliteallength': 45, 'calfcircumference': 43, 'cervicaleheight': 21, 'chestbreadth': 57, 'chestcircumference': 42, 'chestdepth': 8, 'chestheight': 2, 'crotchheight': 86, 'crotchlengthomphalion': 15, 'crotchlengthposterioromphalion': 89, 'earbreadth': 74, 'earlength': 61, 'earprotrusion': 24, 'elbowrestheight': 82, 'eyeheightsitting': 31, 'footbreadthhorizontal': 50, 'footlength': 41, 'forearmcenterofgriplength': 66, 'forearmcircumferenceflexed': 14, 'forearmforearmbreadth': 30, 'forearmhandlength': 64, 'functionalleglength': 72, 'handbreadth': 4, 'handcircumference': 1, 'handlength': 80, 'headbreadth': 51, 'headcircumference': 47, 'headlength': 69, 'heelanklecircumference': 12, 'heelbreadth': 87, 'hipbreadth': 5, 'hipbreadthsitting': 1, 'iliocristaleheight': 62, 'interpupillarybreadth': 75, 'interscyei': 37, 'interscyeii': 23, 'kneeheightmidpatella': 78, 'kneeheightsitting': 85, 'lateralfemoralepicondyleheight': 44, 'lateralmalleolusheight': 11, 'lowerthighcircumference': 16, 'mentonsellionlength': 38, 'neckcircumference': 1, 'neckcircumferencebase': 1, 'overheadfingertipreachsitting': 54, 'palmlength': 88, 'poplitealheight': 17, 'radialestylionlength': 27, 'shouldercircumference': 1, 'shoulderelbowlength': 68, 'shoulderlength': 56, 'sittingheight': 26, 'sleevelengthspinewrist': 7, 'sleeveoutseam': 59, 'span': 40, 'suprasternaleheight': 53, 'tenthribheight': 55, 'thighcircumference': 9, 'thighclearance': 60, 'thumbtipreach': 83, 'tibialheight': 63, 'tragiontopofhead': 84, 'trochanterionheight': 71, 'verticaltrunkcircumferenceusa': 46, 'waistbacklength': 13, 'waistbreadth': 34, 'waistcircumference': 29, 'waistdepth': 48, 'waistfrontlengthsitting': 79, 'waistheightomphalion': 70, 'wristcircumference': 6, 'wristheight': 73, 'weight_kg': 18, 'stature_m': 35, 'BMI': 19}\n",
      "0.9912136188907194\n",
      "Index(['biacromialbreadth', 'handcircumference', 'hipbreadthsitting',\n",
      "       'neckcircumference', 'neckcircumferencebase', 'shouldercircumference'],\n",
      "      dtype='object')\n"
     ]
    },
    {
     "name": "stderr",
     "output_type": "stream",
     "text": [
      "c:\\Users\\zoona\\anaconda3\\envs\\mlscientist\\lib\\site-packages\\sklearn\\base.py:493: UserWarning: X does not have valid feature names, but RFE was fitted with feature names\n",
      "  warnings.warn(\n"
     ]
    }
   ],
   "source": [
    "from sklearn.feature_selection import RFE\n",
    "\n",
    "# create the RFE with a random forest estimator\n",
    "rfe = RFE(estimator=RandomForestClassifier(), n_features_to_select=6, verbose=1)\n",
    "\n",
    "# convert X_train to pandas df\n",
    "X_train = pd.DataFrame(X_train, columns=numeric.columns)\n",
    "\n",
    "\n",
    "# fit the eliminator\n",
    "rfe.fit(X_train, y_train)\n",
    "\n",
    "print(dict(zip(numeric.columns, rfe.ranking_)))\n",
    "      \n",
    "print(accuracy_score(y_test, rfe.predict(X_test)))\n",
    "\n",
    "print(X_train.columns[rfe.support_])"
   ]
  },
  {
   "cell_type": "markdown",
   "metadata": {},
   "source": [
    "To speed up the process, we can pass the 'step' parameter.  The above took 3m20s.\n",
    "\n",
    "The step process drops that number of least important features on each iteration."
   ]
  },
  {
   "cell_type": "code",
   "execution_count": 16,
   "metadata": {},
   "outputs": [
    {
     "name": "stdout",
     "output_type": "stream",
     "text": [
      "Fitting estimator with 94 features.\n",
      "Fitting estimator with 84 features.\n",
      "Fitting estimator with 74 features.\n",
      "Fitting estimator with 64 features.\n",
      "Fitting estimator with 54 features.\n",
      "Fitting estimator with 44 features.\n",
      "Fitting estimator with 34 features.\n",
      "Fitting estimator with 24 features.\n",
      "Fitting estimator with 14 features.\n",
      "Index(['biacromialbreadth', 'handcircumference', 'neckcircumference',\n",
      "       'neckcircumferencebase', 'shouldercircumference', 'wristcircumference'],\n",
      "      dtype='object')\n"
     ]
    }
   ],
   "source": [
    "from sklearn.feature_selection import RFE\n",
    "\n",
    "# Convert X_train to a DataFrame\n",
    "X_train_df = pd.DataFrame(X_train, columns=numeric.columns)\n",
    "\n",
    "rfe = RFE(estimator=RandomForestClassifier(), n_features_to_select=6, step=10, verbose=1)\n",
    "\n",
    "rfe.fit(X_train_df, y_train)\n",
    "\n",
    "print(X_train_df.columns[rfe.support_])    \n"
   ]
  },
  {
   "cell_type": "markdown",
   "metadata": {},
   "source": [
    "Random Forest on Pima Indian dataset."
   ]
  },
  {
   "cell_type": "code",
   "execution_count": 18,
   "metadata": {},
   "outputs": [
    {
     "name": "stdout",
     "output_type": "stream",
     "text": [
      "{'pregnant': 0.07, 'glucose': 0.25, 'diastolic': 0.09, 'triceps': 0.09, 'insulin': 0.14, 'bmi': 0.12, 'family': 0.12, 'age': 0.13}\n",
      "79.6% accuracy on test set.\n"
     ]
    }
   ],
   "source": [
    "import pandas as pd\n",
    "from sklearn.model_selection import train_test_split\n",
    "from sklearn.preprocessing import StandardScaler\n",
    "from sklearn.ensemble import RandomForestClassifier\n",
    "from sklearn.metrics import accuracy_score\n",
    "\n",
    "# import PimaIndians.csv\n",
    "pima = pd.read_csv('PimaIndians.csv')\n",
    "\n",
    "# create train, test data\n",
    "X = pima.drop('test', axis=1)\n",
    "y = pima['test']\n",
    "\n",
    "X_train, X_test, y_train, y_test = train_test_split(X, y, test_size=0.25, random_state=0)\n",
    "\n",
    "# fit random forest model \n",
    "rf = RandomForestClassifier(random_state=0)\n",
    "rf.fit(X_train, y_train)\n",
    "\n",
    "# accuracy on test set\n",
    "acc = accuracy_score(y_test, rf.predict(X_test))\n",
    "\n",
    "# print importance per feature\n",
    "print(dict(zip(X.columns, rf.feature_importances_.round(2))))\n",
    "\n",
    "# print accuracy\n",
    "print(f\"{acc:.1%} accuracy on test set.\")\n",
    "\n"
   ]
  },
  {
   "cell_type": "markdown",
   "metadata": {},
   "source": [
    "Glucose is the most important feature in the dataset  - 0.25."
   ]
  },
  {
   "cell_type": "code",
   "execution_count": 19,
   "metadata": {},
   "outputs": [
    {
     "name": "stdout",
     "output_type": "stream",
     "text": [
      "[False  True False False False False False False]\n",
      "Index(['glucose'], dtype='object')\n"
     ]
    }
   ],
   "source": [
    "# create mask for features with importance > 0.15\n",
    "mask = rf.feature_importances_ > 0.15\n",
    "\n",
    "# print mask\n",
    "print(mask)\n",
    "\n",
    "# apply mask to X\n",
    "X_reduced = X.loc[:, mask]\n",
    "\n",
    "# print selected features\n",
    "print(X_reduced.columns)"
   ]
  },
  {
   "cell_type": "markdown",
   "metadata": {},
   "source": [
    "Wrappng Recursive Feature Eliminator (RFE) around a random forest model to remove features step by step.\n",
    "\n",
    "This is more conservative compared to selecting features fter applying a single importance threshold."
   ]
  },
  {
   "cell_type": "code",
   "execution_count": 20,
   "metadata": {},
   "outputs": [
    {
     "name": "stdout",
     "output_type": "stream",
     "text": [
      "True\n",
      "True\n",
      "True\n"
     ]
    }
   ],
   "source": [
    "# check if X, X_train, y_train exist and are DataFrames\n",
    "print(isinstance(X, pd.DataFrame))\n",
    "print(isinstance(X_train, pd.DataFrame))\n",
    "print(isinstance(y_train, pd.Series))\n"
   ]
  },
  {
   "cell_type": "code",
   "execution_count": 21,
   "metadata": {},
   "outputs": [
    {
     "name": "stdout",
     "output_type": "stream",
     "text": [
      "Fitting estimator with 8 features.\n",
      "Fitting estimator with 7 features.\n",
      "Fitting estimator with 6 features.\n",
      "Fitting estimator with 5 features.\n",
      "Fitting estimator with 4 features.\n",
      "Fitting estimator with 3 features.\n",
      "Index(['glucose', 'insulin'], dtype='object')\n"
     ]
    }
   ],
   "source": [
    "# wrap feature eliminator around rf model\n",
    "rfe = RFE(estimator=RandomForestClassifier(), n_features_to_select=2, step=1, verbose=1)\n",
    "\n",
    "# fit the eliminator to the training data\n",
    "rfe.fit(X_train, y_train)\n",
    "\n",
    "# create a mask using support_\n",
    "mask = rfe.support_\n",
    "\n",
    "# apply the mask to the feature dataset X\n",
    "X_reduced = X.loc[:, mask]\n",
    "print(X_reduced.columns)"
   ]
  },
  {
   "cell_type": "code",
   "execution_count": 22,
   "metadata": {},
   "outputs": [
    {
     "name": "stdout",
     "output_type": "stream",
     "text": [
      "Fitting estimator with 8 features.\n",
      "Fitting estimator with 6 features.\n",
      "Fitting estimator with 4 features.\n",
      "Index(['glucose', 'insulin'], dtype='object')\n"
     ]
    }
   ],
   "source": [
    "# set feature eliminator to select 2 features per step\n",
    "rfe = RFE(estimator=RandomForestClassifier(), n_features_to_select=2, step=2, verbose=1)\n",
    "\n",
    "# fit the eliminator to the training data\n",
    "rfe.fit(X_train, y_train)\n",
    "\n",
    "# create a mask using support_\n",
    "mask = rfe.support_\n",
    "\n",
    "# apply the mask to the feature dataset X\n",
    "X_reduced = X.loc[:, mask]\n",
    "print(X_reduced.columns)"
   ]
  },
  {
   "cell_type": "markdown",
   "metadata": {},
   "source": [
    "### Regularised linear regression\n",
    "\n",
    "Instead of classification - look at regression models and feature selection. \n",
    "\n"
   ]
  },
  {
   "cell_type": "code",
   "execution_count": 23,
   "metadata": {},
   "outputs": [
    {
     "name": "stdout",
     "output_type": "stream",
     "text": [
      "Coefficients: [1. 2.]\n",
      "Intercept: 3.0000000000000018\n"
     ]
    }
   ],
   "source": [
    "import numpy as np\n",
    "from sklearn.linear_model import LinearRegression\n",
    "\n",
    "# Sample data\n",
    "X = np.array([[1, 1], [1, 2], [2, 2], [2, 3]])\n",
    "y = np.dot(X, np.array([1, 2])) + 3\n",
    "\n",
    "# Create and fit the model\n",
    "model = LinearRegression().fit(X, y)\n",
    "\n",
    "# Print the coefficients\n",
    "print(\"Coefficients:\", model.coef_)\n",
    "print(\"Intercept:\", model.intercept_)"
   ]
  },
  {
   "cell_type": "code",
   "execution_count": 24,
   "metadata": {},
   "outputs": [
    {
     "data": {
      "image/png": "[encoded data removed]",
      "text/plain": [
       "<Figure size 1200x400 with 3 Axes>"
      ]
     },
     "metadata": {},
     "output_type": "display_data"
    },
    {
     "name": "stdout",
     "output_type": "stream",
     "text": [
      "Coefficients: [ 1.9579429 -1.0505965  0.5414443]\n",
      "Intercept: 2.8179536115176163\n",
      "R^2 Score: 0.8739067277368449\n"
     ]
    }
   ],
   "source": [
    "import numpy as np\n",
    "import matplotlib.pyplot as plt\n",
    "from sklearn.linear_model import LinearRegression\n",
    "\n",
    "# Generate random normally distributed data\n",
    "np.random.seed(0)\n",
    "X = np.random.randn(100, 3)\n",
    "y = 3 + 2*X[:, 0] + -1*X[:, 1] + 0.5*X[:, 2] + np.random.randn(100)\n",
    "\n",
    "# Visualize the features\n",
    "plt.figure(figsize=(12, 4))\n",
    "for i in range(3):\n",
    "    plt.subplot(1, 3, i+1)\n",
    "    plt.hist(X[:, i], bins=20, alpha=0.7)\n",
    "    plt.title(f'Feature {i+1}')\n",
    "plt.tight_layout()\n",
    "plt.show()\n",
    "\n",
    "# Create and fit the model\n",
    "model = LinearRegression().fit(X, y)\n",
    "\n",
    "# Print the coefficients and intercept\n",
    "print(\"Coefficients:\", model.coef_)\n",
    "print(\"Intercept:\", model.intercept_)\n",
    "\n",
    "# Show how lr.score works\n",
    "score = model.score(X, y)\n",
    "print(\"R^2 Score:\", score)"
   ]
  },
  {
   "cell_type": "markdown",
   "metadata": {},
   "source": [
    "1. Coeffs -> close to [2, -1, 0.5] which is what was used to generate\n",
    "2. Intercept -> closeto 3 becuase 3 was added when generating y\n",
    "3. R^2 score - close to 1, indicating a good fit as generated a linear relationship"
   ]
  },
  {
   "cell_type": "markdown",
   "metadata": {},
   "source": [
    "### Regularised linear regression"
   ]
  },
  {
   "cell_type": "markdown",
   "metadata": {},
   "source": [
    "Regularization is a technique used to prevent overfitting in machine learning models by adding a penalty to the model's complexity. The two most common types of regularization are L1 (Lasso) and L2 (Ridge) regularization.\n",
    "\n",
    "### L1 Regularization (Lasso)\n",
    "- Adds a penalty equal to the absolute value of the magnitude of coefficients.\n",
    "- Can shrink some coefficients to zero, effectively performing feature selection.\n",
    "\n",
    "### L2 Regularization (Ridge)\n",
    "- Adds a penalty equal to the square of the magnitude of coefficients.\n",
    "- Tends to shrink coefficients evenly, but does not set any to zero.\n",
    "\n",
    "### Elastic Net\n",
    "- Combines both L1 and L2 regularization.\n",
    "\n",
    "### Mathematical Formulation\n",
    "For a linear regression model:\n",
    "\\[ y = \\beta_0 + \\beta_1 x_1 + \\beta_2 x_2 + \\ldots + \\beta_n x_n \\]\n",
    "\n",
    "The regularized cost function for Lasso and Ridge are:\n",
    "- **Lasso**: \\( \\text{Cost} = \\sum_{i=1}^{m} (y_i - \\hat{y}_i)^2 + \\lambda \\sum_{j=1}^{n} |\\beta_j| \\)\n",
    "- **Ridge**: \\( \\text{Cost} = \\sum_{i=1}^{m} (y_i - \\hat{y}_i)^2 + \\lambda \\sum_{j=1}^{n} \\beta_j^2 \\)\n",
    "\n",
    "Where \\( \\lambda \\) is the regularization parameter that controls the strength of the penalty.\n",
    "\n",
    "### Visualization Example\n",
    "Let's demonstrate how regularization works with plots.\n",
    "\n"
   ]
  },
  {
   "cell_type": "code",
   "execution_count": 27,
   "metadata": {},
   "outputs": [
    {
     "data": {
      "image/png": "[encoded data removed]",
      "text/plain": [
       "<Figure size 1200x600 with 1 Axes>"
      ]
     },
     "metadata": {},
     "output_type": "display_data"
    }
   ],
   "source": [
    "import numpy as np\n",
    "import matplotlib.pyplot as plt\n",
    "from sklearn.linear_model import LinearRegression, Ridge, Lasso\n",
    "from sklearn.model_selection import train_test_split\n",
    "\n",
    "# Generate synthetic data\n",
    "np.random.seed(0)\n",
    "X = np.random.randn(100, 1) * 10\n",
    "y = 2 * X.squeeze() + np.random.randn(100) * 10\n",
    "\n",
    "# Split data into training and test sets\n",
    "X_train, X_test, y_train, y_test = train_test_split(X, y, test_size=0.2, random_state=0)\n",
    "\n",
    "# Fit models with higher regularization strength\n",
    "lr = LinearRegression().fit(X_train, y_train)\n",
    "ridge = Ridge(alpha=10.0).fit(X_train, y_train)\n",
    "lasso = Lasso(alpha=10.0).fit(X_train, y_train)\n",
    "\n",
    "# Plot results\n",
    "plt.figure(figsize=(12, 6))\n",
    "plt.scatter(X, y, color='gray', alpha=0.5, label='Data')\n",
    "plt.plot(X, lr.predict(X), label='Linear Regression', color='blue')\n",
    "plt.plot(X, ridge.predict(X), label='Ridge Regression', color='red')\n",
    "plt.plot(X, lasso.predict(X), label='Lasso Regression', color='green')\n",
    "plt.legend()\n",
    "plt.title('Effect of Regularization')\n",
    "plt.xlabel('Feature')\n",
    "plt.ylabel('Target')\n",
    "plt.show()"
   ]
  },
  {
   "cell_type": "markdown",
   "metadata": {},
   "source": [
    "\n",
    "\n",
    "### Explanation of the Plot\n",
    "- **Linear Regression**: Fits the data without any regularization, which can lead to overfitting if the model is too complex.\n",
    "- **Ridge Regression**: Adds a penalty to the coefficients, which can help to reduce overfitting by shrinking the coefficients.\n",
    "- **Lasso Regression**: Adds a penalty to the absolute values of the coefficients, which can shrink some coefficients to zero, effectively performing feature selection.\n",
    "\n",
    "### Balancing the Model\n",
    "- **Without Regularization**: The model may fit the training data very well but perform poorly on unseen data (overfitting).\n",
    "- **With Regularization**: The model is penalized for having large coefficients, which can help to generalize better to unseen data by reducing overfitting.\n",
    "\n",
    "By adjusting the regularization parameter \\( \\lambda \\), you can control the trade-off between fitting the training data well and keeping the model simple to generalize better."
   ]
  },
  {
   "cell_type": "markdown",
   "metadata": {},
   "source": [
    "Working on Ansur dataset to predict BMI"
   ]
  },
  {
   "cell_type": "code",
   "execution_count": 28,
   "metadata": {},
   "outputs": [
    {
     "name": "stdout",
     "output_type": "stream",
     "text": [
      "Index(['Branch', 'Component', 'Gender', 'abdominalextensiondepthsitting',\n",
      "       'acromialheight', 'acromionradialelength', 'anklecircumference',\n",
      "       'axillaheight', 'balloffootcircumference', 'balloffootlength',\n",
      "       'biacromialbreadth', 'bicepscircumferenceflexed', 'bicristalbreadth',\n",
      "       'bideltoidbreadth', 'bimalleolarbreadth', 'bitragionchinarc',\n",
      "       'bitragionsubmandibulararc', 'bizygomaticbreadth',\n",
      "       'buttockcircumference', 'buttockdepth', 'buttockheight',\n",
      "       'buttockkneelength', 'buttockpopliteallength', 'calfcircumference',\n",
      "       'cervicaleheight', 'chestbreadth', 'chestcircumference', 'chestdepth',\n",
      "       'chestheight', 'crotchheight', 'crotchlengthomphalion',\n",
      "       'crotchlengthposterioromphalion', 'earbreadth', 'earlength',\n",
      "       'earprotrusion', 'elbowrestheight', 'eyeheightsitting',\n",
      "       'footbreadthhorizontal', 'footlength', 'forearmcenterofgriplength',\n",
      "       'forearmcircumferenceflexed', 'forearmforearmbreadth',\n",
      "       'forearmhandlength', 'functionalleglength', 'handbreadth',\n",
      "       'handcircumference', 'handlength', 'headbreadth', 'headcircumference',\n",
      "       'headlength', 'heelanklecircumference', 'heelbreadth', 'hipbreadth',\n",
      "       'hipbreadthsitting', 'iliocristaleheight', 'interpupillarybreadth',\n",
      "       'interscyei', 'interscyeii', 'kneeheightmidpatella',\n",
      "       'kneeheightsitting', 'lateralfemoralepicondyleheight',\n",
      "       'lateralmalleolusheight', 'lowerthighcircumference',\n",
      "       'mentonsellionlength', 'neckcircumference', 'neckcircumferencebase',\n",
      "       'overheadfingertipreachsitting', 'palmlength', 'poplitealheight',\n",
      "       'radialestylionlength', 'shouldercircumference', 'shoulderelbowlength',\n",
      "       'shoulderlength', 'sittingheight', 'sleevelengthspinewrist',\n",
      "       'sleeveoutseam', 'span', 'suprasternaleheight', 'tenthribheight',\n",
      "       'thighcircumference', 'thighclearance', 'thumbtipreach', 'tibialheight',\n",
      "       'tragiontopofhead', 'trochanterionheight',\n",
      "       'verticaltrunkcircumferenceusa', 'waistbacklength', 'waistbreadth',\n",
      "       'waistcircumference', 'waistdepth', 'waistfrontlengthsitting',\n",
      "       'waistheightomphalion', 'wristcircumference', 'wristheight',\n",
      "       'weight_kg', 'stature_m', 'BMI', 'BMI_class', 'Height_class'],\n",
      "      dtype='object')\n"
     ]
    }
   ],
   "source": [
    "# print ansur_df columns\n",
    "print(ansur_df.columns)"
   ]
  },
  {
   "cell_type": "code",
   "execution_count": 38,
   "metadata": {},
   "outputs": [
    {
     "data": {
      "text/html": [
       "<style>#sk-container-id-2 {\n",
       "  /* Definition of color scheme common for light and dark mode */\n",
       "  --sklearn-color-text: black;\n",
       "  --sklearn-color-line: gray;\n",
       "  /* Definition of color scheme for unfitted estimators */\n",
       "  --sklearn-color-unfitted-level-0: #fff5e6;\n",
       "  --sklearn-color-unfitted-level-1: #f6e4d2;\n",
       "  --sklearn-color-unfitted-level-2: #ffe0b3;\n",
       "  --sklearn-color-unfitted-level-3: chocolate;\n",
       "  /* Definition of color scheme for fitted estimators */\n",
       "  --sklearn-color-fitted-level-0: #f0f8ff;\n",
       "  --sklearn-color-fitted-level-1: #d4ebff;\n",
       "  --sklearn-color-fitted-level-2: #b3dbfd;\n",
       "  --sklearn-color-fitted-level-3: cornflowerblue;\n",
       "\n",
       "  /* Specific color for light theme */\n",
       "  --sklearn-color-text-on-default-background: var(--sg-text-color, var(--theme-code-foreground, var(--jp-content-font-color1, black)));\n",
       "  --sklearn-color-background: var(--sg-background-color, var(--theme-background, var(--jp-layout-color0, white)));\n",
       "  --sklearn-color-border-box: var(--sg-text-color, var(--theme-code-foreground, var(--jp-content-font-color1, black)));\n",
       "  --sklearn-color-icon: #696969;\n",
       "\n",
       "  @media (prefers-color-scheme: dark) {\n",
       "    /* Redefinition of color scheme for dark theme */\n",
       "    --sklearn-color-text-on-default-background: var(--sg-text-color, var(--theme-code-foreground, var(--jp-content-font-color1, white)));\n",
       "    --sklearn-color-background: var(--sg-background-color, var(--theme-background, var(--jp-layout-color0, #111)));\n",
       "    --sklearn-color-border-box: var(--sg-text-color, var(--theme-code-foreground, var(--jp-content-font-color1, white)));\n",
       "    --sklearn-color-icon: #878787;\n",
       "  }\n",
       "}\n",
       "\n",
       "#sk-container-id-2 {\n",
       "  color: var(--sklearn-color-text);\n",
       "}\n",
       "\n",
       "#sk-container-id-2 pre {\n",
       "  padding: 0;\n",
       "}\n",
       "\n",
       "#sk-container-id-2 input.sk-hidden--visually {\n",
       "  border: 0;\n",
       "  clip: rect(1px 1px 1px 1px);\n",
       "  clip: rect(1px, 1px, 1px, 1px);\n",
       "  height: 1px;\n",
       "  margin: -1px;\n",
       "  overflow: hidden;\n",
       "  padding: 0;\n",
       "  position: absolute;\n",
       "  width: 1px;\n",
       "}\n",
       "\n",
       "#sk-container-id-2 div.sk-dashed-wrapped {\n",
       "  border: 1px dashed var(--sklearn-color-line);\n",
       "  margin: 0 0.4em 0.5em 0.4em;\n",
       "  box-sizing: border-box;\n",
       "  padding-bottom: 0.4em;\n",
       "  background-color: var(--sklearn-color-background);\n",
       "}\n",
       "\n",
       "#sk-container-id-2 div.sk-container {\n",
       "  /* jupyter's `normalize.less` sets `[hidden] { display: none; }`\n",
       "     but bootstrap.min.css set `[hidden] { display: none !important; }`\n",
       "     so we also need the `!important` here to be able to override the\n",
       "     default hidden behavior on the sphinx rendered scikit-learn.org.\n",
       "     See: https://github.com/scikit-learn/scikit-learn/issues/21755 */\n",
       "  display: inline-block !important;\n",
       "  position: relative;\n",
       "}\n",
       "\n",
       "#sk-container-id-2 div.sk-text-repr-fallback {\n",
       "  display: none;\n",
       "}\n",
       "\n",
       "div.sk-parallel-item,\n",
       "div.sk-serial,\n",
       "div.sk-item {\n",
       "  /* draw centered vertical line to link estimators */\n",
       "  background-image: linear-gradient(var(--sklearn-color-text-on-default-background), var(--sklearn-color-text-on-default-background));\n",
       "  background-size: 2px 100%;\n",
       "  background-repeat: no-repeat;\n",
       "  background-position: center center;\n",
       "}\n",
       "\n",
       "/* Parallel-specific style estimator block */\n",
       "\n",
       "#sk-container-id-2 div.sk-parallel-item::after {\n",
       "  content: \"\";\n",
       "  width: 100%;\n",
       "  border-bottom: 2px solid var(--sklearn-color-text-on-default-background);\n",
       "  flex-grow: 1;\n",
       "}\n",
       "\n",
       "#sk-container-id-2 div.sk-parallel {\n",
       "  display: flex;\n",
       "  align-items: stretch;\n",
       "  justify-content: center;\n",
       "  background-color: var(--sklearn-color-background);\n",
       "  position: relative;\n",
       "}\n",
       "\n",
       "#sk-container-id-2 div.sk-parallel-item {\n",
       "  display: flex;\n",
       "  flex-direction: column;\n",
       "}\n",
       "\n",
       "#sk-container-id-2 div.sk-parallel-item:first-child::after {\n",
       "  align-self: flex-end;\n",
       "  width: 50%;\n",
       "}\n",
       "\n",
       "#sk-container-id-2 div.sk-parallel-item:last-child::after {\n",
       "  align-self: flex-start;\n",
       "  width: 50%;\n",
       "}\n",
       "\n",
       "#sk-container-id-2 div.sk-parallel-item:only-child::after {\n",
       "  width: 0;\n",
       "}\n",
       "\n",
       "/* Serial-specific style estimator block */\n",
       "\n",
       "#sk-container-id-2 div.sk-serial {\n",
       "  display: flex;\n",
       "  flex-direction: column;\n",
       "  align-items: center;\n",
       "  background-color: var(--sklearn-color-background);\n",
       "  padding-right: 1em;\n",
       "  padding-left: 1em;\n",
       "}\n",
       "\n",
       "\n",
       "/* Toggleable style: style used for estimator/Pipeline/ColumnTransformer box that is\n",
       "clickable and can be expanded/collapsed.\n",
       "- Pipeline and ColumnTransformer use this feature and define the default style\n",
       "- Estimators will overwrite some part of the style using the `sk-estimator` class\n",
       "*/\n",
       "\n",
       "/* Pipeline and ColumnTransformer style (default) */\n",
       "\n",
       "#sk-container-id-2 div.sk-toggleable {\n",
       "  /* Default theme specific background. It is overwritten whether we have a\n",
       "  specific estimator or a Pipeline/ColumnTransformer */\n",
       "  background-color: var(--sklearn-color-background);\n",
       "}\n",
       "\n",
       "/* Toggleable label */\n",
       "#sk-container-id-2 label.sk-toggleable__label {\n",
       "  cursor: pointer;\n",
       "  display: block;\n",
       "  width: 100%;\n",
       "  margin-bottom: 0;\n",
       "  padding: 0.5em;\n",
       "  box-sizing: border-box;\n",
       "  text-align: center;\n",
       "}\n",
       "\n",
       "#sk-container-id-2 label.sk-toggleable__label-arrow:before {\n",
       "  /* Arrow on the left of the label */\n",
       "  content: \"▸\";\n",
       "  float: left;\n",
       "  margin-right: 0.25em;\n",
       "  color: var(--sklearn-color-icon);\n",
       "}\n",
       "\n",
       "#sk-container-id-2 label.sk-toggleable__label-arrow:hover:before {\n",
       "  color: var(--sklearn-color-text);\n",
       "}\n",
       "\n",
       "/* Toggleable content - dropdown */\n",
       "\n",
       "#sk-container-id-2 div.sk-toggleable__content {\n",
       "  max-height: 0;\n",
       "  max-width: 0;\n",
       "  overflow: hidden;\n",
       "  text-align: left;\n",
       "  /* unfitted */\n",
       "  background-color: var(--sklearn-color-unfitted-level-0);\n",
       "}\n",
       "\n",
       "#sk-container-id-2 div.sk-toggleable__content.fitted {\n",
       "  /* fitted */\n",
       "  background-color: var(--sklearn-color-fitted-level-0);\n",
       "}\n",
       "\n",
       "#sk-container-id-2 div.sk-toggleable__content pre {\n",
       "  margin: 0.2em;\n",
       "  border-radius: 0.25em;\n",
       "  color: var(--sklearn-color-text);\n",
       "  /* unfitted */\n",
       "  background-color: var(--sklearn-color-unfitted-level-0);\n",
       "}\n",
       "\n",
       "#sk-container-id-2 div.sk-toggleable__content.fitted pre {\n",
       "  /* unfitted */\n",
       "  background-color: var(--sklearn-color-fitted-level-0);\n",
       "}\n",
       "\n",
       "#sk-container-id-2 input.sk-toggleable__control:checked~div.sk-toggleable__content {\n",
       "  /* Expand drop-down */\n",
       "  max-height: 200px;\n",
       "  max-width: 100%;\n",
       "  overflow: auto;\n",
       "}\n",
       "\n",
       "#sk-container-id-2 input.sk-toggleable__control:checked~label.sk-toggleable__label-arrow:before {\n",
       "  content: \"▾\";\n",
       "}\n",
       "\n",
       "/* Pipeline/ColumnTransformer-specific style */\n",
       "\n",
       "#sk-container-id-2 div.sk-label input.sk-toggleable__control:checked~label.sk-toggleable__label {\n",
       "  color: var(--sklearn-color-text);\n",
       "  background-color: var(--sklearn-color-unfitted-level-2);\n",
       "}\n",
       "\n",
       "#sk-container-id-2 div.sk-label.fitted input.sk-toggleable__control:checked~label.sk-toggleable__label {\n",
       "  background-color: var(--sklearn-color-fitted-level-2);\n",
       "}\n",
       "\n",
       "/* Estimator-specific style */\n",
       "\n",
       "/* Colorize estimator box */\n",
       "#sk-container-id-2 div.sk-estimator input.sk-toggleable__control:checked~label.sk-toggleable__label {\n",
       "  /* unfitted */\n",
       "  background-color: var(--sklearn-color-unfitted-level-2);\n",
       "}\n",
       "\n",
       "#sk-container-id-2 div.sk-estimator.fitted input.sk-toggleable__control:checked~label.sk-toggleable__label {\n",
       "  /* fitted */\n",
       "  background-color: var(--sklearn-color-fitted-level-2);\n",
       "}\n",
       "\n",
       "#sk-container-id-2 div.sk-label label.sk-toggleable__label,\n",
       "#sk-container-id-2 div.sk-label label {\n",
       "  /* The background is the default theme color */\n",
       "  color: var(--sklearn-color-text-on-default-background);\n",
       "}\n",
       "\n",
       "/* On hover, darken the color of the background */\n",
       "#sk-container-id-2 div.sk-label:hover label.sk-toggleable__label {\n",
       "  color: var(--sklearn-color-text);\n",
       "  background-color: var(--sklearn-color-unfitted-level-2);\n",
       "}\n",
       "\n",
       "/* Label box, darken color on hover, fitted */\n",
       "#sk-container-id-2 div.sk-label.fitted:hover label.sk-toggleable__label.fitted {\n",
       "  color: var(--sklearn-color-text);\n",
       "  background-color: var(--sklearn-color-fitted-level-2);\n",
       "}\n",
       "\n",
       "/* Estimator label */\n",
       "\n",
       "#sk-container-id-2 div.sk-label label {\n",
       "  font-family: monospace;\n",
       "  font-weight: bold;\n",
       "  display: inline-block;\n",
       "  line-height: 1.2em;\n",
       "}\n",
       "\n",
       "#sk-container-id-2 div.sk-label-container {\n",
       "  text-align: center;\n",
       "}\n",
       "\n",
       "/* Estimator-specific */\n",
       "#sk-container-id-2 div.sk-estimator {\n",
       "  font-family: monospace;\n",
       "  border: 1px dotted var(--sklearn-color-border-box);\n",
       "  border-radius: 0.25em;\n",
       "  box-sizing: border-box;\n",
       "  margin-bottom: 0.5em;\n",
       "  /* unfitted */\n",
       "  background-color: var(--sklearn-color-unfitted-level-0);\n",
       "}\n",
       "\n",
       "#sk-container-id-2 div.sk-estimator.fitted {\n",
       "  /* fitted */\n",
       "  background-color: var(--sklearn-color-fitted-level-0);\n",
       "}\n",
       "\n",
       "/* on hover */\n",
       "#sk-container-id-2 div.sk-estimator:hover {\n",
       "  /* unfitted */\n",
       "  background-color: var(--sklearn-color-unfitted-level-2);\n",
       "}\n",
       "\n",
       "#sk-container-id-2 div.sk-estimator.fitted:hover {\n",
       "  /* fitted */\n",
       "  background-color: var(--sklearn-color-fitted-level-2);\n",
       "}\n",
       "\n",
       "/* Specification for estimator info (e.g. \"i\" and \"?\") */\n",
       "\n",
       "/* Common style for \"i\" and \"?\" */\n",
       "\n",
       ".sk-estimator-doc-link,\n",
       "a:link.sk-estimator-doc-link,\n",
       "a:visited.sk-estimator-doc-link {\n",
       "  float: right;\n",
       "  font-size: smaller;\n",
       "  line-height: 1em;\n",
       "  font-family: monospace;\n",
       "  background-color: var(--sklearn-color-background);\n",
       "  border-radius: 1em;\n",
       "  height: 1em;\n",
       "  width: 1em;\n",
       "  text-decoration: none !important;\n",
       "  margin-left: 1ex;\n",
       "  /* unfitted */\n",
       "  border: var(--sklearn-color-unfitted-level-1) 1pt solid;\n",
       "  color: var(--sklearn-color-unfitted-level-1);\n",
       "}\n",
       "\n",
       ".sk-estimator-doc-link.fitted,\n",
       "a:link.sk-estimator-doc-link.fitted,\n",
       "a:visited.sk-estimator-doc-link.fitted {\n",
       "  /* fitted */\n",
       "  border: var(--sklearn-color-fitted-level-1) 1pt solid;\n",
       "  color: var(--sklearn-color-fitted-level-1);\n",
       "}\n",
       "\n",
       "/* On hover */\n",
       "div.sk-estimator:hover .sk-estimator-doc-link:hover,\n",
       ".sk-estimator-doc-link:hover,\n",
       "div.sk-label-container:hover .sk-estimator-doc-link:hover,\n",
       ".sk-estimator-doc-link:hover {\n",
       "  /* unfitted */\n",
       "  background-color: var(--sklearn-color-unfitted-level-3);\n",
       "  color: var(--sklearn-color-background);\n",
       "  text-decoration: none;\n",
       "}\n",
       "\n",
       "div.sk-estimator.fitted:hover .sk-estimator-doc-link.fitted:hover,\n",
       ".sk-estimator-doc-link.fitted:hover,\n",
       "div.sk-label-container:hover .sk-estimator-doc-link.fitted:hover,\n",
       ".sk-estimator-doc-link.fitted:hover {\n",
       "  /* fitted */\n",
       "  background-color: var(--sklearn-color-fitted-level-3);\n",
       "  color: var(--sklearn-color-background);\n",
       "  text-decoration: none;\n",
       "}\n",
       "\n",
       "/* Span, style for the box shown on hovering the info icon */\n",
       ".sk-estimator-doc-link span {\n",
       "  display: none;\n",
       "  z-index: 9999;\n",
       "  position: relative;\n",
       "  font-weight: normal;\n",
       "  right: .2ex;\n",
       "  padding: .5ex;\n",
       "  margin: .5ex;\n",
       "  width: min-content;\n",
       "  min-width: 20ex;\n",
       "  max-width: 50ex;\n",
       "  color: var(--sklearn-color-text);\n",
       "  box-shadow: 2pt 2pt 4pt #999;\n",
       "  /* unfitted */\n",
       "  background: var(--sklearn-color-unfitted-level-0);\n",
       "  border: .5pt solid var(--sklearn-color-unfitted-level-3);\n",
       "}\n",
       "\n",
       ".sk-estimator-doc-link.fitted span {\n",
       "  /* fitted */\n",
       "  background: var(--sklearn-color-fitted-level-0);\n",
       "  border: var(--sklearn-color-fitted-level-3);\n",
       "}\n",
       "\n",
       ".sk-estimator-doc-link:hover span {\n",
       "  display: block;\n",
       "}\n",
       "\n",
       "/* \"?\"-specific style due to the `<a>` HTML tag */\n",
       "\n",
       "#sk-container-id-2 a.estimator_doc_link {\n",
       "  float: right;\n",
       "  font-size: 1rem;\n",
       "  line-height: 1em;\n",
       "  font-family: monospace;\n",
       "  background-color: var(--sklearn-color-background);\n",
       "  border-radius: 1rem;\n",
       "  height: 1rem;\n",
       "  width: 1rem;\n",
       "  text-decoration: none;\n",
       "  /* unfitted */\n",
       "  color: var(--sklearn-color-unfitted-level-1);\n",
       "  border: var(--sklearn-color-unfitted-level-1) 1pt solid;\n",
       "}\n",
       "\n",
       "#sk-container-id-2 a.estimator_doc_link.fitted {\n",
       "  /* fitted */\n",
       "  border: var(--sklearn-color-fitted-level-1) 1pt solid;\n",
       "  color: var(--sklearn-color-fitted-level-1);\n",
       "}\n",
       "\n",
       "/* On hover */\n",
       "#sk-container-id-2 a.estimator_doc_link:hover {\n",
       "  /* unfitted */\n",
       "  background-color: var(--sklearn-color-unfitted-level-3);\n",
       "  color: var(--sklearn-color-background);\n",
       "  text-decoration: none;\n",
       "}\n",
       "\n",
       "#sk-container-id-2 a.estimator_doc_link.fitted:hover {\n",
       "  /* fitted */\n",
       "  background-color: var(--sklearn-color-fitted-level-3);\n",
       "}\n",
       "</style><div id=\"sk-container-id-2\" class=\"sk-top-container\"><div class=\"sk-text-repr-fallback\"><pre>Lasso()</pre><b>In a Jupyter environment, please rerun this cell to show the HTML representation or trust the notebook. <br />On GitHub, the HTML representation is unable to render, please try loading this page with nbviewer.org.</b></div><div class=\"sk-container\" hidden><div class=\"sk-item\"><div class=\"sk-estimator fitted sk-toggleable\"><input class=\"sk-toggleable__control sk-hidden--visually\" id=\"sk-estimator-id-2\" type=\"checkbox\" checked><label for=\"sk-estimator-id-2\" class=\"sk-toggleable__label fitted sk-toggleable__label-arrow fitted\">&nbsp;&nbsp;Lasso<a class=\"sk-estimator-doc-link fitted\" rel=\"noreferrer\" target=\"_blank\" href=\"https://scikit-learn.org/1.5/modules/generated/sklearn.linear_model.Lasso.html\">?<span>Documentation for Lasso</span></a><span class=\"sk-estimator-doc-link fitted\">i<span>Fitted</span></span></label><div class=\"sk-toggleable__content fitted\"><pre>Lasso()</pre></div> </div></div></div></div>"
      ],
      "text/plain": [
       "Lasso()"
      ]
     },
     "execution_count": 38,
     "metadata": {},
     "output_type": "execute_result"
    }
   ],
   "source": [
    "# x and y\n",
    "X = ansur_df.drop(['BMI'], axis=1)\n",
    "\n",
    "# split data into training and test sets\n",
    "X_train, X_test, y_train, y_test = train_test_split(X, ansur_df['BMI'], test_size=0.3, random_state=0)\n",
    "\n",
    "# drop non-numeric columns\n",
    "X_train = X_train.select_dtypes(include=[np.number])\n",
    "X_test = X_test.select_dtypes(include=[np.number])\n",
    "\n",
    "\n",
    "\n",
    "# scale the data\n",
    "scaler = StandardScaler()\n",
    "X_train_scaled = scaler.fit_transform(X_train)\n",
    "X_test_scaled = scaler.transform(X_test)\n",
    "\n",
    "# create lasso model\n",
    "lasso = Lasso()\n",
    "\n",
    "# fit to training data\n",
    "lasso.fit(X_train_scaled, y_train)\n",
    "\n"
   ]
  },
  {
   "cell_type": "code",
   "execution_count": 39,
   "metadata": {},
   "outputs": [
    {
     "name": "stdout",
     "output_type": "stream",
     "text": [
      "The model can predict the test set 83.9% of the variance in the BMI value\n",
      "The model has ignored 83 out of 93 features.\n"
     ]
    }
   ],
   "source": [
    "# calculate the R^2 score\n",
    "r2 = lasso.score(X_test_scaled, y_test)\n",
    "print(f\"The model can predict the test set {r2:.1%} of the variance in the BMI value\")\n",
    "\n",
    "# creatae a list of true values when coeffs = 0\n",
    "zero_coef = lasso.coef_ == 0\n",
    "\n",
    "# how many features have a zero coefficient\n",
    "n_ignored = sum(zero_coef)\n",
    "print(f\"The model has ignored {n_ignored} out of {len(lasso.coef_)} features.\")"
   ]
  },
  {
   "cell_type": "code",
   "execution_count": 40,
   "metadata": {},
   "outputs": [
    {
     "name": "stdout",
     "output_type": "stream",
     "text": [
      "The model can predict the test set 99.3% of the variance in the BMI value\n",
      "The model has ignored 50 out of 93 features.\n",
      "The best alpha value found is: 0.01\n"
     ]
    }
   ],
   "source": [
    "# find highest alpha value with R^2 > 0.98\n",
    "alphas = [1, 0.5, 0.1, 0.01]\n",
    "best_alpha = None\n",
    "best_r2 = 0\n",
    "\n",
    "for alpha in alphas:\n",
    "\tlasso = Lasso(alpha=alpha, random_state=0)\n",
    "\tlasso.fit(X_train_scaled, y_train)\n",
    "\tr2 = lasso.score(X_test_scaled, y_test)\n",
    "\tif r2 > 0.98:\n",
    "\t\tbest_alpha = alpha\n",
    "\t\tbest_r2 = r2\n",
    "\n",
    "if best_alpha is not None:\n",
    "\tlasso = Lasso(alpha=best_alpha, random_state=0)\n",
    "\tlasso.fit(X_train_scaled, y_train)\n",
    "\tn_ignored = sum(lasso.coef_ == 0)\n",
    "\t# print performance stats\n",
    "\tprint(f\"The model can predict the test set {best_r2:.1%} of the variance in the BMI value\")\n",
    "\tprint(f\"The model has ignored {n_ignored} out of {len(lasso.coef_)} features.\")\n",
    "\tprint(f\"The best alpha value found is: {best_alpha}\")\n",
    "else:\n",
    "\tprint(\"No alpha value found with R^2 > 0.98\")\n",
    "\n",
    "\n"
   ]
  },
  {
   "cell_type": "code",
   "execution_count": 41,
   "metadata": {},
   "outputs": [
    {
     "name": "stdout",
     "output_type": "stream",
     "text": [
      "Index(['abdominalextensiondepthsitting', 'anklecircumference',\n",
      "       'balloffootlength', 'bicepscircumferenceflexed', 'bicristalbreadth',\n",
      "       'bideltoidbreadth', 'bitragionchinarc', 'bizygomaticbreadth',\n",
      "       'buttockcircumference', 'buttockdepth', 'buttockpopliteallength',\n",
      "       'calfcircumference', 'chestbreadth', 'chestcircumference', 'chestdepth',\n",
      "       'crotchlengthposterioromphalion', 'earbreadth', 'earlength',\n",
      "       'elbowrestheight', 'eyeheightsitting', 'footbreadthhorizontal',\n",
      "       'forearmcircumferenceflexed', 'forearmforearmbreadth', 'headbreadth',\n",
      "       'headcircumference', 'headlength', 'heelbreadth', 'interscyei',\n",
      "       'lowerthighcircumference', 'mentonsellionlength', 'neckcircumference',\n",
      "       'shouldercircumference', 'sittingheight', 'sleevelengthspinewrist',\n",
      "       'thighcircumference', 'thighclearance', 'tibialheight', 'waistbreadth',\n",
      "       'waistcircumference', 'waistdepth', 'wristcircumference', 'weight_kg',\n",
      "       'stature_m'],\n",
      "      dtype='object')\n"
     ]
    }
   ],
   "source": [
    "# print feature which has been selected\n",
    "print(X_train.columns[lasso.coef_ != 0])"
   ]
  },
  {
   "cell_type": "markdown",
   "metadata": {},
   "source": [
    "### Combining feature selectors\n",
    "\n",
    "LassoCV"
   ]
  },
  {
   "cell_type": "code",
   "execution_count": 42,
   "metadata": {},
   "outputs": [
    {
     "name": "stdout",
     "output_type": "stream",
     "text": [
      "Selected features: [ 0  1  3  4  5  6 17 19]\n",
      "Reduced feature set shape: (100, 8)\n"
     ]
    }
   ],
   "source": [
    "import numpy as np\n",
    "from sklearn.linear_model import LassoCV\n",
    "from sklearn.ensemble import RandomForestClassifier, GradientBoostingClassifier\n",
    "from sklearn.feature_selection import RFE\n",
    "from sklearn.datasets import make_classification\n",
    "\n",
    "# Generate synthetic data\n",
    "X, y = make_classification(n_samples=100, n_features=20, random_state=0)\n",
    "\n",
    "# LassoCV for feature selection\n",
    "lasso = LassoCV().fit(X, y)\n",
    "lasso_mask = lasso.coef_ != 0\n",
    "\n",
    "# RandomForest for feature selection\n",
    "rf = RandomForestClassifier().fit(X, y)\n",
    "rf_rfe = RFE(estimator=rf, n_features_to_select=10, step=1).fit(X, y)\n",
    "rf_mask = rf_rfe.support_\n",
    "\n",
    "# GradientBoosting for feature selection\n",
    "gb = GradientBoostingClassifier().fit(X, y)\n",
    "gb_rfe = RFE(estimator=gb, n_features_to_select=10, step=1).fit(X, y)\n",
    "gb_mask = gb_rfe.support_\n",
    "\n",
    "# Combine masks using a voting system\n",
    "combined_mask = lasso_mask.astype(int) + rf_mask.astype(int) + gb_mask.astype(int)\n",
    "voting_mask = combined_mask >= 2  # Select features chosen by at least 2 selectors\n",
    "\n",
    "# Apply the voting mask to the feature dataset X\n",
    "X_reduced = X[:, voting_mask]\n",
    "\n",
    "print(\"Selected features:\", np.where(voting_mask)[0])\n",
    "print(\"Reduced feature set shape:\", X_reduced.shape)"
   ]
  },
  {
   "cell_type": "markdown",
   "metadata": {},
   "source": [
    "Ansur dataset- predicting bicep circumference"
   ]
  },
  {
   "cell_type": "code",
   "execution_count": 43,
   "metadata": {},
   "outputs": [
    {
     "name": "stdout",
     "output_type": "stream",
     "text": [
      "Index(['Branch', 'Component', 'Gender', 'abdominalextensiondepthsitting',\n",
      "       'acromialheight', 'acromionradialelength', 'anklecircumference',\n",
      "       'axillaheight', 'balloffootcircumference', 'balloffootlength',\n",
      "       'biacromialbreadth', 'bicepscircumferenceflexed', 'bicristalbreadth',\n",
      "       'bideltoidbreadth', 'bimalleolarbreadth', 'bitragionchinarc',\n",
      "       'bitragionsubmandibulararc', 'bizygomaticbreadth',\n",
      "       'buttockcircumference', 'buttockdepth', 'buttockheight',\n",
      "       'buttockkneelength', 'buttockpopliteallength', 'calfcircumference',\n",
      "       'cervicaleheight', 'chestbreadth', 'chestcircumference', 'chestdepth',\n",
      "       'chestheight', 'crotchheight', 'crotchlengthomphalion',\n",
      "       'crotchlengthposterioromphalion', 'earbreadth', 'earlength',\n",
      "       'earprotrusion', 'elbowrestheight', 'eyeheightsitting',\n",
      "       'footbreadthhorizontal', 'footlength', 'forearmcenterofgriplength',\n",
      "       'forearmcircumferenceflexed', 'forearmforearmbreadth',\n",
      "       'forearmhandlength', 'functionalleglength', 'handbreadth',\n",
      "       'handcircumference', 'handlength', 'headbreadth', 'headcircumference',\n",
      "       'headlength', 'heelanklecircumference', 'heelbreadth', 'hipbreadth',\n",
      "       'hipbreadthsitting', 'iliocristaleheight', 'interpupillarybreadth',\n",
      "       'interscyei', 'interscyeii', 'kneeheightmidpatella',\n",
      "       'kneeheightsitting', 'lateralfemoralepicondyleheight',\n",
      "       'lateralmalleolusheight', 'lowerthighcircumference',\n",
      "       'mentonsellionlength', 'neckcircumference', 'neckcircumferencebase',\n",
      "       'overheadfingertipreachsitting', 'palmlength', 'poplitealheight',\n",
      "       'radialestylionlength', 'shouldercircumference', 'shoulderelbowlength',\n",
      "       'shoulderlength', 'sittingheight', 'sleevelengthspinewrist',\n",
      "       'sleeveoutseam', 'span', 'suprasternaleheight', 'tenthribheight',\n",
      "       'thighcircumference', 'thighclearance', 'thumbtipreach', 'tibialheight',\n",
      "       'tragiontopofhead', 'trochanterionheight',\n",
      "       'verticaltrunkcircumferenceusa', 'waistbacklength', 'waistbreadth',\n",
      "       'waistcircumference', 'waistdepth', 'waistfrontlengthsitting',\n",
      "       'waistheightomphalion', 'wristcircumference', 'wristheight',\n",
      "       'weight_kg', 'stature_m', 'BMI', 'BMI_class', 'Height_class'],\n",
      "      dtype='object')\n"
     ]
    }
   ],
   "source": [
    "print(ansur_df.columns)"
   ]
  },
  {
   "cell_type": "code",
   "execution_count": 45,
   "metadata": {},
   "outputs": [
    {
     "name": "stdout",
     "output_type": "stream",
     "text": [
      "The model has selected 69 features\n",
      "69 features out of 93 selected\n"
     ]
    },
    {
     "name": "stderr",
     "output_type": "stream",
     "text": [
      "c:\\Users\\zoona\\anaconda3\\envs\\mlscientist\\lib\\site-packages\\sklearn\\linear_model\\_coordinate_descent.py:697: ConvergenceWarning: Objective did not converge. You might want to increase the number of iterations, check the scale of the features or consider increasing regularisation. Duality gap: 4.986e+04, tolerance: 7.157e+02\n",
      "  model = cd_fast.enet_coordinate_descent(\n"
     ]
    }
   ],
   "source": [
    "# create train and test sets to predict 'bicepscircumferenceflexed'\n",
    "X = ansur_df.drop(['bicepscircumferenceflexed'], axis=1)\n",
    "y = ansur_df['bicepscircumferenceflexed']\n",
    "\n",
    "X_train, X_test, y_train, y_test = train_test_split(X, y, test_size=0.3, random_state=0)\n",
    "\n",
    "# drop non-numeric columns\n",
    "X_train = X_train.select_dtypes(include=[np.number])\n",
    "X_test = X_test.select_dtypes(include=[np.number])\n",
    "\n",
    "# scale the data\n",
    "scaler = StandardScaler()\n",
    "X_train_scaled = scaler.fit_transform(X_train)\n",
    "X_test_scaled = scaler.transform(X_test)\n",
    "\n",
    "# create lassocv model\n",
    "lasso = LassoCV()\n",
    "lasso.fit(X_train_scaled, y_train)\n",
    "print(f\"The model has selected {sum(lasso.coef_ != 0)} features\")\n",
    "\n",
    "# calculate r^2 score on test set\n",
    "r2 = lasso.score(X_test_scaled, y_test)\n",
    "\n",
    "# create mask for coefs not equal to 0\n",
    "lasso_mask = lasso.coef_ != 0\n",
    "print(f\"{sum(lasso_mask)} features out of {len(lasso_mask)} selected\")"
   ]
  },
  {
   "cell_type": "code",
   "execution_count": null,
   "metadata": {},
   "outputs": [],
   "source": [
    "from sklearn.feature_selection import RFE\n",
    "from sklearn.ensemble import GradientBoostingClassifier\n",
    "\n",
    "# select 10 features with RFE on a GradientBoosting model, drop 3 on each step\n",
    "rfe_gb = RFE(estimator=GradientBoostingClassifier(), n_features_to_select=10, step=10, verbose=1)\n",
    "rfe_gb.fit(X_train_scaled, y_train)"
   ]
  },
  {
   "cell_type": "code",
   "execution_count": null,
   "metadata": {},
   "outputs": [],
   "source": [
    "# calculate the R^2 on the test set\n",
    "r2 = rfe_gb.score(X_test_scaled, y_test)\n",
    "print(f\"{r2:.1%} R^2 on the test set.\")"
   ]
  },
  {
   "cell_type": "code",
   "execution_count": null,
   "metadata": {},
   "outputs": [],
   "source": [
    "# assign support array to gb_mask\n",
    "gb_mask = rfe_gb.support_"
   ]
  },
  {
   "cell_type": "code",
   "execution_count": null,
   "metadata": {},
   "outputs": [],
   "source": [
    "from sklearn.feature_selection import RFE\n",
    "from sklearn.ensemble import RandomForestRegressor\n",
    "\n",
    "# select 10 features with RFE on a RF model, drop 3 on each step\n",
    "rfe_rf = RFE(estimator=RandomForestRegressor(), n_features_to_select=10, step=3, verbose=1)\n",
    "rfe_gb.fit(X_train_scaled, y_train)"
   ]
  },
  {
   "cell_type": "code",
   "execution_count": null,
   "metadata": {},
   "outputs": [],
   "source": [
    "# caldulate the R^2 on the test set\n",
    "r2 = rfe_gb.score(X_test_scaled, y_test)\n",
    "print(f\"{r2:.1%} R^2 on the test set.\")\n",
    "\n",
    "# assign support array to rf_mask\n",
    "rf_mask = rfe_gb.support_\n",
    "\n"
   ]
  },
  {
   "cell_type": "code",
   "execution_count": null,
   "metadata": {},
   "outputs": [],
   "source": [
    "# combine the masks - sum the votes of the three models\n",
    "votes = np.sum([lasso_mask, gb_mask, rf_mask], axis=0)\n",
    "\n",
    "# create a mask for features selected by all 3 models\n",
    "meta_mask = votes == 3\n",
    "print(f\"{np.sum(meta_mask)} features out of {X.shape[1]} were selected by all models\")\n",
    "\n",
    "# apply the dimensionality reduction on X\n",
    "X_reduced = X.loc[:, meta_mask]\n",
    "print(X_reduced.columns)"
   ]
  },
  {
   "cell_type": "code",
   "execution_count": null,
   "metadata": {},
   "outputs": [],
   "source": [
    "# plug reduced dataset into a linear regression\n",
    "X_train, X_test, y_train, y_test = train_test_split(X_reduced, y, test_size=0.3, random_state=0)\n",
    "lr = LinearRegression()\n",
    "scaler = StandardScaler()\n",
    "lr.fit(scaler.fit_transform(X_train), y_train)\n",
    "r2 = lr.score(scaler.transform(X_test), y_test)\n",
    "print(f\"{r2:.1%} R^2 on test set using {len(lr.coef_)} features \")\n"
   ]
  }
 ],
 "metadata": {
  "kernelspec": {
   "display_name": "mlscientist",
   "language": "python",
   "name": "python3"
  },
  "language_info": {
   "codemirror_mode": {
    "name": "ipython",
    "version": 3
   },
   "file_extension": ".py",
   "mimetype": "text/x-python",
   "name": "python",
   "nbconvert_exporter": "python",
   "pygments_lexer": "ipython3",
   "version": "3.9.18"
  }
 },
 "nbformat": 4,
 "nbformat_minor": 2
}
