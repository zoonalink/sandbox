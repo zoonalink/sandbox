{
 "cells": [
  {
   "cell_type": "markdown",
   "metadata": {},
   "source": [
    "# feature selection 1"
   ]
  },
  {
   "cell_type": "markdown",
   "metadata": {},
   "source": [
    "## curse of dimensionality"
   ]
  },
  {
   "cell_type": "markdown",
   "metadata": {},
   "source": [
    "The \"curse of dimensionality\" refers to various phenomena that arise when analyzing and organizing data in high-dimensional spaces. Key points include:\n",
    "\n",
    "1. **Increased Volume**: As the number of dimensions increases, the volume of the space increases exponentially. This means that data points become sparse, making it difficult to find patterns or clusters.\n",
    "2. **Distance Metrics**: In high-dimensional spaces, the concept of distance becomes less meaningful. Distances between points tend to converge, making it hard to distinguish between close and far points.\n",
    "3. **Overfitting**: High-dimensional data can lead to overfitting in machine learning models, as the model may capture noise instead of the underlying pattern.\n",
    "4. **Computational Complexity**: The computational cost of processing high-dimensional data increases significantly, requiring more resources and time.\n",
    "\n",
    "### Illustration with Data and Code\n",
    "\n",
    "Let's illustrate the curse of dimensionality with a simple example using Python and scikit-learn.\n",
    "\n",
    "#### Step-by-Step Plan:\n",
    "1. Generate random data in 2D and 10D.\n",
    "2. Calculate and compare the distances between points in both spaces.\n",
    "3. Visualize the data and distances.\n",
    "\n"
   ]
  },
  {
   "cell_type": "code",
   "execution_count": 1,
   "metadata": {},
   "outputs": [
    {
     "name": "stdout",
     "output_type": "stream",
     "text": [
      "Mean distance in 2D: 0.49957630382472396\n",
      "Mean distance in 10D: 1.2655965087564176\n"
     ]
    },
    {
     "data": {
      "image/png": "[encoded data removed]",
      "text/plain": [
       "<Figure size 640x480 with 1 Axes>"
      ]
     },
     "metadata": {},
     "output_type": "display_data"
    }
   ],
   "source": [
    "\n",
    "\n",
    "import numpy as np\n",
    "import matplotlib.pyplot as plt\n",
    "from sklearn.metrics.pairwise import euclidean_distances\n",
    "\n",
    "# Generate random data in 2D\n",
    "data_2d = np.random.rand(100, 2)\n",
    "\n",
    "# Generate random data in 10D\n",
    "data_10d = np.random.rand(100, 10)\n",
    "\n",
    "# Calculate pairwise distances in 2D\n",
    "distances_2d = euclidean_distances(data_2d)\n",
    "mean_distance_2d = np.mean(distances_2d)\n",
    "\n",
    "# Calculate pairwise distances in 10D\n",
    "distances_10d = euclidean_distances(data_10d)\n",
    "mean_distance_10d = np.mean(distances_10d)\n",
    "\n",
    "print(f\"Mean distance in 2D: {mean_distance_2d}\")\n",
    "print(f\"Mean distance in 10D: {mean_distance_10d}\")\n",
    "\n",
    "# Visualize the 2D data\n",
    "plt.scatter(data_2d[:, 0], data_2d[:, 1])\n",
    "plt.title(\"Random Data in 2D\")\n",
    "plt.xlabel(\"Dimension 1\")\n",
    "plt.ylabel(\"Dimension 2\")\n",
    "plt.show()"
   ]
  },
  {
   "cell_type": "markdown",
   "metadata": {},
   "source": [
    "\n",
    "\n",
    "### Explanation:\n",
    "1. **Data Generation**: We generate random data points in 2D and 10D spaces.\n",
    "2. **Distance Calculation**: We calculate the pairwise Euclidean distances between points in both spaces.\n",
    "3. **Comparison**: We compare the mean distances to illustrate how distances become less meaningful in higher dimensions.\n",
    "4. **Visualization**: We plot the 2D data to visualize the distribution of points.\n",
    "\n",
    "This code demonstrates how the curse of dimensionality affects distance metrics and data sparsity in high-dimensional spaces."
   ]
  },
  {
   "cell_type": "code",
   "execution_count": 3,
   "metadata": {},
   "outputs": [],
   "source": [
    "import pandas as pd\n",
    "import numpy as np\n",
    "import matplotlib.pyplot as plt\n",
    "from sklearn.model_selection import train_test_split\n"
   ]
  },
  {
   "cell_type": "code",
   "execution_count": 6,
   "metadata": {},
   "outputs": [
    {
     "name": "stdout",
     "output_type": "stream",
     "text": [
      "(1986, 99)\n",
      "(4082, 99)\n",
      "(6068, 99)\n"
     ]
    }
   ],
   "source": [
    "# Load the data\n",
    "ansur_f = pd.read_csv('ANSUR_II_FEMALE.csv')\n",
    "ansur_m = pd.read_csv('ANSUR_II_MALE.csv')\n",
    "\n",
    "# print shapes\n",
    "print(ansur_f.shape)\n",
    "print(ansur_m.shape)\n",
    "\n",
    "# combine datasets\n",
    "ansur_df = pd.concat([ansur_f, ansur_m])\n",
    "print(ansur_df.shape)"
   ]
  },
  {
   "cell_type": "code",
   "execution_count": 7,
   "metadata": {},
   "outputs": [
    {
     "name": "stdout",
     "output_type": "stream",
     "text": [
      "1821 rows in test set vs. 4247 in training set, 98 Features.\n"
     ]
    }
   ],
   "source": [
    "# Select the Gender column as the feature to be predicted (y)\n",
    "y = ansur_df['Gender']\n",
    "\n",
    "# Remove the Gender column to create the training data\n",
    "X = ansur_df.drop('Gender', axis=1)\n",
    "\n",
    "# Perform a 70% train and 30% test data split\n",
    "X_train, X_test, y_train, y_test = train_test_split(X, y, test_size=0.3)\n",
    "\n",
    "print(f\"{X_test.shape[0]} rows in test set vs. {X_train.shape[0]} in training set, {X_test.shape[1]} Features.\")"
   ]
  },
  {
   "cell_type": "code",
   "execution_count": 9,
   "metadata": {},
   "outputs": [
    {
     "name": "stdout",
     "output_type": "stream",
     "text": [
      "98.7% accuracy on test set vs. 99.0% on training set\n"
     ]
    }
   ],
   "source": [
    "from sklearn.svm import SVC\n",
    "from sklearn.metrics import accuracy_score\n",
    "\n",
    "# drop non-numeric columns\n",
    "X_train = X_train.select_dtypes(include=[np.number])\n",
    "X_test = X_test.select_dtypes(include=[np.number])\n",
    "\n",
    "# Create an instance of the Support Vector Classification class\n",
    "svc = SVC()\n",
    "\n",
    "# Fit the model to the training data\n",
    "svc.fit(X_train, y_train)\n",
    "\n",
    "# Calculate accuracy scores on both train and test data\n",
    "accuracy_train = accuracy_score(y_train, svc.predict(X_train))\n",
    "accuracy_test = accuracy_score(y_test, svc.predict(X_test))\n",
    "\n",
    "print(f\"{accuracy_test:.1%} accuracy on test set vs. {accuracy_train:.1%} on training set\")\n",
    "\n",
    "\n"
   ]
  },
  {
   "cell_type": "markdown",
   "metadata": {},
   "source": [
    "# removing features\n",
    "\n",
    "The above is overfitting - there are 90+ features (columns). \n",
    "\n",
    "Now we will remove all but one features which is drastic, but the feature still has value in predicting gender."
   ]
  },
  {
   "cell_type": "code",
   "execution_count": 11,
   "metadata": {},
   "outputs": [
    {
     "name": "stdout",
     "output_type": "stream",
     "text": [
      "93.4% accuracy on test set vs. 93.4% on training set\n"
     ]
    }
   ],
   "source": [
    "# keep only 'neckcircumferencebasee' column\n",
    "X = ansur_df[['neckcircumferencebase']]\n",
    "\n",
    "# Perform a 70% train and 30% test data split\n",
    "X_train, X_test, y_train, y_test = train_test_split(X, y, test_size=0.3)\n",
    "# fit svc\n",
    "svc = SVC()\n",
    "svc.fit(X_train, y_train)\n",
    "\n",
    "# calculate accuracy\n",
    "accuracy_test = accuracy_score(y_test, svc.predict(X_test))\n",
    "accuracy_train = accuracy_score(y_train, svc.predict(X_train))\n",
    "\n",
    "print(f\"{accuracy_test:.1%} accuracy on test set vs. {accuracy_train:.1%} on training set\")"
   ]
  },
  {
   "cell_type": "markdown",
   "metadata": {},
   "source": [
    "The model is still very good at predicting with just one feature. \n",
    "\n",
    "It is also possible to have the scenario where the model is significantly better with 1 feature than with 90+ features. This is because the 1 feature is very predictive of the target variable, while the other features are not, and overall predictability is reduced by including them.  The curse of dimensionality is a factor here."
   ]
  },
  {
   "cell_type": "code",
   "execution_count": null,
   "metadata": {},
   "outputs": [],
   "source": []
  }
 ],
 "metadata": {
  "kernelspec": {
   "display_name": "mlscientist",
   "language": "python",
   "name": "python3"
  },
  "language_info": {
   "codemirror_mode": {
    "name": "ipython",
    "version": 3
   },
   "file_extension": ".py",
   "mimetype": "text/x-python",
   "name": "python",
   "nbconvert_exporter": "python",
   "pygments_lexer": "ipython3",
   "version": "3.9.21"
  }
 },
 "nbformat": 4,
 "nbformat_minor": 2
}
