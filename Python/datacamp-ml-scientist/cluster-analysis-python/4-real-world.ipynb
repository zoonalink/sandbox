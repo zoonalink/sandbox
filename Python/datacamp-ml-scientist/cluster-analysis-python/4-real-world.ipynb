{
 "cells": [
  {
   "cell_type": "markdown",
   "metadata": {},
   "source": [
    "# Clustering in Real World\n"
   ]
  },
  {
   "cell_type": "markdown",
   "metadata": {},
   "source": [
    "## notes"
   ]
  },
  {
   "cell_type": "markdown",
   "metadata": {},
   "source": [
    "\n",
    "* Dominant colours in images\n",
    "  * Pixels - Red, Green, Blue (0-255)\n",
    "  * Satallite images into land, water, clouds, etc\n",
    "\n",
    "`matplotlib.image.imread` - Convert image to pixels\n",
    "`matplotlib.pyplot.imshow` - Display colours of cluster centres\n",
    "\n",
    "\n",
    "```python\n",
    "\n",
    "import matplotlib.image as mpimg\n",
    "import matplotlib.pyplot as plt\n",
    "\n",
    "image = img.imread('image.jpg')\n",
    "image.shape\n",
    "\n",
    "r = []\n",
    "g = []\n",
    "b = []\n",
    "\n",
    "for row in image:\n",
    "    for pixel in row:\n",
    "        temp_r, temp_g, temp_b = pixel\n",
    "        r.append(temp_r)\n",
    "        g.append(temp_g)\n",
    "        b.append(temp_b)\n",
    "\n",
    "pixels = pd.DataFrame({'red': r, 'blue': b, 'green': g})\n",
    "pixels.head()\n",
    "\n",
    "# elbow plot - to get clusters (dominant colours)\n",
    "\n",
    "distortions = []\n",
    "num_clusters = range(1, 11)\n",
    "\n",
    "for i in num_clusters:\n",
    "    cluster_centers, distortion = kmeans(pixels[['scaled_red', 'scaled_blue', 'scaled_green']], i)\n",
    "    distortions.append(distortion)\n",
    "\n",
    "elbow_plot = pd.DataFrame({'num_clusters': num_clusters, 'distortions': distortions})\n",
    "\n",
    "sns.lineplot(x='num_clusters', y='distortions', data=elbow_plot)\n",
    "plt.xticks(num_clusters)\n",
    "plt.show()\n",
    "\n",
    "# dominant colours\n",
    "\n",
    "cluster_centers, _ = kmeans(pixels[['scaled_red', 'scaled_blue', 'scaled_green']], 3)\n",
    "\n",
    "colours = []\n",
    "r_std, g_std, b_std = pixels[['red', 'green', 'blue']].std()\n",
    "\n",
    "for cluster_center in cluster_centers:\n",
    "    scaled_r, scaled_g, scaled_b = cluster_center\n",
    "    colours.append((\n",
    "        scaled_r * r_std / 255,\n",
    "        scaled_g * g_std / 255,\n",
    "        scaled_b * b_std / 255\n",
    "    ))\n",
    "\n",
    "# display dominant colours\n",
    "print(colours)\n",
    "\n",
    "# dimensions 1x23 (1xNx3 matrix)\n",
    "plt.imshow([colours])\n",
    "plt.show()\n",
    "\n",
    "``` "
   ]
  },
  {
   "cell_type": "markdown",
   "metadata": {},
   "source": [
    "## example 1 - batman"
   ]
  },
  {
   "cell_type": "code",
   "execution_count": 2,
   "metadata": {},
   "outputs": [
    {
     "name": "stdout",
     "output_type": "stream",
     "text": [
      "(608, 1466, 3)\n"
     ]
    }
   ],
   "source": [
    "import pandas as pd\n",
    "import numpy as np\n",
    "import matplotlib.pyplot as plt\n",
    "import seaborn as sns\n",
    "import matplotlib.image as mpimg\n",
    "\n",
    "# import images\n",
    "batman_img = mpimg.imread('batman.jpg')\n",
    "#clifton_img = mpimg.imread('clifton.jpg')\n",
    "\n",
    "# print dimensions\n",
    "print(batman_img.shape)\n",
    "#print(clifton_img.shape)\n",
    "\n"
   ]
  },
  {
   "cell_type": "code",
   "execution_count": 3,
   "metadata": {},
   "outputs": [
    {
     "data": {
      "image/png": "[encoded data removed]",
      "text/plain": [
       "<Figure size 640x480 with 1 Axes>"
      ]
     },
     "metadata": {},
     "output_type": "display_data"
    },
    {
     "data": {
      "image/png": "[encoded data removed]",
      "text/plain": [
       "<Figure size 640x480 with 1 Axes>"
      ]
     },
     "metadata": {},
     "output_type": "display_data"
    }
   ],
   "source": [
    "import pandas as pd\n",
    "import seaborn as sns\n",
    "import matplotlib.pyplot as plt\n",
    "from scipy.cluster.vq import whiten, kmeans\n",
    "\n",
    "# store rgb values of pixels in lists\n",
    "batman_r = []\n",
    "batman_g = []\n",
    "batman_b = []\n",
    "\n",
    "for row in batman_img:\n",
    "    for pixel in row:\n",
    "        temp_r, temp_g, temp_b = pixel\n",
    "        batman_r.append(temp_r)\n",
    "        batman_g.append(temp_g)\n",
    "        batman_b.append(temp_b)\n",
    "\n",
    "# create batman_df\n",
    "batman_df = pd.DataFrame({'red': batman_r,\n",
    "                          'blue': batman_b,\n",
    "                          'green': batman_g})\n",
    "\n",
    "# scale rgb values with whiten() function\n",
    "batman_df['scaled_red'] = whiten(batman_df['red'])\n",
    "batman_df['scaled_blue'] = whiten(batman_df['blue'])\n",
    "batman_df['scaled_green'] = whiten(batman_df['green'])\n",
    "\n",
    "distortions = []\n",
    "num_clusters = range(1, 7)\n",
    "\n",
    "# create a list of distortions from the kmeans function\n",
    "for i in num_clusters:\n",
    "    cluster_centers, distortion = kmeans(batman_df[['scaled_blue', 'scaled_green', 'scaled_red']], i)\n",
    "    distortions.append(distortion)\n",
    "\n",
    "# create a data frame with two lists, num_clusters and distortions\n",
    "elbow_plot = pd.DataFrame({'num_clusters': num_clusters,\n",
    "                           'distortions': distortions})\n",
    "\n",
    "# create a line plot of num_clusters and distortions\n",
    "sns.lineplot(x='num_clusters', y='distortions', data=elbow_plot)\n",
    "plt.xticks(num_clusters)\n",
    "plt.show()\n",
    "\n",
    "# Based on the elbow plot, set the optimal number of clusters\n",
    "optimal_clusters = 3\n",
    "\n",
    "# Perform k-means clustering with the optimal number of clusters\n",
    "cluster_centers, distortion = kmeans(batman_df[['scaled_blue', 'scaled_green', 'scaled_red']], optimal_clusters)\n",
    "\n",
    "# get std for each colour\n",
    "r_std, g_std, b_std = batman_df[['red', 'green', 'blue']].std()\n",
    "\n",
    "colours = []\n",
    "for cluster_center in cluster_centers:\n",
    "    scaled_b, scaled_g, scaled_r = cluster_center\n",
    "    colours.append((scaled_r * r_std, scaled_g * g_std, scaled_b * b_std))\n",
    "\n",
    "# Normalize the colours to be in the range [0, 1]\n",
    "colours = [(r/255, g/255, b/255) for r, g, b in colours]\n",
    "\n",
    "plt.imshow([colours])\n",
    "plt.show()"
   ]
  },
  {
   "cell_type": "markdown",
   "metadata": {},
   "source": [
    "![batman-image](batman.jpg)"
   ]
  },
  {
   "cell_type": "markdown",
   "metadata": {},
   "source": [
    "## mini-batch k-means\n",
    "\n",
    "* Faster than k-means\n",
    "* Randomly sample subsets of data\n",
    "* "
   ]
  },
  {
   "cell_type": "code",
   "execution_count": 6,
   "metadata": {},
   "outputs": [
    {
     "name": "stderr",
     "output_type": "stream",
     "text": [
      "c:\\Users\\zoona\\anaconda3\\envs\\mlscientist\\lib\\site-packages\\sklearn\\cluster\\_kmeans.py:1955: UserWarning: MiniBatchKMeans is known to have a memory leak on Windows with MKL, when there are less chunks than available threads. You can prevent it by setting batch_size >= 3584 or by setting the environment variable OMP_NUM_THREADS=4\n",
      "  warnings.warn(\n",
      "c:\\Users\\zoona\\anaconda3\\envs\\mlscientist\\lib\\site-packages\\sklearn\\cluster\\_kmeans.py:1955: UserWarning: MiniBatchKMeans is known to have a memory leak on Windows with MKL, when there are less chunks than available threads. You can prevent it by setting batch_size >= 3584 or by setting the environment variable OMP_NUM_THREADS=4\n",
      "  warnings.warn(\n",
      "c:\\Users\\zoona\\anaconda3\\envs\\mlscientist\\lib\\site-packages\\sklearn\\cluster\\_kmeans.py:1955: UserWarning: MiniBatchKMeans is known to have a memory leak on Windows with MKL, when there are less chunks than available threads. You can prevent it by setting batch_size >= 3584 or by setting the environment variable OMP_NUM_THREADS=4\n",
      "  warnings.warn(\n",
      "c:\\Users\\zoona\\anaconda3\\envs\\mlscientist\\lib\\site-packages\\sklearn\\cluster\\_kmeans.py:1955: UserWarning: MiniBatchKMeans is known to have a memory leak on Windows with MKL, when there are less chunks than available threads. You can prevent it by setting batch_size >= 3584 or by setting the environment variable OMP_NUM_THREADS=4\n",
      "  warnings.warn(\n",
      "c:\\Users\\zoona\\anaconda3\\envs\\mlscientist\\lib\\site-packages\\sklearn\\cluster\\_kmeans.py:1955: UserWarning: MiniBatchKMeans is known to have a memory leak on Windows with MKL, when there are less chunks than available threads. You can prevent it by setting batch_size >= 3584 or by setting the environment variable OMP_NUM_THREADS=4\n",
      "  warnings.warn(\n",
      "c:\\Users\\zoona\\anaconda3\\envs\\mlscientist\\lib\\site-packages\\sklearn\\cluster\\_kmeans.py:1955: UserWarning: MiniBatchKMeans is known to have a memory leak on Windows with MKL, when there are less chunks than available threads. You can prevent it by setting batch_size >= 3584 or by setting the environment variable OMP_NUM_THREADS=4\n",
      "  warnings.warn(\n"
     ]
    },
    {
     "data": {
      "image/png": "[encoded data removed]",
      "text/plain": [
       "<Figure size 640x480 with 1 Axes>"
      ]
     },
     "metadata": {},
     "output_type": "display_data"
    },
    {
     "data": {
      "image/png": "[encoded data removed]",
      "text/plain": [
       "<Figure size 640x480 with 1 Axes>"
      ]
     },
     "metadata": {},
     "output_type": "display_data"
    }
   ],
   "source": [
    "import pandas as pd\n",
    "import seaborn as sns\n",
    "import matplotlib.pyplot as plt\n",
    "from sklearn.cluster import MiniBatchKMeans\n",
    "from scipy.cluster.vq import whiten\n",
    "\n",
    "# store rgb values of pixels in lists\n",
    "batman_r = []\n",
    "batman_g = []\n",
    "batman_b = []\n",
    "\n",
    "for row in batman_img:\n",
    "    for pixel in row:\n",
    "        temp_r, temp_g, temp_b = pixel\n",
    "        batman_r.append(temp_r)\n",
    "        batman_g.append(temp_g)\n",
    "        batman_b.append(temp_b)\n",
    "\n",
    "# create batman_df\n",
    "batman_df = pd.DataFrame({'red': batman_r,\n",
    "                          'blue': batman_b,\n",
    "                          'green': batman_g})\n",
    "\n",
    "# scale rgb values with whiten() function\n",
    "batman_df['scaled_red'] = whiten(batman_df['red'])\n",
    "batman_df['scaled_blue'] = whiten(batman_df['blue'])\n",
    "batman_df['scaled_green'] = whiten(batman_df['green'])\n",
    "\n",
    "\n",
    "distortions = []\n",
    "num_clusters = range(1, 7)\n",
    "\n",
    "# create a list of distortions from the MiniBatchKMeans function\n",
    "for i in num_clusters:\n",
    "    kmeans = MiniBatchKMeans(n_clusters=i, batch_size=1000, n_init='auto')\n",
    "    kmeans.fit(batman_df[['scaled_blue', 'scaled_green', 'scaled_red']])\n",
    "    distortions.append(kmeans.inertia_)\n",
    "\n",
    "# create a data frame with two lists, num_clusters and distortions\n",
    "elbow_plot = pd.DataFrame({'num_clusters': num_clusters,\n",
    "                           'distortions': distortions})\n",
    "\n",
    "# create a line plot of num_clusters and distortions\n",
    "sns.lineplot(x='num_clusters', y='distortions', data=elbow_plot)\n",
    "plt.xticks(num_clusters)\n",
    "plt.show()\n",
    "\n",
    "# Based on the elbow plot, set the optimal number of clusters\n",
    "optimal_clusters = 3\n",
    "\n",
    "# Perform MiniBatchKMeans clustering with the optimal number of clusters\n",
    "kmeans = MiniBatchKMeans(n_clusters=optimal_clusters, batch_size=3585, n_init='auto')\n",
    "kmeans.fit(batman_df[['scaled_blue', 'scaled_green', 'scaled_red']])\n",
    "cluster_centers = kmeans.cluster_centers_\n",
    "\n",
    "# get std for each colour\n",
    "r_std, g_std, b_std = batman_df[['red', 'green', 'blue']].std()\n",
    "\n",
    "colours = []\n",
    "for cluster_center in cluster_centers:\n",
    "    scaled_b, scaled_g, scaled_r = cluster_center\n",
    "    colours.append((scaled_r * r_std, scaled_g * g_std, scaled_b * b_std))\n",
    "\n",
    "# Normalize the colours to be in the range [0, 1]\n",
    "colours = [(r/255, g/255, b/255) for r, g, b in colours]\n",
    "\n",
    "plt.imshow([colours])\n",
    "plt.show()"
   ]
  },
  {
   "cell_type": "markdown",
   "metadata": {},
   "source": [
    "## clifton image"
   ]
  },
  {
   "cell_type": "code",
   "execution_count": null,
   "metadata": {},
   "outputs": [
    {
     "name": "stderr",
     "output_type": "stream",
     "text": [
      "c:\\Users\\zoona\\anaconda3\\envs\\mlscientist\\lib\\site-packages\\sklearn\\cluster\\_kmeans.py:1955: UserWarning: MiniBatchKMeans is known to have a memory leak on Windows with MKL, when there are less chunks than available threads. You can prevent it by setting batch_size >= 3584 or by setting the environment variable OMP_NUM_THREADS=4\n",
      "  warnings.warn(\n",
      "c:\\Users\\zoona\\anaconda3\\envs\\mlscientist\\lib\\site-packages\\sklearn\\cluster\\_kmeans.py:1955: UserWarning: MiniBatchKMeans is known to have a memory leak on Windows with MKL, when there are less chunks than available threads. You can prevent it by setting batch_size >= 3584 or by setting the environment variable OMP_NUM_THREADS=4\n",
      "  warnings.warn(\n",
      "c:\\Users\\zoona\\anaconda3\\envs\\mlscientist\\lib\\site-packages\\sklearn\\cluster\\_kmeans.py:1955: UserWarning: MiniBatchKMeans is known to have a memory leak on Windows with MKL, when there are less chunks than available threads. You can prevent it by setting batch_size >= 3584 or by setting the environment variable OMP_NUM_THREADS=4\n",
      "  warnings.warn(\n",
      "c:\\Users\\zoona\\anaconda3\\envs\\mlscientist\\lib\\site-packages\\sklearn\\cluster\\_kmeans.py:1955: UserWarning: MiniBatchKMeans is known to have a memory leak on Windows with MKL, when there are less chunks than available threads. You can prevent it by setting batch_size >= 3584 or by setting the environment variable OMP_NUM_THREADS=4\n",
      "  warnings.warn(\n",
      "c:\\Users\\zoona\\anaconda3\\envs\\mlscientist\\lib\\site-packages\\sklearn\\cluster\\_kmeans.py:1955: UserWarning: MiniBatchKMeans is known to have a memory leak on Windows with MKL, when there are less chunks than available threads. You can prevent it by setting batch_size >= 3584 or by setting the environment variable OMP_NUM_THREADS=4\n",
      "  warnings.warn(\n",
      "c:\\Users\\zoona\\anaconda3\\envs\\mlscientist\\lib\\site-packages\\sklearn\\cluster\\_kmeans.py:1955: UserWarning: MiniBatchKMeans is known to have a memory leak on Windows with MKL, when there are less chunks than available threads. You can prevent it by setting batch_size >= 3584 or by setting the environment variable OMP_NUM_THREADS=4\n",
      "  warnings.warn(\n",
      "c:\\Users\\zoona\\anaconda3\\envs\\mlscientist\\lib\\site-packages\\sklearn\\cluster\\_kmeans.py:1955: UserWarning: MiniBatchKMeans is known to have a memory leak on Windows with MKL, when there are less chunks than available threads. You can prevent it by setting batch_size >= 3584 or by setting the environment variable OMP_NUM_THREADS=4\n",
      "  warnings.warn(\n",
      "c:\\Users\\zoona\\anaconda3\\envs\\mlscientist\\lib\\site-packages\\sklearn\\cluster\\_kmeans.py:1955: UserWarning: MiniBatchKMeans is known to have a memory leak on Windows with MKL, when there are less chunks than available threads. You can prevent it by setting batch_size >= 3584 or by setting the environment variable OMP_NUM_THREADS=4\n",
      "  warnings.warn(\n",
      "c:\\Users\\zoona\\anaconda3\\envs\\mlscientist\\lib\\site-packages\\sklearn\\cluster\\_kmeans.py:1955: UserWarning: MiniBatchKMeans is known to have a memory leak on Windows with MKL, when there are less chunks than available threads. You can prevent it by setting batch_size >= 3584 or by setting the environment variable OMP_NUM_THREADS=4\n",
      "  warnings.warn(\n",
      "c:\\Users\\zoona\\anaconda3\\envs\\mlscientist\\lib\\site-packages\\sklearn\\cluster\\_kmeans.py:1955: UserWarning: MiniBatchKMeans is known to have a memory leak on Windows with MKL, when there are less chunks than available threads. You can prevent it by setting batch_size >= 3584 or by setting the environment variable OMP_NUM_THREADS=4\n",
      "  warnings.warn(\n"
     ]
    },
    {
     "data": {
      "image/png": "[encoded data removed]",
      "text/plain": [
       "<Figure size 640x480 with 1 Axes>"
      ]
     },
     "metadata": {},
     "output_type": "display_data"
    }
   ],
   "source": [
    "import pandas as pd\n",
    "import seaborn as sns\n",
    "import matplotlib.pyplot as plt\n",
    "from sklearn.cluster import MiniBatchKMeans\n",
    "from scipy.cluster.vq import whiten\n",
    "from skimage import io\n",
    "\n",
    "# Load the image\n",
    "image = io.imread('clifton.jpg')\n",
    "\n",
    "# store rgb values of pixels in lists\n",
    "image_r = []\n",
    "image_g = []\n",
    "image_b = []\n",
    "\n",
    "for row in image:\n",
    "    for pixel in row:\n",
    "        temp_r, temp_g, temp_b = pixel\n",
    "        image_r.append(temp_r)\n",
    "        image_g.append(temp_g)\n",
    "        image_b.append(temp_b)\n",
    "\n",
    "# create image_df\n",
    "image_df = pd.DataFrame({'red': image_r,\n",
    "                         'blue': image_b,\n",
    "                         'green': image_g})\n",
    "\n",
    "# scale rgb values with whiten() function\n",
    "image_df['scaled_red'] = whiten(image_df['red'])\n",
    "image_df['scaled_blue'] = whiten(image_df['blue'])\n",
    "image_df['scaled_green'] = whiten(image_df['green'])\n",
    "\n",
    "\n",
    "distortions = []\n",
    "num_clusters = range(1, 11)\n",
    "\n",
    "# create a list of distortions from the MiniBatchKMeans function\n",
    "for i in num_clusters:\n",
    "    kmeans = MiniBatchKMeans(n_clusters=i, batch_size=3585, n_init='auto')\n",
    "    kmeans.fit(image_df[['scaled_blue', 'scaled_green', 'scaled_red']])\n",
    "    distortions.append(kmeans.inertia_)\n",
    "\n",
    "# create a data frame with two lists, num_clusters and distortions\n",
    "elbow_plot = pd.DataFrame({'num_clusters': num_clusters,\n",
    "                           'distortions': distortions})\n",
    "\n",
    "# create a line plot of num_clusters and distortions\n",
    "sns.lineplot(x='num_clusters', y='distortions', data=elbow_plot)\n",
    "plt.xticks(num_clusters)\n",
    "plt.show()\n"
   ]
  },
  {
   "cell_type": "code",
   "execution_count": 3,
   "metadata": {},
   "outputs": [
    {
     "data": {
      "image/png": "[encoded data removed]",
      "text/plain": [
       "<Figure size 640x480 with 1 Axes>"
      ]
     },
     "metadata": {},
     "output_type": "display_data"
    }
   ],
   "source": [
    "\n",
    "# Based on the elbow plot, set the optimal number of clusters\n",
    "# Here, you should visually inspect the elbow plot and set the optimal number of clusters\n",
    "optimal_clusters = 3  # Replace this with the number you determine from the elbow plot\n",
    "\n",
    "# Perform MiniBatchKMeans clustering with the optimal number of clusters\n",
    "kmeans = MiniBatchKMeans(n_clusters=optimal_clusters, batch_size=3585, n_init='auto')\n",
    "kmeans.fit(image_df[['scaled_blue', 'scaled_green', 'scaled_red']])\n",
    "cluster_centers = kmeans.cluster_centers_\n",
    "\n",
    "# get std for each colour\n",
    "r_std, g_std, b_std = image_df[['red', 'green', 'blue']].std()\n",
    "\n",
    "colours = []\n",
    "for cluster_center in cluster_centers:\n",
    "    scaled_b, scaled_g, scaled_r = cluster_center\n",
    "    colours.append((scaled_r * r_std, scaled_g * g_std, scaled_b * b_std))\n",
    "\n",
    "# Normalize the colours to be in the range [0, 1]\n",
    "colours = [(r/255, g/255, b/255) for r, g, b in colours]\n",
    "\n",
    "plt.imshow([colours])\n",
    "plt.show()"
   ]
  },
  {
   "cell_type": "markdown",
   "metadata": {},
   "source": [
    "![clifton-image](clifton.jpg)"
   ]
  },
  {
   "cell_type": "markdown",
   "metadata": {},
   "source": [
    "### Document clustering\n",
    "\n",
    "1. clean data - remove stop words, punctuation, etc\n",
    "2. vectorize data - count vectorizer, tf-idf vectorizer\n",
    "3. cluster data - k-means, mini-batch k-means, etc\n",
    "\n",
    "```python\n",
    "\n",
    "from nltk.tokenize import word_tokenize\n",
    "import re\n",
    "\n",
    "def remove_noise(text, stop_words = []):\n",
    "    tokens = word_tokenize(text)\n",
    "    cleaned_tokens = []\n",
    "    \n",
    "    for token in tokens:\n",
    "        token = re.sub('[^A-Za-z0-9]+', '', token)\n",
    "        \n",
    "        if len(token) > 1 and token.lower() not in stop_words:\n",
    "            cleaned_tokens.append(token.lower())\n",
    "            \n",
    "    return cleaned_tokens\n",
    "\n",
    "```\n",
    "\n"
   ]
  },
  {
   "cell_type": "markdown",
   "metadata": {},
   "source": [
    "A Document-Term Matrix (DTM) and a Sparse Matrix are both concepts used in text mining and natural language processing (NLP).\n",
    "\n",
    "### Document-Term Matrix (DTM)\n",
    "A Document-Term Matrix is a mathematical matrix that describes the frequency of terms that occur in a collection of documents. Each row of the matrix corresponds to a document, and each column corresponds to a term (word). The value at the intersection of a row and a column indicates the frequency of the term in the document.\n",
    "\n",
    "For example:\n"
   ]
  },
  {
   "cell_type": "code",
   "execution_count": null,
   "metadata": {},
   "outputs": [],
   "source": [
    "       term1  term2  term3\n",
    "doc1      1      0      2\n",
    "doc2      0      3      1\n",
    "doc3      2      1      0"
   ]
  },
  {
   "cell_type": "markdown",
   "metadata": {},
   "source": [
    "\n",
    "\n",
    "### Sparse Matrix\n",
    "A Sparse Matrix is a matrix in which most of the elements are zero. In the context of a Document-Term Matrix, it is common to have a sparse matrix because not all terms appear in every document. Sparse matrices are useful because they save memory and computational resources by only storing non-zero elements.\n",
    "\n",
    "For example, the above DTM can be represented as a sparse matrix:\n"
   ]
  },
  {
   "cell_type": "code",
   "execution_count": null,
   "metadata": {},
   "outputs": [],
   "source": [
    "(0, 0)  1\n",
    "(0, 2)  2\n",
    "(1, 1)  3\n",
    "(1, 2)  1\n",
    "(2, 0)  2\n",
    "(2, 1)  1"
   ]
  },
  {
   "cell_type": "markdown",
   "metadata": {},
   "source": [
    "\n",
    "\n",
    "### Usage in NLP\n",
    "- **DTM**: Used for text analysis, topic modeling, and information retrieval.\n",
    "- **Sparse Matrix**: Efficiently stores and processes large DTMs, especially when dealing with large corpora.\n",
    "\n",
    "In Python, libraries like `scikit-learn` and `scipy` provide tools to create and manipulate these matrices. For example, `CountVectorizer` in `scikit-learn` can be used to create a DTM, and `scipy.sparse` can be used to handle sparse matrices."
   ]
  },
  {
   "cell_type": "markdown",
   "metadata": {},
   "source": [
    "### tf-idf Vectorizer"
   ]
  },
  {
   "cell_type": "code",
   "execution_count": null,
   "metadata": {},
   "outputs": [],
   "source": [
    "from sklearn.feature_extraction.text import TfidfVectorizer\n",
    "tfdif_vectorizer = TfidfVectorizer(max_df=0.8, max_features=50, min_df=0.2, tokenizer=remove_noise)\n",
    "tfidf_matrix = tfdif_vectorizer.fit_transform(documents)"
   ]
  },
  {
   "cell_type": "markdown",
   "metadata": {},
   "source": [
    "* `kmeans()` does not support sparse matrices\n",
    "* use `.todense()` to convert sparse matrix to dense matrix\n",
    "\n",
    "```python\n",
    "\n",
    "cluser_centers, distortion = kmeans(tfidf_matrix.todense(), num_clusters)\n",
    "\n",
    "```"
   ]
  },
  {
   "cell_type": "code",
   "execution_count": null,
   "metadata": {},
   "outputs": [],
   "source": [
    "terms = tfidf_vectorizer.get_feature_names.out()\n",
    "\n",
    "for i in range(num_clusters):\n",
    "    center_terms = dict(zip(terms, cluster_centers[i]))\n",
    "    sorted_terms = sorted(center_terms, key=center_terms.get, reverse=True)\n",
    "    print(sorted_terms[:3])"
   ]
  },
  {
   "cell_type": "markdown",
   "metadata": {},
   "source": [
    "**considerations**\n",
    "\n",
    "* work with hyperlinks, emoticons, etc.\n",
    "* normalise words (run, ran, running -> run)\n",
    "* `.todense()` - may not work with large datasets"
   ]
  },
  {
   "cell_type": "markdown",
   "metadata": {},
   "source": [
    "### example"
   ]
  },
  {
   "cell_type": "code",
   "execution_count": 4,
   "metadata": {},
   "outputs": [],
   "source": [
    "# Load the data\n",
    "plots = pd.read_csv('movies_plot.csv')\n",
    "#fifa = pd.read_csv('fifa_18_sample_data.csv')"
   ]
  },
  {
   "cell_type": "code",
   "execution_count": 6,
   "metadata": {},
   "outputs": [
    {
     "name": "stderr",
     "output_type": "stream",
     "text": [
      "[nltk_data] Error loading punkt_tab: [X509V3: INVALID_CERTIFICATE]\n",
      "[nltk_data]     invalid certificate (_ssl.c:4192)\n"
     ]
    },
    {
     "data": {
      "text/plain": [
       "False"
      ]
     },
     "execution_count": 6,
     "metadata": {},
     "output_type": "execute_result"
    }
   ],
   "source": [
    "import nltk\n",
    "import os\n",
    "\n",
    "# Set the NLTK data path\n",
    "nltk_data_path = os.path.join(os.getenv('APPDATA'), 'nltk_data')\n",
    "nltk.data.path.append(nltk_data_path)\n",
    "\n",
    "# Download the 'punkt' resource\n",
    "nltk.download('punkt_tab', download_dir=nltk_data_path)\n"
   ]
  },
  {
   "cell_type": "code",
   "execution_count": 8,
   "metadata": {},
   "outputs": [
    {
     "name": "stdout",
     "output_type": "stream",
     "text": [
      "(1000, 2)\n",
      "                       Title  \\\n",
      "0  The Ballad of Cable Hogue   \n",
      "1        Monsters vs. Aliens   \n",
      "2           The Bandit Queen   \n",
      "3               Broken Arrow   \n",
      "4                   Dolemite   \n",
      "\n",
      "                                                Plot  \n",
      "0  Cable Hogue is isolated in the desert, awaitin...  \n",
      "1  In the far reaches of space, a planet explodes...  \n",
      "2  Zarra Montalvo is the daughter of an American ...  \n",
      "3  Major Vic Deakins (John Travolta) and Captain ...  \n",
      "4  Dolemite is a pimp and nightclub owner who is ...  \n"
     ]
    }
   ],
   "source": [
    "print(plots.shape)\n",
    "print(plots.head())"
   ]
  },
  {
   "cell_type": "code",
   "execution_count": 10,
   "metadata": {},
   "outputs": [
    {
     "name": "stderr",
     "output_type": "stream",
     "text": [
      "[nltk_data] Downloading package stopwords to\n",
      "[nltk_data]     C:\\Users\\zoona\\AppData\\Roaming\\nltk_data...\n",
      "[nltk_data]   Package stopwords is already up-to-date!\n",
      "[nltk_data] Downloading package punkt to\n",
      "[nltk_data]     C:\\Users\\zoona\\AppData\\Roaming\\nltk_data...\n",
      "[nltk_data]   Package punkt is already up-to-date!\n"
     ]
    },
    {
     "data": {
      "text/plain": [
       "True"
      ]
     },
     "execution_count": 10,
     "metadata": {},
     "output_type": "execute_result"
    }
   ],
   "source": [
    "import nltk\n",
    "import ssl\n",
    "\n",
    "# Disable SSL verification\n",
    "try:\n",
    "    _create_unverified_https_context = ssl._create_unverified_context\n",
    "except AttributeError:\n",
    "    pass\n",
    "else:\n",
    "    ssl._create_default_https_context = _create_unverified_https_context\n",
    "\n",
    "# Download the 'stopwords' and 'punkt' resources\n",
    "nltk.download('stopwords')\n",
    "nltk.download('punkt')"
   ]
  },
  {
   "cell_type": "code",
   "execution_count": null,
   "metadata": {},
   "outputs": [
    {
     "name": "stdout",
     "output_type": "stream",
     "text": [
      "TF-IDF matrix shape: (2, 2)\n"
     ]
    },
    {
     "name": "stderr",
     "output_type": "stream",
     "text": [
      "[nltk_data] Error loading stopwords: [X509V3: INVALID_CERTIFICATE]\n",
      "[nltk_data]     invalid certificate (_ssl.c:4192)\n",
      "[nltk_data] Error loading punkt_tab: [X509V3: INVALID_CERTIFICATE]\n",
      "[nltk_data]     invalid certificate (_ssl.c:4192)\n"
     ]
    }
   ],
   "source": [
    "\n",
    "from nltk.tokenize import word_tokenize\n",
    "import re\n",
    "from sklearn.feature_extraction.text import TfidfVectorizer\n",
    "import nltk\n",
    "\n",
    "\n",
    "\n",
    "# Define the remove_noise function\n",
    "def remove_noise(text):\n",
    "    stop_words = ['the', 'and', 'is', 'in']  # Define your stop words list here\n",
    "    tokens = word_tokenize(text)\n",
    "    cleaned_tokens = []\n",
    "    \n",
    "    for token in tokens:\n",
    "        token = re.sub('[^A-Za-z0-9]+', '', token)\n",
    "        \n",
    "        if len(token) > 1 and token.lower() not in stop_words:\n",
    "            cleaned_tokens.append(token.lower())\n",
    "            \n",
    "    return ' '.join(cleaned_tokens)\n",
    "\n",
    "# Concatenate the title and synopsis for each row\n",
    "#concatenated_plots = [' '.join(row) for row in plots]\n",
    "\n",
    "# Initialize TfidfVectorizer with adjusted parameters\n",
    "tfidf_vectorizer = TfidfVectorizer(max_df=0.75, min_df=0.1, max_features=50)\n",
    "\n",
    "# Use the .fit_transform() method on the concatenated plots\n",
    "tfidf_matrix = tfidf_vectorizer.fit_transform(plots)\n",
    "\n",
    "# Check the shape of tfidf_matrix\n",
    "print(\"TF-IDF matrix shape:\", tfidf_matrix.shape)"
   ]
  },
  {
   "cell_type": "code",
   "execution_count": 13,
   "metadata": {},
   "outputs": [
    {
     "name": "stdout",
     "output_type": "stream",
     "text": [
      "<class 'pandas.core.frame.DataFrame'>\n",
      "RangeIndex: 1000 entries, 0 to 999\n",
      "Data columns (total 2 columns):\n",
      " #   Column  Non-Null Count  Dtype \n",
      "---  ------  --------------  ----- \n",
      " 0   Title   1000 non-null   object\n",
      " 1   Plot    1000 non-null   object\n",
      "dtypes: object(2)\n",
      "memory usage: 15.8+ KB\n",
      "None\n"
     ]
    }
   ],
   "source": [
    "print(plots.info())"
   ]
  },
  {
   "cell_type": "code",
   "execution_count": 17,
   "metadata": {},
   "outputs": [
    {
     "name": "stdout",
     "output_type": "stream",
     "text": [
      "First few rows of the DataFrame:\n",
      "                       Title  \\\n",
      "0  The Ballad of Cable Hogue   \n",
      "1        Monsters vs. Aliens   \n",
      "2           The Bandit Queen   \n",
      "3               Broken Arrow   \n",
      "4                   Dolemite   \n",
      "\n",
      "                                                Plot  \n",
      "0  Cable Hogue is isolated in the desert, awaitin...  \n",
      "1  In the far reaches of space, a planet explodes...  \n",
      "2  Zarra Montalvo is the daughter of an American ...  \n",
      "3  Major Vic Deakins (John Travolta) and Captain ...  \n",
      "4  Dolemite is a pimp and nightclub owner who is ...  \n",
      "First few concatenated plots:\n",
      "The Ballad of Cable Hogue Cable Hogue is isolated in the desert, awaiting his partners, Taggart and Bowen, who are scouting for water. The two plot to seize what little water remains to save themselves. Cable, who hesitates to defend himself, is disarmed and abandoned to almost certain death.\n",
      "Confronted with sandstorms and other desert elements, Cable bargains with God. Four days later, about to perish, he stumbles upon a muddy pit. He digs and discovers an abundant supply of water.\n",
      "After discovering that his well is the only source of water between two towns on a stagecoach route, he decides to live there and build a business. Cable's first paying customer is the Rev. Joshua Duncan Sloane, a wandering minister of a church of his own revelation. Joshua doubts the legitimacy of Cable's claim to the spring, prompting Cable to race into town to file at the land office.\n",
      "Cable faces the mockery of everyone he tells about his discovery. That does not deter him from buying 2 acres (0.8 ha) surrounding his spring. He immediately goes to the stage office to drum up business but is thrown out by the skeptical owner. He pitches his business plan to a bank president, who is dubious about the claim. Cable impresses the banker with his attitude and he is staked to $100.\n",
      "Cable, who hasn’t bathed since his desert wanderings, decides to treat himself to a night with Hildy, a prostitute in the town saloon. They quickly develop a jovial understanding but before they can consummate the transaction, Cable remembers that he has still not set up his boundary markers and rushes out, much to Hildy's chagrin. She chases him out of the saloon in a sequence that wreaks havoc on the town.\n",
      "Back at the spring, Cable and Joshua get to work, dubbing the claim Cable Springs. The two decide to go into town and are drunk by the time they arrive. Cable makes up with Hildy and spends the night with her, leaving Joshua to pursue his passion: the seduction of emotionally vulnerable women.\n",
      "Cable and Joshua continue to run the robust business, delighting in shocking the often genteel travelers with the realities of frontier life. In moments of solitude, Cable and Joshua philosophize on the nature of love and the passing of their era. Joshua decides that he must return to town. Hildy arrives at Cable Springs having been \"asked\" to leave by the modernizing townfolk, who can no longer abide open prostitution in their midst. She tells Cable that she will leave for San Francisco in the morning but winds up staying with him for three weeks. This time elapses during a tender, romantic montage.\n",
      "Then one day, Taggart and Bowen arrive on the stagecoach. Cable lets them believe that he bears them no ill will, and he alludes to a huge stash of cash that he has hoarded, knowing that the two men will return to steal it. When they do, Cable outwits them, by throwing rattlesnakes into the pit they have dug. When they surrender, he orders them to strip to their underwear to venture into the desert, just as he had been forced to do. Taggart, believing Cable will once again hesitate to defend himself, reaches for his gun but Hogue shoots him dead.\n",
      "A motor car appears, driving right past Cable Springs with no need or interest in stopping for water. The drivers laugh at the archaic scene of western violence as they race past. \"Drove right by,\" says Cable in amazement. \"Well, that's gonna be the next fella's worry.\"\n",
      "Cable takes mercy on the grovelling Bowen. He even gives him Cable Springs, having decided to go to San Francisco to find Hildy. The stagecoach arrives and Cable gets ready to pack up when suddenly another motorcar [2] appears. This one does stop and Hildy emerges, opulently dressed. She has become prosperous and, now on her way to New Orleans, has come to see if Cable is ready to join her. He agrees but while he loads the motorcar he accidentally trips its brake. The car runs over him as he pushes Bowen out of the way.\n",
      "Joshua, who arrives by a black motorcycle with a sidecar, gives a eulogy for Cable as he dies. This segues into a funeral with the cast standing mournfully over Cable's grave. They are grieving not only the death of the man but the era he represents. The stagecoach and motorcar drive off in opposite directions. A coyote wanders into the abandoned Cable Springs. But the coyote has a collar – possibly symbolising the taming of the wilderness.\n"
     ]
    },
    {
     "name": "stderr",
     "output_type": "stream",
     "text": [
      "[nltk_data] Downloading package stopwords to\n",
      "[nltk_data]     C:\\Users\\zoona\\AppData\\Roaming\\nltk_data...\n",
      "[nltk_data]   Package stopwords is already up-to-date!\n",
      "[nltk_data] Downloading package punkt to\n",
      "[nltk_data]     C:\\Users\\zoona\\AppData\\Roaming\\nltk_data...\n",
      "[nltk_data]   Package punkt is already up-to-date!\n"
     ]
    }
   ],
   "source": [
    "import pandas as pd\n",
    "from nltk.tokenize import word_tokenize\n",
    "import re\n",
    "from sklearn.feature_extraction.text import TfidfVectorizer\n",
    "import nltk\n",
    "from nltk.corpus import stopwords\n",
    "\n",
    "# Disable SSL verification\n",
    "try:\n",
    "    _create_unverified_https_context = ssl._create_unverified_context\n",
    "except AttributeError:\n",
    "    pass\n",
    "else:\n",
    "    ssl._create_default_https_context = _create_unverified_https_context\n",
    "\n",
    "# Download the 'stopwords' and 'punkt' resources\n",
    "nltk.download('stopwords')\n",
    "nltk.download('punkt')\n",
    "\n",
    "# Define the remove_noise function\n",
    "def remove_noise(text):\n",
    "    #stop_words = ['the', 'and', 'is', 'in']  # Define your stop words list here\n",
    "    stop_words = set(stopwords.words('english')) # Use the NLTK stopwords list\n",
    "    tokens = word_tokenize(text)\n",
    "    cleaned_tokens = []\n",
    "    \n",
    "    for token in tokens:\n",
    "        token = re.sub('[^A-Za-z0-9]+', '', token)\n",
    "        \n",
    "        if len(token) > 1 and token.lower() not in stop_words:\n",
    "            cleaned_tokens.append(token.lower())\n",
    "            \n",
    "    return ' '.join(cleaned_tokens)\n",
    "\n",
    "# Example DataFrame (replace this with your actual data)\n",
    "\n",
    "plots_df = plots.copy()\n",
    "\n",
    "# Print the first few rows of the DataFrame\n",
    "print(\"First few rows of the DataFrame:\")\n",
    "print(plots_df.head())\n",
    "\n",
    "# Concatenate the title and synopsis for each row\n",
    "concatenated_plots = plots_df.apply(lambda row: ' '.join([str(row['Title']), str(row['Plot'])]), axis=1)\n",
    "\n",
    "# Print the first few concatenated plots for debugging\n",
    "print(\"First few concatenated plots:\")\n",
    "for plot in concatenated_plots.head(1):\n",
    "    print(plot)"
   ]
  },
  {
   "cell_type": "code",
   "execution_count": 18,
   "metadata": {},
   "outputs": [
    {
     "name": "stdout",
     "output_type": "stream",
     "text": [
      "TF-IDF matrix shape: (1000, 50)\n",
      "Vocabulary:\n",
      "{'two': 47, 'death': 6, 'later': 24, 'decides': 7, 'first': 13, 'town': 45, 'tells': 43, 'goes': 17, 'night': 36, 'back': 3, 'get': 15, 'go': 16, 'time': 44, 'life': 27, 'love': 28, 'leave': 25, 'one': 38, 'day': 5, 'men': 31, 'car': 4, 'next': 35, 'takes': 42, 'find': 11, 'another': 1, 'way': 48, 'new': 34, 'man': 30, 'make': 29, 'however': 21, 'tries': 46, 'take': 41, 'returns': 40, 'home': 19, 'family': 8, 'father': 9, 'mother': 33, 'john': 22, 'killed': 23, 'help': 18, 'finds': 12, 'friend': 14, 'nt': 37, 'also': 0, 'away': 2, 'leaves': 26, 'wife': 49, 'house': 20, 'money': 32, 'film': 10, 'police': 39}\n"
     ]
    }
   ],
   "source": [
    "# Initialize TfidfVectorizer with adjusted parameters\n",
    "tfidf_vectorizer = TfidfVectorizer(max_df=0.75, min_df=0.1, max_features=50, preprocessor=remove_noise)\n",
    "\n",
    "# Use the .fit_transform() method on the concatenated plots\n",
    "tfidf_matrix = tfidf_vectorizer.fit_transform(concatenated_plots)\n",
    "\n",
    "# Check the shape of tfidf_matrix\n",
    "print(\"TF-IDF matrix shape:\", tfidf_matrix.shape)\n",
    "\n",
    "# Print the vocabulary to check what terms are being picked up\n",
    "print(\"Vocabulary:\")\n",
    "print(tfidf_vectorizer.vocabulary_)"
   ]
  },
  {
   "cell_type": "code",
   "execution_count": 21,
   "metadata": {},
   "outputs": [
    {
     "name": "stdout",
     "output_type": "stream",
     "text": [
      "Cluster 1 top terms: ['film', 'life', 'new']\n",
      "Cluster 2 top terms: ['man', 'town', 'two']\n",
      "Cluster 3 top terms: ['police', 'car', 'killed']\n",
      "Cluster 4 top terms: ['back', 'one', 'home']\n",
      "Cluster 5 top terms: ['john', 'wife', 'love']\n"
     ]
    }
   ],
   "source": [
    "from scipy.cluster.vq import kmeans\n",
    "\n",
    "num_clusters = 5\n",
    "\n",
    "# Generate cluster centers through the kmeans function\n",
    "cluster_centers, distortion = kmeans(tfidf_matrix.todense(), num_clusters)\n",
    "\n",
    "# Generate terms from the tfidf_vectorizer object\n",
    "terms = tfidf_vectorizer.get_feature_names_out()\n",
    "\n",
    "for i in range(num_clusters):\n",
    "    # Sort the terms and print top 3 terms\n",
    "    center_terms = dict(zip(terms, cluster_centers[i]))\n",
    "    sorted_terms = sorted(center_terms, key=center_terms.get, reverse=True)\n",
    "    print(f\"Cluster {i+1} top terms:\", sorted_terms[:3])"
   ]
  }
 ],
 "metadata": {
  "kernelspec": {
   "display_name": "mlscientist",
   "language": "python",
   "name": "python3"
  },
  "language_info": {
   "codemirror_mode": {
    "name": "ipython",
    "version": 3
   },
   "file_extension": ".py",
   "mimetype": "text/x-python",
   "name": "python",
   "nbconvert_exporter": "python",
   "pygments_lexer": "ipython3",
   "version": "3.9.21"
  }
 },
 "nbformat": 4,
 "nbformat_minor": 2
}
