{
 "cells": [
  {
   "cell_type": "markdown",
   "metadata": {},
   "source": [
    "# Timeseries intro\n",
    "\n",
    "ML pipeline:\n",
    "\n",
    "* feature extraction\n",
    "* model fitting\n",
    "* prediction and validation"
   ]
  }
 ],
 "metadata": {
  "language_info": {
   "name": "python"
  }
 },
 "nbformat": 4,
 "nbformat_minor": 2
}
