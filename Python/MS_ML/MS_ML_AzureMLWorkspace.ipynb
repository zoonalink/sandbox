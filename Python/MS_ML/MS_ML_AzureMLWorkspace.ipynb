{
 "cells": [
  {
   "cell_type": "markdown",
   "metadata": {},
   "source": [
    "# Microsoft Azure ML"
   ]
  },
  {
   "cell_type": "markdown",
   "metadata": {},
   "source": [
    "## Deleting Azure resources\n",
    "\n",
    "1. Close the Azure Machine Learning studio tab and return to the Azure portal.\n",
    "2. In the Azure portal, on the Home page, select Resource groups.\n",
    "3. Select the `rg-dp100-labs` resource group.\n",
    "4. At the top of the Overview page for your resource group, select Delete resource group.\n",
    "5. Enter the resource group name to confirm you want to delete it, and select Delete."
   ]
  },
  {
   "cell_type": "markdown",
   "metadata": {},
   "source": [
    "## Python SDK\n",
    "\n"
   ]
  },
  {
   "cell_type": "code",
   "execution_count": null,
   "metadata": {},
   "outputs": [],
   "source": [
    "# install\n",
    "\n",
    "pip install azure-ai-ml"
   ]
  },
  {
   "cell_type": "markdown",
   "metadata": {},
   "source": [
    "To authenticate you need three parameters: \n",
    "\n",
    "* `subscription_id`: Your subscription ID.\n",
    "* `resource_group`: The name of your resource group.\n",
    "* `workspace_name`: The name of your workspace.\n",
    "\n",
    "Then define authentication with: "
   ]
  },
  {
   "cell_type": "code",
   "execution_count": null,
   "metadata": {},
   "outputs": [],
   "source": [
    "from azure.ai.ml import MLClient\n",
    "from azure.identity import DefaultAzureCredential\n",
    "\n",
    "ml_client = MLClient(\n",
    "    DefaultAzureCredential(), subscription_id, resource_group, workspace\n",
    ")"
   ]
  },
  {
   "cell_type": "markdown",
   "metadata": {},
   "source": [
    "Then call `MLClient` for environment to connect to the workspace.\n",
    "\n",
    "MLClient is called when want to create or update an asset or resource in the workspace.\n",
    "\n",
    "For example, when creating a new job to train a model: "
   ]
  },
  {
   "cell_type": "code",
   "execution_count": null,
   "metadata": {},
   "outputs": [],
   "source": [
    "from azure.ai.ml import command\n",
    "\n",
    "# configure job\n",
    "job = command(\n",
    "    code=\"./src\",\n",
    "    command=\"python train.py\",\n",
    "    environment=\"AzureML-sklearn-0.24-ubuntu18.04-py37-cpu@latest\",\n",
    "    compute=\"aml-cluster\",\n",
    "    experiment_name=\"train-model\"\n",
    ")\n",
    "\n",
    "# connect to workspace and submit job\n",
    "returned_job = ml_client.create_or_update(job)"
   ]
  },
  {
   "cell_type": "markdown",
   "metadata": {},
   "source": [
    "[The reference documentation on the MLClient class](https://learn.microsoft.com/en-us/python/api/azure-ai-ml/azure.ai.ml.mlclient) includes the methods you can use to connect and interact with the workspace. Moreover, it also links to the possible operations for the various entities like how to list the existing datastores in your workspace.\n",
    "\n",
    "[The reference documentation also includes a list of the classes for all entities](https://learn.microsoft.com/en-us/python/api/azure-ai-ml/azure.ai.ml.entities) you can interact with. For example, separate classes exist when you want to create a datastore that links to an Azure Blob Storage, or to an Azure Data Lake Gen 2.\n",
    "\n",
    "By selecting a specific class like `AmlCompute` from the list of entities, you can find a [more detailed page on how to use the class and what parameters it accepts](https://learn.microsoft.com/en-us/python/api/azure-ai-ml/azure.ai.ml.entities.amlcompute)."
   ]
  },
  {
   "cell_type": "markdown",
   "metadata": {},
   "source": [
    "## install the Azure Machine Learning extension\n",
    "\n",
    "command to install: "
   ]
  },
  {
   "cell_type": "code",
   "execution_count": null,
   "metadata": {},
   "outputs": [],
   "source": [
    "az extension add -n ml -y"
   ]
  },
  {
   "cell_type": "markdown",
   "metadata": {},
   "source": [
    "-h command to check extension is installed and get a list of commands"
   ]
  },
  {
   "cell_type": "code",
   "execution_count": null,
   "metadata": {},
   "outputs": [],
   "source": [
    "az ml -h"
   ]
  },
  {
   "cell_type": "markdown",
   "metadata": {},
   "source": [
    "## work with Azure CLI\n",
    "\n",
    "* commands are prefixe with az ml\n",
    "\n",
    "[list of commands in the reference documentation of the CLI.](https://learn.microsoft.com/en-us/cli/azure/ml)\n",
    "\n",
    "For example, to create a compute target, you can use the following command: "
   ]
  },
  {
   "cell_type": "code",
   "execution_count": null,
   "metadata": {},
   "outputs": [],
   "source": [
    "az ml compute create --name aml-cluster --size STANDARD_DS3_v2 --min-instances 0 --max-instances 5 --type AmlCompute --resource-group my-resource-group --workspace-name my-workspace"
   ]
  },
  {
   "cell_type": "markdown",
   "metadata": {},
   "source": [
    "To explore all possible parameters that you can use with a command, you can [review the reference documentation for the specific command](https://learn.microsoft.com/en-us/cli/azure/ml/compute).\n",
    "\n",
    "* Can use YAML file to define configuration\n",
    "* storing parameter values in YAML file makes it easier to organise and automate\n",
    "\n",
    "For exampe can create same compute target by first defining th config in YAML file:"
   ]
  },
  {
   "cell_type": "raw",
   "metadata": {},
   "source": [
    "$schema: https://azuremlschemas.azureedge.net/latest/amlCompute.schema.json \n",
    "name: aml-cluster\n",
    "type: amlcompute\n",
    "size: STANDARD_DS3_v2\n",
    "min_instances: 0\n",
    "max_instances: 5"
   ]
  },
  {
   "cell_type": "markdown",
   "metadata": {},
   "source": [
    "All possible parameters that you can include in the YAML file can be found in the [reference documentation for the specific asset or resource you want to create like a compute cluster](https://learn.microsoft.com/en-us/azure/machine-learning/reference-yaml-compute-aml).\n",
    "\n",
    "When you saved the YAML file as `compute.yml`, you can create the compute target with the following command"
   ]
  },
  {
   "cell_type": "raw",
   "metadata": {},
   "source": [
    "# azure cli\n",
    "\n",
    "az ml compute create --file compute.yml --resource-group my-resource-group --workspace-name my-workspace"
   ]
  },
  {
   "cell_type": "markdown",
   "metadata": {},
   "source": [
    "next: https://learn.microsoft.com/en-gb/training/modules/explore-developer-tools-for-workspace-interaction/5-exercise"
   ]
  }
 ],
 "metadata": {
  "language_info": {
   "name": "python"
  }
 },
 "nbformat": 4,
 "nbformat_minor": 2
}
