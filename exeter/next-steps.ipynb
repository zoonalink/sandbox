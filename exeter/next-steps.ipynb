{
 "cells": [
  {
   "cell_type": "markdown",
   "metadata": {},
   "source": [
    "# Training plan\n",
    "\n"
   ]
  },
  {
   "cell_type": "markdown",
   "metadata": {},
   "source": [
    "## In progress\n",
    "\n",
    "- Semantic Data Modelling (OReilly)\n",
    "- [SQL Essential Training](https://www.linkedin.com/learning/sql-essential-training-20685933)\n"
   ]
  },
  {
   "cell_type": "markdown",
   "metadata": {},
   "source": [
    "## To do\n",
    "\n",
    "**DAMA DMBOK**\n",
    "\n",
    "- Chapter 5\n",
    "\n",
    "**LinkedIn Learning** https://www.linkedin.com/learning/me/my-library/in-progress?u=56744785\n",
    "\n",
    "[Exeter collection](https://www.linkedin.com/learning/collections/7308067519804702726?u=56744785)\n",
    "\n",
    "- ~~[SQL Essential Training](https://www.linkedin.com/learning/sql-essential-training-20685933) - 4.5 hrs~~\n",
    "- [Intermediate SQL for Data Scientists](https://www.linkedin.com/learning/intermediate-sql-for-data-scientists-25322592) - 3.5 hrs\n",
    "- [Complete SQL Data Engineering](https://www.linkedin.com/learning/complete-guide-to-sql-for-data-engineering-from-beginner-to-advanced/) - 7 hrs\n",
    "- [Advanced SQL for Data Scientists](https://www.linkedin.com/learning/advanced-sql-for-data-scientists-13972889/)\n",
    "- [SQL performance optimisation](https://www.linkedin.com/learning/advanced-sql-for-query-tuning-and-performance-optimization-22894038) - 2 hours\n",
    "- [practical database design](https://www.linkedin.com/learning/practical-database-design-implementing-responsible-data-solutions-with-sql-querying)- 2 hrs\n",
    "\n",
    "\n",
    "**IDERA** https://www.youtube.com/@IderaIT\n",
    "\n",
    "- [Conceptual Data model as cornerstone for data strategy](https://www.youtube.com/watch?v=uJYBtypdg2E)\n",
    "- [Full potential of ER/Studio](https://www.youtube.com/watch?v=qEwqOAlrNsA)\n",
    "- [Collibra and ER Studio](https://www.youtube.com/watch?v=Y9vxDxgKHn4)\n",
    "- [Data Architech playlist](https://www.youtube.com/watch?v=ApdfmT_zFkQ&list=PL7C31BvsvMgCjuYWmwoPW0NC1oEqiuQql)\n",
    "- [Logical data model](https://www.youtube.com/watch?v=jGDq4CJLBgo)\n",
    "- [ERStudio tutorial](https://docwiki.embarcadero.com/ERStudioDA/185/en/Tutorials)\n",
    "\n",
    "**ERwin**\n",
    "\n",
    "**MS Learn**\n",
    "\n",
    "- [SC-400 Data lifecycle and records management](https://learn.microsoft.com/en-us/training/paths/implement-information-governance/)\n",
    "- [Semantic model details](https://learn.microsoft.com/en-us/power-bi/connect-data/service-dataset-details-page)\n",
    "- [Model data with Power BI](https://learn.microsoft.com/en-gb/training/paths/model-data-power-bi/)\n",
    "    - [Design a semantic model in Power BI](https://learn.microsoft.com/en-us/training/modules/design-model-power-bi/)\n",
    "- [Build a basic entity data model- odata](https://learn.microsoft.com/en-us/odata/odatalib/edm/build-basic-model)\n",
    "- [Purview](https://learn.microsoft.com/en-us/training/modules/examine-data-governance-solutions-microsoft-purview/?source=recommendations)\n",
    "\n",
    "\n",
    "**Exeter**\n",
    "\n",
    "- [Software Dev Life Cycle](https://coding-for-reproducible-research.github.io/CfRR_Courses/individual_modules/software_development_best_practices/software_development_life_cycle.html)\n",
    "\n",
    ")\n"
   ]
  },
  {
   "cell_type": "markdown",
   "metadata": {},
   "source": [
    "## Completed\n"
   ]
  }
 ],
 "metadata": {
  "language_info": {
   "name": "python"
  }
 },
 "nbformat": 4,
 "nbformat_minor": 2
}
